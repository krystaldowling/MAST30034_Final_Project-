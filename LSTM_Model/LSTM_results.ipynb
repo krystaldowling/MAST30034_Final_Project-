{
  "nbformat": 4,
  "nbformat_minor": 0,
  "metadata": {
    "colab": {
      "name": "LSTM_results",
      "provenance": [],
      "collapsed_sections": [],
      "include_colab_link": true
    },
    "kernelspec": {
      "name": "python3",
      "display_name": "Python 3"
    },
    "accelerator": "GPU"
  },
  "cells": [
    {
      "cell_type": "markdown",
      "metadata": {
        "id": "view-in-github",
        "colab_type": "text"
      },
      "source": [
        "<a href=\"https://colab.research.google.com/github/krystaldowling/MAST30034_Final_Project-/blob/LSTM/LSTM_results.ipynb\" target=\"_parent\"><img src=\"https://colab.research.google.com/assets/colab-badge.svg\" alt=\"Open In Colab\"/></a>"
      ]
    },
    {
      "cell_type": "code",
      "metadata": {
        "id": "HQwL-7CdRfig",
        "outputId": "20704188-491f-42bf-bb47-e44d52aa9cab",
        "colab": {
          "base_uri": "https://localhost:8080/",
          "height": 34
        }
      },
      "source": [
        "from google.colab import drive\n",
        "drive.mount('/content/drive')"
      ],
      "execution_count": null,
      "outputs": [
        {
          "output_type": "stream",
          "text": [
            "Mounted at /content/drive\n"
          ],
          "name": "stdout"
        }
      ]
    },
    {
      "cell_type": "code",
      "metadata": {
        "id": "j8-xzfMlOAsU"
      },
      "source": [
        "import pandas as pd\n",
        "import spacy\n",
        "import numpy as np\n",
        "import matplotlib.pyplot as plt\n",
        "import sklearn\n",
        "import tensorflow as tf\n",
        "from tensorflow import keras\n",
        "\n",
        "from tensorflow.keras.preprocessing.text import Tokenizer\n",
        "from tensorflow.keras.preprocessing.sequence import pad_sequences\n",
        "from keras.models import Model\n",
        "from keras.models import Sequential\n",
        "from keras.layers import Dense\n",
        "from keras.layers import LSTM\n",
        "from keras.layers import Conv1D\n",
        "from keras.layers import MaxPooling1D\n",
        "from keras.layers import Dropout\n",
        "from keras.layers.embeddings import Embedding\n",
        "from keras.preprocessing import sequence\n",
        "from keras.layers import Bidirectional\n",
        "from keras.utils.vis_utils import plot_model\n",
        "\n",
        "from sklearn.model_selection import train_test_split\n",
        "from sklearn.metrics import accuracy_score\n",
        "from sklearn.metrics import precision_score\n",
        "from sklearn.metrics import recall_score\n",
        "from sklearn.metrics import f1_score"
      ],
      "execution_count": null,
      "outputs": []
    },
    {
      "cell_type": "code",
      "metadata": {
        "id": "UzA0s6lrNjvM"
      },
      "source": [
        "data = pd.read_csv('/content/drive/My Drive/Data/final_preproccessed_data.csv', lineterminator='\\n')"
      ],
      "execution_count": null,
      "outputs": []
    },
    {
      "cell_type": "code",
      "metadata": {
        "id": "PezILc3wWP2N"
      },
      "source": [
        "# tokenise data\n",
        "\n",
        "def tokeniser(data, max_len=500):\n",
        "# maximum length of the vectors is 500\n",
        "\n",
        "  tokenizer = Tokenizer()\n",
        "  tokenizer.fit_on_texts(data['text'])\n",
        "  # dictonary of all words in data and counts\n",
        "  word_index = tokenizer.word_index\n",
        "  # number of words in all articles in dataset\n",
        "  vocab_size = len(word_index)\n",
        "  sequences = tokenizer.texts_to_sequences(data['text'])\n",
        "  # padding data\n",
        "  padded = pad_sequences(sequences, maxlen=max_len, padding='post', truncating='post')\n",
        "\n",
        "  return padded, vocab_size, word_index, tokenizer\n",
        "\n",
        "padded, vocab_size, word_index, tokenizer = tokeniser(data)"
      ],
      "execution_count": null,
      "outputs": []
    },
    {
      "cell_type": "code",
      "metadata": {
        "id": "UMQ-ZmLFWo4E"
      },
      "source": [
        "# split data into test and train sets\n",
        "\n",
        "X_train, X_test, y_train, y_test =  sklearn.model_selection.train_test_split(padded, data['label'],test_size = 0.2, random_state = 20)"
      ],
      "execution_count": null,
      "outputs": []
    },
    {
      "cell_type": "code",
      "metadata": {
        "id": "AB6gDJ4kB3UU",
        "outputId": "e6703332-24e2-4974-8d74-f708783737a9",
        "colab": {
          "base_uri": "https://localhost:8080/",
          "height": 71
        }
      },
      "source": [
        "# trained GloVe embeddings sourced from https://nlp.stanford.edu/projects/glove/\n",
        "\n",
        "EMBEDDING_FILE = '/content/drive/My Drive/glove.6B/glove.6B.100d.txt'\n",
        "\n",
        "# the following code has been modified from Rama Vish, October 2020, https://www.kaggle.com/raamav/useful-functions-for-text-processing-v2\n",
        "\n",
        "# get the word coefficients from file\n",
        "def get_coefs(word, *arr): \n",
        "    return word, np.asarray(arr, dtype='float32')\n",
        "embeddings_index = dict(get_coefs(*o.rstrip().rsplit(' ')) for o in open(EMBEDDING_FILE))\n",
        "\n",
        "all_embs = np.stack(embeddings_index.values())\n",
        "emb_mean,emb_std = all_embs.mean(), all_embs.std()\n",
        "embed_size = all_embs.shape[1]\n",
        "\n",
        "# create embedding matrix \n",
        "embedding_matrix = np.random.normal(emb_mean, emb_std, (vocab_size+1, embed_size))\n",
        "for word, i in word_index.items():\n",
        "    embedding_vector = embeddings_index.get(word);\n",
        "    if embedding_vector is not None:\n",
        "        embedding_matrix[i] = embedding_vector;\n"
      ],
      "execution_count": null,
      "outputs": [
        {
          "output_type": "stream",
          "text": [
            "/usr/local/lib/python3.6/dist-packages/IPython/core/interactiveshell.py:2822: FutureWarning: arrays to stack must be passed as a \"sequence\" type such as list or tuple. Support for non-sequence iterables such as generators is deprecated as of NumPy 1.16 and will raise an error in the future.\n",
            "  if self.run_code(code, result):\n"
          ],
          "name": "stderr"
        }
      ]
    },
    {
      "cell_type": "code",
      "metadata": {
        "id": "Cb8ZTEI_V4rn",
        "outputId": "b246bf19-8d1d-44f6-c054-08a8caf74bb1",
        "colab": {
          "base_uri": "https://localhost:8080/",
          "height": 1000
        }
      },
      "source": [
        "# the best - performing LSTM-CNN model\n",
        "\n",
        "model_lstm = tf.keras.Sequential([\n",
        "    tf.keras.layers.Embedding(vocab_size+1, 100, weights=[embedding_matrix], trainable=False),\n",
        "    tf.keras.layers.Dropout(0.2),\n",
        "    # 1 x 5 filter for the convolutional layer\n",
        "    tf.keras.layers.Conv1D(32, 5, activation='relu',padding='same'),\n",
        "    tf.keras.layers.MaxPooling1D(pool_size=4),\n",
        "    tf.keras.layers.Dropout(0.2),\n",
        "    # 1 x 3 filter for the convolutional layer\n",
        "    tf.keras.layers.Conv1D(64, 3, activation='relu',padding='same'),\n",
        "    tf.keras.layers.MaxPooling1D(pool_size=4),\n",
        "    tf.keras.layers.LSTM(20, return_sequences=True),\n",
        "    tf.keras.layers.LSTM(20, return_sequences=True),\n",
        "    tf.keras.layers.LSTM(20, return_sequences=True),\n",
        "    tf.keras.layers.LSTM(20),\n",
        "    tf.keras.layers.Dropout(0.2),  \n",
        "    tf.keras.layers.Dense(256),\n",
        "    tf.keras.layers.Dropout(0.2),\n",
        "    tf.keras.layers.Dense(128),\n",
        "    tf.keras.layers.Dense(1, activation='sigmoid')\n",
        "])\n",
        "\n",
        "model_lstm.compile(loss='binary_crossentropy',optimizer='adam',metrics=['accuracy'])\n",
        "model_lstm.summary()\n",
        "\n",
        "# important to note that default shuffle is set to true so the NN doesn't memorise a sequence and increases generability\n",
        "history = model_lstm.fit(X_train, y_train, epochs=30, batch_size=50, validation_data=(X_test, y_test))\n",
        "\n",
        "#plot_model(model_lstm, show_shapes=True, to_file='/content/drive/My Drive/Data/model.png')"
      ],
      "execution_count": null,
      "outputs": [
        {
          "output_type": "stream",
          "text": [
            "Model: \"sequential_14\"\n",
            "_________________________________________________________________\n",
            "Layer (type)                 Output Shape              Param #   \n",
            "=================================================================\n",
            "embedding_14 (Embedding)     (None, None, 100)         23440100  \n",
            "_________________________________________________________________\n",
            "dropout_47 (Dropout)         (None, None, 100)         0         \n",
            "_________________________________________________________________\n",
            "conv1d_10 (Conv1D)           (None, None, 32)          16032     \n",
            "_________________________________________________________________\n",
            "max_pooling1d_10 (MaxPooling (None, None, 32)          0         \n",
            "_________________________________________________________________\n",
            "dropout_48 (Dropout)         (None, None, 32)          0         \n",
            "_________________________________________________________________\n",
            "conv1d_11 (Conv1D)           (None, None, 64)          6208      \n",
            "_________________________________________________________________\n",
            "max_pooling1d_11 (MaxPooling (None, None, 64)          0         \n",
            "_________________________________________________________________\n",
            "lstm_46 (LSTM)               (None, None, 20)          6800      \n",
            "_________________________________________________________________\n",
            "lstm_47 (LSTM)               (None, None, 20)          3280      \n",
            "_________________________________________________________________\n",
            "lstm_48 (LSTM)               (None, None, 20)          3280      \n",
            "_________________________________________________________________\n",
            "lstm_49 (LSTM)               (None, 20)                3280      \n",
            "_________________________________________________________________\n",
            "dropout_49 (Dropout)         (None, 20)                0         \n",
            "_________________________________________________________________\n",
            "dense_42 (Dense)             (None, 256)               5376      \n",
            "_________________________________________________________________\n",
            "dropout_50 (Dropout)         (None, 256)               0         \n",
            "_________________________________________________________________\n",
            "dense_43 (Dense)             (None, 128)               32896     \n",
            "_________________________________________________________________\n",
            "dense_44 (Dense)             (None, 1)                 129       \n",
            "=================================================================\n",
            "Total params: 23,517,381\n",
            "Trainable params: 77,281\n",
            "Non-trainable params: 23,440,100\n",
            "_________________________________________________________________\n",
            "Epoch 1/60\n",
            "472/472 [==============================] - 8s 17ms/step - loss: 0.5698 - accuracy: 0.7050 - val_loss: 0.4556 - val_accuracy: 0.7915\n",
            "Epoch 2/60\n",
            "472/472 [==============================] - 7s 14ms/step - loss: 0.4253 - accuracy: 0.8109 - val_loss: 0.3807 - val_accuracy: 0.8184\n",
            "Epoch 3/60\n",
            "472/472 [==============================] - 7s 14ms/step - loss: 0.3627 - accuracy: 0.8442 - val_loss: 0.3099 - val_accuracy: 0.8762\n",
            "Epoch 4/60\n",
            "472/472 [==============================] - 7s 14ms/step - loss: 0.3368 - accuracy: 0.8608 - val_loss: 0.3061 - val_accuracy: 0.8762\n",
            "Epoch 5/60\n",
            "472/472 [==============================] - 7s 14ms/step - loss: 0.3160 - accuracy: 0.8725 - val_loss: 0.3026 - val_accuracy: 0.8796\n",
            "Epoch 6/60\n",
            "472/472 [==============================] - 7s 14ms/step - loss: 0.3062 - accuracy: 0.8777 - val_loss: 0.3166 - val_accuracy: 0.8662\n",
            "Epoch 7/60\n",
            "472/472 [==============================] - 7s 15ms/step - loss: 0.2915 - accuracy: 0.8841 - val_loss: 0.2867 - val_accuracy: 0.8891\n",
            "Epoch 8/60\n",
            "472/472 [==============================] - 7s 15ms/step - loss: 0.2847 - accuracy: 0.8875 - val_loss: 0.2793 - val_accuracy: 0.8908\n",
            "Epoch 9/60\n",
            "472/472 [==============================] - 7s 14ms/step - loss: 0.2738 - accuracy: 0.8920 - val_loss: 0.2765 - val_accuracy: 0.8900\n",
            "Epoch 10/60\n",
            "472/472 [==============================] - 7s 14ms/step - loss: 0.2666 - accuracy: 0.8960 - val_loss: 0.2720 - val_accuracy: 0.8937\n",
            "Epoch 11/60\n",
            "472/472 [==============================] - 7s 14ms/step - loss: 0.2633 - accuracy: 0.8978 - val_loss: 0.2807 - val_accuracy: 0.8871\n",
            "Epoch 12/60\n",
            "472/472 [==============================] - 7s 15ms/step - loss: 0.2536 - accuracy: 0.9019 - val_loss: 0.2676 - val_accuracy: 0.8998\n",
            "Epoch 13/60\n",
            "472/472 [==============================] - 7s 15ms/step - loss: 0.2521 - accuracy: 0.9005 - val_loss: 0.2754 - val_accuracy: 0.8956\n",
            "Epoch 14/60\n",
            "472/472 [==============================] - 7s 14ms/step - loss: 0.2453 - accuracy: 0.9045 - val_loss: 0.2647 - val_accuracy: 0.8962\n",
            "Epoch 15/60\n",
            "472/472 [==============================] - 7s 14ms/step - loss: 0.2406 - accuracy: 0.9073 - val_loss: 0.2785 - val_accuracy: 0.9017\n",
            "Epoch 16/60\n",
            "472/472 [==============================] - 7s 14ms/step - loss: 0.2344 - accuracy: 0.9110 - val_loss: 0.2943 - val_accuracy: 0.8798\n",
            "Epoch 17/60\n",
            "472/472 [==============================] - 7s 14ms/step - loss: 0.2303 - accuracy: 0.9116 - val_loss: 0.2795 - val_accuracy: 0.9018\n",
            "Epoch 18/60\n",
            "472/472 [==============================] - 7s 14ms/step - loss: 0.2351 - accuracy: 0.9092 - val_loss: 0.2801 - val_accuracy: 0.8913\n",
            "Epoch 19/60\n",
            "472/472 [==============================] - 7s 14ms/step - loss: 0.2245 - accuracy: 0.9143 - val_loss: 0.2625 - val_accuracy: 0.8991\n",
            "Epoch 20/60\n",
            "472/472 [==============================] - 7s 14ms/step - loss: 0.2256 - accuracy: 0.9126 - val_loss: 0.2938 - val_accuracy: 0.8935\n",
            "Epoch 21/60\n",
            "472/472 [==============================] - 7s 14ms/step - loss: 0.2240 - accuracy: 0.9131 - val_loss: 0.2845 - val_accuracy: 0.8859\n",
            "Epoch 22/60\n",
            "472/472 [==============================] - 7s 14ms/step - loss: 0.2229 - accuracy: 0.9131 - val_loss: 0.2649 - val_accuracy: 0.9034\n",
            "Epoch 23/60\n",
            "472/472 [==============================] - 7s 14ms/step - loss: 0.2142 - accuracy: 0.9188 - val_loss: 0.2653 - val_accuracy: 0.9000\n",
            "Epoch 24/60\n",
            "472/472 [==============================] - 7s 14ms/step - loss: 0.2162 - accuracy: 0.9153 - val_loss: 0.2766 - val_accuracy: 0.9006\n",
            "Epoch 25/60\n",
            "472/472 [==============================] - 7s 14ms/step - loss: 0.2080 - accuracy: 0.9191 - val_loss: 0.2632 - val_accuracy: 0.9003\n",
            "Epoch 26/60\n",
            "472/472 [==============================] - 7s 14ms/step - loss: 0.2094 - accuracy: 0.9188 - val_loss: 0.3025 - val_accuracy: 0.8849\n",
            "Epoch 27/60\n",
            "472/472 [==============================] - 7s 14ms/step - loss: 0.2055 - accuracy: 0.9207 - val_loss: 0.2702 - val_accuracy: 0.9005\n",
            "Epoch 28/60\n",
            "472/472 [==============================] - 7s 14ms/step - loss: 0.2035 - accuracy: 0.9212 - val_loss: 0.2855 - val_accuracy: 0.9015\n",
            "Epoch 29/60\n",
            "472/472 [==============================] - 7s 15ms/step - loss: 0.2065 - accuracy: 0.9195 - val_loss: 0.2646 - val_accuracy: 0.9040\n",
            "Epoch 30/60\n",
            "472/472 [==============================] - 7s 15ms/step - loss: 0.1958 - accuracy: 0.9255 - val_loss: 0.2782 - val_accuracy: 0.8917\n",
            "Epoch 31/60\n",
            "472/472 [==============================] - 7s 14ms/step - loss: 0.2019 - accuracy: 0.9202 - val_loss: 0.2838 - val_accuracy: 0.8969\n",
            "Epoch 32/60\n",
            "472/472 [==============================] - 7s 14ms/step - loss: 0.2016 - accuracy: 0.9229 - val_loss: 0.2797 - val_accuracy: 0.8976\n",
            "Epoch 33/60\n",
            "472/472 [==============================] - 7s 14ms/step - loss: 0.1965 - accuracy: 0.9229 - val_loss: 0.2743 - val_accuracy: 0.9032\n",
            "Epoch 34/60\n",
            "472/472 [==============================] - 7s 14ms/step - loss: 0.1920 - accuracy: 0.9260 - val_loss: 0.2655 - val_accuracy: 0.9010\n",
            "Epoch 35/60\n",
            "472/472 [==============================] - 7s 14ms/step - loss: 0.1961 - accuracy: 0.9241 - val_loss: 0.2558 - val_accuracy: 0.8991\n",
            "Epoch 36/60\n",
            "472/472 [==============================] - 7s 14ms/step - loss: 0.1936 - accuracy: 0.9254 - val_loss: 0.2804 - val_accuracy: 0.8950\n",
            "Epoch 37/60\n",
            "472/472 [==============================] - 7s 14ms/step - loss: 0.1943 - accuracy: 0.9251 - val_loss: 0.2746 - val_accuracy: 0.8974\n",
            "Epoch 38/60\n",
            "472/472 [==============================] - 7s 14ms/step - loss: 0.1900 - accuracy: 0.9259 - val_loss: 0.2785 - val_accuracy: 0.8954\n",
            "Epoch 39/60\n",
            "472/472 [==============================] - 7s 14ms/step - loss: 0.1855 - accuracy: 0.9260 - val_loss: 0.2816 - val_accuracy: 0.9013\n",
            "Epoch 40/60\n",
            "472/472 [==============================] - 7s 14ms/step - loss: 0.1905 - accuracy: 0.9257 - val_loss: 0.2825 - val_accuracy: 0.8950\n",
            "Epoch 41/60\n",
            "472/472 [==============================] - 7s 14ms/step - loss: 0.1879 - accuracy: 0.9265 - val_loss: 0.2794 - val_accuracy: 0.9023\n",
            "Epoch 42/60\n",
            "472/472 [==============================] - 7s 14ms/step - loss: 0.1866 - accuracy: 0.9280 - val_loss: 0.2828 - val_accuracy: 0.8913\n",
            "Epoch 43/60\n",
            "472/472 [==============================] - 7s 14ms/step - loss: 0.1841 - accuracy: 0.9282 - val_loss: 0.2680 - val_accuracy: 0.8954\n",
            "Epoch 44/60\n",
            "472/472 [==============================] - 7s 14ms/step - loss: 0.1822 - accuracy: 0.9292 - val_loss: 0.2867 - val_accuracy: 0.9018\n",
            "Epoch 45/60\n",
            "472/472 [==============================] - 7s 14ms/step - loss: 0.1804 - accuracy: 0.9303 - val_loss: 0.2792 - val_accuracy: 0.9045\n",
            "Epoch 46/60\n",
            "472/472 [==============================] - 7s 14ms/step - loss: 0.1796 - accuracy: 0.9311 - val_loss: 0.2843 - val_accuracy: 0.9017\n",
            "Epoch 47/60\n",
            "472/472 [==============================] - 7s 15ms/step - loss: 0.1838 - accuracy: 0.9276 - val_loss: 0.2670 - val_accuracy: 0.9057\n",
            "Epoch 48/60\n",
            "472/472 [==============================] - 7s 15ms/step - loss: 0.1806 - accuracy: 0.9284 - val_loss: 0.2831 - val_accuracy: 0.9005\n",
            "Epoch 49/60\n",
            "472/472 [==============================] - 7s 14ms/step - loss: 0.1807 - accuracy: 0.9293 - val_loss: 0.2921 - val_accuracy: 0.8956\n",
            "Epoch 50/60\n",
            "472/472 [==============================] - 7s 14ms/step - loss: 0.1770 - accuracy: 0.9307 - val_loss: 0.2845 - val_accuracy: 0.9025\n",
            "Epoch 51/60\n",
            "472/472 [==============================] - 7s 14ms/step - loss: 0.1767 - accuracy: 0.9310 - val_loss: 0.2790 - val_accuracy: 0.9032\n",
            "Epoch 52/60\n",
            "472/472 [==============================] - 7s 15ms/step - loss: 0.1774 - accuracy: 0.9304 - val_loss: 0.2806 - val_accuracy: 0.9012\n",
            "Epoch 53/60\n",
            "472/472 [==============================] - 7s 16ms/step - loss: 0.1775 - accuracy: 0.9312 - val_loss: 0.2701 - val_accuracy: 0.9017\n",
            "Epoch 54/60\n",
            "472/472 [==============================] - 7s 15ms/step - loss: 0.1722 - accuracy: 0.9319 - val_loss: 0.2985 - val_accuracy: 0.9025\n",
            "Epoch 55/60\n",
            "472/472 [==============================] - 7s 14ms/step - loss: 0.1740 - accuracy: 0.9319 - val_loss: 0.2790 - val_accuracy: 0.8971\n",
            "Epoch 56/60\n",
            "472/472 [==============================] - 7s 14ms/step - loss: 0.1735 - accuracy: 0.9315 - val_loss: 0.2803 - val_accuracy: 0.9027\n",
            "Epoch 57/60\n",
            "472/472 [==============================] - 7s 14ms/step - loss: 0.1783 - accuracy: 0.9302 - val_loss: 0.2633 - val_accuracy: 0.9051\n",
            "Epoch 58/60\n",
            "472/472 [==============================] - 7s 15ms/step - loss: 0.1708 - accuracy: 0.9307 - val_loss: 0.2688 - val_accuracy: 0.8998\n",
            "Epoch 59/60\n",
            "472/472 [==============================] - 7s 15ms/step - loss: 0.1754 - accuracy: 0.9319 - val_loss: 0.2590 - val_accuracy: 0.9064\n",
            "Epoch 60/60\n",
            "472/472 [==============================] - 7s 15ms/step - loss: 0.1672 - accuracy: 0.9343 - val_loss: 0.2857 - val_accuracy: 0.9023\n"
          ],
          "name": "stdout"
        }
      ]
    },
    {
      "cell_type": "code",
      "metadata": {
        "id": "3NKr-tIU1HBP",
        "outputId": "3e8cec71-dce4-48ef-bfa0-95e98b2f593d",
        "colab": {
          "base_uri": "https://localhost:8080/",
          "height": 1000
        }
      },
      "source": [
        "# base LSTM model - no convolutional layers \n",
        "model_base_lstm = tf.keras.Sequential([\n",
        "    tf.keras.layers.Embedding(vocab_size+1, 100, weights=[embedding_matrix], trainable=False),\n",
        "    tf.keras.layers.Dropout(0.2),\n",
        "    tf.keras.layers.LSTM(20, return_sequences=True),\n",
        "    tf.keras.layers.LSTM(20),\n",
        "    tf.keras.layers.Dropout(0.2),  \n",
        "    tf.keras.layers.Dense(256),\n",
        "    tf.keras.layers.Dropout(0.3),\n",
        "    tf.keras.layers.Dense(128),\n",
        "    tf.keras.layers.Dense(1, activation='sigmoid')\n",
        "])\n",
        "\n",
        "print(model_base_lstm.summary())\n",
        "\n",
        "model_base_lstm.compile(loss='binary_crossentropy',optimizer='adam',metrics=['accuracy'])\n",
        "\n",
        "# important to note that default shuffle is set to true so the NN doesn't memorise a sequence and increases generability\n",
        "history = model_base_lstm.fit(X_train, y_train, epochs=200, batch_size=50, validation_data=(X_test, y_test), \n",
        "                              callbacks=tf.keras.callbacks.EarlyStopping(\n",
        "                                  monitor='val_loss', min_delta=0, patience=10, \n",
        "                                  verbose=0, mode='auto',baseline=None, \n",
        "                                  restore_best_weights=False\n",
        "                                  )\n",
        "                              )"
      ],
      "execution_count": null,
      "outputs": [
        {
          "output_type": "stream",
          "text": [
            "Model: \"sequential\"\n",
            "_________________________________________________________________\n",
            "Layer (type)                 Output Shape              Param #   \n",
            "=================================================================\n",
            "embedding (Embedding)        (None, None, 100)         23440100  \n",
            "_________________________________________________________________\n",
            "dropout (Dropout)            (None, None, 100)         0         \n",
            "_________________________________________________________________\n",
            "lstm (LSTM)                  (None, None, 20)          9680      \n",
            "_________________________________________________________________\n",
            "lstm_1 (LSTM)                (None, 20)                3280      \n",
            "_________________________________________________________________\n",
            "dropout_1 (Dropout)          (None, 20)                0         \n",
            "_________________________________________________________________\n",
            "dense (Dense)                (None, 256)               5376      \n",
            "_________________________________________________________________\n",
            "dropout_2 (Dropout)          (None, 256)               0         \n",
            "_________________________________________________________________\n",
            "dense_1 (Dense)              (None, 128)               32896     \n",
            "_________________________________________________________________\n",
            "dense_2 (Dense)              (None, 1)                 129       \n",
            "=================================================================\n",
            "Total params: 23,491,461\n",
            "Trainable params: 51,361\n",
            "Non-trainable params: 23,440,100\n",
            "_________________________________________________________________\n",
            "None\n",
            "Epoch 1/200\n",
            "472/472 [==============================] - 20s 43ms/step - loss: 0.6525 - accuracy: 0.5926 - val_loss: 0.6656 - val_accuracy: 0.5856\n",
            "Epoch 2/200\n",
            "472/472 [==============================] - 19s 40ms/step - loss: 0.6248 - accuracy: 0.6208 - val_loss: 0.6823 - val_accuracy: 0.6343\n",
            "Epoch 3/200\n",
            "472/472 [==============================] - 19s 40ms/step - loss: 0.6149 - accuracy: 0.6343 - val_loss: 0.5820 - val_accuracy: 0.6584\n",
            "Epoch 4/200\n",
            "472/472 [==============================] - 19s 40ms/step - loss: 0.5780 - accuracy: 0.6830 - val_loss: 0.5511 - val_accuracy: 0.7114\n",
            "Epoch 5/200\n",
            "472/472 [==============================] - 19s 41ms/step - loss: 0.6173 - accuracy: 0.6287 - val_loss: 0.5883 - val_accuracy: 0.6484\n",
            "Epoch 6/200\n",
            "472/472 [==============================] - 19s 40ms/step - loss: 0.5662 - accuracy: 0.6591 - val_loss: 0.5534 - val_accuracy: 0.6767\n",
            "Epoch 7/200\n",
            "472/472 [==============================] - 19s 40ms/step - loss: 0.5536 - accuracy: 0.6755 - val_loss: 0.5497 - val_accuracy: 0.6809\n",
            "Epoch 8/200\n",
            "472/472 [==============================] - 19s 40ms/step - loss: 0.5432 - accuracy: 0.6870 - val_loss: 0.5425 - val_accuracy: 0.6855\n",
            "Epoch 9/200\n",
            "472/472 [==============================] - 19s 40ms/step - loss: 0.5356 - accuracy: 0.6869 - val_loss: 0.5359 - val_accuracy: 0.6846\n",
            "Epoch 10/200\n",
            "472/472 [==============================] - 19s 40ms/step - loss: 0.5220 - accuracy: 0.6996 - val_loss: 0.5071 - val_accuracy: 0.7577\n",
            "Epoch 11/200\n",
            "472/472 [==============================] - 19s 40ms/step - loss: 0.4813 - accuracy: 0.7658 - val_loss: 0.4704 - val_accuracy: 0.7665\n",
            "Epoch 12/200\n",
            "472/472 [==============================] - 19s 40ms/step - loss: 0.4787 - accuracy: 0.7691 - val_loss: 0.6947 - val_accuracy: 0.5237\n",
            "Epoch 13/200\n",
            "472/472 [==============================] - 19s 40ms/step - loss: 0.6560 - accuracy: 0.5934 - val_loss: 0.5644 - val_accuracy: 0.6663\n",
            "Epoch 14/200\n",
            "472/472 [==============================] - 18s 39ms/step - loss: 0.5076 - accuracy: 0.7488 - val_loss: 0.5851 - val_accuracy: 0.6913\n",
            "Epoch 15/200\n",
            "472/472 [==============================] - 19s 40ms/step - loss: 0.4637 - accuracy: 0.7945 - val_loss: 0.4408 - val_accuracy: 0.8137\n",
            "Epoch 16/200\n",
            "472/472 [==============================] - 19s 40ms/step - loss: 0.5003 - accuracy: 0.7213 - val_loss: 0.4828 - val_accuracy: 0.7306\n",
            "Epoch 17/200\n",
            "472/472 [==============================] - 19s 40ms/step - loss: 0.4619 - accuracy: 0.7719 - val_loss: 0.4297 - val_accuracy: 0.8281\n",
            "Epoch 18/200\n",
            "472/472 [==============================] - 19s 39ms/step - loss: 0.4375 - accuracy: 0.8127 - val_loss: 0.5312 - val_accuracy: 0.7106\n",
            "Epoch 19/200\n",
            "472/472 [==============================] - 19s 39ms/step - loss: 0.4619 - accuracy: 0.7831 - val_loss: 0.4374 - val_accuracy: 0.8179\n",
            "Epoch 20/200\n",
            "472/472 [==============================] - 19s 40ms/step - loss: 0.4461 - accuracy: 0.8001 - val_loss: 0.4325 - val_accuracy: 0.8152\n",
            "Epoch 21/200\n",
            "472/472 [==============================] - 19s 40ms/step - loss: 0.4334 - accuracy: 0.8075 - val_loss: 0.4291 - val_accuracy: 0.8040\n",
            "Epoch 22/200\n",
            "472/472 [==============================] - 19s 40ms/step - loss: 0.4241 - accuracy: 0.8105 - val_loss: 0.4141 - val_accuracy: 0.8215\n",
            "Epoch 23/200\n",
            "472/472 [==============================] - 18s 39ms/step - loss: 0.3917 - accuracy: 0.8324 - val_loss: 0.3640 - val_accuracy: 0.8516\n",
            "Epoch 24/200\n",
            "472/472 [==============================] - 19s 39ms/step - loss: 0.5291 - accuracy: 0.7117 - val_loss: 0.4513 - val_accuracy: 0.7898\n",
            "Epoch 25/200\n",
            "472/472 [==============================] - 18s 39ms/step - loss: 0.4266 - accuracy: 0.8096 - val_loss: 0.3734 - val_accuracy: 0.8457\n",
            "Epoch 26/200\n",
            "472/472 [==============================] - 19s 40ms/step - loss: 0.3760 - accuracy: 0.8429 - val_loss: 0.3458 - val_accuracy: 0.8630\n",
            "Epoch 27/200\n",
            "472/472 [==============================] - 19s 40ms/step - loss: 0.3597 - accuracy: 0.8546 - val_loss: 0.3330 - val_accuracy: 0.8686\n",
            "Epoch 28/200\n",
            "472/472 [==============================] - 19s 40ms/step - loss: 0.3438 - accuracy: 0.8610 - val_loss: 0.3287 - val_accuracy: 0.8717\n",
            "Epoch 29/200\n",
            "472/472 [==============================] - 19s 40ms/step - loss: 0.3305 - accuracy: 0.8677 - val_loss: 0.3357 - val_accuracy: 0.8735\n",
            "Epoch 30/200\n",
            "472/472 [==============================] - 19s 40ms/step - loss: 0.3247 - accuracy: 0.8715 - val_loss: 0.3176 - val_accuracy: 0.8749\n",
            "Epoch 31/200\n",
            "472/472 [==============================] - 19s 40ms/step - loss: 0.3176 - accuracy: 0.8750 - val_loss: 0.3168 - val_accuracy: 0.8779\n",
            "Epoch 32/200\n",
            "472/472 [==============================] - 19s 39ms/step - loss: 0.3090 - accuracy: 0.8770 - val_loss: 0.3086 - val_accuracy: 0.8825\n",
            "Epoch 33/200\n",
            "472/472 [==============================] - 19s 40ms/step - loss: 0.3036 - accuracy: 0.8806 - val_loss: 0.3059 - val_accuracy: 0.8825\n",
            "Epoch 34/200\n",
            "472/472 [==============================] - 19s 39ms/step - loss: 0.2937 - accuracy: 0.8840 - val_loss: 0.3031 - val_accuracy: 0.8852\n",
            "Epoch 35/200\n",
            "472/472 [==============================] - 19s 39ms/step - loss: 0.2888 - accuracy: 0.8850 - val_loss: 0.2982 - val_accuracy: 0.8896\n",
            "Epoch 36/200\n",
            "472/472 [==============================] - 19s 39ms/step - loss: 0.2863 - accuracy: 0.8877 - val_loss: 0.2854 - val_accuracy: 0.8891\n",
            "Epoch 37/200\n",
            "472/472 [==============================] - 19s 40ms/step - loss: 0.2834 - accuracy: 0.8872 - val_loss: 0.3181 - val_accuracy: 0.8757\n",
            "Epoch 38/200\n",
            "472/472 [==============================] - 19s 40ms/step - loss: 0.2793 - accuracy: 0.8907 - val_loss: 0.2871 - val_accuracy: 0.8922\n",
            "Epoch 39/200\n",
            "472/472 [==============================] - 19s 40ms/step - loss: 0.2733 - accuracy: 0.8933 - val_loss: 0.2828 - val_accuracy: 0.8915\n",
            "Epoch 40/200\n",
            "472/472 [==============================] - 19s 41ms/step - loss: 0.2674 - accuracy: 0.8958 - val_loss: 0.2897 - val_accuracy: 0.8920\n",
            "Epoch 41/200\n",
            "472/472 [==============================] - 19s 40ms/step - loss: 0.2694 - accuracy: 0.8940 - val_loss: 0.2873 - val_accuracy: 0.8934\n",
            "Epoch 42/200\n",
            "472/472 [==============================] - 19s 39ms/step - loss: 0.2598 - accuracy: 0.8982 - val_loss: 0.2881 - val_accuracy: 0.8932\n",
            "Epoch 43/200\n",
            "472/472 [==============================] - 19s 39ms/step - loss: 0.2618 - accuracy: 0.8975 - val_loss: 0.2813 - val_accuracy: 0.8934\n",
            "Epoch 44/200\n",
            "472/472 [==============================] - 19s 40ms/step - loss: 0.2571 - accuracy: 0.8986 - val_loss: 0.2767 - val_accuracy: 0.8945\n",
            "Epoch 45/200\n",
            "472/472 [==============================] - 19s 39ms/step - loss: 0.2498 - accuracy: 0.9018 - val_loss: 0.2951 - val_accuracy: 0.8910\n",
            "Epoch 46/200\n",
            "472/472 [==============================] - 19s 39ms/step - loss: 0.2527 - accuracy: 0.9007 - val_loss: 0.2771 - val_accuracy: 0.8964\n",
            "Epoch 47/200\n",
            "472/472 [==============================] - 19s 40ms/step - loss: 0.2549 - accuracy: 0.8998 - val_loss: 0.2814 - val_accuracy: 0.8964\n",
            "Epoch 48/200\n",
            "472/472 [==============================] - 19s 39ms/step - loss: 0.2463 - accuracy: 0.9017 - val_loss: 0.2769 - val_accuracy: 0.8959\n",
            "Epoch 49/200\n",
            "472/472 [==============================] - 19s 40ms/step - loss: 0.2475 - accuracy: 0.9020 - val_loss: 0.2841 - val_accuracy: 0.8993\n",
            "Epoch 50/200\n",
            "472/472 [==============================] - 19s 39ms/step - loss: 0.2442 - accuracy: 0.9036 - val_loss: 0.2781 - val_accuracy: 0.8950\n",
            "Epoch 51/200\n",
            "472/472 [==============================] - 19s 40ms/step - loss: 0.2402 - accuracy: 0.9042 - val_loss: 0.3251 - val_accuracy: 0.8789\n",
            "Epoch 52/200\n",
            "472/472 [==============================] - 19s 40ms/step - loss: 0.2384 - accuracy: 0.9078 - val_loss: 0.2779 - val_accuracy: 0.8967\n",
            "Epoch 53/200\n",
            "472/472 [==============================] - 19s 39ms/step - loss: 0.2361 - accuracy: 0.9078 - val_loss: 0.2821 - val_accuracy: 0.8944\n",
            "Epoch 54/200\n",
            "472/472 [==============================] - 19s 40ms/step - loss: 0.2388 - accuracy: 0.9053 - val_loss: 0.2837 - val_accuracy: 0.8962\n"
          ],
          "name": "stdout"
        }
      ]
    },
    {
      "cell_type": "code",
      "metadata": {
        "id": "G8YRNwmV39ry",
        "outputId": "590b8e32-c680-4773-ebdf-87da2be93034",
        "colab": {
          "base_uri": "https://localhost:8080/",
          "height": 477
        }
      },
      "source": [
        "# getting average results for base lstm model\n",
        "\n",
        "results_base_mod = {}\n",
        "\n",
        "val_acc = []\n",
        "val_loss = []\n",
        "\n",
        "for i in range(5):\n",
        "    # base LSTM model - no convolutional layers \n",
        "    model_base_lstm = tf.keras.Sequential([\n",
        "        tf.keras.layers.Embedding(vocab_size+1, 100, weights=[embedding_matrix], trainable=False),\n",
        "        tf.keras.layers.Dropout(0.2),\n",
        "        #tf.keras.layers.LSTM(20, return_sequences=True),\n",
        "        #tf.keras.layers.LSTM(20, return_sequences=True),\n",
        "        tf.keras.layers.LSTM(20, return_sequences=True),\n",
        "        tf.keras.layers.LSTM(20),\n",
        "        tf.keras.layers.Dropout(0.2),  \n",
        "        tf.keras.layers.Dense(256),\n",
        "        tf.keras.layers.Dropout(0.3),\n",
        "        tf.keras.layers.Dense(128),\n",
        "        tf.keras.layers.Dense(1, activation='sigmoid')\n",
        "])\n",
        "\n",
        "    model_base_lstm.compile(loss='binary_crossentropy',optimizer='adam',metrics=['accuracy'])\n",
        "    # important to note that default shuffle is set to true so the NN doesn't memorise a sequence and increases generability\n",
        "    history = model_base_lstm.fit(X_train, y_train, epochs=30, batch_size=50, validation_data=(X_test, y_test))\n",
        "\n",
        "    m = max(history.history['val_accuracy'])\n",
        "\n",
        "    results_base_mod.append((history.history['val_accuracy'].index(m),m))\n",
        "\n",
        "print(\"Training Complete\")"
      ],
      "execution_count": null,
      "outputs": [
        {
          "output_type": "stream",
          "text": [
            "Epoch 1/30\n",
            "472/472 [==============================] - 19s 41ms/step - loss: 0.6530 - accuracy: 0.5929 - val_loss: 0.6254 - val_accuracy: 0.6068\n",
            "Epoch 2/30\n",
            "472/472 [==============================] - 18s 39ms/step - loss: 0.6277 - accuracy: 0.6198 - val_loss: 0.6632 - val_accuracy: 0.5899\n",
            "Epoch 3/30\n",
            "211/472 [============>.................] - ETA: 9s - loss: 0.6369 - accuracy: 0.6208"
          ],
          "name": "stdout"
        },
        {
          "output_type": "error",
          "ename": "KeyboardInterrupt",
          "evalue": "ignored",
          "traceback": [
            "\u001b[0;31m---------------------------------------------------------------------------\u001b[0m",
            "\u001b[0;31mKeyboardInterrupt\u001b[0m                         Traceback (most recent call last)",
            "\u001b[0;32m<ipython-input-16-8987c0c17260>\u001b[0m in \u001b[0;36m<module>\u001b[0;34m()\u001b[0m\n\u001b[1;32m     24\u001b[0m     \u001b[0mmodel_base_lstm\u001b[0m\u001b[0;34m.\u001b[0m\u001b[0mcompile\u001b[0m\u001b[0;34m(\u001b[0m\u001b[0mloss\u001b[0m\u001b[0;34m=\u001b[0m\u001b[0;34m'binary_crossentropy'\u001b[0m\u001b[0;34m,\u001b[0m\u001b[0moptimizer\u001b[0m\u001b[0;34m=\u001b[0m\u001b[0;34m'adam'\u001b[0m\u001b[0;34m,\u001b[0m\u001b[0mmetrics\u001b[0m\u001b[0;34m=\u001b[0m\u001b[0;34m[\u001b[0m\u001b[0;34m'accuracy'\u001b[0m\u001b[0;34m]\u001b[0m\u001b[0;34m)\u001b[0m\u001b[0;34m\u001b[0m\u001b[0;34m\u001b[0m\u001b[0m\n\u001b[1;32m     25\u001b[0m     \u001b[0;31m# important to note that default shuffle is set to true so the NN doesn't memorise a sequence and increases generability\u001b[0m\u001b[0;34m\u001b[0m\u001b[0;34m\u001b[0m\u001b[0;34m\u001b[0m\u001b[0m\n\u001b[0;32m---> 26\u001b[0;31m     \u001b[0mhistory\u001b[0m \u001b[0;34m=\u001b[0m \u001b[0mmodel_base_lstm\u001b[0m\u001b[0;34m.\u001b[0m\u001b[0mfit\u001b[0m\u001b[0;34m(\u001b[0m\u001b[0mX_train\u001b[0m\u001b[0;34m,\u001b[0m \u001b[0my_train\u001b[0m\u001b[0;34m,\u001b[0m \u001b[0mepochs\u001b[0m\u001b[0;34m=\u001b[0m\u001b[0;36m30\u001b[0m\u001b[0;34m,\u001b[0m \u001b[0mbatch_size\u001b[0m\u001b[0;34m=\u001b[0m\u001b[0;36m50\u001b[0m\u001b[0;34m,\u001b[0m \u001b[0mvalidation_data\u001b[0m\u001b[0;34m=\u001b[0m\u001b[0;34m(\u001b[0m\u001b[0mX_test\u001b[0m\u001b[0;34m,\u001b[0m \u001b[0my_test\u001b[0m\u001b[0;34m)\u001b[0m\u001b[0;34m)\u001b[0m\u001b[0;34m\u001b[0m\u001b[0;34m\u001b[0m\u001b[0m\n\u001b[0m\u001b[1;32m     27\u001b[0m \u001b[0;34m\u001b[0m\u001b[0m\n\u001b[1;32m     28\u001b[0m     \u001b[0mm\u001b[0m \u001b[0;34m=\u001b[0m \u001b[0mmax\u001b[0m\u001b[0;34m(\u001b[0m\u001b[0mhistory\u001b[0m\u001b[0;34m.\u001b[0m\u001b[0mhistory\u001b[0m\u001b[0;34m[\u001b[0m\u001b[0;34m'val_accuracy'\u001b[0m\u001b[0;34m]\u001b[0m\u001b[0;34m)\u001b[0m\u001b[0;34m\u001b[0m\u001b[0;34m\u001b[0m\u001b[0m\n",
            "\u001b[0;32m/usr/local/lib/python3.6/dist-packages/tensorflow/python/keras/engine/training.py\u001b[0m in \u001b[0;36m_method_wrapper\u001b[0;34m(self, *args, **kwargs)\u001b[0m\n\u001b[1;32m    106\u001b[0m   \u001b[0;32mdef\u001b[0m \u001b[0m_method_wrapper\u001b[0m\u001b[0;34m(\u001b[0m\u001b[0mself\u001b[0m\u001b[0;34m,\u001b[0m \u001b[0;34m*\u001b[0m\u001b[0margs\u001b[0m\u001b[0;34m,\u001b[0m \u001b[0;34m**\u001b[0m\u001b[0mkwargs\u001b[0m\u001b[0;34m)\u001b[0m\u001b[0;34m:\u001b[0m\u001b[0;34m\u001b[0m\u001b[0;34m\u001b[0m\u001b[0m\n\u001b[1;32m    107\u001b[0m     \u001b[0;32mif\u001b[0m \u001b[0;32mnot\u001b[0m \u001b[0mself\u001b[0m\u001b[0;34m.\u001b[0m\u001b[0m_in_multi_worker_mode\u001b[0m\u001b[0;34m(\u001b[0m\u001b[0;34m)\u001b[0m\u001b[0;34m:\u001b[0m  \u001b[0;31m# pylint: disable=protected-access\u001b[0m\u001b[0;34m\u001b[0m\u001b[0;34m\u001b[0m\u001b[0m\n\u001b[0;32m--> 108\u001b[0;31m       \u001b[0;32mreturn\u001b[0m \u001b[0mmethod\u001b[0m\u001b[0;34m(\u001b[0m\u001b[0mself\u001b[0m\u001b[0;34m,\u001b[0m \u001b[0;34m*\u001b[0m\u001b[0margs\u001b[0m\u001b[0;34m,\u001b[0m \u001b[0;34m**\u001b[0m\u001b[0mkwargs\u001b[0m\u001b[0;34m)\u001b[0m\u001b[0;34m\u001b[0m\u001b[0;34m\u001b[0m\u001b[0m\n\u001b[0m\u001b[1;32m    109\u001b[0m \u001b[0;34m\u001b[0m\u001b[0m\n\u001b[1;32m    110\u001b[0m     \u001b[0;31m# Running inside `run_distribute_coordinator` already.\u001b[0m\u001b[0;34m\u001b[0m\u001b[0;34m\u001b[0m\u001b[0;34m\u001b[0m\u001b[0m\n",
            "\u001b[0;32m/usr/local/lib/python3.6/dist-packages/tensorflow/python/keras/engine/training.py\u001b[0m in \u001b[0;36mfit\u001b[0;34m(self, x, y, batch_size, epochs, verbose, callbacks, validation_split, validation_data, shuffle, class_weight, sample_weight, initial_epoch, steps_per_epoch, validation_steps, validation_batch_size, validation_freq, max_queue_size, workers, use_multiprocessing)\u001b[0m\n\u001b[1;32m   1096\u001b[0m                 batch_size=batch_size):\n\u001b[1;32m   1097\u001b[0m               \u001b[0mcallbacks\u001b[0m\u001b[0;34m.\u001b[0m\u001b[0mon_train_batch_begin\u001b[0m\u001b[0;34m(\u001b[0m\u001b[0mstep\u001b[0m\u001b[0;34m)\u001b[0m\u001b[0;34m\u001b[0m\u001b[0;34m\u001b[0m\u001b[0m\n\u001b[0;32m-> 1098\u001b[0;31m               \u001b[0mtmp_logs\u001b[0m \u001b[0;34m=\u001b[0m \u001b[0mtrain_function\u001b[0m\u001b[0;34m(\u001b[0m\u001b[0miterator\u001b[0m\u001b[0;34m)\u001b[0m\u001b[0;34m\u001b[0m\u001b[0;34m\u001b[0m\u001b[0m\n\u001b[0m\u001b[1;32m   1099\u001b[0m               \u001b[0;32mif\u001b[0m \u001b[0mdata_handler\u001b[0m\u001b[0;34m.\u001b[0m\u001b[0mshould_sync\u001b[0m\u001b[0;34m:\u001b[0m\u001b[0;34m\u001b[0m\u001b[0;34m\u001b[0m\u001b[0m\n\u001b[1;32m   1100\u001b[0m                 \u001b[0mcontext\u001b[0m\u001b[0;34m.\u001b[0m\u001b[0masync_wait\u001b[0m\u001b[0;34m(\u001b[0m\u001b[0;34m)\u001b[0m\u001b[0;34m\u001b[0m\u001b[0;34m\u001b[0m\u001b[0m\n",
            "\u001b[0;32m/usr/local/lib/python3.6/dist-packages/tensorflow/python/eager/def_function.py\u001b[0m in \u001b[0;36m__call__\u001b[0;34m(self, *args, **kwds)\u001b[0m\n\u001b[1;32m    778\u001b[0m       \u001b[0;32melse\u001b[0m\u001b[0;34m:\u001b[0m\u001b[0;34m\u001b[0m\u001b[0;34m\u001b[0m\u001b[0m\n\u001b[1;32m    779\u001b[0m         \u001b[0mcompiler\u001b[0m \u001b[0;34m=\u001b[0m \u001b[0;34m\"nonXla\"\u001b[0m\u001b[0;34m\u001b[0m\u001b[0;34m\u001b[0m\u001b[0m\n\u001b[0;32m--> 780\u001b[0;31m         \u001b[0mresult\u001b[0m \u001b[0;34m=\u001b[0m \u001b[0mself\u001b[0m\u001b[0;34m.\u001b[0m\u001b[0m_call\u001b[0m\u001b[0;34m(\u001b[0m\u001b[0;34m*\u001b[0m\u001b[0margs\u001b[0m\u001b[0;34m,\u001b[0m \u001b[0;34m**\u001b[0m\u001b[0mkwds\u001b[0m\u001b[0;34m)\u001b[0m\u001b[0;34m\u001b[0m\u001b[0;34m\u001b[0m\u001b[0m\n\u001b[0m\u001b[1;32m    781\u001b[0m \u001b[0;34m\u001b[0m\u001b[0m\n\u001b[1;32m    782\u001b[0m       \u001b[0mnew_tracing_count\u001b[0m \u001b[0;34m=\u001b[0m \u001b[0mself\u001b[0m\u001b[0;34m.\u001b[0m\u001b[0m_get_tracing_count\u001b[0m\u001b[0;34m(\u001b[0m\u001b[0;34m)\u001b[0m\u001b[0;34m\u001b[0m\u001b[0;34m\u001b[0m\u001b[0m\n",
            "\u001b[0;32m/usr/local/lib/python3.6/dist-packages/tensorflow/python/eager/def_function.py\u001b[0m in \u001b[0;36m_call\u001b[0;34m(self, *args, **kwds)\u001b[0m\n\u001b[1;32m    805\u001b[0m       \u001b[0;31m# In this case we have created variables on the first call, so we run the\u001b[0m\u001b[0;34m\u001b[0m\u001b[0;34m\u001b[0m\u001b[0;34m\u001b[0m\u001b[0m\n\u001b[1;32m    806\u001b[0m       \u001b[0;31m# defunned version which is guaranteed to never create variables.\u001b[0m\u001b[0;34m\u001b[0m\u001b[0;34m\u001b[0m\u001b[0;34m\u001b[0m\u001b[0m\n\u001b[0;32m--> 807\u001b[0;31m       \u001b[0;32mreturn\u001b[0m \u001b[0mself\u001b[0m\u001b[0;34m.\u001b[0m\u001b[0m_stateless_fn\u001b[0m\u001b[0;34m(\u001b[0m\u001b[0;34m*\u001b[0m\u001b[0margs\u001b[0m\u001b[0;34m,\u001b[0m \u001b[0;34m**\u001b[0m\u001b[0mkwds\u001b[0m\u001b[0;34m)\u001b[0m  \u001b[0;31m# pylint: disable=not-callable\u001b[0m\u001b[0;34m\u001b[0m\u001b[0;34m\u001b[0m\u001b[0m\n\u001b[0m\u001b[1;32m    808\u001b[0m     \u001b[0;32melif\u001b[0m \u001b[0mself\u001b[0m\u001b[0;34m.\u001b[0m\u001b[0m_stateful_fn\u001b[0m \u001b[0;32mis\u001b[0m \u001b[0;32mnot\u001b[0m \u001b[0;32mNone\u001b[0m\u001b[0;34m:\u001b[0m\u001b[0;34m\u001b[0m\u001b[0;34m\u001b[0m\u001b[0m\n\u001b[1;32m    809\u001b[0m       \u001b[0;31m# Release the lock early so that multiple threads can perform the call\u001b[0m\u001b[0;34m\u001b[0m\u001b[0;34m\u001b[0m\u001b[0;34m\u001b[0m\u001b[0m\n",
            "\u001b[0;32m/usr/local/lib/python3.6/dist-packages/tensorflow/python/eager/function.py\u001b[0m in \u001b[0;36m__call__\u001b[0;34m(self, *args, **kwargs)\u001b[0m\n\u001b[1;32m   2827\u001b[0m     \u001b[0;32mwith\u001b[0m \u001b[0mself\u001b[0m\u001b[0;34m.\u001b[0m\u001b[0m_lock\u001b[0m\u001b[0;34m:\u001b[0m\u001b[0;34m\u001b[0m\u001b[0;34m\u001b[0m\u001b[0m\n\u001b[1;32m   2828\u001b[0m       \u001b[0mgraph_function\u001b[0m\u001b[0;34m,\u001b[0m \u001b[0margs\u001b[0m\u001b[0;34m,\u001b[0m \u001b[0mkwargs\u001b[0m \u001b[0;34m=\u001b[0m \u001b[0mself\u001b[0m\u001b[0;34m.\u001b[0m\u001b[0m_maybe_define_function\u001b[0m\u001b[0;34m(\u001b[0m\u001b[0margs\u001b[0m\u001b[0;34m,\u001b[0m \u001b[0mkwargs\u001b[0m\u001b[0;34m)\u001b[0m\u001b[0;34m\u001b[0m\u001b[0;34m\u001b[0m\u001b[0m\n\u001b[0;32m-> 2829\u001b[0;31m     \u001b[0;32mreturn\u001b[0m \u001b[0mgraph_function\u001b[0m\u001b[0;34m.\u001b[0m\u001b[0m_filtered_call\u001b[0m\u001b[0;34m(\u001b[0m\u001b[0margs\u001b[0m\u001b[0;34m,\u001b[0m \u001b[0mkwargs\u001b[0m\u001b[0;34m)\u001b[0m  \u001b[0;31m# pylint: disable=protected-access\u001b[0m\u001b[0;34m\u001b[0m\u001b[0;34m\u001b[0m\u001b[0m\n\u001b[0m\u001b[1;32m   2830\u001b[0m \u001b[0;34m\u001b[0m\u001b[0m\n\u001b[1;32m   2831\u001b[0m   \u001b[0;34m@\u001b[0m\u001b[0mproperty\u001b[0m\u001b[0;34m\u001b[0m\u001b[0;34m\u001b[0m\u001b[0m\n",
            "\u001b[0;32m/usr/local/lib/python3.6/dist-packages/tensorflow/python/eager/function.py\u001b[0m in \u001b[0;36m_filtered_call\u001b[0;34m(self, args, kwargs, cancellation_manager)\u001b[0m\n\u001b[1;32m   1846\u001b[0m                            resource_variable_ops.BaseResourceVariable))],\n\u001b[1;32m   1847\u001b[0m         \u001b[0mcaptured_inputs\u001b[0m\u001b[0;34m=\u001b[0m\u001b[0mself\u001b[0m\u001b[0;34m.\u001b[0m\u001b[0mcaptured_inputs\u001b[0m\u001b[0;34m,\u001b[0m\u001b[0;34m\u001b[0m\u001b[0;34m\u001b[0m\u001b[0m\n\u001b[0;32m-> 1848\u001b[0;31m         cancellation_manager=cancellation_manager)\n\u001b[0m\u001b[1;32m   1849\u001b[0m \u001b[0;34m\u001b[0m\u001b[0m\n\u001b[1;32m   1850\u001b[0m   \u001b[0;32mdef\u001b[0m \u001b[0m_call_flat\u001b[0m\u001b[0;34m(\u001b[0m\u001b[0mself\u001b[0m\u001b[0;34m,\u001b[0m \u001b[0margs\u001b[0m\u001b[0;34m,\u001b[0m \u001b[0mcaptured_inputs\u001b[0m\u001b[0;34m,\u001b[0m \u001b[0mcancellation_manager\u001b[0m\u001b[0;34m=\u001b[0m\u001b[0;32mNone\u001b[0m\u001b[0;34m)\u001b[0m\u001b[0;34m:\u001b[0m\u001b[0;34m\u001b[0m\u001b[0;34m\u001b[0m\u001b[0m\n",
            "\u001b[0;32m/usr/local/lib/python3.6/dist-packages/tensorflow/python/eager/function.py\u001b[0m in \u001b[0;36m_call_flat\u001b[0;34m(self, args, captured_inputs, cancellation_manager)\u001b[0m\n\u001b[1;32m   1922\u001b[0m       \u001b[0;31m# No tape is watching; skip to running the function.\u001b[0m\u001b[0;34m\u001b[0m\u001b[0;34m\u001b[0m\u001b[0;34m\u001b[0m\u001b[0m\n\u001b[1;32m   1923\u001b[0m       return self._build_call_outputs(self._inference_function.call(\n\u001b[0;32m-> 1924\u001b[0;31m           ctx, args, cancellation_manager=cancellation_manager))\n\u001b[0m\u001b[1;32m   1925\u001b[0m     forward_backward = self._select_forward_and_backward_functions(\n\u001b[1;32m   1926\u001b[0m         \u001b[0margs\u001b[0m\u001b[0;34m,\u001b[0m\u001b[0;34m\u001b[0m\u001b[0;34m\u001b[0m\u001b[0m\n",
            "\u001b[0;32m/usr/local/lib/python3.6/dist-packages/tensorflow/python/eager/function.py\u001b[0m in \u001b[0;36mcall\u001b[0;34m(self, ctx, args, cancellation_manager)\u001b[0m\n\u001b[1;32m    548\u001b[0m               \u001b[0minputs\u001b[0m\u001b[0;34m=\u001b[0m\u001b[0margs\u001b[0m\u001b[0;34m,\u001b[0m\u001b[0;34m\u001b[0m\u001b[0;34m\u001b[0m\u001b[0m\n\u001b[1;32m    549\u001b[0m               \u001b[0mattrs\u001b[0m\u001b[0;34m=\u001b[0m\u001b[0mattrs\u001b[0m\u001b[0;34m,\u001b[0m\u001b[0;34m\u001b[0m\u001b[0;34m\u001b[0m\u001b[0m\n\u001b[0;32m--> 550\u001b[0;31m               ctx=ctx)\n\u001b[0m\u001b[1;32m    551\u001b[0m         \u001b[0;32melse\u001b[0m\u001b[0;34m:\u001b[0m\u001b[0;34m\u001b[0m\u001b[0;34m\u001b[0m\u001b[0m\n\u001b[1;32m    552\u001b[0m           outputs = execute.execute_with_cancellation(\n",
            "\u001b[0;32m/usr/local/lib/python3.6/dist-packages/tensorflow/python/eager/execute.py\u001b[0m in \u001b[0;36mquick_execute\u001b[0;34m(op_name, num_outputs, inputs, attrs, ctx, name)\u001b[0m\n\u001b[1;32m     58\u001b[0m     \u001b[0mctx\u001b[0m\u001b[0;34m.\u001b[0m\u001b[0mensure_initialized\u001b[0m\u001b[0;34m(\u001b[0m\u001b[0;34m)\u001b[0m\u001b[0;34m\u001b[0m\u001b[0;34m\u001b[0m\u001b[0m\n\u001b[1;32m     59\u001b[0m     tensors = pywrap_tfe.TFE_Py_Execute(ctx._handle, device_name, op_name,\n\u001b[0;32m---> 60\u001b[0;31m                                         inputs, attrs, num_outputs)\n\u001b[0m\u001b[1;32m     61\u001b[0m   \u001b[0;32mexcept\u001b[0m \u001b[0mcore\u001b[0m\u001b[0;34m.\u001b[0m\u001b[0m_NotOkStatusException\u001b[0m \u001b[0;32mas\u001b[0m \u001b[0me\u001b[0m\u001b[0;34m:\u001b[0m\u001b[0;34m\u001b[0m\u001b[0;34m\u001b[0m\u001b[0m\n\u001b[1;32m     62\u001b[0m     \u001b[0;32mif\u001b[0m \u001b[0mname\u001b[0m \u001b[0;32mis\u001b[0m \u001b[0;32mnot\u001b[0m \u001b[0;32mNone\u001b[0m\u001b[0;34m:\u001b[0m\u001b[0;34m\u001b[0m\u001b[0;34m\u001b[0m\u001b[0m\n",
            "\u001b[0;31mKeyboardInterrupt\u001b[0m: "
          ]
        }
      ]
    },
    {
      "cell_type": "code",
      "metadata": {
        "id": "-Ao0AMJrWCFb"
      },
      "source": [
        "# getting average results for best model\n",
        "\n",
        "results = {}\n",
        "\n",
        "val_acc = []\n",
        "val_loss = []\n",
        "\n",
        "for i in range(10):\n",
        "    model_lstm = tf.keras.Sequential([\n",
        "        tf.keras.layers.Embedding(vocab_size+1, 100, weights=[embedding_matrix], trainable=False),\n",
        "        tf.keras.layers.Dropout(0.2),\n",
        "        # 1 x 5 filter for the convolutional layer as each sample is a vector\n",
        "        tf.keras.layers.Conv1D(32, 5, activation='relu',padding='same'),\n",
        "        tf.keras.layers.MaxPooling1D(pool_size=4),\n",
        "        tf.keras.layers.Dropout(0.2),\n",
        "        tf.keras.layers.Conv1D(64, 3, activation='relu',padding='same'),\n",
        "        tf.keras.layers.MaxPooling1D(pool_size=4),\n",
        "        tf.keras.layers.LSTM(20, return_sequences=True),\n",
        "        tf.keras.layers.LSTM(20, return_sequences=True),\n",
        "        tf.keras.layers.LSTM(20, return_sequences=True),\n",
        "        tf.keras.layers.LSTM(20),\n",
        "        tf.keras.layers.Dropout(0.2),  \n",
        "        tf.keras.layers.Dense(256),\n",
        "        tf.keras.layers.Dropout(0.3),\n",
        "        tf.keras.layers.Dense(128),\n",
        "        tf.keras.layers.Dense(1, activation='sigmoid')\n",
        "    ])\n",
        "\n",
        "    model_lstm.compile(loss='binary_crossentropy',optimizer='adam',metrics=['accuracy'])\n",
        "\n",
        "    # important to note that default shuffle is set to true so the NN doesn't memorise a sequence and increases generability\n",
        "    history = model_lstm.fit(X_train, y_train, epochs=30, batch_size=50, validation_data=(X_test, y_test))\n",
        "\n",
        "    m = max(history.history['val_accuracy'])\n",
        "\n",
        "    results.append((history.history['val_accuracy'].index(m),m))\n",
        "\n",
        "print(\"Training Complete\")"
      ],
      "execution_count": null,
      "outputs": []
    },
    {
      "cell_type": "code",
      "metadata": {
        "id": "6t-vzKRQ62nh"
      },
      "source": [
        " # code modified from https://machinelearningmastery.com/how-to-calculate-precision-recall-f1-and-more-for-deep-learning-models/\n",
        "\n",
        "def calc_metrics(model,X_test,y_test):\n",
        "\n",
        "    # predict probabilities for test set\n",
        "    yhat_probs = model.predict(X_test, verbose=0)\n",
        "    # predict crisp classes for test set\n",
        "    yhat_classes = model.predict_classes(X_test, verbose=0)\n",
        "    yhat_probs = yhat_probs[:, 0]\n",
        "    yhat_classes = yhat_classes[:, 0]\n",
        "\n",
        "    # accuracy: (tp + tn) / (p + n)\n",
        "    accuracy = accuracy_score(y_test, yhat_classes)\n",
        "    print('Accuracy: %f' % accuracy)\n",
        "    # precision tp / (tp + fp)\n",
        "    precision = precision_score(y_test, yhat_classes)\n",
        "    print('Precision: %f' % precision)\n",
        "    # recall: tp / (tp + fn)\n",
        "    recall = recall_score(y_test, yhat_classes)\n",
        "    print('Recall: %f' % recall)\n",
        "    # f1: 2 tp / (2 tp + fp + fn)\n",
        "    f1 = f1_score(y_test, yhat_classes)\n",
        "    print('F1 score: %f' % f1)\n",
        "\n",
        "    return accuracy, precision, recall, f1"
      ],
      "execution_count": null,
      "outputs": []
    },
    {
      "cell_type": "code",
      "metadata": {
        "id": "IWMnMlzx4iyK",
        "outputId": "9edc8345-fe89-4024-e804-dd79a0d8569a",
        "colab": {
          "base_uri": "https://localhost:8080/",
          "height": 156
        }
      },
      "source": [
        "accuracy, precision, recall, f1 = calc_metrics(model_base_lstm,X_test,y_test)"
      ],
      "execution_count": null,
      "outputs": [
        {
          "output_type": "stream",
          "text": [
            "WARNING:tensorflow:From <ipython-input-8-8b1ad0af9df7>:8: Sequential.predict_classes (from tensorflow.python.keras.engine.sequential) is deprecated and will be removed after 2021-01-01.\n",
            "Instructions for updating:\n",
            "Please use instead:* `np.argmax(model.predict(x), axis=-1)`,   if your model does multi-class classification   (e.g. if it uses a `softmax` last-layer activation).* `(model.predict(x) > 0.5).astype(\"int32\")`,   if your model does binary classification   (e.g. if it uses a `sigmoid` last-layer activation).\n",
            "Accuracy: 0.896236\n",
            "Precision: 0.896125\n",
            "Recall: 0.857932\n",
            "F1 score: 0.876613\n"
          ],
          "name": "stdout"
        }
      ]
    },
    {
      "cell_type": "code",
      "metadata": {
        "id": "9GhrkmIzXpAl",
        "outputId": "168474b5-93ae-4513-b786-6b29ce48e0b0",
        "colab": {
          "base_uri": "https://localhost:8080/",
          "height": 573
        }
      },
      "source": [
        "\n",
        "# Visualize the results:\n",
        "plt.plot(history.history['accuracy'])\n",
        "plt.plot(history.history['val_accuracy'])\n",
        "plt.title('Model accuracy')\n",
        "plt.ylabel('Accuracy')\n",
        "plt.xlabel('Epoch')\n",
        "plt.legend(['Train', 'Test'], loc='upper left')\n",
        "plt.show()\n",
        "\n",
        "plt.plot(history.history['loss'])\n",
        "plt.plot(history.history['val_loss'])\n",
        "plt.title('Model loss')\n",
        "plt.ylabel('Loss')\n",
        "plt.xlabel('Epoch')\n",
        "plt.legend(['Train', 'Test'], loc='upper right')\n",
        "plt.show()\n"
      ],
      "execution_count": null,
      "outputs": [
        {
          "output_type": "display_data",
          "data": {
            "image/png": "[encoded data removed]",
            "text/plain": [
              "<Figure size 432x288 with 1 Axes>"
            ]
          },
          "metadata": {
            "tags": [],
            "needs_background": "light"
          }
        },
        {
          "output_type": "display_data",
          "data": {
            "image/png": "[encoded data removed]",
            "text/plain": [
              "<Figure size 432x288 with 1 Axes>"
            ]
          },
          "metadata": {
            "tags": [],
            "needs_background": "light"
          }
        }
      ]
    }
  ]
}