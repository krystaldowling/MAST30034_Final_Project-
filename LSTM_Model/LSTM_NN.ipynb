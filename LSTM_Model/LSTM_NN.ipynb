{
  "nbformat": 4,
  "nbformat_minor": 0,
  "metadata": {
    "colab": {
      "name": "LSTM_charlotte",
      "provenance": [],
      "collapsed_sections": [],
      "include_colab_link": true
    },
    "kernelspec": {
      "name": "python3",
      "display_name": "Python 3"
    },
    "accelerator": "GPU"
  },
  "cells": [
    {
      "cell_type": "markdown",
      "metadata": {
        "id": "view-in-github",
        "colab_type": "text"
      },
      "source": [
        "<a href=\"https://colab.research.google.com/github/krystaldowling/MAST30034_Final_Project-/blob/LSTM/LSTM_NN.ipynb\" target=\"_parent\"><img src=\"https://colab.research.google.com/assets/colab-badge.svg\" alt=\"Open In Colab\"/></a>"
      ]
    },
    {
      "cell_type": "code",
      "metadata": {
        "id": "j8-xzfMlOAsU"
      },
      "source": [
        "import pandas as pd\n",
        "import spacy\n",
        "import numpy as np\n",
        "import matplotlib.pyplot as plt\n",
        "import sklearn\n",
        "import tensorflow as tf\n",
        "from sklearn.feature_extraction.text import CountVectorizer\n",
        "from sklearn.feature_extraction.text import TfidfVectorizer\n",
        "from tensorflow.keras.preprocessing.text import Tokenizer\n",
        "from tensorflow.keras.preprocessing.sequence import pad_sequences\n",
        "from keras.layers import BatchNormalization\n",
        "from keras.models import Sequential\n",
        "from keras.layers import Dense\n",
        "from keras.layers import LSTM\n",
        "from keras.layers import Dropout\n",
        "from keras.layers.embeddings import Embedding\n",
        "from keras.preprocessing import sequence\n",
        "from keras.layers import Bidirectional\n",
        "from keras.layers import TimeDistributed\n",
        "from keras.layers import ConvLSTM2D"
      ],
      "execution_count": null,
      "outputs": []
    },
    {
      "cell_type": "code",
      "metadata": {
        "id": "HQwL-7CdRfig",
        "outputId": "bf8859eb-0311-44be-940d-d1dde5dc88e4",
        "colab": {
          "base_uri": "https://localhost:8080/",
          "height": 34
        }
      },
      "source": [
        "from google.colab import drive\n",
        "drive.mount('/content/drive')"
      ],
      "execution_count": null,
      "outputs": [
        {
          "output_type": "stream",
          "text": [
            "Mounted at /content/drive\n"
          ],
          "name": "stdout"
        }
      ]
    },
    {
      "cell_type": "code",
      "metadata": {
        "id": "UzA0s6lrNjvM"
      },
      "source": [
        "data = pd.read_csv('/content/drive/My Drive/Data/final_preproccessed_data.csv', lineterminator='\\n')"
      ],
      "execution_count": null,
      "outputs": []
    },
    {
      "cell_type": "code",
      "metadata": {
        "id": "PezILc3wWP2N"
      },
      "source": [
        "def tokeniser(data, max_len=500):\n",
        "\n",
        "  tokenizer = Tokenizer()\n",
        "  tokenizer.fit_on_texts(data['text'])\n",
        "  # dictonary of all words in data and counts\n",
        "  word_index = tokenizer.word_index\n",
        "  # number of words in all articles in dataset\n",
        "  vocab_size=len(word_index)\n",
        "  sequences = tokenizer.texts_to_sequences(data['text'])\n",
        "  # padding data\n",
        "  padded = pad_sequences(sequences, maxlen=max_len, padding='post', truncating='post')\n",
        "\n",
        "  return padded, vocab_size, word_index"
      ],
      "execution_count": null,
      "outputs": []
    },
    {
      "cell_type": "code",
      "metadata": {
        "id": "B4hIKAPOzGT3"
      },
      "source": [
        "padded, vocab_size, word_index = tokeniser(data)"
      ],
      "execution_count": null,
      "outputs": []
    },
    {
      "cell_type": "code",
      "metadata": {
        "id": "UMQ-ZmLFWo4E"
      },
      "source": [
        "from sklearn.model_selection import train_test_split\n",
        "\n",
        "X_train, X_test, y_train, y_test =  sklearn.model_selection.train_test_split(padded, data['label'],test_size = 0.2, random_state = 20)"
      ],
      "execution_count": null,
      "outputs": []
    },
    {
      "cell_type": "code",
      "metadata": {
        "id": "qxA5YUa0SHDh",
        "outputId": "d927aea5-9960-4d76-8932-20fd47932890",
        "colab": {
          "base_uri": "https://localhost:8080/",
          "height": 221
        }
      },
      "source": [
        "\n",
        "# Import tensor representations for words\n",
        "\n",
        "!wget --no-check-certificate \\\n",
        "    https://storage.googleapis.com/laurencemoroney-blog.appspot.com/glove.6B.100d.txt \\\n",
        "    -O /tmp/glove.6B.100d.txt\n",
        "embeddings_index = {};\n",
        "with open('/tmp/glove.6B.100d.txt') as f:\n",
        "    for line in f:\n",
        "        values = line.split();\n",
        "        word = values[0];\n",
        "        coefs = np.asarray(values[1:], dtype='float32');\n",
        "        embeddings_index[word] = coefs;\n",
        "print(len(coefs))\n",
        "\n",
        "embeddings_matrix = np.zeros((vocab_size+1, 100));\n",
        "for word, i in word_index.items():\n",
        "    embedding_vector = embeddings_index.get(word);\n",
        "    if embedding_vector is not None:\n",
        "        embeddings_matrix[i] = embedding_vector;"
      ],
      "execution_count": null,
      "outputs": [
        {
          "output_type": "stream",
          "text": [
            "--2020-10-14 00:39:45--  https://storage.googleapis.com/laurencemoroney-blog.appspot.com/glove.6B.100d.txt\n",
            "Resolving storage.googleapis.com (storage.googleapis.com)... 108.177.127.128, 172.217.218.128, 173.194.79.128, ...\n",
            "Connecting to storage.googleapis.com (storage.googleapis.com)|108.177.127.128|:443... connected.\n",
            "HTTP request sent, awaiting response... 200 OK\n",
            "Length: 347116733 (331M) [text/plain]\n",
            "Saving to: ‘/tmp/glove.6B.100d.txt’\n",
            "\n",
            "/tmp/glove.6B.100d. 100%[===================>] 331.04M  79.1MB/s    in 4.2s    \n",
            "\n",
            "2020-10-14 00:39:50 (79.1 MB/s) - ‘/tmp/glove.6B.100d.txt’ saved [347116733/347116733]\n",
            "\n",
            "100\n"
          ],
          "name": "stdout"
        }
      ]
    },
    {
      "cell_type": "code",
      "metadata": {
        "id": "Cb8ZTEI_V4rn",
        "outputId": "4244face-d5d2-4e06-f68b-2c61c7662aca",
        "colab": {
          "base_uri": "https://localhost:8080/",
          "height": 714
        }
      },
      "source": [
        "# the classic LSTM model\n",
        "\n",
        "model_lstm = tf.keras.Sequential([\n",
        "    tf.keras.layers.Embedding(vocab_size+1,100, weights=[embeddings_matrix],trainable=False),\n",
        "    tf.keras.layers.Dropout(0.2),\n",
        "    # 1 x 5 filter for the convolutional layer as each sample is a vector\n",
        "    tf.keras.layers.Conv1D(32, 5, activation='relu',padding='same'),\n",
        "    tf.keras.layers.MaxPooling1D(pool_size=4),\n",
        "    tf.keras.layers.Dropout(0.2),\n",
        "    tf.keras.layers.Conv1D(64, 3, activation='relu',padding='same'),\n",
        "    tf.keras.layers.MaxPooling1D(pool_size=4),\n",
        "    tf.keras.layers.LSTM(20, return_sequences=True),\n",
        "    tf.keras.layers.LSTM(20, return_sequences=True),\n",
        "    tf.keras.layers.LSTM(20, return_sequences=True),\n",
        "    tf.keras.layers.LSTM(20),\n",
        "    tf.keras.layers.Dropout(0.2),  \n",
        "    tf.keras.layers.Dense(512),\n",
        "    tf.keras.layers.Dropout(0.3),  \n",
        "    tf.keras.layers.Dense(256),\n",
        "    tf.keras.layers.Dense(1, activation='sigmoid')\n",
        "])\n",
        "\n",
        "print(model_lstm.summary())"
      ],
      "execution_count": null,
      "outputs": [
        {
          "output_type": "stream",
          "text": [
            "Model: \"sequential_11\"\n",
            "_________________________________________________________________\n",
            "Layer (type)                 Output Shape              Param #   \n",
            "=================================================================\n",
            "embedding_11 (Embedding)     (None, None, 100)         23440100  \n",
            "_________________________________________________________________\n",
            "dropout_41 (Dropout)         (None, None, 100)         0         \n",
            "_________________________________________________________________\n",
            "conv1d_21 (Conv1D)           (None, None, 32)          16032     \n",
            "_________________________________________________________________\n",
            "max_pooling1d_21 (MaxPooling (None, None, 32)          0         \n",
            "_________________________________________________________________\n",
            "dropout_42 (Dropout)         (None, None, 32)          0         \n",
            "_________________________________________________________________\n",
            "conv1d_22 (Conv1D)           (None, None, 64)          6208      \n",
            "_________________________________________________________________\n",
            "max_pooling1d_22 (MaxPooling (None, None, 64)          0         \n",
            "_________________________________________________________________\n",
            "lstm_37 (LSTM)               (None, None, 20)          6800      \n",
            "_________________________________________________________________\n",
            "lstm_38 (LSTM)               (None, None, 20)          3280      \n",
            "_________________________________________________________________\n",
            "lstm_39 (LSTM)               (None, None, 20)          3280      \n",
            "_________________________________________________________________\n",
            "lstm_40 (LSTM)               (None, 20)                3280      \n",
            "_________________________________________________________________\n",
            "dropout_43 (Dropout)         (None, 20)                0         \n",
            "_________________________________________________________________\n",
            "dense_33 (Dense)             (None, 512)               10752     \n",
            "_________________________________________________________________\n",
            "dropout_44 (Dropout)         (None, 512)               0         \n",
            "_________________________________________________________________\n",
            "dense_34 (Dense)             (None, 256)               131328    \n",
            "_________________________________________________________________\n",
            "dense_35 (Dense)             (None, 1)                 257       \n",
            "=================================================================\n",
            "Total params: 23,621,317\n",
            "Trainable params: 181,217\n",
            "Non-trainable params: 23,440,100\n",
            "_________________________________________________________________\n",
            "None\n"
          ],
          "name": "stdout"
        }
      ]
    },
    {
      "cell_type": "code",
      "metadata": {
        "id": "-Ao0AMJrWCFb",
        "outputId": "87f6e069-c951-46ce-b7b5-687a60eac9a2",
        "colab": {
          "base_uri": "https://localhost:8080/",
          "height": 1000
        }
      },
      "source": [
        "model_lstm.compile(loss='binary_crossentropy',optimizer='adam',metrics=['accuracy'])\n",
        "model_lstm.summary()\n",
        "\n",
        "# important to note that default shuffle is set to true so the NN doesn't memorise a sequence and increases generability\n",
        "history = model_lstm.fit(X_train, y_train, epochs=20, batch_size=50, validation_data=(X_test, y_test))\n",
        "\n",
        "print(\"Training Complete\")"
      ],
      "execution_count": null,
      "outputs": [
        {
          "output_type": "stream",
          "text": [
            "Model: \"sequential_10\"\n",
            "_________________________________________________________________\n",
            "Layer (type)                 Output Shape              Param #   \n",
            "=================================================================\n",
            "embedding_10 (Embedding)     (None, None, 100)         23440100  \n",
            "_________________________________________________________________\n",
            "dropout_38 (Dropout)         (None, None, 100)         0         \n",
            "_________________________________________________________________\n",
            "conv1d_19 (Conv1D)           (None, None, 32)          16032     \n",
            "_________________________________________________________________\n",
            "max_pooling1d_19 (MaxPooling (None, None, 32)          0         \n",
            "_________________________________________________________________\n",
            "dropout_39 (Dropout)         (None, None, 32)          0         \n",
            "_________________________________________________________________\n",
            "conv1d_20 (Conv1D)           (None, None, 64)          6208      \n",
            "_________________________________________________________________\n",
            "max_pooling1d_20 (MaxPooling (None, None, 64)          0         \n",
            "_________________________________________________________________\n",
            "lstm_33 (LSTM)               (None, None, 20)          6800      \n",
            "_________________________________________________________________\n",
            "lstm_34 (LSTM)               (None, None, 20)          3280      \n",
            "_________________________________________________________________\n",
            "lstm_35 (LSTM)               (None, None, 20)          3280      \n",
            "_________________________________________________________________\n",
            "lstm_36 (LSTM)               (None, 20)                3280      \n",
            "_________________________________________________________________\n",
            "dense_30 (Dense)             (None, 512)               10752     \n",
            "_________________________________________________________________\n",
            "dropout_40 (Dropout)         (None, 512)               0         \n",
            "_________________________________________________________________\n",
            "dense_31 (Dense)             (None, 256)               131328    \n",
            "_________________________________________________________________\n",
            "dense_32 (Dense)             (None, 1)                 257       \n",
            "=================================================================\n",
            "Total params: 23,621,317\n",
            "Trainable params: 181,217\n",
            "Non-trainable params: 23,440,100\n",
            "_________________________________________________________________\n",
            "Epoch 1/20\n",
            "472/472 [==============================] - 9s 18ms/step - loss: 0.5401 - accuracy: 0.7247 - val_loss: 0.4008 - val_accuracy: 0.8223\n",
            "Epoch 2/20\n",
            "472/472 [==============================] - 7s 16ms/step - loss: 0.3888 - accuracy: 0.8309 - val_loss: 0.3449 - val_accuracy: 0.8511\n",
            "Epoch 3/20\n",
            "472/472 [==============================] - 7s 16ms/step - loss: 0.3455 - accuracy: 0.8560 - val_loss: 0.3144 - val_accuracy: 0.8710\n",
            "Epoch 4/20\n",
            "472/472 [==============================] - 7s 16ms/step - loss: 0.3240 - accuracy: 0.8671 - val_loss: 0.3061 - val_accuracy: 0.8750\n",
            "Epoch 5/20\n",
            "472/472 [==============================] - 7s 16ms/step - loss: 0.3056 - accuracy: 0.8776 - val_loss: 0.2946 - val_accuracy: 0.8813\n",
            "Epoch 6/20\n",
            "472/472 [==============================] - 7s 16ms/step - loss: 0.2963 - accuracy: 0.8814 - val_loss: 0.3234 - val_accuracy: 0.8654\n",
            "Epoch 7/20\n",
            "472/472 [==============================] - 7s 16ms/step - loss: 0.2856 - accuracy: 0.8889 - val_loss: 0.2875 - val_accuracy: 0.8859\n",
            "Epoch 8/20\n",
            "472/472 [==============================] - 7s 16ms/step - loss: 0.2822 - accuracy: 0.8889 - val_loss: 0.2836 - val_accuracy: 0.8869\n",
            "Epoch 9/20\n",
            "472/472 [==============================] - 7s 16ms/step - loss: 0.2740 - accuracy: 0.8929 - val_loss: 0.2808 - val_accuracy: 0.8893\n",
            "Epoch 10/20\n",
            "472/472 [==============================] - 8s 16ms/step - loss: 0.2627 - accuracy: 0.8967 - val_loss: 0.2739 - val_accuracy: 0.8893\n",
            "Epoch 11/20\n",
            "472/472 [==============================] - 8s 16ms/step - loss: 0.2542 - accuracy: 0.9028 - val_loss: 0.2741 - val_accuracy: 0.8930\n",
            "Epoch 12/20\n",
            "472/472 [==============================] - 8s 16ms/step - loss: 0.2529 - accuracy: 0.9027 - val_loss: 0.2700 - val_accuracy: 0.8956\n",
            "Epoch 13/20\n",
            "472/472 [==============================] - 8s 16ms/step - loss: 0.2461 - accuracy: 0.9056 - val_loss: 0.2654 - val_accuracy: 0.8984\n",
            "Epoch 14/20\n",
            "472/472 [==============================] - 8s 16ms/step - loss: 0.2424 - accuracy: 0.9051 - val_loss: 0.2604 - val_accuracy: 0.8986\n",
            "Epoch 15/20\n",
            "472/472 [==============================] - 8s 16ms/step - loss: 0.2407 - accuracy: 0.9065 - val_loss: 0.2671 - val_accuracy: 0.8947\n",
            "Epoch 16/20\n",
            "472/472 [==============================] - 8s 16ms/step - loss: 0.2356 - accuracy: 0.9105 - val_loss: 0.2643 - val_accuracy: 0.8966\n",
            "Epoch 17/20\n",
            "472/472 [==============================] - 8s 16ms/step - loss: 0.2277 - accuracy: 0.9136 - val_loss: 0.2745 - val_accuracy: 0.8966\n",
            "Epoch 18/20\n",
            "472/472 [==============================] - 8s 16ms/step - loss: 0.2294 - accuracy: 0.9110 - val_loss: 0.2624 - val_accuracy: 0.8983\n",
            "Epoch 19/20\n",
            "472/472 [==============================] - 8s 16ms/step - loss: 0.2214 - accuracy: 0.9137 - val_loss: 0.2732 - val_accuracy: 0.8913\n",
            "Epoch 20/20\n",
            "472/472 [==============================] - 8s 16ms/step - loss: 0.2178 - accuracy: 0.9167 - val_loss: 0.2597 - val_accuracy: 0.8991\n",
            "Training Complete\n"
          ],
          "name": "stdout"
        }
      ]
    },
    {
      "cell_type": "code",
      "metadata": {
        "id": "kcLbl5RCrrBj"
      },
      "source": [
        "# Bi-directional LSTM model\n",
        "model_bi_lstm = tf.keras.Sequential([\n",
        "    tf.keras.layers.Embedding(vocab_size+1,100, weights=[embeddings_matrix],trainable=False),\n",
        "    tf.keras.layers.Dropout(0.2),\n",
        "    tf.keras.layers.Conv1D(32, 5, activation='relu',padding = 'same'),\n",
        "    tf.keras.layers.MaxPooling1D(pool_size=4),\n",
        "    tf.keras.layers.Dropout(0.2),\n",
        "    tf.keras.layers.Conv1D(64, 3, activation='relu',padding = 'same'),\n",
        "    tf.keras.layers.MaxPooling1D(pool_size=2),\n",
        "    #tf.keras.layers.Bidirectional(LSTM(10, return_sequences=True)),\n",
        "    tf.keras.layers.Bidirectional(LSTM(20, return_sequences=True)),\n",
        "    tf.keras.layers.Bidirectional(LSTM(20, return_sequences=True)),\n",
        "    tf.keras.layers.Bidirectional(LSTM(20)),\n",
        "    tf.keras.layers.Dropout(0.2),\n",
        "    tf.keras.layers.Dense(512),\n",
        "    tf.keras.layers.Dropout(0.3),  \n",
        "    tf.keras.layers.Dense(256),\n",
        "    tf.keras.layers.Dense(1, activation='sigmoid')\n",
        "])"
      ],
      "execution_count": null,
      "outputs": []
    },
    {
      "cell_type": "code",
      "metadata": {
        "id": "jWrNKNPDrEF6",
        "outputId": "b7e4e921-f8c3-4fd2-9aa0-1642ce68c3e6",
        "colab": {
          "base_uri": "https://localhost:8080/",
          "height": 1000
        }
      },
      "source": [
        "model_bi_lstm.compile(loss='binary_crossentropy',optimizer='adam',metrics=['accuracy'])\n",
        "model_bi_lstm.summary()\n",
        "\n",
        "# important to note that default shuffle is set to true so the NN doesn't memorise a sequence and increases generability\n",
        "history = model_bi_lstm.fit(X_train, y_train, epochs=15, batch_size=50, validation_data=(X_test, y_test))\n",
        "\n",
        "print(\"Training Complete\")"
      ],
      "execution_count": null,
      "outputs": [
        {
          "output_type": "stream",
          "text": [
            "Model: \"sequential_8\"\n",
            "_________________________________________________________________\n",
            "Layer (type)                 Output Shape              Param #   \n",
            "=================================================================\n",
            "embedding_8 (Embedding)      (None, None, 100)         23440100  \n",
            "_________________________________________________________________\n",
            "dropout_31 (Dropout)         (None, None, 100)         0         \n",
            "_________________________________________________________________\n",
            "conv1d_15 (Conv1D)           (None, None, 32)          16032     \n",
            "_________________________________________________________________\n",
            "max_pooling1d_15 (MaxPooling (None, None, 32)          0         \n",
            "_________________________________________________________________\n",
            "dropout_32 (Dropout)         (None, None, 32)          0         \n",
            "_________________________________________________________________\n",
            "conv1d_16 (Conv1D)           (None, None, 64)          6208      \n",
            "_________________________________________________________________\n",
            "max_pooling1d_16 (MaxPooling (None, None, 64)          0         \n",
            "_________________________________________________________________\n",
            "bidirectional_3 (Bidirection (None, None, 40)          13600     \n",
            "_________________________________________________________________\n",
            "bidirectional_4 (Bidirection (None, None, 40)          9760      \n",
            "_________________________________________________________________\n",
            "bidirectional_5 (Bidirection (None, 40)                9760      \n",
            "_________________________________________________________________\n",
            "dropout_33 (Dropout)         (None, 40)                0         \n",
            "_________________________________________________________________\n",
            "dense_24 (Dense)             (None, 512)               20992     \n",
            "_________________________________________________________________\n",
            "dropout_34 (Dropout)         (None, 512)               0         \n",
            "_________________________________________________________________\n",
            "dense_25 (Dense)             (None, 256)               131328    \n",
            "_________________________________________________________________\n",
            "dense_26 (Dense)             (None, 1)                 257       \n",
            "=================================================================\n",
            "Total params: 23,648,037\n",
            "Trainable params: 207,937\n",
            "Non-trainable params: 23,440,100\n",
            "_________________________________________________________________\n",
            "Epoch 1/15\n",
            "472/472 [==============================] - 15s 31ms/step - loss: 0.4969 - accuracy: 0.7524 - val_loss: 0.3595 - val_accuracy: 0.8438\n",
            "Epoch 2/15\n",
            "472/472 [==============================] - 13s 28ms/step - loss: 0.3622 - accuracy: 0.8451 - val_loss: 0.3173 - val_accuracy: 0.8710\n",
            "Epoch 3/15\n",
            "472/472 [==============================] - 13s 27ms/step - loss: 0.3323 - accuracy: 0.8621 - val_loss: 0.3122 - val_accuracy: 0.8752\n",
            "Epoch 4/15\n",
            "472/472 [==============================] - 13s 28ms/step - loss: 0.3119 - accuracy: 0.8709 - val_loss: 0.2924 - val_accuracy: 0.8857\n",
            "Epoch 5/15\n",
            "472/472 [==============================] - 14s 29ms/step - loss: 0.2945 - accuracy: 0.8804 - val_loss: 0.2803 - val_accuracy: 0.8901\n",
            "Epoch 6/15\n",
            "472/472 [==============================] - 13s 28ms/step - loss: 0.2842 - accuracy: 0.8871 - val_loss: 0.2815 - val_accuracy: 0.8889\n",
            "Epoch 7/15\n",
            "472/472 [==============================] - 13s 28ms/step - loss: 0.2754 - accuracy: 0.8902 - val_loss: 0.2741 - val_accuracy: 0.8957\n",
            "Epoch 8/15\n",
            "472/472 [==============================] - 13s 27ms/step - loss: 0.2634 - accuracy: 0.8949 - val_loss: 0.2654 - val_accuracy: 0.8989\n",
            "Epoch 9/15\n",
            "472/472 [==============================] - 13s 28ms/step - loss: 0.2577 - accuracy: 0.8970 - val_loss: 0.2677 - val_accuracy: 0.8952\n",
            "Epoch 10/15\n",
            "472/472 [==============================] - 13s 28ms/step - loss: 0.2506 - accuracy: 0.9026 - val_loss: 0.2599 - val_accuracy: 0.9025\n",
            "Epoch 11/15\n",
            "472/472 [==============================] - 13s 28ms/step - loss: 0.2473 - accuracy: 0.9024 - val_loss: 0.2629 - val_accuracy: 0.8995\n",
            "Epoch 12/15\n",
            "472/472 [==============================] - 13s 28ms/step - loss: 0.2423 - accuracy: 0.9052 - val_loss: 0.2635 - val_accuracy: 0.8983\n",
            "Epoch 13/15\n",
            "472/472 [==============================] - 13s 28ms/step - loss: 0.2376 - accuracy: 0.9073 - val_loss: 0.2609 - val_accuracy: 0.8998\n",
            "Epoch 14/15\n",
            "472/472 [==============================] - 13s 28ms/step - loss: 0.2333 - accuracy: 0.9089 - val_loss: 0.2755 - val_accuracy: 0.8962\n",
            "Epoch 15/15\n",
            "472/472 [==============================] - 13s 28ms/step - loss: 0.2322 - accuracy: 0.9095 - val_loss: 0.2579 - val_accuracy: 0.9010\n",
            "Training Complete\n"
          ],
          "name": "stdout"
        }
      ]
    },
    {
      "cell_type": "code",
      "metadata": {
        "id": "9GhrkmIzXpAl",
        "outputId": "bfd37411-8481-4bda-f33f-706f57778cbb",
        "colab": {
          "base_uri": "https://localhost:8080/",
          "height": 573
        }
      },
      "source": [
        "\n",
        "# Visualize the results:\n",
        "\n",
        "plt.plot(history.history['accuracy'])\n",
        "plt.plot(history.history['val_accuracy'])\n",
        "plt.title('Model accuracy')\n",
        "plt.ylabel('Accuracy')\n",
        "plt.xlabel('Epoch')\n",
        "plt.legend(['Train', 'Test'], loc='upper left')\n",
        "plt.show()\n",
        "\n",
        "plt.plot(history.history['loss'])\n",
        "plt.plot(history.history['val_loss'])\n",
        "plt.title('Model loss')\n",
        "plt.ylabel('Loss')\n",
        "plt.xlabel('Epoch')\n",
        "plt.legend(['Train', 'Test'], loc='upper right')\n",
        "plt.show()"
      ],
      "execution_count": null,
      "outputs": [
        {
          "output_type": "display_data",
          "data": {
            "image/png": "[encoded data removed]",
            "text/plain": [
              "<Figure size 432x288 with 1 Axes>"
            ]
          },
          "metadata": {
            "tags": [],
            "needs_background": "light"
          }
        },
        {
          "output_type": "display_data",
          "data": {
            "image/png": "[encoded data removed]",
            "text/plain": [
              "<Figure size 432x288 with 1 Axes>"
            ]
          },
          "metadata": {
            "tags": [],
            "needs_background": "light"
          }
        }
      ]
    },
    {
      "cell_type": "code",
      "metadata": {
        "id": "jWIRvzp_j2-R"
      },
      "source": [
        ""
      ],
      "execution_count": null,
      "outputs": []
    }
  ]
}