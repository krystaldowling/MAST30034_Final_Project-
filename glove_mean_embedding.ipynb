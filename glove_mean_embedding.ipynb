{
  "nbformat": 4,
  "nbformat_minor": 0,
  "metadata": {
    "colab": {
      "name": "glove_mean_embedding.ipynb",
      "provenance": [],
      "mount_file_id": "1tnggHj4ZmxznrmPLnYD4k4cyrsftcTMz",
      "authorship_tag": "ABX9TyPcJ+JmDIPfoKM2yz7Wm/VY",
      "include_colab_link": true
    },
    "kernelspec": {
      "name": "python3",
      "display_name": "Python 3"
    }
  },
  "cells": [
    {
      "cell_type": "markdown",
      "metadata": {
        "id": "view-in-github",
        "colab_type": "text"
      },
      "source": [
        "<a href=\"https://colab.research.google.com/github/krystaldowling/MAST30034_Final_Project-/blob/ml_GloVe/glove_mean_embedding.ipynb\" target=\"_parent\"><img src=\"https://colab.research.google.com/assets/colab-badge.svg\" alt=\"Open In Colab\"/></a>"
      ]
    },
    {
      "cell_type": "code",
      "metadata": {
        "id": "jwhvwruDsQrG",
        "outputId": "b170d193-0f1d-44b0-cf0e-7d11bce2872f",
        "colab": {
          "base_uri": "https://localhost:8080/",
          "height": 54
        }
      },
      "source": [
        "from google.colab import drive\n",
        "drive.mount('/content/drive')"
      ],
      "execution_count": null,
      "outputs": [
        {
          "output_type": "stream",
          "text": [
            "Drive already mounted at /content/drive; to attempt to forcibly remount, call drive.mount(\"/content/drive\", force_remount=True).\n"
          ],
          "name": "stdout"
        }
      ]
    },
    {
      "cell_type": "code",
      "metadata": {
        "id": "DwpuALCEqc0e"
      },
      "source": [
        "import pandas as pd\n",
        "import numpy as np\n",
        "import matplotlib.pyplot as plt\n",
        "# import nltk\n",
        "# nltk.download('punkt')\n",
        "from nltk.tokenize import word_tokenize\n",
        "from sklearn.model_selection import GridSearchCV\n",
        "from sklearn.preprocessing import scale\n",
        "from sklearn.metrics import f1_score\n",
        "from sklearn.metrics import roc_curve\n",
        "from sklearn.base import TransformerMixin\n",
        "from sklearn.linear_model import LogisticRegression\n",
        "from sklearn.pipeline import Pipeline\n",
        "from sklearn.neighbors import KNeighborsClassifier\n",
        "from sklearn.tree import DecisionTreeClassifier\n",
        "from sklearn.metrics import roc_auc_score\n",
        "from sklearn.preprocessing import LabelEncoder\n",
        "from sklearn.model_selection import train_test_split\n",
        "from sklearn.metrics import confusion_matrix\n",
        "from sklearn.naive_bayes import MultinomialNB\n",
        "from sklearn.svm import SVC\n",
        "from sklearn.svm import LinearSVC"
      ],
      "execution_count": 2,
      "outputs": []
    },
    {
      "cell_type": "code",
      "metadata": {
        "id": "B1Kmu5tRnsD_"
      },
      "source": [
        "class MeanEmbeddingTransformer(TransformerMixin):\n",
        "    \n",
        "    def __init__(self):\n",
        "        self._vocab, self._E = self._load_words()\n",
        "        \n",
        "    \n",
        "    def _load_words(self):\n",
        "        '''\n",
        "        load in pre-trained glove embeddings\n",
        "        '''\n",
        "        E = {}\n",
        "        vocab = []\n",
        "\n",
        "        with open('/content/drive/My Drive/Data/glove.6B.100d.txt', 'r', encoding=\"utf8\") as file:\n",
        "            for i, line in enumerate(file):\n",
        "                l = line.split(' ')\n",
        "                if l[0].isalpha():\n",
        "                    v = [float(i) for i in l[1:]]\n",
        "                    E[l[0]] = np.array(v)\n",
        "                    vocab.append(l[0])\n",
        "        return np.array(vocab), E            \n",
        "\n",
        "    \n",
        "    def _get_word(self, v):\n",
        "        for i, emb in enumerate(self._E):\n",
        "            if np.array_equal(emb, v):\n",
        "                return self._vocab[i]\n",
        "        return None\n",
        "    \n",
        "    def _doc_mean(self, doc):\n",
        "        '''\n",
        "        find mean embedding for each text article\n",
        "        '''\n",
        "        return np.mean(np.array([self._E[w.lower().strip()] for w in doc if w.lower().strip() in self._E]), axis=0)\n",
        "    \n",
        "    def fit(self, X, y=None):\n",
        "        return self\n",
        "    \n",
        "    def transform(self, X):\n",
        "        return np.array([self._doc_mean(doc) for doc in X])\n",
        "    \n",
        "    def fit_transform(self, X, y=None):\n",
        "        return self.fit(X).transform(X)"
      ],
      "execution_count": 3,
      "outputs": []
    },
    {
      "cell_type": "code",
      "metadata": {
        "id": "wwLMDcefrNpv"
      },
      "source": [
        "def plot_roc(clf, X_test, y_test):\n",
        "    y_pred = clf.predict(X_test)\n",
        "    fpr, tpr, _ = roc_curve(y_test, y_pred)\n",
        "    plt.plot(fpr, tpr)\n",
        "    plt.xlabel('FPR')\n",
        "    plt.ylabel('TPR')\n",
        "    \n",
        "def print_scores(clf, X_train, y_train, X_test, y_test):\n",
        "    '''\n",
        "    fit model to training and testing data - calculate accuracy, f1 and auc score\n",
        "    '''\n",
        "    clf.fit(X_train, y_train)\n",
        "    y_pred = clf.predict(X_test)\n",
        "    acc = clf.score(X_test, y_test)\n",
        "    print('accuracy score',  acc)\n",
        "    print('F1 score: {:3f}'.format(f1_score(y_test, y_pred)))\n",
        "    print('AUC score: {:3f}'.format(roc_auc_score(y_test, y_pred)))"
      ],
      "execution_count": 4,
      "outputs": []
    },
    {
      "cell_type": "code",
      "metadata": {
        "id": "Vviz8pyWrhlL"
      },
      "source": [
        "news_data = pd.read_csv('/content/drive/My Drive/Data/final_preproccessed_data.csv')"
      ],
      "execution_count": 5,
      "outputs": []
    },
    {
      "cell_type": "code",
      "metadata": {
        "id": "FA3GasEitlUz"
      },
      "source": [
        "X = news_data['text'].values\n",
        "y = news_data['label'].values"
      ],
      "execution_count": 6,
      "outputs": []
    },
    {
      "cell_type": "code",
      "metadata": {
        "id": "9rjf0WHdvEeY"
      },
      "source": [
        "def tokenize_and_transform(X):\n",
        "    '''\n",
        "    tokenise the text data and transform with the embeddings\n",
        "    '''\n",
        "    text = X\n",
        "    tok_text = [word_tokenize(doc) for doc in text]\n",
        "    met = MeanEmbeddingTransformer()\n",
        "    X_transform = met.fit_transform(tok_text)\n",
        "    return X_transform"
      ],
      "execution_count": 7,
      "outputs": []
    },
    {
      "cell_type": "code",
      "metadata": {
        "id": "sdjaOM32viLR"
      },
      "source": [
        "X_transform = tokenize_and_transform(X)"
      ],
      "execution_count": 8,
      "outputs": []
    },
    {
      "cell_type": "code",
      "metadata": {
        "id": "ebmexm6qwjbF"
      },
      "source": [
        "# np.savetxt('/content/drive/My Drive/Data/data_glove_embed.csv', X_transform, delimiter=',')\n",
        "\n",
        "X_transform = np.loadtxt('/content/drive/My Drive/Data/data_glove_embed.csv', delimiter=',')"
      ],
      "execution_count": 15,
      "outputs": []
    },
    {
      "cell_type": "code",
      "metadata": {
        "id": "B4edL9YBwyj6"
      },
      "source": [
        "text_train, text_test, label_train, label_test = train_test_split(X_transform,\n",
        "                                                    y, test_size = 0.3, random_state=80)"
      ],
      "execution_count": 9,
      "outputs": []
    },
    {
      "cell_type": "code",
      "metadata": {
        "id": "D-cWkDHWxWnS",
        "outputId": "c3693780-309e-4371-fe30-dd0f94e608ea",
        "colab": {
          "base_uri": "https://localhost:8080/",
          "height": 486
        }
      },
      "source": [
        "lr = LogisticRegression()\n",
        "print_scores(lr, text_train, label_train, text_test, label_test)\n",
        "plot_roc(lr, text_test, label_test)"
      ],
      "execution_count": 10,
      "outputs": [
        {
          "output_type": "stream",
          "text": [
            "/usr/local/lib/python3.6/dist-packages/sklearn/linear_model/_logistic.py:940: ConvergenceWarning: lbfgs failed to converge (status=1):\n",
            "STOP: TOTAL NO. of ITERATIONS REACHED LIMIT.\n",
            "\n",
            "Increase the number of iterations (max_iter) or scale the data as shown in:\n",
            "    https://scikit-learn.org/stable/modules/preprocessing.html\n",
            "Please also refer to the documentation for alternative solver options:\n",
            "    https://scikit-learn.org/stable/modules/linear_model.html#logistic-regression\n",
            "  extra_warning_msg=_LOGISTIC_SOLVER_CONVERGENCE_MSG)\n"
          ],
          "name": "stderr"
        },
        {
          "output_type": "stream",
          "text": [
            "accuracy score 0.7634226291398214\n",
            "F1 score: 0.714500\n",
            "AUC score: 0.753827\n"
          ],
          "name": "stdout"
        },
        {
          "output_type": "display_data",
          "data": {
            "image/png": "[encoded data removed]",
            "text/plain": [
              "<Figure size 432x288 with 1 Axes>"
            ]
          },
          "metadata": {
            "tags": [],
            "needs_background": "light"
          }
        }
      ]
    },
    {
      "cell_type": "code",
      "metadata": {
        "id": "V0ofZVKi5m8_",
        "outputId": "b7eac7f8-e862-4529-8eff-909cd285daf1",
        "colab": {
          "base_uri": "https://localhost:8080/",
          "height": 1000
        }
      },
      "source": [
        "gs = GridSearchCV(LogisticRegression(), \n",
        "             param_grid={'C': [0.0001, 0.001, 0.01, 0.1, 1]}, scoring=\"roc_auc\", cv=4)\n",
        "gs = gs.fit(X_transform, y)\n",
        "print(gs.best_params_)\n",
        "print('best score: {:3f}'.format(gs.best_score_))\n",
        "plot_roc(gs, X_transform, y)"
      ],
      "execution_count": 12,
      "outputs": [
        {
          "output_type": "stream",
          "text": [
            "/usr/local/lib/python3.6/dist-packages/sklearn/linear_model/_logistic.py:940: ConvergenceWarning: lbfgs failed to converge (status=1):\n",
            "STOP: TOTAL NO. of ITERATIONS REACHED LIMIT.\n",
            "\n",
            "Increase the number of iterations (max_iter) or scale the data as shown in:\n",
            "    https://scikit-learn.org/stable/modules/preprocessing.html\n",
            "Please also refer to the documentation for alternative solver options:\n",
            "    https://scikit-learn.org/stable/modules/linear_model.html#logistic-regression\n",
            "  extra_warning_msg=_LOGISTIC_SOLVER_CONVERGENCE_MSG)\n",
            "/usr/local/lib/python3.6/dist-packages/sklearn/linear_model/_logistic.py:940: ConvergenceWarning: lbfgs failed to converge (status=1):\n",
            "STOP: TOTAL NO. of ITERATIONS REACHED LIMIT.\n",
            "\n",
            "Increase the number of iterations (max_iter) or scale the data as shown in:\n",
            "    https://scikit-learn.org/stable/modules/preprocessing.html\n",
            "Please also refer to the documentation for alternative solver options:\n",
            "    https://scikit-learn.org/stable/modules/linear_model.html#logistic-regression\n",
            "  extra_warning_msg=_LOGISTIC_SOLVER_CONVERGENCE_MSG)\n",
            "/usr/local/lib/python3.6/dist-packages/sklearn/linear_model/_logistic.py:940: ConvergenceWarning: lbfgs failed to converge (status=1):\n",
            "STOP: TOTAL NO. of ITERATIONS REACHED LIMIT.\n",
            "\n",
            "Increase the number of iterations (max_iter) or scale the data as shown in:\n",
            "    https://scikit-learn.org/stable/modules/preprocessing.html\n",
            "Please also refer to the documentation for alternative solver options:\n",
            "    https://scikit-learn.org/stable/modules/linear_model.html#logistic-regression\n",
            "  extra_warning_msg=_LOGISTIC_SOLVER_CONVERGENCE_MSG)\n",
            "/usr/local/lib/python3.6/dist-packages/sklearn/linear_model/_logistic.py:940: ConvergenceWarning: lbfgs failed to converge (status=1):\n",
            "STOP: TOTAL NO. of ITERATIONS REACHED LIMIT.\n",
            "\n",
            "Increase the number of iterations (max_iter) or scale the data as shown in:\n",
            "    https://scikit-learn.org/stable/modules/preprocessing.html\n",
            "Please also refer to the documentation for alternative solver options:\n",
            "    https://scikit-learn.org/stable/modules/linear_model.html#logistic-regression\n",
            "  extra_warning_msg=_LOGISTIC_SOLVER_CONVERGENCE_MSG)\n",
            "/usr/local/lib/python3.6/dist-packages/sklearn/linear_model/_logistic.py:940: ConvergenceWarning: lbfgs failed to converge (status=1):\n",
            "STOP: TOTAL NO. of ITERATIONS REACHED LIMIT.\n",
            "\n",
            "Increase the number of iterations (max_iter) or scale the data as shown in:\n",
            "    https://scikit-learn.org/stable/modules/preprocessing.html\n",
            "Please also refer to the documentation for alternative solver options:\n",
            "    https://scikit-learn.org/stable/modules/linear_model.html#logistic-regression\n",
            "  extra_warning_msg=_LOGISTIC_SOLVER_CONVERGENCE_MSG)\n"
          ],
          "name": "stderr"
        },
        {
          "output_type": "stream",
          "text": [
            "{'C': 1}\n",
            "best score: 0.773331\n"
          ],
          "name": "stdout"
        },
        {
          "output_type": "display_data",
          "data": {
            "image/png": "[encoded data removed]",
            "text/plain": [
              "<Figure size 432x288 with 1 Axes>"
            ]
          },
          "metadata": {
            "tags": [],
            "needs_background": "light"
          }
        }
      ]
    },
    {
      "cell_type": "code",
      "metadata": {
        "id": "TPnYVgR91SA6",
        "outputId": "bd8ce577-8435-478f-b51b-3c8b1d5ce4dd",
        "colab": {
          "base_uri": "https://localhost:8080/",
          "height": 330
        }
      },
      "source": [
        "svm = SVC()\n",
        "print_scores(svm, text_train, label_train, text_test, label_test)\n",
        "plot_roc(svm, text_test, label_test)"
      ],
      "execution_count": 11,
      "outputs": [
        {
          "output_type": "stream",
          "text": [
            "accuracy score 0.7681700011303266\n",
            "F1 score: 0.719541\n",
            "AUC score: 0.758389\n"
          ],
          "name": "stdout"
        },
        {
          "output_type": "display_data",
          "data": {
            "image/png": "[encoded data removed]",
            "text/plain": [
              "<Figure size 432x288 with 1 Axes>"
            ]
          },
          "metadata": {
            "tags": [],
            "needs_background": "light"
          }
        }
      ]
    }
  ]
}