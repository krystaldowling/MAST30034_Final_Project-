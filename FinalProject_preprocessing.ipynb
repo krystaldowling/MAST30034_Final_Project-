{
  "nbformat": 4,
  "nbformat_minor": 0,
  "metadata": {
    "colab": {
      "name": "FinalProject_preprocessing.ipynb",
      "provenance": [],
      "collapsed_sections": []
    },
    "kernelspec": {
      "name": "python3",
      "display_name": "Python 3"
    }
  },
  "cells": [
    {
      "cell_type": "code",
      "metadata": {
        "id": "iBXF7M2nlAGl"
      },
      "source": [
        "# Import statements\n",
        "import matplotlib.pyplot as plt\n",
        "import pandas as pd\n",
        "import seaborn as sns\n",
        "# note: if it says error 'No module named 'langdetect'', run 'pipinstall langdetect' to install \n",
        "from langdetect import detect\n",
        "# For deleting punctuation\n",
        "import re\n",
        "import string\n",
        "# For removing stopwords\n",
        "from nltk import word_tokenize\n",
        "from nltk.corpus import stopwords"
      ],
      "execution_count": 67,
      "outputs": []
    },
    {
      "cell_type": "code",
      "metadata": {
        "id": "jD51mL_DSAeK"
      },
      "source": [
        "# reads in each csv datasets as a pandas dataframe\n",
        "def read_data(file):\n",
        "    # Broadening possible missing values\n",
        "    missing_values = [\"n/a\", \"na\", \"--\", \"-\", \"NaN\", \"N/A\", 'no title', \"\"] \n",
        "    read_file = pd.read_csv(file, index_col = False, delimiter = ',', header=0, na_values = missing_values)\n",
        "    \n",
        "    return read_file\n",
        "\n",
        "PATH = \"/content/drive/My Drive/Data/\"\n",
        "\n",
        "# create dataframes and keep only necessary features to join dataframes\n",
        "fake_news1_labelled = read_data(PATH + \"train.csv\").loc[:,[\"title\", \"text\", \"label\"]]\n",
        "fake_news1_test = read_data(PATH + \"test.csv\")\n",
        "fake_news1_testlabels = read_data(PATH + \"submit.csv\")\n",
        "fake_news2 = read_data(PATH + \"fake.csv\").loc[:,[\"title\", \"text\", \"language\"]]\n",
        "politifact_real = read_data(PATH + \"PolitiFact_real_news_content.csv\").loc[:,[\"title\", \"text\"]]\n",
        "politifact_fake = read_data(PATH + \"PolitiFact_fake_news_content.csv\").loc[:,[\"title\", \"text\"]]\n",
        "buzzfeed_real = read_data(PATH + \"BuzzFeed_real_news_content.csv\").loc[:,[\"title\", \"text\"]]\n",
        "buzzfeed_fake = read_data(PATH + \"BuzzFeed_fake_news_content.csv\").loc[:,[\"title\", \"text\"]]\n",
        "news_labelled = read_data(PATH + \"news_articles.csv\").loc[:,[\"title\", \"text\", \"language\", \"label\"]]\n",
        "signal_sample = read_data(PATH + \"signal_sample.csv\")"
      ],
      "execution_count": 43,
      "outputs": []
    },
    {
      "cell_type": "code",
      "metadata": {
        "id": "-SRK8Xeh6rU7"
      },
      "source": [
        "# merge test data with their labels\n",
        "fake_news1_test_labelled = fake_news1_test.merge(fake_news1_testlabels, on = \"id\").loc[:,[\"title\", \"text\", \"label\"]]"
      ],
      "execution_count": 44,
      "outputs": []
    },
    {
      "cell_type": "code",
      "metadata": {
        "id": "tWatYwl2-MCd"
      },
      "source": [
        "# remove instances that are not in engilsh\n",
        "def remove_non_english(df):\n",
        "    \n",
        "    df = df[df.language == \"english\"]\n",
        "    \n",
        "    return df\n",
        "\n",
        "fake_news2_update = remove_non_english(fake_news2).loc[:,[\"title\", \"text\"]]\n",
        "news_labelled_update = remove_non_english(news_labelled).loc[:,[\"title\", \"text\", \"label\"]]"
      ],
      "execution_count": 45,
      "outputs": []
    },
    {
      "cell_type": "code",
      "metadata": {
        "id": "13TWRwDL_BEw"
      },
      "source": [
        "# assigns 1 (fake) as the label for all instances in the dataframe\n",
        "def fake_label(fake_df):\n",
        "    \n",
        "    fake_df[\"label\"] = 1\n",
        "    \n",
        "    return fake_df\n",
        "\n",
        "# assigns 0 (real) as the label for all instances in the dataframe\n",
        "def real_label(real_df):\n",
        "    \n",
        "    real_df[\"label\"] = 0\n",
        "    \n",
        "    return real_df\n",
        "\n",
        "\n",
        "fake_news2_labelled = fake_label(fake_news2_update)\n",
        "politifact_fake_labelled = fake_label(politifact_fake)\n",
        "buzzfeed_fake_labelled = fake_label(buzzfeed_fake)\n",
        "\n",
        "politifact_real_labelled = real_label(politifact_real)\n",
        "buzzfeed_real_labelled = real_label(buzzfeed_real)\n",
        "signal_labelled = real_label(signal_sample)\n",
        "\n",
        "# rename 'fake' to 1 and 'real' to 0\n",
        "news_labelled_update[\"label\"] = news_labelled_update[\"label\"].replace({\"Fake\": 1, \"Real\": 0})"
      ],
      "execution_count": 46,
      "outputs": []
    },
    {
      "cell_type": "code",
      "metadata": {
        "id": "IBpPlGX6KwPS"
      },
      "source": [
        "# rename \"content\" column to \"text\"\n",
        "signal_labelled_update = signal_labelled.rename(columns = {\"content\":\"text\"}).loc[:,[\"title\", \"text\", \"label\"]]"
      ],
      "execution_count": 47,
      "outputs": []
    },
    {
      "cell_type": "code",
      "metadata": {
        "id": "lO1poTZPKXMQ",
        "outputId": "3d457057-612d-42b5-d3f8-48f241434468",
        "colab": {
          "base_uri": "https://localhost:8080/",
          "height": 485
        }
      },
      "source": [
        "# Creating countplot with amount of true/false data for each dataset\n",
        "# I realise that this makes the next cell block semi-redundant but I was worried to remove Lauras \n",
        "# in case I put them together wrong\n",
        "\n",
        "# first, editing dataset to display dataset titles\n",
        "politifact = pd.concat([politifact_fake_labelled, politifact_real_labelled]).reset_index().loc[:,[\"title\", \"text\", \"label\"]]\n",
        "buzzfeed = pd.concat([buzzfeed_fake_labelled, buzzfeed_real_labelled]).reset_index().loc[:,[\"title\", \"text\", \"label\"]]\n",
        "politifact['Dataset'] = 'Politifact'\n",
        "buzzfeed['Dataset'] = 'Buzzfeed'\n",
        "signal_labelled_update['Dataset'] = 'Signal'\n",
        "fake_news2_labelled['Dataset'] = 'Fake News Net'\n",
        "fake_news1_labelled['Dataset'] = 'Fake News'\n",
        "news_labelled_update['Dataset'] = 'Source based'\n",
        "\n",
        "# Creating list for df\n",
        "news_df_list = [fake_news2_labelled, politifact, buzzfeed, news_labelled_update, fake_news1_labelled, \n",
        "                fake_news1_test_labelled, signal_labelled_update]\n",
        "\n",
        "# Concatenate dataframes into one whole dataframe\n",
        "all_news_labelled = pd.concat(news_df_list).reset_index().loc[:,[\"title\", \"text\", \"label\", \"Dataset\"]].dropna()\n",
        "\n",
        "# Plotting countplot with true/false for each dataste\n",
        "plt.figure(figsize=(10,5))\n",
        "sns.set_style(\"whitegrid\")\n",
        "ax = sns.countplot(x=\"Dataset\", hue=\"label\", data = all_news_labelled)\n",
        "ax.set_xticklabels(ax.get_xticklabels(), rotation=45)"
      ],
      "execution_count": 48,
      "outputs": [
        {
          "output_type": "execute_result",
          "data": {
            "text/plain": [
              "[Text(0, 0, 'Fake News Net'),\n",
              " Text(0, 0, 'Politifact'),\n",
              " Text(0, 0, 'Buzzfeed'),\n",
              " Text(0, 0, 'Source based'),\n",
              " Text(0, 0, 'Fake News'),\n",
              " Text(0, 0, 'Signal')]"
            ]
          },
          "metadata": {
            "tags": []
          },
          "execution_count": 48
        },
        {
          "output_type": "display_data",
          "data": {
            "image/png": "[encoded data removed]",
            "text/plain": [
              "<Figure size 720x360 with 1 Axes>"
            ]
          },
          "metadata": {
            "tags": []
          }
        }
      ]
    },
    {
      "cell_type": "code",
      "metadata": {
        "id": "FN_XAXp3_E3i"
      },
      "source": [
        "# create a list of all dataframe\n",
        "news_df_list = [fake_news2_labelled, politifact_fake_labelled, buzzfeed_fake_labelled, politifact_real_labelled, \n",
        "                buzzfeed_real_labelled, news_labelled_update, fake_news1_labelled, \n",
        "                fake_news1_test_labelled, signal_labelled_update]\n",
        "\n",
        "# concatenate dataframes into one whole dataframe, removing null values and duplicates\n",
        "all_news = pd.concat(news_df_list).reset_index().loc[:,[\"title\", \"text\", \"label\"]].dropna()\n"
      ],
      "execution_count": 49,
      "outputs": []
    },
    {
      "cell_type": "code",
      "metadata": {
        "id": "PG1njIOdDdtQ",
        "outputId": "dc443f7d-bf13-403d-8979-3832c97455d5",
        "colab": {
          "base_uri": "https://localhost:8080/",
          "height": 142
        }
      },
      "source": [
        "all_news.groupby(\"label\").count()"
      ],
      "execution_count": 50,
      "outputs": [
        {
          "output_type": "execute_result",
          "data": {
            "text/html": [
              "<div>\n",
              "<style scoped>\n",
              "    .dataframe tbody tr th:only-of-type {\n",
              "        vertical-align: middle;\n",
              "    }\n",
              "\n",
              "    .dataframe tbody tr th {\n",
              "        vertical-align: top;\n",
              "    }\n",
              "\n",
              "    .dataframe thead th {\n",
              "        text-align: right;\n",
              "    }\n",
              "</style>\n",
              "<table border=\"1\" class=\"dataframe\">\n",
              "  <thead>\n",
              "    <tr style=\"text-align: right;\">\n",
              "      <th></th>\n",
              "      <th>title</th>\n",
              "      <th>text</th>\n",
              "    </tr>\n",
              "    <tr>\n",
              "      <th>label</th>\n",
              "      <th></th>\n",
              "      <th></th>\n",
              "    </tr>\n",
              "  </thead>\n",
              "  <tbody>\n",
              "    <tr>\n",
              "      <th>0</th>\n",
              "      <td>18601</td>\n",
              "      <td>18601</td>\n",
              "    </tr>\n",
              "    <tr>\n",
              "      <th>1</th>\n",
              "      <td>25558</td>\n",
              "      <td>25558</td>\n",
              "    </tr>\n",
              "  </tbody>\n",
              "</table>\n",
              "</div>"
            ],
            "text/plain": [
              "       title   text\n",
              "label              \n",
              "0      18601  18601\n",
              "1      25558  25558"
            ]
          },
          "metadata": {
            "tags": []
          },
          "execution_count": 50
        }
      ]
    },
    {
      "cell_type": "code",
      "metadata": {
        "id": "z2nDJ8FVIvjB",
        "outputId": "633a79c2-03c2-4e05-9f1e-80e53b12ab4f",
        "colab": {
          "base_uri": "https://localhost:8080/",
          "height": 359
        }
      },
      "source": [
        "all_news.head(10)"
      ],
      "execution_count": 51,
      "outputs": [
        {
          "output_type": "execute_result",
          "data": {
            "text/html": [
              "<div>\n",
              "<style scoped>\n",
              "    .dataframe tbody tr th:only-of-type {\n",
              "        vertical-align: middle;\n",
              "    }\n",
              "\n",
              "    .dataframe tbody tr th {\n",
              "        vertical-align: top;\n",
              "    }\n",
              "\n",
              "    .dataframe thead th {\n",
              "        text-align: right;\n",
              "    }\n",
              "</style>\n",
              "<table border=\"1\" class=\"dataframe\">\n",
              "  <thead>\n",
              "    <tr style=\"text-align: right;\">\n",
              "      <th></th>\n",
              "      <th>title</th>\n",
              "      <th>text</th>\n",
              "      <th>label</th>\n",
              "    </tr>\n",
              "  </thead>\n",
              "  <tbody>\n",
              "    <tr>\n",
              "      <th>0</th>\n",
              "      <td>Muslims BUSTED: They Stole Millions In Gov’t B...</td>\n",
              "      <td>Print They should pay all the back all the mon...</td>\n",
              "      <td>1</td>\n",
              "    </tr>\n",
              "    <tr>\n",
              "      <th>1</th>\n",
              "      <td>Re: Why Did Attorney General Loretta Lynch Ple...</td>\n",
              "      <td>Why Did Attorney General Loretta Lynch Plead T...</td>\n",
              "      <td>1</td>\n",
              "    </tr>\n",
              "    <tr>\n",
              "      <th>2</th>\n",
              "      <td>BREAKING: Weiner Cooperating With FBI On Hilla...</td>\n",
              "      <td>Red State : \\nFox News Sunday reported this mo...</td>\n",
              "      <td>1</td>\n",
              "    </tr>\n",
              "    <tr>\n",
              "      <th>3</th>\n",
              "      <td>PIN DROP SPEECH BY FATHER OF DAUGHTER Kidnappe...</td>\n",
              "      <td>Email Kayla Mueller was a prisoner and torture...</td>\n",
              "      <td>1</td>\n",
              "    </tr>\n",
              "    <tr>\n",
              "      <th>4</th>\n",
              "      <td>FANTASTIC! TRUMP'S 7 POINT PLAN To Reform Heal...</td>\n",
              "      <td>Email HEALTHCARE REFORM TO MAKE AMERICA GREAT ...</td>\n",
              "      <td>1</td>\n",
              "    </tr>\n",
              "    <tr>\n",
              "      <th>5</th>\n",
              "      <td>Hillary Goes Absolutely Berserk On Protester A...</td>\n",
              "      <td>Print Hillary goes absolutely berserk! She exp...</td>\n",
              "      <td>1</td>\n",
              "    </tr>\n",
              "    <tr>\n",
              "      <th>6</th>\n",
              "      <td>BREAKING! NYPD Ready To Make Arrests In Weiner...</td>\n",
              "      <td>BREAKING! NYPD Ready To Make Arrests In Weiner...</td>\n",
              "      <td>1</td>\n",
              "    </tr>\n",
              "    <tr>\n",
              "      <th>7</th>\n",
              "      <td>WOW! WHISTLEBLOWER TELLS CHILLING STORY Of Mas...</td>\n",
              "      <td>BREAKING! NYPD Ready To Make Arrests In Weiner...</td>\n",
              "      <td>1</td>\n",
              "    </tr>\n",
              "    <tr>\n",
              "      <th>8</th>\n",
              "      <td>BREAKING: CLINTON CLEARED...Was This A Coordin...</td>\n",
              "      <td>\\nLimbaugh said that the revelations in the Wi...</td>\n",
              "      <td>1</td>\n",
              "    </tr>\n",
              "    <tr>\n",
              "      <th>9</th>\n",
              "      <td>EVIL HILLARY SUPPORTERS Yell \"F*ck Trump\"…Burn...</td>\n",
              "      <td>Email \\nThese people are sick and evil. They w...</td>\n",
              "      <td>1</td>\n",
              "    </tr>\n",
              "  </tbody>\n",
              "</table>\n",
              "</div>"
            ],
            "text/plain": [
              "                                               title  ... label\n",
              "0  Muslims BUSTED: They Stole Millions In Gov’t B...  ...     1\n",
              "1  Re: Why Did Attorney General Loretta Lynch Ple...  ...     1\n",
              "2  BREAKING: Weiner Cooperating With FBI On Hilla...  ...     1\n",
              "3  PIN DROP SPEECH BY FATHER OF DAUGHTER Kidnappe...  ...     1\n",
              "4  FANTASTIC! TRUMP'S 7 POINT PLAN To Reform Heal...  ...     1\n",
              "5  Hillary Goes Absolutely Berserk On Protester A...  ...     1\n",
              "6  BREAKING! NYPD Ready To Make Arrests In Weiner...  ...     1\n",
              "7  WOW! WHISTLEBLOWER TELLS CHILLING STORY Of Mas...  ...     1\n",
              "8  BREAKING: CLINTON CLEARED...Was This A Coordin...  ...     1\n",
              "9  EVIL HILLARY SUPPORTERS Yell \"F*ck Trump\"…Burn...  ...     1\n",
              "\n",
              "[10 rows x 3 columns]"
            ]
          },
          "metadata": {
            "tags": []
          },
          "execution_count": 51
        }
      ]
    },
    {
      "cell_type": "code",
      "metadata": {
        "id": "Bs1S3i2pa3aF"
      },
      "source": [
        "# Removing duplicate values based on text, keeping the first instance\n",
        "all_news = all_news.drop_duplicates(subset = [\"title\", \"text\"], keep='first')\n",
        "all_news = all_news.drop_duplicates(subset=['text'], keep='first')"
      ],
      "execution_count": 52,
      "outputs": []
    },
    {
      "cell_type": "code",
      "metadata": {
        "id": "qeQiOfaMBb9K",
        "outputId": "9d77e9b1-d6dd-495e-a10c-53d4110a4030",
        "colab": {
          "base_uri": "https://localhost:8080/",
          "height": 85
        }
      },
      "source": [
        "# Removing any instances not in English\n",
        "def is_en(txt):\n",
        "  '''\n",
        "  Function modified from similar work by Bruno Mello on \n",
        "  https://stackoverflow.com/questions/60930935/exclude-non-english-rows-in-pandas\n",
        "  '''\n",
        "  try:\n",
        "    return detect(txt)=='en'\n",
        "  except:\n",
        "    return False\n",
        "\n",
        "\n",
        "\n",
        "def dropNonEnglish(df):\n",
        "  '''\n",
        "  Requires input of df (Pandas DataFrame), deletes all non-English instances, \n",
        "  displays count, and returns dataframe.\n",
        "  '''\n",
        "  df['isEng'] = df['title'].apply(lambda x: is_en(x))\n",
        "\n",
        "  # Display count\n",
        "  print(df.groupby(df['isEng']).count())\n",
        "\n",
        "  # Delete those not in english\n",
        "  df = df.loc[df['isEng'] == True] \n",
        "\n",
        "  # Returns df\n",
        "  return df.drop(['isEng'], axis = 1)\n",
        "  \n",
        "  \n",
        "# Run dataset through fn to drop non-english\n",
        "all_news = dropNonEnglish(all_news)"
      ],
      "execution_count": 53,
      "outputs": [
        {
          "output_type": "stream",
          "text": [
            "       title   text  label\n",
            "isEng                     \n",
            "False   1707   1707   1707\n",
            "True   30058  30058  30058\n"
          ],
          "name": "stdout"
        }
      ]
    },
    {
      "cell_type": "code",
      "metadata": {
        "id": "zRhYZZR9XmYO",
        "outputId": "11c69744-78c7-420d-81b3-6e88d776ebba",
        "colab": {
          "base_uri": "https://localhost:8080/",
          "height": 204
        }
      },
      "source": [
        "all_news.head()"
      ],
      "execution_count": 54,
      "outputs": [
        {
          "output_type": "execute_result",
          "data": {
            "text/html": [
              "<div>\n",
              "<style scoped>\n",
              "    .dataframe tbody tr th:only-of-type {\n",
              "        vertical-align: middle;\n",
              "    }\n",
              "\n",
              "    .dataframe tbody tr th {\n",
              "        vertical-align: top;\n",
              "    }\n",
              "\n",
              "    .dataframe thead th {\n",
              "        text-align: right;\n",
              "    }\n",
              "</style>\n",
              "<table border=\"1\" class=\"dataframe\">\n",
              "  <thead>\n",
              "    <tr style=\"text-align: right;\">\n",
              "      <th></th>\n",
              "      <th>title</th>\n",
              "      <th>text</th>\n",
              "      <th>label</th>\n",
              "    </tr>\n",
              "  </thead>\n",
              "  <tbody>\n",
              "    <tr>\n",
              "      <th>0</th>\n",
              "      <td>Muslims BUSTED: They Stole Millions In Gov’t B...</td>\n",
              "      <td>Print They should pay all the back all the mon...</td>\n",
              "      <td>1</td>\n",
              "    </tr>\n",
              "    <tr>\n",
              "      <th>1</th>\n",
              "      <td>Re: Why Did Attorney General Loretta Lynch Ple...</td>\n",
              "      <td>Why Did Attorney General Loretta Lynch Plead T...</td>\n",
              "      <td>1</td>\n",
              "    </tr>\n",
              "    <tr>\n",
              "      <th>2</th>\n",
              "      <td>BREAKING: Weiner Cooperating With FBI On Hilla...</td>\n",
              "      <td>Red State : \\nFox News Sunday reported this mo...</td>\n",
              "      <td>1</td>\n",
              "    </tr>\n",
              "    <tr>\n",
              "      <th>3</th>\n",
              "      <td>PIN DROP SPEECH BY FATHER OF DAUGHTER Kidnappe...</td>\n",
              "      <td>Email Kayla Mueller was a prisoner and torture...</td>\n",
              "      <td>1</td>\n",
              "    </tr>\n",
              "    <tr>\n",
              "      <th>4</th>\n",
              "      <td>FANTASTIC! TRUMP'S 7 POINT PLAN To Reform Heal...</td>\n",
              "      <td>Email HEALTHCARE REFORM TO MAKE AMERICA GREAT ...</td>\n",
              "      <td>1</td>\n",
              "    </tr>\n",
              "  </tbody>\n",
              "</table>\n",
              "</div>"
            ],
            "text/plain": [
              "                                               title  ... label\n",
              "0  Muslims BUSTED: They Stole Millions In Gov’t B...  ...     1\n",
              "1  Re: Why Did Attorney General Loretta Lynch Ple...  ...     1\n",
              "2  BREAKING: Weiner Cooperating With FBI On Hilla...  ...     1\n",
              "3  PIN DROP SPEECH BY FATHER OF DAUGHTER Kidnappe...  ...     1\n",
              "4  FANTASTIC! TRUMP'S 7 POINT PLAN To Reform Heal...  ...     1\n",
              "\n",
              "[5 rows x 3 columns]"
            ]
          },
          "metadata": {
            "tags": []
          },
          "execution_count": 54
        }
      ]
    },
    {
      "cell_type": "code",
      "metadata": {
        "id": "Hoqgw8G4XaGm"
      },
      "source": [
        "# After inspection, replacing \\n with black space\n",
        "all_news['text'] = all_news['text'].apply(lambda x: x.replace(\"\\n\", \"\"))\n",
        "all_news['title'] = all_news['title'].apply(lambda x: x.replace(\"\\n\", \"\"))"
      ],
      "execution_count": 55,
      "outputs": []
    },
    {
      "cell_type": "code",
      "metadata": {
        "id": "xIyfmRbHgAv7",
        "outputId": "323a27f7-282c-4aba-b40c-405004d7bb20",
        "colab": {
          "base_uri": "https://localhost:8080/",
          "height": 1000
        }
      },
      "source": [
        "# Creating two functions to utilise in removing outliers from the df, \n",
        "# printing out summary stats and boxplots throughout\n",
        "\n",
        "def removeFeatureOutliers(df, ref, name):\n",
        "  '''\n",
        "  Function takes input df(Pandas DataFrame), ref(String- reference to column in \n",
        "  df for outlier analysis), name(String- To display for output). \n",
        "\n",
        "  Function prints out out summary statistics and boxplots before and after \n",
        "  outlier removal for feature. \n",
        "\n",
        "  Returns dataframe with outliers removed for input feature. \n",
        "  '''\n",
        "  # Define quartiles \n",
        "  q1 = df[ref].quantile(.25)\n",
        "  q3 = df[ref].quantile(.75)\n",
        "  iqr = q3-q1\n",
        "\n",
        "  # Print out summary stats\n",
        "  print(name + \":\")\n",
        "  print('Quantile  1 = ',q1)\n",
        "  print('Quantile 3 = ', q3)\n",
        "  print(\"Mean = \", df[ref].mean())\n",
        "  print(\"Median = \", df[ref].median())\n",
        "  print(\"Inter-quartile Range = \",iqr)\n",
        "\n",
        "  # Define outliers\n",
        "  outliers =  df[ref][(df[ref] > q3+3*iqr) | (df[ref] < q1-3*iqr)] \n",
        "  print(\"Number of Outliers: \", outliers.size, \"\\n\")\n",
        "\n",
        "  # Display boxplot with outliers\n",
        "  fig, ax = plt.subplots()\n",
        "  ax.set_ylabel(name)\n",
        "  df[ref].plot(kind='box').set_title('Boxplot of Fake News ' + name + ' with Outliers')  \n",
        "\n",
        "  # Removing outliers\n",
        "  df = df.drop(outliers.index)\n",
        "\n",
        "  # Re-displaying boxplot without outliers\n",
        "  fig, ax = plt.subplots()\n",
        "  ax.set_ylabel(name)\n",
        "  df[ref].plot(kind='box').set_title('Boxplot of Fake News ' + name + ' without Outliers')\n",
        "\n",
        "  # Returning dataFrame\n",
        "  return df\n",
        "\n",
        "def removeAllOutliers(df):\n",
        "  '''\n",
        "  Function takes input df(Pandas DataFrame). \n",
        "\n",
        "  Function creates features for word and letter lengths for title and text of \n",
        "  fake news and removes outliers for all.\n",
        "\n",
        "  Returns dataframe with all forms of outliers removed. \n",
        "  '''\n",
        "  # Defining each feature to create\n",
        "  str_xw = 'text_word_len'\n",
        "  str_xl = 'text_letter_len'\n",
        "  str_tw = 'title_word_len'\n",
        "  str_tl = 'title_letter_len'\n",
        "\n",
        "  # Adding columns with word and letter length for title and text\n",
        "  df[str_xw] = df['text'].apply(lambda x: len(x.split()))\n",
        "  df[str_tw] = df['title'].apply(lambda x: len(x.split()))\n",
        "  df[str_xl] = df['text'].apply(len)\n",
        "  df[str_tl] = df['title'].apply(len)\n",
        "\n",
        "  # Inputting each into fn to remove outliers\n",
        "  df1 = removeFeatureOutliers(df, str_tw, \"Title Words\")\n",
        "  df2 = removeFeatureOutliers(df1, str_xw, \"Text Words\")\n",
        "  df3 = removeFeatureOutliers(df2, str_tl, \"Title Letters\")\n",
        "  df4 = removeFeatureOutliers(df3, str_xl, \"Text Letters\")\n",
        "\n",
        "  return df4\n",
        "\n",
        "\n",
        "news_data_stats = removeAllOutliers(all_news)"
      ],
      "execution_count": 56,
      "outputs": [
        {
          "output_type": "stream",
          "text": [
            "Title Words:\n",
            "Quantile  1 =  9.0\n",
            "Quantile 3 =  15.0\n",
            "Mean =  12.050269479007252\n",
            "Median =  12.0\n",
            "Inter-quartile Range =  6.0\n",
            "Number of Outliers:  48 \n",
            "\n",
            "Text Words:\n",
            "Quantile  1 =  259.0\n",
            "Quantile 3 =  994.0\n",
            "Mean =  722.3838720426525\n",
            "Median =  517.0\n",
            "Inter-quartile Range =  735.0\n",
            "Number of Outliers:  402 \n",
            "\n",
            "Title Letters:\n",
            "Quantile  1 =  57.0\n",
            "Quantile 3 =  86.0\n",
            "Mean =  72.30106727911375\n",
            "Median =  73.0\n",
            "Inter-quartile Range =  29.0\n",
            "Number of Outliers:  49 \n",
            "\n",
            "Text Letters:\n",
            "Quantile  1 =  1548.0\n",
            "Quantile 3 =  5774.5\n",
            "Mean =  3967.5291112689874\n",
            "Median =  3079.0\n",
            "Inter-quartile Range =  4226.5\n",
            "Number of Outliers:  37 \n",
            "\n"
          ],
          "name": "stdout"
        },
        {
          "output_type": "display_data",
          "data": {
            "image/png": "[encoded data removed]",
            "text/plain": [
              "<Figure size 432x288 with 1 Axes>"
            ]
          },
          "metadata": {
            "tags": []
          }
        },
        {
          "output_type": "display_data",
          "data": {
            "image/png": "[encoded data removed]",
            "text/plain": [
              "<Figure size 432x288 with 1 Axes>"
            ]
          },
          "metadata": {
            "tags": []
          }
        },
        {
          "output_type": "display_data",
          "data": {
            "image/png": "[encoded data removed]",
            "text/plain": [
              "<Figure size 432x288 with 1 Axes>"
            ]
          },
          "metadata": {
            "tags": []
          }
        },
        {
          "output_type": "display_data",
          "data": {
            "image/png": "[encoded data removed]",
            "text/plain": [
              "<Figure size 432x288 with 1 Axes>"
            ]
          },
          "metadata": {
            "tags": []
          }
        },
        {
          "output_type": "display_data",
          "data": {
            "image/png": "[encoded data removed]",
            "text/plain": [
              "<Figure size 432x288 with 1 Axes>"
            ]
          },
          "metadata": {
            "tags": []
          }
        },
        {
          "output_type": "display_data",
          "data": {
            "image/png": "[encoded data removed]",
            "text/plain": [
              "<Figure size 432x288 with 1 Axes>"
            ]
          },
          "metadata": {
            "tags": []
          }
        },
        {
          "output_type": "display_data",
          "data": {
            "image/png": "[encoded data removed]",
            "text/plain": [
              "<Figure size 432x288 with 1 Axes>"
            ]
          },
          "metadata": {
            "tags": []
          }
        },
        {
          "output_type": "display_data",
          "data": {
            "image/png": "[encoded data removed]",
            "text/plain": [
              "<Figure size 432x288 with 1 Axes>"
            ]
          },
          "metadata": {
            "tags": []
          }
        }
      ]
    },
    {
      "cell_type": "code",
      "metadata": {
        "id": "z00Gr3Okp-1L",
        "outputId": "678fdab6-2516-4a42-d749-5d163e3852e0",
        "colab": {
          "base_uri": "https://localhost:8080/",
          "height": 297
        }
      },
      "source": [
        "# Visual inspection of data to see any contextual outliers\n",
        "news_data_stats.describe()"
      ],
      "execution_count": 57,
      "outputs": [
        {
          "output_type": "execute_result",
          "data": {
            "text/html": [
              "<div>\n",
              "<style scoped>\n",
              "    .dataframe tbody tr th:only-of-type {\n",
              "        vertical-align: middle;\n",
              "    }\n",
              "\n",
              "    .dataframe tbody tr th {\n",
              "        vertical-align: top;\n",
              "    }\n",
              "\n",
              "    .dataframe thead th {\n",
              "        text-align: right;\n",
              "    }\n",
              "</style>\n",
              "<table border=\"1\" class=\"dataframe\">\n",
              "  <thead>\n",
              "    <tr style=\"text-align: right;\">\n",
              "      <th></th>\n",
              "      <th>label</th>\n",
              "      <th>text_word_len</th>\n",
              "      <th>title_word_len</th>\n",
              "      <th>text_letter_len</th>\n",
              "      <th>title_letter_len</th>\n",
              "    </tr>\n",
              "  </thead>\n",
              "  <tbody>\n",
              "    <tr>\n",
              "      <th>count</th>\n",
              "      <td>29522.000000</td>\n",
              "      <td>29522.000000</td>\n",
              "      <td>29522.000000</td>\n",
              "      <td>29522.000000</td>\n",
              "      <td>29522.000000</td>\n",
              "    </tr>\n",
              "    <tr>\n",
              "      <th>mean</th>\n",
              "      <td>0.432660</td>\n",
              "      <td>657.488280</td>\n",
              "      <td>11.978931</td>\n",
              "      <td>3948.350417</td>\n",
              "      <td>72.112594</td>\n",
              "    </tr>\n",
              "    <tr>\n",
              "      <th>std</th>\n",
              "      <td>0.495453</td>\n",
              "      <td>528.574591</td>\n",
              "      <td>3.948480</td>\n",
              "      <td>3146.001329</td>\n",
              "      <td>22.301598</td>\n",
              "    </tr>\n",
              "    <tr>\n",
              "      <th>min</th>\n",
              "      <td>0.000000</td>\n",
              "      <td>0.000000</td>\n",
              "      <td>1.000000</td>\n",
              "      <td>0.000000</td>\n",
              "      <td>5.000000</td>\n",
              "    </tr>\n",
              "    <tr>\n",
              "      <th>25%</th>\n",
              "      <td>0.000000</td>\n",
              "      <td>256.000000</td>\n",
              "      <td>9.000000</td>\n",
              "      <td>1545.250000</td>\n",
              "      <td>57.000000</td>\n",
              "    </tr>\n",
              "    <tr>\n",
              "      <th>50%</th>\n",
              "      <td>0.000000</td>\n",
              "      <td>507.000000</td>\n",
              "      <td>12.000000</td>\n",
              "      <td>3074.000000</td>\n",
              "      <td>73.000000</td>\n",
              "    </tr>\n",
              "    <tr>\n",
              "      <th>75%</th>\n",
              "      <td>1.000000</td>\n",
              "      <td>965.000000</td>\n",
              "      <td>15.000000</td>\n",
              "      <td>5762.750000</td>\n",
              "      <td>86.000000</td>\n",
              "    </tr>\n",
              "    <tr>\n",
              "      <th>max</th>\n",
              "      <td>1.000000</td>\n",
              "      <td>3194.000000</td>\n",
              "      <td>33.000000</td>\n",
              "      <td>18397.000000</td>\n",
              "      <td>173.000000</td>\n",
              "    </tr>\n",
              "  </tbody>\n",
              "</table>\n",
              "</div>"
            ],
            "text/plain": [
              "              label  text_word_len  ...  text_letter_len  title_letter_len\n",
              "count  29522.000000   29522.000000  ...     29522.000000      29522.000000\n",
              "mean       0.432660     657.488280  ...      3948.350417         72.112594\n",
              "std        0.495453     528.574591  ...      3146.001329         22.301598\n",
              "min        0.000000       0.000000  ...         0.000000          5.000000\n",
              "25%        0.000000     256.000000  ...      1545.250000         57.000000\n",
              "50%        0.000000     507.000000  ...      3074.000000         73.000000\n",
              "75%        1.000000     965.000000  ...      5762.750000         86.000000\n",
              "max        1.000000    3194.000000  ...     18397.000000        173.000000\n",
              "\n",
              "[8 rows x 5 columns]"
            ]
          },
          "metadata": {
            "tags": []
          },
          "execution_count": 57
        }
      ]
    },
    {
      "cell_type": "code",
      "metadata": {
        "id": "2jv_2kpx92vi"
      },
      "source": [
        "# Removing contextual outliers\n",
        "news_data_stats = news_data_stats.loc[news_data_stats['text_word_len'] > 5]\n",
        "news_data_stats = news_data_stats.loc[news_data_stats['title_letter_len'] > 2] "
      ],
      "execution_count": 58,
      "outputs": []
    },
    {
      "cell_type": "code",
      "metadata": {
        "id": "UGuVr8Mz92zE",
        "outputId": "8e89b499-1742-4300-bb64-3c5ce02fe7d0",
        "colab": {
          "base_uri": "https://localhost:8080/",
          "height": 85
        }
      },
      "source": [
        "# Removing lengths of words and letters as no longer needed for analysis\n",
        "news_data = news_data_stats.drop(['text_word_len', 'title_word_len', 'title_letter_len', 'text_letter_len'], axis = 1)\n",
        "print(news_data.count())"
      ],
      "execution_count": 59,
      "outputs": [
        {
          "output_type": "stream",
          "text": [
            "title    29488\n",
            "text     29488\n",
            "label    29488\n",
            "dtype: int64\n"
          ],
          "name": "stdout"
        }
      ]
    },
    {
      "cell_type": "code",
      "metadata": {
        "id": "_egKbFhG2wDl"
      },
      "source": [
        "# Deleting punctuation from text\n",
        "\n",
        "def delete_punc(text):\n",
        "  '''\n",
        "  Function that takes input of text (String) and removes all punctuation,\n",
        "  returning a String of the input without punctuation.\n",
        "  '''\n",
        "  text_wo_punc = ''\n",
        "  text_wo_punc = re.sub('['+string.punctuation+']', '', text)\n",
        "  return text_wo_punc\n",
        "\n",
        "# Creating a copy of data in case\n",
        "data = news_data.copy()\n",
        "\n",
        "# Deleting punctuation from text and title columns\n",
        "data['text'] = data['text'].apply(lambda x: delete_punc(x))\n",
        "data['title'] = data['title'].apply(lambda x: delete_punc(x))\n"
      ],
      "execution_count": 68,
      "outputs": []
    },
    {
      "cell_type": "code",
      "metadata": {
        "id": "15q8UMym7GQq"
      },
      "source": [
        "# Putting text and title in lower case\n",
        "data['text'] = data['text'].apply(lambda x: x.lower())\n",
        "data['title'] = data['title'].apply(lambda x: x.lower())"
      ],
      "execution_count": 69,
      "outputs": []
    },
    {
      "cell_type": "code",
      "metadata": {
        "id": "h2X7cKug4zza",
        "outputId": "6e8cffb6-f395-474f-81dc-f766d1b29655",
        "colab": {
          "base_uri": "https://localhost:8080/",
          "height": 419
        }
      },
      "source": [
        "# Removing stopwords from text and title columns\n",
        "\n",
        "# Converting to tokens\n",
        "tokens_text = [word_tokenize(news) for news in data.text]\n",
        "tokens_title = [word_tokenize(news_title) for news_title in data.title]\n",
        "\n",
        "# Setting stopwords to be in English\n",
        "stoplist = stopwords.words('english')\n",
        "\n",
        "def removeStopWords(tokens): \n",
        "  '''\n",
        "  Function takes input of tokens (List of Strings) and removes\n",
        "  any words in the list that are stop words. Return List of Strings \n",
        "  without stopwords.\n",
        "  '''\n",
        "  return [word for word in tokens if word not in stoplist]\n",
        "\n",
        "filtered_words_text = [removeStopWords(news) for news in tokens_text]\n",
        "data['text'] = [' '.join(news) for news in filtered_words_text]\n",
        "# data['tokens'] = filtered_words\n",
        "\n",
        "filtered_words_title = [removeStopWords(news) for news in tokens_title]\n",
        "data['title'] = [' '.join(news_title) for news_title in filtered_words_title]\n",
        "# data['tokens'] = filtered_words\n"
      ],
      "execution_count": 70,
      "outputs": [
        {
          "output_type": "execute_result",
          "data": {
            "text/html": [
              "<div>\n",
              "<style scoped>\n",
              "    .dataframe tbody tr th:only-of-type {\n",
              "        vertical-align: middle;\n",
              "    }\n",
              "\n",
              "    .dataframe tbody tr th {\n",
              "        vertical-align: top;\n",
              "    }\n",
              "\n",
              "    .dataframe thead th {\n",
              "        text-align: right;\n",
              "    }\n",
              "</style>\n",
              "<table border=\"1\" class=\"dataframe\">\n",
              "  <thead>\n",
              "    <tr style=\"text-align: right;\">\n",
              "      <th></th>\n",
              "      <th>title</th>\n",
              "      <th>text</th>\n",
              "      <th>label</th>\n",
              "    </tr>\n",
              "  </thead>\n",
              "  <tbody>\n",
              "    <tr>\n",
              "      <th>0</th>\n",
              "      <td>muslims busted stole millions gov ’ benefits</td>\n",
              "      <td>print pay back money plus interest entire fami...</td>\n",
              "      <td>1</td>\n",
              "    </tr>\n",
              "    <tr>\n",
              "      <th>1</th>\n",
              "      <td>attorney general loretta lynch plead fifth</td>\n",
              "      <td>attorney general loretta lynch plead fifth bar...</td>\n",
              "      <td>1</td>\n",
              "    </tr>\n",
              "    <tr>\n",
              "      <th>2</th>\n",
              "      <td>breaking weiner cooperating fbi hillary email ...</td>\n",
              "      <td>red state fox news sunday reported morning ant...</td>\n",
              "      <td>1</td>\n",
              "    </tr>\n",
              "    <tr>\n",
              "      <th>3</th>\n",
              "      <td>pin drop speech father daughter kidnapped kill...</td>\n",
              "      <td>email kayla mueller prisoner tortured isis cha...</td>\n",
              "      <td>1</td>\n",
              "    </tr>\n",
              "    <tr>\n",
              "      <th>4</th>\n",
              "      <td>fantastic trumps 7 point plan reform healthcar...</td>\n",
              "      <td>email healthcare reform make america great sin...</td>\n",
              "      <td>1</td>\n",
              "    </tr>\n",
              "    <tr>\n",
              "      <th>...</th>\n",
              "      <td>...</td>\n",
              "      <td>...</td>\n",
              "      <td>...</td>\n",
              "    </tr>\n",
              "    <tr>\n",
              "      <th>45834</th>\n",
              "      <td>travel deals get 1200 air credit two apt cookt...</td>\n",
              "      <td>apt offering savings new cape york outback wil...</td>\n",
              "      <td>0</td>\n",
              "    </tr>\n",
              "    <tr>\n",
              "      <th>45837</th>\n",
              "      <td>atlantis</td>\n",
              "      <td>week ago today september 4th robby went atlant...</td>\n",
              "      <td>0</td>\n",
              "    </tr>\n",
              "    <tr>\n",
              "      <th>45838</th>\n",
              "      <td>taiwanese recyclers belief waste simply mispla...</td>\n",
              "      <td>taipei taiwan sept 8 2015 prnewswire recent ye...</td>\n",
              "      <td>0</td>\n",
              "    </tr>\n",
              "    <tr>\n",
              "      <th>45839</th>\n",
              "      <td>season curtain raiser ideal way honour john</td>\n",
              "      <td>blackburn sunday league john haydock memorial ...</td>\n",
              "      <td>0</td>\n",
              "    </tr>\n",
              "    <tr>\n",
              "      <th>45841</th>\n",
              "      <td>four cooper standard facilities promote north ...</td>\n",
              "      <td>novi mich sept 30 2015 prnewswire four cooper ...</td>\n",
              "      <td>0</td>\n",
              "    </tr>\n",
              "  </tbody>\n",
              "</table>\n",
              "<p>29488 rows × 3 columns</p>\n",
              "</div>"
            ],
            "text/plain": [
              "                                                   title  ... label\n",
              "0           muslims busted stole millions gov ’ benefits  ...     1\n",
              "1             attorney general loretta lynch plead fifth  ...     1\n",
              "2      breaking weiner cooperating fbi hillary email ...  ...     1\n",
              "3      pin drop speech father daughter kidnapped kill...  ...     1\n",
              "4      fantastic trumps 7 point plan reform healthcar...  ...     1\n",
              "...                                                  ...  ...   ...\n",
              "45834  travel deals get 1200 air credit two apt cookt...  ...     0\n",
              "45837                                           atlantis  ...     0\n",
              "45838  taiwanese recyclers belief waste simply mispla...  ...     0\n",
              "45839        season curtain raiser ideal way honour john  ...     0\n",
              "45841  four cooper standard facilities promote north ...  ...     0\n",
              "\n",
              "[29488 rows x 3 columns]"
            ]
          },
          "metadata": {
            "tags": []
          },
          "execution_count": 70
        }
      ]
    },
    {
      "cell_type": "code",
      "metadata": {
        "id": "8tCV7Mp2oBv6"
      },
      "source": [
        "# Convert to csv\n",
        "data.to_csv(r\"/content/drive/My Drive/Data/final_preproccessed_data.csv\", index = False, header=True)"
      ],
      "execution_count": 71,
      "outputs": []
    },
    {
      "cell_type": "code",
      "metadata": {
        "id": "0TSnlDrnOk3P",
        "outputId": "acc58372-a149-4cfe-ad37-e38a9c120bd5",
        "colab": {
          "base_uri": "https://localhost:8080/",
          "height": 419
        }
      },
      "source": [
        "# Checking csv conversion worked correctly\n",
        "check = pd.read_csv(PATH + \"final_preproccessed_data.csv\", lineterminator='\\n')\n",
        "check"
      ],
      "execution_count": 72,
      "outputs": [
        {
          "output_type": "execute_result",
          "data": {
            "text/html": [
              "<div>\n",
              "<style scoped>\n",
              "    .dataframe tbody tr th:only-of-type {\n",
              "        vertical-align: middle;\n",
              "    }\n",
              "\n",
              "    .dataframe tbody tr th {\n",
              "        vertical-align: top;\n",
              "    }\n",
              "\n",
              "    .dataframe thead th {\n",
              "        text-align: right;\n",
              "    }\n",
              "</style>\n",
              "<table border=\"1\" class=\"dataframe\">\n",
              "  <thead>\n",
              "    <tr style=\"text-align: right;\">\n",
              "      <th></th>\n",
              "      <th>title</th>\n",
              "      <th>text</th>\n",
              "      <th>label</th>\n",
              "    </tr>\n",
              "  </thead>\n",
              "  <tbody>\n",
              "    <tr>\n",
              "      <th>0</th>\n",
              "      <td>muslims busted stole millions gov ’ benefits</td>\n",
              "      <td>print pay back money plus interest entire fami...</td>\n",
              "      <td>1</td>\n",
              "    </tr>\n",
              "    <tr>\n",
              "      <th>1</th>\n",
              "      <td>attorney general loretta lynch plead fifth</td>\n",
              "      <td>attorney general loretta lynch plead fifth bar...</td>\n",
              "      <td>1</td>\n",
              "    </tr>\n",
              "    <tr>\n",
              "      <th>2</th>\n",
              "      <td>breaking weiner cooperating fbi hillary email ...</td>\n",
              "      <td>red state fox news sunday reported morning ant...</td>\n",
              "      <td>1</td>\n",
              "    </tr>\n",
              "    <tr>\n",
              "      <th>3</th>\n",
              "      <td>pin drop speech father daughter kidnapped kill...</td>\n",
              "      <td>email kayla mueller prisoner tortured isis cha...</td>\n",
              "      <td>1</td>\n",
              "    </tr>\n",
              "    <tr>\n",
              "      <th>4</th>\n",
              "      <td>fantastic trumps 7 point plan reform healthcar...</td>\n",
              "      <td>email healthcare reform make america great sin...</td>\n",
              "      <td>1</td>\n",
              "    </tr>\n",
              "    <tr>\n",
              "      <th>...</th>\n",
              "      <td>...</td>\n",
              "      <td>...</td>\n",
              "      <td>...</td>\n",
              "    </tr>\n",
              "    <tr>\n",
              "      <th>29483</th>\n",
              "      <td>travel deals get 1200 air credit two apt cookt...</td>\n",
              "      <td>apt offering savings new cape york outback wil...</td>\n",
              "      <td>0</td>\n",
              "    </tr>\n",
              "    <tr>\n",
              "      <th>29484</th>\n",
              "      <td>atlantis</td>\n",
              "      <td>week ago today september 4th robby went atlant...</td>\n",
              "      <td>0</td>\n",
              "    </tr>\n",
              "    <tr>\n",
              "      <th>29485</th>\n",
              "      <td>taiwanese recyclers belief waste simply mispla...</td>\n",
              "      <td>taipei taiwan sept 8 2015 prnewswire recent ye...</td>\n",
              "      <td>0</td>\n",
              "    </tr>\n",
              "    <tr>\n",
              "      <th>29486</th>\n",
              "      <td>season curtain raiser ideal way honour john</td>\n",
              "      <td>blackburn sunday league john haydock memorial ...</td>\n",
              "      <td>0</td>\n",
              "    </tr>\n",
              "    <tr>\n",
              "      <th>29487</th>\n",
              "      <td>four cooper standard facilities promote north ...</td>\n",
              "      <td>novi mich sept 30 2015 prnewswire four cooper ...</td>\n",
              "      <td>0</td>\n",
              "    </tr>\n",
              "  </tbody>\n",
              "</table>\n",
              "<p>29488 rows × 3 columns</p>\n",
              "</div>"
            ],
            "text/plain": [
              "                                                   title  ... label\n",
              "0           muslims busted stole millions gov ’ benefits  ...     1\n",
              "1             attorney general loretta lynch plead fifth  ...     1\n",
              "2      breaking weiner cooperating fbi hillary email ...  ...     1\n",
              "3      pin drop speech father daughter kidnapped kill...  ...     1\n",
              "4      fantastic trumps 7 point plan reform healthcar...  ...     1\n",
              "...                                                  ...  ...   ...\n",
              "29483  travel deals get 1200 air credit two apt cookt...  ...     0\n",
              "29484                                           atlantis  ...     0\n",
              "29485  taiwanese recyclers belief waste simply mispla...  ...     0\n",
              "29486        season curtain raiser ideal way honour john  ...     0\n",
              "29487  four cooper standard facilities promote north ...  ...     0\n",
              "\n",
              "[29488 rows x 3 columns]"
            ]
          },
          "metadata": {
            "tags": []
          },
          "execution_count": 72
        }
      ]
    }
  ]
}