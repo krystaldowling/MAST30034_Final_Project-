{
  "nbformat": 4,
  "nbformat_minor": 0,
  "metadata": {
    "colab": {
      "name": "classifier_doc2vec.ipynb",
      "provenance": [],
      "mount_file_id": "1efxVs4X8juEwjA8jNynb-1cyYwT0u3RX",
      "authorship_tag": "ABX9TyOQFpJdiIOIsnfL21bsg4Bx",
      "include_colab_link": true
    },
    "kernelspec": {
      "display_name": "Python 3",
      "name": "python3"
    }
  },
  "cells": [
    {
      "cell_type": "markdown",
      "metadata": {
        "id": "view-in-github",
        "colab_type": "text"
      },
      "source": [
        "<a href=\"https://colab.research.google.com/github/krystaldowling/MAST30034_Final_Project-/blob/machine_learning_doc2vec/final_classifier_doc2vec.ipynb\" target=\"_parent\"><img src=\"https://colab.research.google.com/assets/colab-badge.svg\" alt=\"Open In Colab\"/></a>"
      ]
    },
    {
      "cell_type": "code",
      "metadata": {
        "id": "ujBrvVJ3nDD9"
      },
      "source": [
        "import pandas as pd\n",
        "import numpy as np\n",
        "import scipy\n",
        "\n",
        "# import nltk\n",
        "# nltk.download('punkt')\n",
        "from nltk.tokenize import word_tokenize\n",
        "import string\n",
        "from gensim.test.utils import common_texts\n",
        "from gensim.models.doc2vec import Doc2Vec, TaggedDocument\n",
        "import gensim\n",
        "from gensim.test.utils import get_tmpfile\n",
        "\n",
        "from sklearn.model_selection import train_test_split\n",
        "from sklearn.model_selection import KFold\n",
        "from sklearn.model_selection import cross_val_score\n",
        "from sklearn.linear_model import LogisticRegression\n",
        "from sklearn.svm import SVC\n",
        "from sklearn.model_selection import GridSearchCV\n",
        "from sklearn.metrics import f1_score\n"
      ],
      "execution_count": 32,
      "outputs": []
    },
    {
      "cell_type": "code",
      "metadata": {
        "id": "sthA1BAyQCt0"
      },
      "source": [
        "news_data = pd.read_csv(\"/content/drive/My Drive/Data/final_preproccessed_data.csv\")\n",
        "\n",
        "news_data.index.name = 'index'\n"
      ],
      "execution_count": 4,
      "outputs": []
    },
    {
      "cell_type": "code",
      "metadata": {
        "id": "0wyUpjNUq8pw"
      },
      "source": [
        "# split into training and testing for doc2vec\n",
        "X_train, X_test, y_train, y_test = train_test_split(news_data['text'], news_data['label'], test_size=0.25, \n",
        "                                                        random_state=88)"
      ],
      "execution_count": 5,
      "outputs": []
    },
    {
      "cell_type": "code",
      "metadata": {
        "id": "TrlQ2-aWQcGb"
      },
      "source": [
        "def tokenise_data(doc):\n",
        "  # Tokenization of each document and remove punctuation\n",
        "  tokenized_doc = []\n",
        "  for d in doc:\n",
        "    if d not in string.punctuation:\n",
        "      tokenized_doc.append(word_tokenize(d.lower()))\n",
        "\n",
        "  return tokenized_doc"
      ],
      "execution_count": 6,
      "outputs": []
    },
    {
      "cell_type": "code",
      "metadata": {
        "id": "vjvse7liRBBG"
      },
      "source": [
        "train_tokenized_doc = tokenise_data(X_train)"
      ],
      "execution_count": 9,
      "outputs": []
    },
    {
      "cell_type": "code",
      "metadata": {
        "id": "LBr3efoTQy8s",
        "outputId": "dc507d15-646b-456d-f539-f8064b7f5a1a",
        "colab": {
          "base_uri": "https://localhost:8080/",
          "height": 71
        }
      },
      "source": [
        "# Convert tokenized document into gensim formated tagged data\n",
        "tagged_data = [TaggedDocument(d, [i]) for i, d in enumerate(train_tokenized_doc)]\n",
        "\n",
        "## Train doc2vec model\n",
        "doc2vec_model = Doc2Vec(tagged_data, vector_size=100, window=2, min_count=1, workers=4, epochs = 100)\n",
        "# Save trained doc2vec model\n",
        "doc2vec_model.save(\"/content/drive/My Drive/Data/trained_doc2vec.model\")\n"
      ],
      "execution_count": 10,
      "outputs": [
        {
          "output_type": "stream",
          "text": [
            "/usr/local/lib/python3.6/dist-packages/smart_open/smart_open_lib.py:252: UserWarning: This function is deprecated, use smart_open.open instead. See the migration notes for details: https://github.com/RaRe-Technologies/smart_open/blob/master/README.rst#migrating-to-the-new-open-function\n",
            "  'See the migration notes for details: %s' % _MIGRATION_NOTES_URL\n"
          ],
          "name": "stderr"
        }
      ]
    },
    {
      "cell_type": "code",
      "metadata": {
        "id": "vOza0A-U2feF",
        "outputId": "64b8e48b-bb18-40d8-d8c9-2c6e94d90c92",
        "colab": {
          "base_uri": "https://localhost:8080/",
          "height": 71
        }
      },
      "source": [
        "## Load saved doc2vec model\n",
        "doc2vec_model= Doc2Vec.load(\"/content/drive/My Drive/Data/trained_doc2vec.model\")"
      ],
      "execution_count": 12,
      "outputs": [
        {
          "output_type": "stream",
          "text": [
            "/usr/local/lib/python3.6/dist-packages/smart_open/smart_open_lib.py:252: UserWarning: This function is deprecated, use smart_open.open instead. See the migration notes for details: https://github.com/RaRe-Technologies/smart_open/blob/master/README.rst#migrating-to-the-new-open-function\n",
            "  'See the migration notes for details: %s' % _MIGRATION_NOTES_URL\n"
          ],
          "name": "stderr"
        }
      ]
    },
    {
      "cell_type": "code",
      "metadata": {
        "id": "wgPK-XZICyjB"
      },
      "source": [
        "X_train_df = pd.DataFrame(X_train)\n",
        "X_test_df = pd.DataFrame(X_test)"
      ],
      "execution_count": 23,
      "outputs": []
    },
    {
      "cell_type": "code",
      "metadata": {
        "id": "GEFR8JgRD-80"
      },
      "source": [
        "train_vectors = np.load(\"/content/drive/My Drive/Data/trained_doc2vec.model.wv.vectors.npy\")"
      ],
      "execution_count": 19,
      "outputs": []
    },
    {
      "cell_type": "code",
      "metadata": {
        "id": "aRfooQC0oyV9"
      },
      "source": [
        "# infer text with trained doc2vec model\n",
        "X_train_df['doc2vec_text'] = X_train_df['text'].map(lambda x:doc2vec_model.infer_vector(x))\n",
        "X_test_df['doc2vec_text'] = X_test_df['text'].map(lambda x:doc2vec_model.infer_vector(x))"
      ],
      "execution_count": 25,
      "outputs": []
    },
    {
      "cell_type": "code",
      "metadata": {
        "id": "eOXMn-RnMPc0"
      },
      "source": [
        "X_train_df.to_csv('/content/drive/My Drive/Data/doc2vec_train.csv')\n",
        "X_test_df.to_csv('/content/drive/My Drive/Data/doc2vec_test.csv')"
      ],
      "execution_count": 26,
      "outputs": []
    },
    {
      "cell_type": "code",
      "metadata": {
        "id": "qaZ2aCBK0L7l"
      },
      "source": [
        "# this is only the text data which has been converted to a data frame.\n",
        "# each row is one article and each column is an element of the vector. \n",
        "\n",
        "train_vec_data = pd.DataFrame(X_train_df['doc2vec_text'].array, columns = range(100))\n",
        "test_vec_data = pd.DataFrame(X_test_df['doc2vec_text'].array, columns = range(100))"
      ],
      "execution_count": 27,
      "outputs": []
    },
    {
      "cell_type": "code",
      "metadata": {
        "id": "XVzfx6-nPaq7"
      },
      "source": [
        "all_vec_data = pd.concat([train_vec_data, test_vec_data])\n",
        "label_concat = pd.concat([y_train ,y_test])"
      ],
      "execution_count": 30,
      "outputs": []
    },
    {
      "cell_type": "code",
      "metadata": {
        "id": "otX5SLXB0PFq",
        "outputId": "7e1a28b0-6370-46ea-802b-4e4188cbc4c7",
        "colab": {
          "base_uri": "https://localhost:8080/",
          "height": 785
        }
      },
      "source": [
        "# grid search for best Log Reg parameters\n",
        "gs = GridSearchCV(LogisticRegression(), \n",
        "             param_grid={'C': [0.0001, 0.001, 0.01, 0.1, 1], \n",
        "                         'solver':['newton-cg', 'liblinear', 'saga']}, \n",
        "                          scoring=\"accuracy\", cv=4)\n",
        "gs = gs.fit(all_vec_data, label_concat)\n",
        "print(gs.best_params_)\n",
        "print('best score: {:3f}'.format(gs.best_score_))"
      ],
      "execution_count": 36,
      "outputs": [
        {
          "output_type": "stream",
          "text": [
            "/usr/local/lib/python3.6/dist-packages/sklearn/linear_model/_sag.py:330: ConvergenceWarning: The max_iter was reached which means the coef_ did not converge\n",
            "  \"the coef_ did not converge\", ConvergenceWarning)\n",
            "/usr/local/lib/python3.6/dist-packages/sklearn/linear_model/_sag.py:330: ConvergenceWarning: The max_iter was reached which means the coef_ did not converge\n",
            "  \"the coef_ did not converge\", ConvergenceWarning)\n",
            "/usr/local/lib/python3.6/dist-packages/sklearn/linear_model/_sag.py:330: ConvergenceWarning: The max_iter was reached which means the coef_ did not converge\n",
            "  \"the coef_ did not converge\", ConvergenceWarning)\n",
            "/usr/local/lib/python3.6/dist-packages/sklearn/linear_model/_sag.py:330: ConvergenceWarning: The max_iter was reached which means the coef_ did not converge\n",
            "  \"the coef_ did not converge\", ConvergenceWarning)\n",
            "/usr/local/lib/python3.6/dist-packages/sklearn/linear_model/_sag.py:330: ConvergenceWarning: The max_iter was reached which means the coef_ did not converge\n",
            "  \"the coef_ did not converge\", ConvergenceWarning)\n",
            "/usr/local/lib/python3.6/dist-packages/sklearn/linear_model/_sag.py:330: ConvergenceWarning: The max_iter was reached which means the coef_ did not converge\n",
            "  \"the coef_ did not converge\", ConvergenceWarning)\n",
            "/usr/local/lib/python3.6/dist-packages/sklearn/linear_model/_sag.py:330: ConvergenceWarning: The max_iter was reached which means the coef_ did not converge\n",
            "  \"the coef_ did not converge\", ConvergenceWarning)\n",
            "/usr/local/lib/python3.6/dist-packages/sklearn/linear_model/_sag.py:330: ConvergenceWarning: The max_iter was reached which means the coef_ did not converge\n",
            "  \"the coef_ did not converge\", ConvergenceWarning)\n",
            "/usr/local/lib/python3.6/dist-packages/sklearn/linear_model/_sag.py:330: ConvergenceWarning: The max_iter was reached which means the coef_ did not converge\n",
            "  \"the coef_ did not converge\", ConvergenceWarning)\n",
            "/usr/local/lib/python3.6/dist-packages/sklearn/linear_model/_sag.py:330: ConvergenceWarning: The max_iter was reached which means the coef_ did not converge\n",
            "  \"the coef_ did not converge\", ConvergenceWarning)\n",
            "/usr/local/lib/python3.6/dist-packages/sklearn/linear_model/_sag.py:330: ConvergenceWarning: The max_iter was reached which means the coef_ did not converge\n",
            "  \"the coef_ did not converge\", ConvergenceWarning)\n",
            "/usr/local/lib/python3.6/dist-packages/sklearn/linear_model/_sag.py:330: ConvergenceWarning: The max_iter was reached which means the coef_ did not converge\n",
            "  \"the coef_ did not converge\", ConvergenceWarning)\n",
            "/usr/local/lib/python3.6/dist-packages/sklearn/linear_model/_sag.py:330: ConvergenceWarning: The max_iter was reached which means the coef_ did not converge\n",
            "  \"the coef_ did not converge\", ConvergenceWarning)\n",
            "/usr/local/lib/python3.6/dist-packages/sklearn/linear_model/_sag.py:330: ConvergenceWarning: The max_iter was reached which means the coef_ did not converge\n",
            "  \"the coef_ did not converge\", ConvergenceWarning)\n",
            "/usr/local/lib/python3.6/dist-packages/sklearn/linear_model/_sag.py:330: ConvergenceWarning: The max_iter was reached which means the coef_ did not converge\n",
            "  \"the coef_ did not converge\", ConvergenceWarning)\n",
            "/usr/local/lib/python3.6/dist-packages/sklearn/linear_model/_sag.py:330: ConvergenceWarning: The max_iter was reached which means the coef_ did not converge\n",
            "  \"the coef_ did not converge\", ConvergenceWarning)\n",
            "/usr/local/lib/python3.6/dist-packages/sklearn/linear_model/_sag.py:330: ConvergenceWarning: The max_iter was reached which means the coef_ did not converge\n",
            "  \"the coef_ did not converge\", ConvergenceWarning)\n",
            "/usr/local/lib/python3.6/dist-packages/sklearn/linear_model/_sag.py:330: ConvergenceWarning: The max_iter was reached which means the coef_ did not converge\n",
            "  \"the coef_ did not converge\", ConvergenceWarning)\n",
            "/usr/local/lib/python3.6/dist-packages/sklearn/linear_model/_sag.py:330: ConvergenceWarning: The max_iter was reached which means the coef_ did not converge\n",
            "  \"the coef_ did not converge\", ConvergenceWarning)\n",
            "/usr/local/lib/python3.6/dist-packages/sklearn/linear_model/_sag.py:330: ConvergenceWarning: The max_iter was reached which means the coef_ did not converge\n",
            "  \"the coef_ did not converge\", ConvergenceWarning)\n"
          ],
          "name": "stderr"
        },
        {
          "output_type": "stream",
          "text": [
            "{'C': 1, 'solver': 'saga'}\n",
            "best score: 0.758452\n"
          ],
          "name": "stdout"
        },
        {
          "output_type": "stream",
          "text": [
            "/usr/local/lib/python3.6/dist-packages/sklearn/linear_model/_sag.py:330: ConvergenceWarning: The max_iter was reached which means the coef_ did not converge\n",
            "  \"the coef_ did not converge\", ConvergenceWarning)\n"
          ],
          "name": "stderr"
        }
      ]
    },
    {
      "cell_type": "code",
      "metadata": {
        "id": "64lC3IDD-vZc",
        "outputId": "2d9703c6-55d2-410f-b95d-a4e74a993ac3",
        "colab": {
          "base_uri": "https://localhost:8080/",
          "height": 105
        }
      },
      "source": [
        "lr_best = LogisticRegression(C = 1, solver='saga')\n",
        "lr_best.fit(train_vec_data, y_train)\n",
        "y_pred = lr_best.predict(test_vec_data)\n",
        "acc = lr_best.score(test_vec_data, y_test)\n",
        "print('accuracy score',  acc)\n",
        "print('F1 score: {:3f}'.format(f1_score(y_test, y_pred)))"
      ],
      "execution_count": 37,
      "outputs": [
        {
          "output_type": "stream",
          "text": [
            "accuracy score 0.7522039875220399\n",
            "F1 score: 0.708194\n"
          ],
          "name": "stdout"
        },
        {
          "output_type": "stream",
          "text": [
            "/usr/local/lib/python3.6/dist-packages/sklearn/linear_model/_sag.py:330: ConvergenceWarning: The max_iter was reached which means the coef_ did not converge\n",
            "  \"the coef_ did not converge\", ConvergenceWarning)\n"
          ],
          "name": "stderr"
        }
      ]
    },
    {
      "cell_type": "code",
      "metadata": {
        "id": "SEBRTbc8nO4M",
        "outputId": "ff6aeb97-8dee-4c73-a495-c215a55f2287",
        "colab": {
          "base_uri": "https://localhost:8080/",
          "height": 51
        }
      },
      "source": [
        "# grid search for best SVM kernel\n",
        "gs = GridSearchCV(SVC(C=1), \n",
        "             param_grid={'kernel':['linear', 'poly', 'rbf', 'sigmoid']}, \n",
        "                          scoring=\"accuracy\", cv=4)\n",
        "gs = gs.fit(all_vec_data, label_concat)\n",
        "print(gs.best_params_)\n",
        "print('best score: {:3f}'.format(gs.best_score_))"
      ],
      "execution_count": 34,
      "outputs": [
        {
          "output_type": "stream",
          "text": [
            "{'kernel': 'rbf'}\n",
            "best score: 0.781275\n"
          ],
          "name": "stdout"
        }
      ]
    },
    {
      "cell_type": "code",
      "metadata": {
        "id": "JlClvAF1_Tl3",
        "outputId": "d6324a7f-8e21-47ed-c40f-fbb156d4bba7",
        "colab": {
          "base_uri": "https://localhost:8080/",
          "height": 51
        }
      },
      "source": [
        "svm_best = SVC(C = 1, kernel='rbf')\n",
        "svm_best.fit(train_vec_data, y_train)\n",
        "y_pred = svm_best.predict(test_vec_data)\n",
        "acc = svm_best.score(test_vec_data, y_test)\n",
        "print('accuracy score',  acc)\n",
        "print('F1 score: {:3f}'.format(f1_score(y_test, y_pred)))"
      ],
      "execution_count": 38,
      "outputs": [
        {
          "output_type": "stream",
          "text": [
            "accuracy score 0.7796012477960125\n",
            "F1 score: 0.747553\n"
          ],
          "name": "stdout"
        }
      ]
    }
  ]
}