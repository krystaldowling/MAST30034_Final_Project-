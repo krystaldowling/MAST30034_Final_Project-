{
  "nbformat": 4,
  "nbformat_minor": 0,
  "metadata": {
    "colab": {
      "name": "FinalProject_preprocessing.ipynb",
      "provenance": [],
      "mount_file_id": "1fwE_-dtdIjBJdYvus4AvHxJmGJ-SvF5L",
      "authorship_tag": "ABX9TyOYBKVmcFE84gCea+0nhR2M",
      "include_colab_link": true
    },
    "kernelspec": {
      "name": "python3",
      "display_name": "Python 3"
    }
  },
  "cells": [
    {
      "cell_type": "markdown",
      "metadata": {
        "id": "view-in-github",
        "colab_type": "text"
      },
      "source": [
        "<a href=\"https://colab.research.google.com/github/krystaldowling/MAST30034_Final_Project-/blob/Preprocessing/FinalProject_preprocessing.ipynb\" target=\"_parent\"><img src=\"https://colab.research.google.com/assets/colab-badge.svg\" alt=\"Open In Colab\"/></a>"
      ]
    },
    {
      "cell_type": "code",
      "metadata": {
        "id": "jD51mL_DSAeK",
        "colab_type": "code",
        "colab": {}
      },
      "source": [
        "import pandas as pd\n",
        "\n",
        "# reads in each csv datasets as a pandas dataframe\n",
        "def read_data(file):\n",
        "     \n",
        "    read_file = pd.read_csv(file, index_col = False, delimiter = ',', header=0)\n",
        "    \n",
        "    return read_file\n",
        "\n",
        "PATH = \"/content/drive/My Drive/Data/\"\n",
        "\n",
        "# create dataframes and keep only necessary features to join dataframes\n",
        "fake_news1_labelled = read_data(PATH + \"train.csv\").loc[:,[\"title\", \"text\", \"label\"]]\n",
        "fake_news1_test = read_data(PATH + \"test.csv\")\n",
        "fake_news1_testlabels = read_data(PATH + \"submit.csv\")\n",
        "fake_news2 = read_data(PATH + \"fake.csv\").loc[:,[\"title\", \"text\", \"language\"]]\n",
        "politifact_real = read_data(PATH + \"PolitiFact_real_news_content.csv\").loc[:,[\"title\", \"text\"]]\n",
        "politifact_fake = read_data(PATH + \"PolitiFact_fake_news_content.csv\").loc[:,[\"title\", \"text\"]]\n",
        "buzzfeed_real = read_data(PATH + \"BuzzFeed_real_news_content.csv\").loc[:,[\"title\", \"text\"]]\n",
        "buzzfeed_fake = read_data(PATH + \"BuzzFeed_fake_news_content.csv\").loc[:,[\"title\", \"text\"]]\n",
        "news_labelled = read_data(PATH + \"news_articles.csv\").loc[:,[\"title\", \"text\", \"language\", \"label\"]]\n",
        "signal_sample = read_data(PATH + \"signal_sample.csv\")"
      ],
      "execution_count": 1,
      "outputs": []
    },
    {
      "cell_type": "code",
      "metadata": {
        "id": "-SRK8Xeh6rU7",
        "colab_type": "code",
        "colab": {}
      },
      "source": [
        "# merge test data with their labels\n",
        "fake_news1_test_labelled = fake_news1_test.merge(fake_news1_testlabels, on = \"id\").loc[:,[\"title\", \"text\", \"label\"]]"
      ],
      "execution_count": 2,
      "outputs": []
    },
    {
      "cell_type": "code",
      "metadata": {
        "id": "tWatYwl2-MCd",
        "colab_type": "code",
        "colab": {}
      },
      "source": [
        "# remove instances that are not in engilsh\n",
        "def remove_non_english(df):\n",
        "    \n",
        "    df = df[df.language == \"english\"]\n",
        "    \n",
        "    return df\n",
        "\n",
        "fake_news2_update = remove_non_english(fake_news2).loc[:,[\"title\", \"text\"]]\n",
        "news_labelled_update = remove_non_english(news_labelled).loc[:,[\"title\", \"text\", \"label\"]]"
      ],
      "execution_count": 3,
      "outputs": []
    },
    {
      "cell_type": "code",
      "metadata": {
        "id": "13TWRwDL_BEw",
        "colab_type": "code",
        "colab": {}
      },
      "source": [
        "# assigns 1 (fake) as the label for all instances in the dataframe\n",
        "def fake_label(fake_df):\n",
        "    \n",
        "    fake_df[\"label\"] = 1\n",
        "    \n",
        "    return fake_df\n",
        "\n",
        "# assigns 0 (real) as the label for all instances in the dataframe\n",
        "def real_label(real_df):\n",
        "    \n",
        "    real_df[\"label\"] = 0\n",
        "    \n",
        "    return real_df\n",
        "\n",
        "\n",
        "fake_news2_labelled = fake_label(fake_news2_update)\n",
        "politifact_fake_labelled = fake_label(politifact_fake)\n",
        "buzzfeed_fake_labelled = fake_label(buzzfeed_fake)\n",
        "\n",
        "politifact_real_labelled = real_label(politifact_real)\n",
        "buzzfeed_real_labelled = real_label(buzzfeed_real)\n",
        "signal_labelled = real_label(signal_sample)\n",
        "\n",
        "# rename 'fake' to 1 and 'real' to 0\n",
        "news_labelled_update[\"label\"] = news_labelled_update[\"label\"].replace({\"Fake\": 1, \"Real\": 0})"
      ],
      "execution_count": 4,
      "outputs": []
    },
    {
      "cell_type": "code",
      "metadata": {
        "id": "IBpPlGX6KwPS",
        "colab_type": "code",
        "colab": {}
      },
      "source": [
        "# rename \"content\" column to \"text\"\n",
        "signal_labelled_update = signal_labelled.rename(columns = {\"content\":\"text\"}).loc[:,[\"title\", \"text\", \"label\"]]"
      ],
      "execution_count": 17,
      "outputs": []
    },
    {
      "cell_type": "code",
      "metadata": {
        "id": "FN_XAXp3_E3i",
        "colab_type": "code",
        "colab": {}
      },
      "source": [
        "# create a list of all dataframe\n",
        "news_df_list = [fake_news2_labelled, politifact_fake_labelled, buzzfeed_fake_labelled, politifact_real_labelled, \n",
        "                buzzfeed_real_labelled, news_labelled_update, fake_news1_labelled, \n",
        "                fake_news1_test_labelled, signal_labelled_update]\n",
        "\n",
        "# concatenate dataframes into one whole dataframe\n",
        "all_news = pd.concat(news_df_list).reset_index().loc[:,[\"title\", \"text\", \"label\"]].dropna().drop_duplicates(\n",
        "                                                                                            subset = [\"title\", \"text\"])\n",
        "\n"
      ],
      "execution_count": 18,
      "outputs": []
    },
    {
      "cell_type": "code",
      "metadata": {
        "id": "PG1njIOdDdtQ",
        "colab_type": "code",
        "colab": {
          "base_uri": "https://localhost:8080/",
          "height": 142
        },
        "outputId": "10380b87-88c8-414d-97c3-f3437060d46c"
      },
      "source": [
        "all_news.groupby(\"label\").count()"
      ],
      "execution_count": 19,
      "outputs": [
        {
          "output_type": "execute_result",
          "data": {
            "text/html": [
              "<div>\n",
              "<style scoped>\n",
              "    .dataframe tbody tr th:only-of-type {\n",
              "        vertical-align: middle;\n",
              "    }\n",
              "\n",
              "    .dataframe tbody tr th {\n",
              "        vertical-align: top;\n",
              "    }\n",
              "\n",
              "    .dataframe thead th {\n",
              "        text-align: right;\n",
              "    }\n",
              "</style>\n",
              "<table border=\"1\" class=\"dataframe\">\n",
              "  <thead>\n",
              "    <tr style=\"text-align: right;\">\n",
              "      <th></th>\n",
              "      <th>title</th>\n",
              "      <th>text</th>\n",
              "    </tr>\n",
              "    <tr>\n",
              "      <th>label</th>\n",
              "      <th></th>\n",
              "      <th></th>\n",
              "    </tr>\n",
              "  </thead>\n",
              "  <tbody>\n",
              "    <tr>\n",
              "      <th>0</th>\n",
              "      <td>17768</td>\n",
              "      <td>17768</td>\n",
              "    </tr>\n",
              "    <tr>\n",
              "      <th>1</th>\n",
              "      <td>14618</td>\n",
              "      <td>14618</td>\n",
              "    </tr>\n",
              "  </tbody>\n",
              "</table>\n",
              "</div>"
            ],
            "text/plain": [
              "       title   text\n",
              "label              \n",
              "0      17768  17768\n",
              "1      14618  14618"
            ]
          },
          "metadata": {
            "tags": []
          },
          "execution_count": 19
        }
      ]
    },
    {
      "cell_type": "code",
      "metadata": {
        "id": "z2nDJ8FVIvjB",
        "colab_type": "code",
        "colab": {
          "base_uri": "https://localhost:8080/",
          "height": 359
        },
        "outputId": "88a49ae6-832c-4a63-d5bb-624d33375c91"
      },
      "source": [
        "all_news.head(10)"
      ],
      "execution_count": 20,
      "outputs": [
        {
          "output_type": "execute_result",
          "data": {
            "text/html": [
              "<div>\n",
              "<style scoped>\n",
              "    .dataframe tbody tr th:only-of-type {\n",
              "        vertical-align: middle;\n",
              "    }\n",
              "\n",
              "    .dataframe tbody tr th {\n",
              "        vertical-align: top;\n",
              "    }\n",
              "\n",
              "    .dataframe thead th {\n",
              "        text-align: right;\n",
              "    }\n",
              "</style>\n",
              "<table border=\"1\" class=\"dataframe\">\n",
              "  <thead>\n",
              "    <tr style=\"text-align: right;\">\n",
              "      <th></th>\n",
              "      <th>title</th>\n",
              "      <th>text</th>\n",
              "      <th>label</th>\n",
              "    </tr>\n",
              "  </thead>\n",
              "  <tbody>\n",
              "    <tr>\n",
              "      <th>0</th>\n",
              "      <td>Muslims BUSTED: They Stole Millions In Gov’t B...</td>\n",
              "      <td>Print They should pay all the back all the mon...</td>\n",
              "      <td>1</td>\n",
              "    </tr>\n",
              "    <tr>\n",
              "      <th>1</th>\n",
              "      <td>Re: Why Did Attorney General Loretta Lynch Ple...</td>\n",
              "      <td>Why Did Attorney General Loretta Lynch Plead T...</td>\n",
              "      <td>1</td>\n",
              "    </tr>\n",
              "    <tr>\n",
              "      <th>2</th>\n",
              "      <td>BREAKING: Weiner Cooperating With FBI On Hilla...</td>\n",
              "      <td>Red State : \\nFox News Sunday reported this mo...</td>\n",
              "      <td>1</td>\n",
              "    </tr>\n",
              "    <tr>\n",
              "      <th>3</th>\n",
              "      <td>PIN DROP SPEECH BY FATHER OF DAUGHTER Kidnappe...</td>\n",
              "      <td>Email Kayla Mueller was a prisoner and torture...</td>\n",
              "      <td>1</td>\n",
              "    </tr>\n",
              "    <tr>\n",
              "      <th>4</th>\n",
              "      <td>FANTASTIC! TRUMP'S 7 POINT PLAN To Reform Heal...</td>\n",
              "      <td>Email HEALTHCARE REFORM TO MAKE AMERICA GREAT ...</td>\n",
              "      <td>1</td>\n",
              "    </tr>\n",
              "    <tr>\n",
              "      <th>5</th>\n",
              "      <td>Hillary Goes Absolutely Berserk On Protester A...</td>\n",
              "      <td>Print Hillary goes absolutely berserk! She exp...</td>\n",
              "      <td>1</td>\n",
              "    </tr>\n",
              "    <tr>\n",
              "      <th>6</th>\n",
              "      <td>BREAKING! NYPD Ready To Make Arrests In Weiner...</td>\n",
              "      <td>BREAKING! NYPD Ready To Make Arrests In Weiner...</td>\n",
              "      <td>1</td>\n",
              "    </tr>\n",
              "    <tr>\n",
              "      <th>7</th>\n",
              "      <td>WOW! WHISTLEBLOWER TELLS CHILLING STORY Of Mas...</td>\n",
              "      <td>BREAKING! NYPD Ready To Make Arrests In Weiner...</td>\n",
              "      <td>1</td>\n",
              "    </tr>\n",
              "    <tr>\n",
              "      <th>8</th>\n",
              "      <td>BREAKING: CLINTON CLEARED...Was This A Coordin...</td>\n",
              "      <td>\\nLimbaugh said that the revelations in the Wi...</td>\n",
              "      <td>1</td>\n",
              "    </tr>\n",
              "    <tr>\n",
              "      <th>9</th>\n",
              "      <td>EVIL HILLARY SUPPORTERS Yell \"F*ck Trump\"…Burn...</td>\n",
              "      <td>Email \\nThese people are sick and evil. They w...</td>\n",
              "      <td>1</td>\n",
              "    </tr>\n",
              "  </tbody>\n",
              "</table>\n",
              "</div>"
            ],
            "text/plain": [
              "                                               title  ... label\n",
              "0  Muslims BUSTED: They Stole Millions In Gov’t B...  ...     1\n",
              "1  Re: Why Did Attorney General Loretta Lynch Ple...  ...     1\n",
              "2  BREAKING: Weiner Cooperating With FBI On Hilla...  ...     1\n",
              "3  PIN DROP SPEECH BY FATHER OF DAUGHTER Kidnappe...  ...     1\n",
              "4  FANTASTIC! TRUMP'S 7 POINT PLAN To Reform Heal...  ...     1\n",
              "5  Hillary Goes Absolutely Berserk On Protester A...  ...     1\n",
              "6  BREAKING! NYPD Ready To Make Arrests In Weiner...  ...     1\n",
              "7  WOW! WHISTLEBLOWER TELLS CHILLING STORY Of Mas...  ...     1\n",
              "8  BREAKING: CLINTON CLEARED...Was This A Coordin...  ...     1\n",
              "9  EVIL HILLARY SUPPORTERS Yell \"F*ck Trump\"…Burn...  ...     1\n",
              "\n",
              "[10 rows x 3 columns]"
            ]
          },
          "metadata": {
            "tags": []
          },
          "execution_count": 20
        }
      ]
    },
    {
      "cell_type": "code",
      "metadata": {
        "id": "7vdEhp20OVvJ",
        "colab_type": "code",
        "colab": {}
      },
      "source": [
        ""
      ],
      "execution_count": null,
      "outputs": []
    }
  ]
}