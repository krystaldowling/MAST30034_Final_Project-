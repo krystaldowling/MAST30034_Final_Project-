{
  "nbformat": 4,
  "nbformat_minor": 0,
  "metadata": {
    "colab": {
      "name": "FinalProject_preprocessing.ipynb",
      "provenance": [],
      "collapsed_sections": []
    },
    "kernelspec": {
      "name": "python3",
      "display_name": "Python 3"
    }
  },
  "cells": [
    {
      "cell_type": "code",
      "metadata": {
        "id": "iBXF7M2nlAGl"
      },
      "source": [
        "# Import statements\n",
        "import matplotlib.pyplot as plt\n",
        "import pandas as pd\n",
        "import seaborn as sns\n",
        "from langdetect import detect"
      ],
      "execution_count": 9,
      "outputs": []
    },
    {
      "cell_type": "code",
      "metadata": {
        "id": "jD51mL_DSAeK"
      },
      "source": [
        "# reads in each csv datasets as a pandas dataframe\n",
        "def read_data(file):\n",
        "    # Broadening possible missing values\n",
        "    missing_values = [\"n/a\", \"na\", \"--\", \"-\", \"NaN\", \"N/A\", 'no title', \"\"] \n",
        "    read_file = pd.read_csv(file, index_col = False, delimiter = ',', header=0, na_values = missing_values)\n",
        "    \n",
        "    return read_file\n",
        "\n",
        "PATH = \"/content/drive/My Drive/Data/\"\n",
        "\n",
        "# create dataframes and keep only necessary features to join dataframes\n",
        "fake_news1_labelled = read_data(PATH + \"train.csv\").loc[:,[\"title\", \"text\", \"label\"]]\n",
        "fake_news1_test = read_data(PATH + \"test.csv\")\n",
        "fake_news1_testlabels = read_data(PATH + \"submit.csv\")\n",
        "fake_news2 = read_data(PATH + \"fake.csv\").loc[:,[\"title\", \"text\", \"language\"]]\n",
        "politifact_real = read_data(PATH + \"PolitiFact_real_news_content.csv\").loc[:,[\"title\", \"text\"]]\n",
        "politifact_fake = read_data(PATH + \"PolitiFact_fake_news_content.csv\").loc[:,[\"title\", \"text\"]]\n",
        "buzzfeed_real = read_data(PATH + \"BuzzFeed_real_news_content.csv\").loc[:,[\"title\", \"text\"]]\n",
        "buzzfeed_fake = read_data(PATH + \"BuzzFeed_fake_news_content.csv\").loc[:,[\"title\", \"text\"]]\n",
        "news_labelled = read_data(PATH + \"news_articles.csv\").loc[:,[\"title\", \"text\", \"language\", \"label\"]]\n",
        "signal_sample = read_data(PATH + \"signal_sample.csv\")"
      ],
      "execution_count": null,
      "outputs": []
    },
    {
      "cell_type": "code",
      "metadata": {
        "id": "-SRK8Xeh6rU7"
      },
      "source": [
        "# merge test data with their labels\n",
        "fake_news1_test_labelled = fake_news1_test.merge(fake_news1_testlabels, on = \"id\").loc[:,[\"title\", \"text\", \"label\"]]"
      ],
      "execution_count": 11,
      "outputs": []
    },
    {
      "cell_type": "code",
      "metadata": {
        "id": "tWatYwl2-MCd"
      },
      "source": [
        "# remove instances that are not in engilsh\n",
        "def remove_non_english(df):\n",
        "    \n",
        "    df = df[df.language == \"english\"]\n",
        "    \n",
        "    return df\n",
        "\n",
        "fake_news2_update = remove_non_english(fake_news2).loc[:,[\"title\", \"text\"]]\n",
        "news_labelled_update = remove_non_english(news_labelled).loc[:,[\"title\", \"text\", \"label\"]]"
      ],
      "execution_count": 12,
      "outputs": []
    },
    {
      "cell_type": "code",
      "metadata": {
        "id": "13TWRwDL_BEw"
      },
      "source": [
        "# assigns 1 (fake) as the label for all instances in the dataframe\n",
        "def fake_label(fake_df):\n",
        "    \n",
        "    fake_df[\"label\"] = 1\n",
        "    \n",
        "    return fake_df\n",
        "\n",
        "# assigns 0 (real) as the label for all instances in the dataframe\n",
        "def real_label(real_df):\n",
        "    \n",
        "    real_df[\"label\"] = 0\n",
        "    \n",
        "    return real_df\n",
        "\n",
        "\n",
        "fake_news2_labelled = fake_label(fake_news2_update)\n",
        "politifact_fake_labelled = fake_label(politifact_fake)\n",
        "buzzfeed_fake_labelled = fake_label(buzzfeed_fake)\n",
        "\n",
        "politifact_real_labelled = real_label(politifact_real)\n",
        "buzzfeed_real_labelled = real_label(buzzfeed_real)\n",
        "signal_labelled = real_label(signal_sample)\n",
        "\n",
        "# rename 'fake' to 1 and 'real' to 0\n",
        "news_labelled_update[\"label\"] = news_labelled_update[\"label\"].replace({\"Fake\": 1, \"Real\": 0})"
      ],
      "execution_count": 13,
      "outputs": []
    },
    {
      "cell_type": "code",
      "metadata": {
        "id": "IBpPlGX6KwPS"
      },
      "source": [
        "# rename \"content\" column to \"text\"\n",
        "signal_labelled_update = signal_labelled.rename(columns = {\"content\":\"text\"}).loc[:,[\"title\", \"text\", \"label\"]]"
      ],
      "execution_count": 14,
      "outputs": []
    },
    {
      "cell_type": "code",
      "metadata": {
        "id": "lO1poTZPKXMQ",
        "outputId": "cfde93fe-12e5-42ad-90de-ec053bf5e60c",
        "colab": {
          "base_uri": "https://localhost:8080/",
          "height": 485
        }
      },
      "source": [
        "# Creating countplot with amount of true/false data for each dataset\n",
        "# I realise that this makes the next cell block semi-redundant but I was worried to remove Lauras \n",
        "# in case I put them together wrong\n",
        "\n",
        "# first, editing dataset to display dataset titles\n",
        "politifact = pd.concat([politifact_fake_labelled, politifact_real_labelled]).reset_index().loc[:,[\"title\", \"text\", \"label\"]]\n",
        "buzzfeed = pd.concat([buzzfeed_fake_labelled, buzzfeed_real_labelled]).reset_index().loc[:,[\"title\", \"text\", \"label\"]]\n",
        "politifact['Dataset'] = 'Politifact'\n",
        "buzzfeed['Dataset'] = 'Buzzfeed'\n",
        "signal_labelled_update['Dataset'] = 'Signal'\n",
        "fake_news2_labelled['Dataset'] = 'Fake News Net'\n",
        "fake_news1_labelled['Dataset'] = 'Fake News'\n",
        "news_labelled_update['Dataset'] = 'Source based'\n",
        "\n",
        "# Creating list for df\n",
        "news_df_list = [fake_news2_labelled, politifact, buzzfeed, news_labelled_update, fake_news1_labelled, \n",
        "                fake_news1_test_labelled, signal_labelled_update]\n",
        "\n",
        "# Concatenate dataframes into one whole dataframe\n",
        "all_news_labelled = pd.concat(news_df_list).reset_index().loc[:,[\"title\", \"text\", \"label\", \"Dataset\"]].dropna()\n",
        "\n",
        "# Plotting countplot with true/false for each dataste\n",
        "plt.figure(figsize=(10,5))\n",
        "sns.set_style(\"whitegrid\")\n",
        "ax = sns.countplot(x=\"Dataset\", hue=\"label\", data = all_news_labelled)\n",
        "ax.set_xticklabels(ax.get_xticklabels(), rotation=45)"
      ],
      "execution_count": 15,
      "outputs": [
        {
          "output_type": "execute_result",
          "data": {
            "text/plain": [
              "[Text(0, 0, 'Fake News Net'),\n",
              " Text(0, 0, 'Politifact'),\n",
              " Text(0, 0, 'Buzzfeed'),\n",
              " Text(0, 0, 'Source based'),\n",
              " Text(0, 0, 'Fake News'),\n",
              " Text(0, 0, 'Signal')]"
            ]
          },
          "metadata": {
            "tags": []
          },
          "execution_count": 15
        },
        {
          "output_type": "display_data",
          "data": {
            "image/png": "[encoded data removed]",
            "text/plain": [
              "<Figure size 720x360 with 1 Axes>"
            ]
          },
          "metadata": {
            "tags": [],
            "needs_background": "light"
          }
        }
      ]
    },
    {
      "cell_type": "code",
      "metadata": {
        "id": "FN_XAXp3_E3i"
      },
      "source": [
        "# create a list of all dataframe\n",
        "news_df_list = [fake_news2_labelled, politifact_fake_labelled, buzzfeed_fake_labelled, politifact_real_labelled, \n",
        "                buzzfeed_real_labelled, news_labelled_update, fake_news1_labelled, \n",
        "                fake_news1_test_labelled, signal_labelled_update]\n",
        "\n",
        "# concatenate dataframes into one whole dataframe, removing null values and duplicates\n",
        "all_news = pd.concat(news_df_list).reset_index().loc[:,[\"title\", \"text\", \"label\"]].dropna()\n"
      ],
      "execution_count": 16,
      "outputs": []
    },
    {
      "cell_type": "code",
      "metadata": {
        "id": "PG1njIOdDdtQ",
        "outputId": "cd7739a5-cc55-424f-dc67-349522e142e2",
        "colab": {
          "base_uri": "https://localhost:8080/",
          "height": 142
        }
      },
      "source": [
        "all_news.groupby(\"label\").count()"
      ],
      "execution_count": 17,
      "outputs": [
        {
          "output_type": "execute_result",
          "data": {
            "text/html": [
              "<div>\n",
              "<style scoped>\n",
              "    .dataframe tbody tr th:only-of-type {\n",
              "        vertical-align: middle;\n",
              "    }\n",
              "\n",
              "    .dataframe tbody tr th {\n",
              "        vertical-align: top;\n",
              "    }\n",
              "\n",
              "    .dataframe thead th {\n",
              "        text-align: right;\n",
              "    }\n",
              "</style>\n",
              "<table border=\"1\" class=\"dataframe\">\n",
              "  <thead>\n",
              "    <tr style=\"text-align: right;\">\n",
              "      <th></th>\n",
              "      <th>title</th>\n",
              "      <th>text</th>\n",
              "    </tr>\n",
              "    <tr>\n",
              "      <th>label</th>\n",
              "      <th></th>\n",
              "      <th></th>\n",
              "    </tr>\n",
              "  </thead>\n",
              "  <tbody>\n",
              "    <tr>\n",
              "      <th>0</th>\n",
              "      <td>18601</td>\n",
              "      <td>18601</td>\n",
              "    </tr>\n",
              "    <tr>\n",
              "      <th>1</th>\n",
              "      <td>25558</td>\n",
              "      <td>25558</td>\n",
              "    </tr>\n",
              "  </tbody>\n",
              "</table>\n",
              "</div>"
            ],
            "text/plain": [
              "       title   text\n",
              "label              \n",
              "0      18601  18601\n",
              "1      25558  25558"
            ]
          },
          "metadata": {
            "tags": []
          },
          "execution_count": 17
        }
      ]
    },
    {
      "cell_type": "code",
      "metadata": {
        "id": "z2nDJ8FVIvjB",
        "outputId": "9e7000ca-f498-4bd2-8cc2-7ab6a4c64ae5",
        "colab": {
          "base_uri": "https://localhost:8080/",
          "height": 359
        }
      },
      "source": [
        "all_news.head(10)"
      ],
      "execution_count": 18,
      "outputs": [
        {
          "output_type": "execute_result",
          "data": {
            "text/html": [
              "<div>\n",
              "<style scoped>\n",
              "    .dataframe tbody tr th:only-of-type {\n",
              "        vertical-align: middle;\n",
              "    }\n",
              "\n",
              "    .dataframe tbody tr th {\n",
              "        vertical-align: top;\n",
              "    }\n",
              "\n",
              "    .dataframe thead th {\n",
              "        text-align: right;\n",
              "    }\n",
              "</style>\n",
              "<table border=\"1\" class=\"dataframe\">\n",
              "  <thead>\n",
              "    <tr style=\"text-align: right;\">\n",
              "      <th></th>\n",
              "      <th>title</th>\n",
              "      <th>text</th>\n",
              "      <th>label</th>\n",
              "    </tr>\n",
              "  </thead>\n",
              "  <tbody>\n",
              "    <tr>\n",
              "      <th>0</th>\n",
              "      <td>Muslims BUSTED: They Stole Millions In Gov’t B...</td>\n",
              "      <td>Print They should pay all the back all the mon...</td>\n",
              "      <td>1</td>\n",
              "    </tr>\n",
              "    <tr>\n",
              "      <th>1</th>\n",
              "      <td>Re: Why Did Attorney General Loretta Lynch Ple...</td>\n",
              "      <td>Why Did Attorney General Loretta Lynch Plead T...</td>\n",
              "      <td>1</td>\n",
              "    </tr>\n",
              "    <tr>\n",
              "      <th>2</th>\n",
              "      <td>BREAKING: Weiner Cooperating With FBI On Hilla...</td>\n",
              "      <td>Red State : \\nFox News Sunday reported this mo...</td>\n",
              "      <td>1</td>\n",
              "    </tr>\n",
              "    <tr>\n",
              "      <th>3</th>\n",
              "      <td>PIN DROP SPEECH BY FATHER OF DAUGHTER Kidnappe...</td>\n",
              "      <td>Email Kayla Mueller was a prisoner and torture...</td>\n",
              "      <td>1</td>\n",
              "    </tr>\n",
              "    <tr>\n",
              "      <th>4</th>\n",
              "      <td>FANTASTIC! TRUMP'S 7 POINT PLAN To Reform Heal...</td>\n",
              "      <td>Email HEALTHCARE REFORM TO MAKE AMERICA GREAT ...</td>\n",
              "      <td>1</td>\n",
              "    </tr>\n",
              "    <tr>\n",
              "      <th>5</th>\n",
              "      <td>Hillary Goes Absolutely Berserk On Protester A...</td>\n",
              "      <td>Print Hillary goes absolutely berserk! She exp...</td>\n",
              "      <td>1</td>\n",
              "    </tr>\n",
              "    <tr>\n",
              "      <th>6</th>\n",
              "      <td>BREAKING! NYPD Ready To Make Arrests In Weiner...</td>\n",
              "      <td>BREAKING! NYPD Ready To Make Arrests In Weiner...</td>\n",
              "      <td>1</td>\n",
              "    </tr>\n",
              "    <tr>\n",
              "      <th>7</th>\n",
              "      <td>WOW! WHISTLEBLOWER TELLS CHILLING STORY Of Mas...</td>\n",
              "      <td>BREAKING! NYPD Ready To Make Arrests In Weiner...</td>\n",
              "      <td>1</td>\n",
              "    </tr>\n",
              "    <tr>\n",
              "      <th>8</th>\n",
              "      <td>BREAKING: CLINTON CLEARED...Was This A Coordin...</td>\n",
              "      <td>\\nLimbaugh said that the revelations in the Wi...</td>\n",
              "      <td>1</td>\n",
              "    </tr>\n",
              "    <tr>\n",
              "      <th>9</th>\n",
              "      <td>EVIL HILLARY SUPPORTERS Yell \"F*ck Trump\"…Burn...</td>\n",
              "      <td>Email \\nThese people are sick and evil. They w...</td>\n",
              "      <td>1</td>\n",
              "    </tr>\n",
              "  </tbody>\n",
              "</table>\n",
              "</div>"
            ],
            "text/plain": [
              "                                               title  ... label\n",
              "0  Muslims BUSTED: They Stole Millions In Gov’t B...  ...     1\n",
              "1  Re: Why Did Attorney General Loretta Lynch Ple...  ...     1\n",
              "2  BREAKING: Weiner Cooperating With FBI On Hilla...  ...     1\n",
              "3  PIN DROP SPEECH BY FATHER OF DAUGHTER Kidnappe...  ...     1\n",
              "4  FANTASTIC! TRUMP'S 7 POINT PLAN To Reform Heal...  ...     1\n",
              "5  Hillary Goes Absolutely Berserk On Protester A...  ...     1\n",
              "6  BREAKING! NYPD Ready To Make Arrests In Weiner...  ...     1\n",
              "7  WOW! WHISTLEBLOWER TELLS CHILLING STORY Of Mas...  ...     1\n",
              "8  BREAKING: CLINTON CLEARED...Was This A Coordin...  ...     1\n",
              "9  EVIL HILLARY SUPPORTERS Yell \"F*ck Trump\"…Burn...  ...     1\n",
              "\n",
              "[10 rows x 3 columns]"
            ]
          },
          "metadata": {
            "tags": []
          },
          "execution_count": 18
        }
      ]
    },
    {
      "cell_type": "code",
      "metadata": {
        "id": "Bs1S3i2pa3aF"
      },
      "source": [
        "# Removing duplicate values based on text, keeping the first instance\n",
        "all_news = all_news.drop_duplicates(subset = [\"title\", \"text\"], keep='first')\n",
        "all_news = all_news.drop_duplicates(subset=['text'], keep='first')"
      ],
      "execution_count": 19,
      "outputs": []
    },
    {
      "cell_type": "code",
      "metadata": {
        "id": "qeQiOfaMBb9K",
        "outputId": "9e6fcd96-6eaa-4159-b441-9aba903edf7d",
        "colab": {
          "base_uri": "https://localhost:8080/",
          "height": 85
        }
      },
      "source": [
        "# Removing any instances not in English\n",
        "def is_en(txt):\n",
        "  '''\n",
        "  Function modified from similar work by Bruno Mello on \n",
        "  https://stackoverflow.com/questions/60930935/exclude-non-english-rows-in-pandas\n",
        "  '''\n",
        "  try:\n",
        "    return detect(txt)=='en'\n",
        "  except:\n",
        "    return False\n",
        "\n",
        "\n",
        "\n",
        "def dropNonEnglish(df):\n",
        "  '''\n",
        "  Requires input of df (Pandas DataFrame), deletes all non-English instances, \n",
        "  displays count, and returns dataframe.\n",
        "  '''\n",
        "  df['isEng'] = df['title'].apply(lambda x: is_en(x))\n",
        "\n",
        "  # Display count\n",
        "  print(df.groupby(df['isEng']).count())\n",
        "\n",
        "  # Delete those not in english\n",
        "  df = df.loc[df['isEng'] == True] \n",
        "\n",
        "  # Returns df\n",
        "  return df.drop(['isEng'], axis = 1)\n",
        "  \n",
        "  \n",
        "# Run dataset through fn to drop non-english\n",
        "all_news = dropNonEnglish(all_news)"
      ],
      "execution_count": 20,
      "outputs": [
        {
          "output_type": "stream",
          "text": [
            "       title   text  label\n",
            "isEng                     \n",
            "False   1712   1712   1712\n",
            "True   30053  30053  30053\n"
          ],
          "name": "stdout"
        }
      ]
    },
    {
      "cell_type": "code",
      "metadata": {
        "id": "xIyfmRbHgAv7",
        "outputId": "65139576-477f-4003-8a1c-51fce59fd1e0",
        "colab": {
          "base_uri": "https://localhost:8080/",
          "height": 1000
        }
      },
      "source": [
        "# Creating two functions to utilise in removing outliers from the df, \n",
        "# printing out summary stats and boxplots throughout\n",
        "\n",
        "def removeFeatureOutliers(df, ref, name):\n",
        "  '''\n",
        "  Function takes input df(Pandas DataFrame), ref(String- reference to column in \n",
        "  df for outlier analysis), name(String- To display for output). \n",
        "\n",
        "  Function prints out out summary statistics and boxplots before and after \n",
        "  outlier removal for feature. \n",
        "\n",
        "  Returns dataframe with outliers removed for input feature. \n",
        "  '''\n",
        "  # Define quartiles \n",
        "  q1 = df[ref].quantile(.25)\n",
        "  q3 = df[ref].quantile(.75)\n",
        "  iqr = q3-q1\n",
        "\n",
        "  # Print out summary stats\n",
        "  print(name + \":\")\n",
        "  print('Quantile  1 = ',q1)\n",
        "  print('Quantile 3 = ', q3)\n",
        "  print(\"Mean = \", df[ref].mean())\n",
        "  print(\"Median = \", df[ref].median())\n",
        "  print(\"Inter-quartile Range = \",iqr)\n",
        "\n",
        "  # Define outliers\n",
        "  outliers =  df[ref][(df[ref] > q3+3*iqr) | (df[ref] < q1-3*iqr)] \n",
        "  print(\"Number of Outliers: \", outliers.size, \"\\n\")\n",
        "\n",
        "  # Display boxplot with outliers\n",
        "  fig, ax = plt.subplots()\n",
        "  ax.set_ylabel(name)\n",
        "  df[ref].plot(kind='box').set_title('Boxplot of Fake News ' + name + ' with Outliers')  \n",
        "\n",
        "  # Removing outliers\n",
        "  df = df.drop(outliers.index)\n",
        "\n",
        "  # Re-displaying boxplot without outliers\n",
        "  fig, ax = plt.subplots()\n",
        "  ax.set_ylabel(name)\n",
        "  df[ref].plot(kind='box').set_title('Boxplot of Fake News ' + name + ' without Outliers')\n",
        "\n",
        "  # Returning dataFrame\n",
        "  return df\n",
        "\n",
        "def removeAllOutliers(df):\n",
        "  '''\n",
        "  Function takes input df(Pandas DataFrame). \n",
        "\n",
        "  Function creates features for word and letter lengths for title and text of \n",
        "  fake news and removes outliers for all.\n",
        "\n",
        "  Returns dataframe with all forms of outliers removed. \n",
        "  '''\n",
        "  # Defining each feature to create\n",
        "  str_xw = 'text_word_len'\n",
        "  str_xl = 'text_letter_len'\n",
        "  str_tw = 'title_word_len'\n",
        "  str_tl = 'title_letter_len'\n",
        "\n",
        "  # Adding columns with word and letter length for title and text\n",
        "  df[str_xw] = df['text'].apply(lambda x: len(x.split()))\n",
        "  df[str_tw] = df['title'].apply(lambda x: len(x.split()))\n",
        "  df[str_xl] = df['text'].apply(len)\n",
        "  df[str_tl] = df['title'].apply(len)\n",
        "\n",
        "  # Inputting each into fn to remove outliers\n",
        "  df1 = removeFeatureOutliers(df, str_tw, \"Title Words\")\n",
        "  df2 = removeFeatureOutliers(df1, str_xw, \"Text Words\")\n",
        "  df3 = removeFeatureOutliers(df2, str_tl, \"Title Letters\")\n",
        "  df4 = removeFeatureOutliers(df3, str_xl, \"Text Letters\")\n",
        "\n",
        "  return df4\n",
        "\n",
        "\n",
        "news_data_stats = removeAllOutliers(all_news)"
      ],
      "execution_count": 21,
      "outputs": [
        {
          "output_type": "stream",
          "text": [
            "Title Words:\n",
            "Quantile  1 =  9.0\n",
            "Quantile 3 =  15.0\n",
            "Mean =  12.05024456792999\n",
            "Median =  12.0\n",
            "Inter-quartile Range =  6.0\n",
            "Number of Outliers:  48 \n",
            "\n",
            "Text Words:\n",
            "Quantile  1 =  260.0\n",
            "Quantile 3 =  996.0\n",
            "Mean =  723.7500416597234\n",
            "Median =  518.0\n",
            "Inter-quartile Range =  736.0\n",
            "Number of Outliers:  404 \n",
            "\n",
            "Title Letters:\n",
            "Quantile  1 =  57.0\n",
            "Quantile 3 =  86.0\n",
            "Mean =  72.3033343468126\n",
            "Median =  73.0\n",
            "Inter-quartile Range =  29.0\n",
            "Number of Outliers:  49 \n",
            "\n",
            "Text Letters:\n",
            "Quantile  1 =  1552.75\n",
            "Quantile 3 =  5789.0\n",
            "Mean =  3975.0963724959392\n",
            "Median =  3088.0\n",
            "Inter-quartile Range =  4236.25\n",
            "Number of Outliers:  35 \n",
            "\n"
          ],
          "name": "stdout"
        },
        {
          "output_type": "display_data",
          "data": {
            "image/png": "[encoded data removed]",
            "text/plain": [
              "<Figure size 432x288 with 1 Axes>"
            ]
          },
          "metadata": {
            "tags": []
          }
        },
        {
          "output_type": "display_data",
          "data": {
            "image/png": "[encoded data removed]",
            "text/plain": [
              "<Figure size 432x288 with 1 Axes>"
            ]
          },
          "metadata": {
            "tags": []
          }
        },
        {
          "output_type": "display_data",
          "data": {
            "image/png": "[encoded data removed]",
            "text/plain": [
              "<Figure size 432x288 with 1 Axes>"
            ]
          },
          "metadata": {
            "tags": []
          }
        },
        {
          "output_type": "display_data",
          "data": {
            "image/png": "[encoded data removed]",
            "text/plain": [
              "<Figure size 432x288 with 1 Axes>"
            ]
          },
          "metadata": {
            "tags": []
          }
        },
        {
          "output_type": "display_data",
          "data": {
            "image/png": "[encoded data removed]",
            "text/plain": [
              "<Figure size 432x288 with 1 Axes>"
            ]
          },
          "metadata": {
            "tags": []
          }
        },
        {
          "output_type": "display_data",
          "data": {
            "image/png": "[encoded data removed]",
            "text/plain": [
              "<Figure size 432x288 with 1 Axes>"
            ]
          },
          "metadata": {
            "tags": []
          }
        },
        {
          "output_type": "display_data",
          "data": {
            "image/png": "[encoded data removed]",
            "text/plain": [
              "<Figure size 432x288 with 1 Axes>"
            ]
          },
          "metadata": {
            "tags": []
          }
        },
        {
          "output_type": "display_data",
          "data": {
            "image/png": "[encoded data removed]",
            "text/plain": [
              "<Figure size 432x288 with 1 Axes>"
            ]
          },
          "metadata": {
            "tags": []
          }
        }
      ]
    },
    {
      "cell_type": "code",
      "metadata": {
        "id": "z00Gr3Okp-1L",
        "outputId": "0e85e6d5-2bef-48a4-f712-90b07ea87d67",
        "colab": {
          "base_uri": "https://localhost:8080/",
          "height": 297
        }
      },
      "source": [
        "# Visual inspection of data to see any contextual outliers\n",
        "news_data_stats.describe()"
      ],
      "execution_count": 22,
      "outputs": [
        {
          "output_type": "execute_result",
          "data": {
            "text/html": [
              "<div>\n",
              "<style scoped>\n",
              "    .dataframe tbody tr th:only-of-type {\n",
              "        vertical-align: middle;\n",
              "    }\n",
              "\n",
              "    .dataframe tbody tr th {\n",
              "        vertical-align: top;\n",
              "    }\n",
              "\n",
              "    .dataframe thead th {\n",
              "        text-align: right;\n",
              "    }\n",
              "</style>\n",
              "<table border=\"1\" class=\"dataframe\">\n",
              "  <thead>\n",
              "    <tr style=\"text-align: right;\">\n",
              "      <th></th>\n",
              "      <th>label</th>\n",
              "      <th>text_word_len</th>\n",
              "      <th>title_word_len</th>\n",
              "      <th>text_letter_len</th>\n",
              "      <th>title_letter_len</th>\n",
              "    </tr>\n",
              "  </thead>\n",
              "  <tbody>\n",
              "    <tr>\n",
              "      <th>count</th>\n",
              "      <td>29517.000000</td>\n",
              "      <td>29517.000000</td>\n",
              "      <td>29517.000000</td>\n",
              "      <td>29517.000000</td>\n",
              "      <td>29517.00000</td>\n",
              "    </tr>\n",
              "    <tr>\n",
              "      <th>mean</th>\n",
              "      <td>0.432564</td>\n",
              "      <td>658.729647</td>\n",
              "      <td>11.978927</td>\n",
              "      <td>3956.856117</td>\n",
              "      <td>72.11451</td>\n",
              "    </tr>\n",
              "    <tr>\n",
              "      <th>std</th>\n",
              "      <td>0.495440</td>\n",
              "      <td>529.326844</td>\n",
              "      <td>3.949157</td>\n",
              "      <td>3150.504326</td>\n",
              "      <td>22.30728</td>\n",
              "    </tr>\n",
              "    <tr>\n",
              "      <th>min</th>\n",
              "      <td>0.000000</td>\n",
              "      <td>0.000000</td>\n",
              "      <td>1.000000</td>\n",
              "      <td>1.000000</td>\n",
              "      <td>5.00000</td>\n",
              "    </tr>\n",
              "    <tr>\n",
              "      <th>25%</th>\n",
              "      <td>0.000000</td>\n",
              "      <td>256.000000</td>\n",
              "      <td>9.000000</td>\n",
              "      <td>1551.000000</td>\n",
              "      <td>57.00000</td>\n",
              "    </tr>\n",
              "    <tr>\n",
              "      <th>50%</th>\n",
              "      <td>0.000000</td>\n",
              "      <td>508.000000</td>\n",
              "      <td>12.000000</td>\n",
              "      <td>3082.000000</td>\n",
              "      <td>73.00000</td>\n",
              "    </tr>\n",
              "    <tr>\n",
              "      <th>75%</th>\n",
              "      <td>1.000000</td>\n",
              "      <td>967.000000</td>\n",
              "      <td>15.000000</td>\n",
              "      <td>5775.000000</td>\n",
              "      <td>86.00000</td>\n",
              "    </tr>\n",
              "    <tr>\n",
              "      <th>max</th>\n",
              "      <td>1.000000</td>\n",
              "      <td>3194.000000</td>\n",
              "      <td>33.000000</td>\n",
              "      <td>18456.000000</td>\n",
              "      <td>173.00000</td>\n",
              "    </tr>\n",
              "  </tbody>\n",
              "</table>\n",
              "</div>"
            ],
            "text/plain": [
              "              label  text_word_len  ...  text_letter_len  title_letter_len\n",
              "count  29517.000000   29517.000000  ...     29517.000000       29517.00000\n",
              "mean       0.432564     658.729647  ...      3956.856117          72.11451\n",
              "std        0.495440     529.326844  ...      3150.504326          22.30728\n",
              "min        0.000000       0.000000  ...         1.000000           5.00000\n",
              "25%        0.000000     256.000000  ...      1551.000000          57.00000\n",
              "50%        0.000000     508.000000  ...      3082.000000          73.00000\n",
              "75%        1.000000     967.000000  ...      5775.000000          86.00000\n",
              "max        1.000000    3194.000000  ...     18456.000000         173.00000\n",
              "\n",
              "[8 rows x 5 columns]"
            ]
          },
          "metadata": {
            "tags": []
          },
          "execution_count": 22
        }
      ]
    },
    {
      "cell_type": "code",
      "metadata": {
        "id": "2jv_2kpx92vi"
      },
      "source": [
        "# Removing contextual outliers\n",
        "news_data_stats = news_data_stats.loc[news_data_stats['text_word_len'] > 5]\n",
        "news_data_stats = news_data_stats.loc[news_data_stats['title_letter_len'] > 2] "
      ],
      "execution_count": 23,
      "outputs": []
    },
    {
      "cell_type": "code",
      "metadata": {
        "id": "UGuVr8Mz92zE",
        "outputId": "b6ec7c53-df6b-44e6-dd5f-2548db524b80",
        "colab": {
          "base_uri": "https://localhost:8080/",
          "height": 85
        }
      },
      "source": [
        "# Removing lengths of words and letters as no longer needed for analysis\n",
        "news_data = news_data_stats.drop(['text_word_len', 'title_word_len', 'title_letter_len', 'text_letter_len'], axis = 1)\n",
        "print(news_data.count())"
      ],
      "execution_count": 24,
      "outputs": [
        {
          "output_type": "stream",
          "text": [
            "title    29493\n",
            "text     29493\n",
            "label    29493\n",
            "dtype: int64\n"
          ],
          "name": "stdout"
        }
      ]
    },
    {
      "cell_type": "code",
      "metadata": {
        "id": "8tCV7Mp2oBv6"
      },
      "source": [
        "# Convert to csv\n",
        "news_data.to_csv(r\"/content/drive/My Drive/Data/final_preproccessed_data.csv\", index = False, header=True)"
      ],
      "execution_count": 28,
      "outputs": []
    },
    {
      "cell_type": "code",
      "metadata": {
        "id": "0TSnlDrnOk3P",
        "outputId": "4ec36d4e-facb-4a77-8eaa-ce18ac659d8b",
        "colab": {
          "base_uri": "https://localhost:8080/",
          "height": 419
        }
      },
      "source": [
        "# Checking csv conversion worked correctly\n",
        "check = read_data(PATH + \"final_preproccessed_data.csv\")\n",
        "check"
      ],
      "execution_count": 30,
      "outputs": [
        {
          "output_type": "execute_result",
          "data": {
            "text/html": [
              "<div>\n",
              "<style scoped>\n",
              "    .dataframe tbody tr th:only-of-type {\n",
              "        vertical-align: middle;\n",
              "    }\n",
              "\n",
              "    .dataframe tbody tr th {\n",
              "        vertical-align: top;\n",
              "    }\n",
              "\n",
              "    .dataframe thead th {\n",
              "        text-align: right;\n",
              "    }\n",
              "</style>\n",
              "<table border=\"1\" class=\"dataframe\">\n",
              "  <thead>\n",
              "    <tr style=\"text-align: right;\">\n",
              "      <th></th>\n",
              "      <th>title</th>\n",
              "      <th>text</th>\n",
              "      <th>label</th>\n",
              "    </tr>\n",
              "  </thead>\n",
              "  <tbody>\n",
              "    <tr>\n",
              "      <th>0</th>\n",
              "      <td>Muslims BUSTED: They Stole Millions In Gov’t B...</td>\n",
              "      <td>Print They should pay all the back all the mon...</td>\n",
              "      <td>1</td>\n",
              "    </tr>\n",
              "    <tr>\n",
              "      <th>1</th>\n",
              "      <td>Re: Why Did Attorney General Loretta Lynch Ple...</td>\n",
              "      <td>Why Did Attorney General Loretta Lynch Plead T...</td>\n",
              "      <td>1</td>\n",
              "    </tr>\n",
              "    <tr>\n",
              "      <th>2</th>\n",
              "      <td>BREAKING: Weiner Cooperating With FBI On Hilla...</td>\n",
              "      <td>Red State : \\nFox News Sunday reported this mo...</td>\n",
              "      <td>1</td>\n",
              "    </tr>\n",
              "    <tr>\n",
              "      <th>3</th>\n",
              "      <td>PIN DROP SPEECH BY FATHER OF DAUGHTER Kidnappe...</td>\n",
              "      <td>Email Kayla Mueller was a prisoner and torture...</td>\n",
              "      <td>1</td>\n",
              "    </tr>\n",
              "    <tr>\n",
              "      <th>4</th>\n",
              "      <td>FANTASTIC! TRUMP'S 7 POINT PLAN To Reform Heal...</td>\n",
              "      <td>Email HEALTHCARE REFORM TO MAKE AMERICA GREAT ...</td>\n",
              "      <td>1</td>\n",
              "    </tr>\n",
              "    <tr>\n",
              "      <th>...</th>\n",
              "      <td>...</td>\n",
              "      <td>...</td>\n",
              "      <td>...</td>\n",
              "    </tr>\n",
              "    <tr>\n",
              "      <th>29488</th>\n",
              "      <td>Process Analytical Instruments Market – Techna...</td>\n",
              "      <td>Technavio has published a new report on the gl...</td>\n",
              "      <td>0</td>\n",
              "    </tr>\n",
              "    <tr>\n",
              "      <th>29489</th>\n",
              "      <td>Travel deals: Get $1200 of air credit for two ...</td>\n",
              "      <td>APT is offering savings on its new Cape York a...</td>\n",
              "      <td>0</td>\n",
              "    </tr>\n",
              "    <tr>\n",
              "      <th>29490</th>\n",
              "      <td>A Taiwanese Recycler's Belief That All Waste I...</td>\n",
              "      <td>TAIPEI, Taiwan , Sept. 8, 2015 /PRNewswire/ --...</td>\n",
              "      <td>0</td>\n",
              "    </tr>\n",
              "    <tr>\n",
              "      <th>29491</th>\n",
              "      <td>Season curtain raiser is ideal way to honour John</td>\n",
              "      <td>Blackburn Sunday League John Haydock Memorial ...</td>\n",
              "      <td>0</td>\n",
              "    </tr>\n",
              "    <tr>\n",
              "      <th>29492</th>\n",
              "      <td>Four Cooper Standard Facilities Promote North ...</td>\n",
              "      <td>NOVI, Mich. , Sept. 30, 2015 /PRNewswire/ -- F...</td>\n",
              "      <td>0</td>\n",
              "    </tr>\n",
              "  </tbody>\n",
              "</table>\n",
              "<p>29493 rows × 3 columns</p>\n",
              "</div>"
            ],
            "text/plain": [
              "                                                   title  ... label\n",
              "0      Muslims BUSTED: They Stole Millions In Gov’t B...  ...     1\n",
              "1      Re: Why Did Attorney General Loretta Lynch Ple...  ...     1\n",
              "2      BREAKING: Weiner Cooperating With FBI On Hilla...  ...     1\n",
              "3      PIN DROP SPEECH BY FATHER OF DAUGHTER Kidnappe...  ...     1\n",
              "4      FANTASTIC! TRUMP'S 7 POINT PLAN To Reform Heal...  ...     1\n",
              "...                                                  ...  ...   ...\n",
              "29488  Process Analytical Instruments Market – Techna...  ...     0\n",
              "29489  Travel deals: Get $1200 of air credit for two ...  ...     0\n",
              "29490  A Taiwanese Recycler's Belief That All Waste I...  ...     0\n",
              "29491  Season curtain raiser is ideal way to honour John  ...     0\n",
              "29492  Four Cooper Standard Facilities Promote North ...  ...     0\n",
              "\n",
              "[29493 rows x 3 columns]"
            ]
          },
          "metadata": {
            "tags": []
          },
          "execution_count": 30
        }
      ]
    }
  ]
}