{
  "nbformat": 4,
  "nbformat_minor": 0,
  "metadata": {
    "accelerator": "GPU",
    "colab": {
      "name": "MultiChannel_CNN.ipynb",
      "provenance": [],
      "collapsed_sections": [],
      "mount_file_id": "1tApf6UIFASeuAJDpfR2-Qmtn-HUPUNyl",
      "authorship_tag": "ABX9TyO9Ajqh7m30cRk/jHxDsQvh",
      "include_colab_link": true
    },
    "kernelspec": {
      "display_name": "Python 3",
      "name": "python3"
    }
  },
  "cells": [
    {
      "cell_type": "markdown",
      "metadata": {
        "id": "view-in-github",
        "colab_type": "text"
      },
      "source": [
        "<a href=\"https://colab.research.google.com/github/krystaldowling/MAST30034_Final_Project-/blob/CNN_Model/3Channel_CNN.ipynb\" target=\"_parent\"><img src=\"https://colab.research.google.com/assets/colab-badge.svg\" alt=\"Open In Colab\"/></a>"
      ]
    },
    {
      "cell_type": "markdown",
      "metadata": {
        "id": "N3_GhxeGl3-7"
      },
      "source": [
        "This document contains modified code from https://machinelearningmastery.com/develop-n-gram-multichannel-convolutional-neural-network-sentiment-analysis/. "
      ]
    },
    {
      "cell_type": "code",
      "metadata": {
        "id": "trD-9g79UzrQ"
      },
      "source": [
        "# Import statements\n",
        "import pandas as pd\n",
        "from nltk import word_tokenize\n",
        "from numpy import array\n",
        "from sklearn.model_selection import train_test_split\n",
        "from keras.preprocessing.text import Tokenizer\n",
        "from keras.preprocessing.sequence import pad_sequences\n",
        "from keras.utils.vis_utils import plot_model\n",
        "from keras.models import Model\n",
        "from keras.layers import Input\n",
        "from keras.layers import Dense\n",
        "from keras.layers import Flatten\n",
        "from keras.layers import Dropout\n",
        "from keras.layers import Embedding\n",
        "from keras.layers.convolutional import Conv1D\n",
        "from keras.layers.convolutional import MaxPooling1D\n",
        "from keras.layers.merge import concatenate\n",
        "import numpy as np\n",
        "import matplotlib.pyplot as plt\n",
        "from sklearn.metrics import precision_score\n",
        "from sklearn.metrics import recall_score\n",
        "from sklearn.metrics import f1_score\n"
      ],
      "execution_count": null,
      "outputs": []
    },
    {
      "cell_type": "code",
      "metadata": {
        "id": "jKqPoZiXboFq",
        "outputId": "25079f66-1abb-4dcc-e3cc-61c94c1a4cee",
        "colab": {
          "base_uri": "https://localhost:8080/",
          "height": 419
        }
      },
      "source": [
        "# Loading in preproccessed data\n",
        "PATH = \"/content/drive/My Drive/Data/\"\n",
        "data = pd.read_csv(PATH + \"final_preproccessed_data.csv\", lineterminator='\\n')\n",
        "\n",
        "data"
      ],
      "execution_count": null,
      "outputs": [
        {
          "output_type": "execute_result",
          "data": {
            "text/html": [
              "<div>\n",
              "<style scoped>\n",
              "    .dataframe tbody tr th:only-of-type {\n",
              "        vertical-align: middle;\n",
              "    }\n",
              "\n",
              "    .dataframe tbody tr th {\n",
              "        vertical-align: top;\n",
              "    }\n",
              "\n",
              "    .dataframe thead th {\n",
              "        text-align: right;\n",
              "    }\n",
              "</style>\n",
              "<table border=\"1\" class=\"dataframe\">\n",
              "  <thead>\n",
              "    <tr style=\"text-align: right;\">\n",
              "      <th></th>\n",
              "      <th>title</th>\n",
              "      <th>text</th>\n",
              "      <th>label</th>\n",
              "    </tr>\n",
              "  </thead>\n",
              "  <tbody>\n",
              "    <tr>\n",
              "      <th>0</th>\n",
              "      <td>Muslims BUSTED: They Stole Millions In Gov’t B...</td>\n",
              "      <td>Print They should pay all the back all the mon...</td>\n",
              "      <td>1</td>\n",
              "    </tr>\n",
              "    <tr>\n",
              "      <th>1</th>\n",
              "      <td>Re: Why Did Attorney General Loretta Lynch Ple...</td>\n",
              "      <td>Why Did Attorney General Loretta Lynch Plead T...</td>\n",
              "      <td>1</td>\n",
              "    </tr>\n",
              "    <tr>\n",
              "      <th>2</th>\n",
              "      <td>BREAKING: Weiner Cooperating With FBI On Hilla...</td>\n",
              "      <td>Red State : \\nFox News Sunday reported this mo...</td>\n",
              "      <td>1</td>\n",
              "    </tr>\n",
              "    <tr>\n",
              "      <th>3</th>\n",
              "      <td>PIN DROP SPEECH BY FATHER OF DAUGHTER Kidnappe...</td>\n",
              "      <td>Email Kayla Mueller was a prisoner and torture...</td>\n",
              "      <td>1</td>\n",
              "    </tr>\n",
              "    <tr>\n",
              "      <th>4</th>\n",
              "      <td>FANTASTIC! TRUMP'S 7 POINT PLAN To Reform Heal...</td>\n",
              "      <td>Email HEALTHCARE REFORM TO MAKE AMERICA GREAT ...</td>\n",
              "      <td>1</td>\n",
              "    </tr>\n",
              "    <tr>\n",
              "      <th>...</th>\n",
              "      <td>...</td>\n",
              "      <td>...</td>\n",
              "      <td>...</td>\n",
              "    </tr>\n",
              "    <tr>\n",
              "      <th>29484</th>\n",
              "      <td>Travel deals: Get $1200 of air credit for two ...</td>\n",
              "      <td>APT is offering savings on its new Cape York a...</td>\n",
              "      <td>0</td>\n",
              "    </tr>\n",
              "    <tr>\n",
              "      <th>29485</th>\n",
              "      <td>Hospital patients 'more likely to die if admit...</td>\n",
              "      <td>Patients admitted to NHS hospitals on weekends...</td>\n",
              "      <td>0</td>\n",
              "    </tr>\n",
              "    <tr>\n",
              "      <th>29486</th>\n",
              "      <td>A Taiwanese Recycler's Belief That All Waste I...</td>\n",
              "      <td>TAIPEI, Taiwan , Sept. 8, 2015 /PRNewswire/ --...</td>\n",
              "      <td>0</td>\n",
              "    </tr>\n",
              "    <tr>\n",
              "      <th>29487</th>\n",
              "      <td>Season curtain raiser is ideal way to honour John</td>\n",
              "      <td>Blackburn Sunday League John Haydock Memorial ...</td>\n",
              "      <td>0</td>\n",
              "    </tr>\n",
              "    <tr>\n",
              "      <th>29488</th>\n",
              "      <td>Four Cooper Standard Facilities Promote North ...</td>\n",
              "      <td>NOVI, Mich. , Sept. 30, 2015 /PRNewswire/ -- F...</td>\n",
              "      <td>0</td>\n",
              "    </tr>\n",
              "  </tbody>\n",
              "</table>\n",
              "<p>29489 rows × 3 columns</p>\n",
              "</div>"
            ],
            "text/plain": [
              "                                                   title  ... label\n",
              "0      Muslims BUSTED: They Stole Millions In Gov’t B...  ...     1\n",
              "1      Re: Why Did Attorney General Loretta Lynch Ple...  ...     1\n",
              "2      BREAKING: Weiner Cooperating With FBI On Hilla...  ...     1\n",
              "3      PIN DROP SPEECH BY FATHER OF DAUGHTER Kidnappe...  ...     1\n",
              "4      FANTASTIC! TRUMP'S 7 POINT PLAN To Reform Heal...  ...     1\n",
              "...                                                  ...  ...   ...\n",
              "29484  Travel deals: Get $1200 of air credit for two ...  ...     0\n",
              "29485  Hospital patients 'more likely to die if admit...  ...     0\n",
              "29486  A Taiwanese Recycler's Belief That All Waste I...  ...     0\n",
              "29487  Season curtain raiser is ideal way to honour John  ...     0\n",
              "29488  Four Cooper Standard Facilities Promote North ...  ...     0\n",
              "\n",
              "[29489 rows x 3 columns]"
            ]
          },
          "metadata": {
            "tags": []
          },
          "execution_count": 54
        }
      ]
    },
    {
      "cell_type": "code",
      "metadata": {
        "id": "36438kdFcw4S"
      },
      "source": [
        "# Performing test-train split\n",
        "data_train, data_test = train_test_split(data, test_size=0.25, random_state=42)"
      ],
      "execution_count": null,
      "outputs": []
    },
    {
      "cell_type": "code",
      "metadata": {
        "id": "F1UWR36Ybk_G"
      },
      "source": [
        "# Tokenizing data\n",
        "def tokenize_text(text):\n",
        "\ttokenizer = Tokenizer()\n",
        "\ttokenizer.fit_on_texts(text)\n",
        "\treturn tokenizer\n",
        "\n",
        "tokenizer = tokenize_text(data_train['text'])"
      ],
      "execution_count": null,
      "outputs": []
    },
    {
      "cell_type": "code",
      "metadata": {
        "id": "bVeEaN2ibT94",
        "outputId": "289b519f-4e7f-47f7-925f-82f26c37a254",
        "colab": {
          "base_uri": "https://localhost:8080/",
          "height": 34
        }
      },
      "source": [
        "# Find max document length\n",
        "maxlen = max([len(s.split()) for s in data_train['text']]) \n",
        "\n",
        "print('Max document length: %d' % maxlen)"
      ],
      "execution_count": null,
      "outputs": [
        {
          "output_type": "stream",
          "text": [
            "Max document length: 3194\n"
          ],
          "name": "stdout"
        }
      ]
    },
    {
      "cell_type": "code",
      "metadata": {
        "id": "09d8R47WYrZH",
        "outputId": "cbe69ef9-4324-4045-bb17-09cf22cef07b",
        "colab": {
          "base_uri": "https://localhost:8080/",
          "height": 34
        }
      },
      "source": [
        "# Find vocabulary size\n",
        "vocab_size = len(tokenizer.word_index) + 1\n",
        "\n",
        "print('Vocabulary size: %d' % vocab_size)"
      ],
      "execution_count": null,
      "outputs": [
        {
          "output_type": "stream",
          "text": [
            "Vocabulary size: 199617\n"
          ],
          "name": "stdout"
        }
      ]
    },
    {
      "cell_type": "code",
      "metadata": {
        "id": "nz5e2Xm9dxwO"
      },
      "source": [
        "# Encode lines\n",
        "def encode_text(tokenizer, lines, length):\n",
        "  encoded = tokenizer.texts_to_sequences(lines)\n",
        "  # Pad the encoded sequences\n",
        "  padded = pad_sequences(encoded, maxlen=length, padding='post')\n",
        "  return padded\n",
        "\n",
        "encoded_data = encode_text(tokenizer, data_train['text'], maxlen)\n",
        "encoded_data_testing = encode_text(tokenizer, data_test['text'], maxlen)"
      ],
      "execution_count": null,
      "outputs": []
    },
    {
      "cell_type": "code",
      "metadata": {
        "id": "o42bxuT7fUrB"
      },
      "source": [
        "def define_model(length, vocab_size):\n",
        "\t# Channel 1\n",
        "\tinputs1 = Input(shape=(length,))\n",
        "\tembedding1 = Embedding(vocab_size, 100)(inputs1)\n",
        "\tconv1 = Conv1D(filters=32, kernel_size=4, activation='relu')(embedding1)\n",
        "\tdrop1 = Dropout(0.5)(conv1)\n",
        "\tpool1 = MaxPooling1D(pool_size=2)(drop1)\n",
        "\tflat1 = Flatten()(pool1)\n",
        "\t# Channel 2\n",
        "\tembedding2 = Embedding(vocab_size, 100)(inputs1)\n",
        "\tconv2 = Conv1D(filters=32, kernel_size=6, activation='relu')(embedding2)\n",
        "\tdrop2 = Dropout(0.5)(conv2)\n",
        "\tpool2 = MaxPooling1D(pool_size=2)(drop2)\n",
        "\tflat2 = Flatten()(pool2)\n",
        "\t# Channel 3\n",
        "\tembedding3 = Embedding(vocab_size, 100)(inputs1)\n",
        "\tconv3 = Conv1D(filters=32, kernel_size=8, activation='relu')(embedding3)\n",
        "\tdrop3 = Dropout(0.5)(conv3)\n",
        "\tpool3 = MaxPooling1D(pool_size=2)(drop3)\n",
        "\tflat3 = Flatten()(pool3)\n",
        "\t# Merge Channels\n",
        "\tmerged = concatenate([flat1, flat2, flat3])\n",
        "\tdense1 = Dense(10, activation='relu')(merged)\n",
        "\toutputs = Dense(1, activation='sigmoid')(dense1)\n",
        "\tmodel = Model(inputs=[inputs1], outputs=outputs)\n",
        "\t# Compile model\n",
        "\tmodel.compile(loss='binary_crossentropy', optimizer='adam', metrics=['accuracy'])\n",
        "\t# Print model summary\n",
        "\tprint(model.summary())\n",
        "  # Save model plot\n",
        "\tplot_model(model, show_shapes=True, to_file='/content/drive/My Drive/multichannel.png')\n",
        "\treturn model\n"
      ],
      "execution_count": null,
      "outputs": []
    },
    {
      "cell_type": "code",
      "metadata": {
        "id": "JzTRY0rifcRa",
        "outputId": "5edd5693-f2bc-497b-985a-491366e82761",
        "colab": {
          "base_uri": "https://localhost:8080/",
          "height": 1000
        }
      },
      "source": [
        "# Define model\n",
        "model = define_model(maxlen, vocab_size)\n",
        "# Fit model to data\n",
        "history = model.fit([encoded_data], array(data_train['label']), epochs=25, batch_size=32, validation_data=(encoded_data_testing, array(data_test['label'])))\n",
        "# Save model\n",
        "model.save('model.h5')"
      ],
      "execution_count": null,
      "outputs": [
        {
          "output_type": "stream",
          "text": [
            "Model: \"functional_5\"\n",
            "__________________________________________________________________________________________________\n",
            "Layer (type)                    Output Shape         Param #     Connected to                     \n",
            "==================================================================================================\n",
            "input_3 (InputLayer)            [(None, 3194)]       0                                            \n",
            "__________________________________________________________________________________________________\n",
            "embedding_6 (Embedding)         (None, 3194, 100)    19961700    input_3[0][0]                    \n",
            "__________________________________________________________________________________________________\n",
            "embedding_7 (Embedding)         (None, 3194, 100)    19961700    input_3[0][0]                    \n",
            "__________________________________________________________________________________________________\n",
            "embedding_8 (Embedding)         (None, 3194, 100)    19961700    input_3[0][0]                    \n",
            "__________________________________________________________________________________________________\n",
            "conv1d_6 (Conv1D)               (None, 3191, 32)     12832       embedding_6[0][0]                \n",
            "__________________________________________________________________________________________________\n",
            "conv1d_7 (Conv1D)               (None, 3189, 32)     19232       embedding_7[0][0]                \n",
            "__________________________________________________________________________________________________\n",
            "conv1d_8 (Conv1D)               (None, 3187, 32)     25632       embedding_8[0][0]                \n",
            "__________________________________________________________________________________________________\n",
            "dropout_6 (Dropout)             (None, 3191, 32)     0           conv1d_6[0][0]                   \n",
            "__________________________________________________________________________________________________\n",
            "dropout_7 (Dropout)             (None, 3189, 32)     0           conv1d_7[0][0]                   \n",
            "__________________________________________________________________________________________________\n",
            "dropout_8 (Dropout)             (None, 3187, 32)     0           conv1d_8[0][0]                   \n",
            "__________________________________________________________________________________________________\n",
            "max_pooling1d_6 (MaxPooling1D)  (None, 1595, 32)     0           dropout_6[0][0]                  \n",
            "__________________________________________________________________________________________________\n",
            "max_pooling1d_7 (MaxPooling1D)  (None, 1594, 32)     0           dropout_7[0][0]                  \n",
            "__________________________________________________________________________________________________\n",
            "max_pooling1d_8 (MaxPooling1D)  (None, 1593, 32)     0           dropout_8[0][0]                  \n",
            "__________________________________________________________________________________________________\n",
            "flatten_6 (Flatten)             (None, 51040)        0           max_pooling1d_6[0][0]            \n",
            "__________________________________________________________________________________________________\n",
            "flatten_7 (Flatten)             (None, 51008)        0           max_pooling1d_7[0][0]            \n",
            "__________________________________________________________________________________________________\n",
            "flatten_8 (Flatten)             (None, 50976)        0           max_pooling1d_8[0][0]            \n",
            "__________________________________________________________________________________________________\n",
            "concatenate_2 (Concatenate)     (None, 153024)       0           flatten_6[0][0]                  \n",
            "                                                                 flatten_7[0][0]                  \n",
            "                                                                 flatten_8[0][0]                  \n",
            "__________________________________________________________________________________________________\n",
            "dense_4 (Dense)                 (None, 10)           1530250     concatenate_2[0][0]              \n",
            "__________________________________________________________________________________________________\n",
            "dense_5 (Dense)                 (None, 1)            11          dense_4[0][0]                    \n",
            "==================================================================================================\n",
            "Total params: 61,473,057\n",
            "Trainable params: 61,473,057\n",
            "Non-trainable params: 0\n",
            "__________________________________________________________________________________________________\n",
            "None\n",
            "Epoch 1/25\n",
            "692/692 [==============================] - 470s 679ms/step - loss: 0.3527 - accuracy: 0.8375 - val_loss: 0.2592 - val_accuracy: 0.9040\n",
            "Epoch 2/25\n",
            "692/692 [==============================] - 472s 682ms/step - loss: 0.1299 - accuracy: 0.9490 - val_loss: 0.3114 - val_accuracy: 0.8867\n",
            "Epoch 3/25\n",
            "692/692 [==============================] - 470s 679ms/step - loss: 0.0261 - accuracy: 0.9918 - val_loss: 0.4705 - val_accuracy: 0.8747\n",
            "Epoch 4/25\n",
            "692/692 [==============================] - 463s 669ms/step - loss: 0.0078 - accuracy: 0.9978 - val_loss: 0.4893 - val_accuracy: 0.8851\n",
            "Epoch 5/25\n",
            "692/692 [==============================] - 470s 679ms/step - loss: 0.0047 - accuracy: 0.9986 - val_loss: 0.6012 - val_accuracy: 0.8853\n",
            "Epoch 6/25\n",
            "692/692 [==============================] - 468s 677ms/step - loss: 0.0084 - accuracy: 0.9975 - val_loss: 0.6385 - val_accuracy: 0.8749\n",
            "Epoch 7/25\n",
            "692/692 [==============================] - 469s 678ms/step - loss: 0.0211 - accuracy: 0.9945 - val_loss: 0.6854 - val_accuracy: 0.8672\n",
            "Epoch 8/25\n",
            "692/692 [==============================] - 467s 675ms/step - loss: 0.0105 - accuracy: 0.9969 - val_loss: 0.6657 - val_accuracy: 0.8861\n",
            "Epoch 9/25\n",
            "692/692 [==============================] - 465s 672ms/step - loss: 0.0040 - accuracy: 0.9986 - val_loss: 0.7223 - val_accuracy: 0.8749\n",
            "Epoch 10/25\n",
            "692/692 [==============================] - 467s 675ms/step - loss: 0.0027 - accuracy: 0.9990 - val_loss: 0.8433 - val_accuracy: 0.8748\n",
            "Epoch 11/25\n",
            "692/692 [==============================] - 468s 676ms/step - loss: 0.0048 - accuracy: 0.9985 - val_loss: 0.9076 - val_accuracy: 0.8781\n",
            "Epoch 12/25\n",
            "692/692 [==============================] - 466s 674ms/step - loss: 0.0173 - accuracy: 0.9956 - val_loss: 0.7419 - val_accuracy: 0.8794\n",
            "Epoch 13/25\n",
            "692/692 [==============================] - 466s 673ms/step - loss: 0.0053 - accuracy: 0.9982 - val_loss: 0.8321 - val_accuracy: 0.8759\n",
            "Epoch 14/25\n",
            "692/692 [==============================] - 468s 676ms/step - loss: 0.0022 - accuracy: 0.9991 - val_loss: 1.7644 - val_accuracy: 0.8470\n",
            "Epoch 15/25\n",
            "692/692 [==============================] - 471s 680ms/step - loss: 0.0092 - accuracy: 0.9976 - val_loss: 0.8170 - val_accuracy: 0.8774\n",
            "Epoch 16/25\n",
            "692/692 [==============================] - 473s 683ms/step - loss: 0.0050 - accuracy: 0.9987 - val_loss: 0.9304 - val_accuracy: 0.8756\n",
            "Epoch 17/25\n",
            "692/692 [==============================] - 469s 678ms/step - loss: 0.0020 - accuracy: 0.9992 - val_loss: 0.9429 - val_accuracy: 0.8830\n",
            "Epoch 18/25\n",
            "692/692 [==============================] - 466s 674ms/step - loss: 9.0016e-04 - accuracy: 0.9997 - val_loss: 1.1750 - val_accuracy: 0.8851\n",
            "Epoch 19/25\n",
            "692/692 [==============================] - 471s 681ms/step - loss: 0.0049 - accuracy: 0.9986 - val_loss: 1.2457 - val_accuracy: 0.8697\n",
            "Epoch 20/25\n",
            "692/692 [==============================] - 480s 694ms/step - loss: 0.0046 - accuracy: 0.9985 - val_loss: 1.1678 - val_accuracy: 0.8802\n",
            "Epoch 21/25\n",
            "692/692 [==============================] - 482s 696ms/step - loss: 0.0084 - accuracy: 0.9976 - val_loss: 1.0062 - val_accuracy: 0.8737\n",
            "Epoch 22/25\n",
            "692/692 [==============================] - 485s 701ms/step - loss: 0.0027 - accuracy: 0.9991 - val_loss: 1.0769 - val_accuracy: 0.8763\n",
            "Epoch 23/25\n",
            "692/692 [==============================] - 484s 699ms/step - loss: 0.0038 - accuracy: 0.9990 - val_loss: 1.1156 - val_accuracy: 0.8710\n",
            "Epoch 24/25\n",
            "692/692 [==============================] - 473s 683ms/step - loss: 0.0025 - accuracy: 0.9993 - val_loss: 1.2289 - val_accuracy: 0.8774\n",
            "Epoch 25/25\n",
            "692/692 [==============================] - 471s 680ms/step - loss: 0.0050 - accuracy: 0.9986 - val_loss: 1.2284 - val_accuracy: 0.8800\n"
          ],
          "name": "stdout"
        }
      ]
    },
    {
      "cell_type": "code",
      "metadata": {
        "id": "18u4e6tyo93k",
        "outputId": "d4611877-2684-426e-9939-ea472e8d79f0",
        "colab": {
          "base_uri": "https://localhost:8080/",
          "height": 102
        }
      },
      "source": [
        "# Using code modified from https://machinelearningmastery.com/how-to-calculate-precision-recall-f1-and-more-for-deep-learning-models/\n",
        "\n",
        "pred = model.predict(encoded_data_testing)\n",
        "pred = np.rint(pred)\n",
        "\n",
        "# Evaluate model on training data\n",
        "loss_train, acc_train = model.evaluate([encoded_data], array(data_train['label']), verbose=0)\n",
        "print('Train Accuracy: %f' % (acc_train*100))\n",
        " \n",
        "# Evaluate model on test data\n",
        "loss_test, acc_test = model.evaluate([encoded_data_testing],array(data_test['label']), verbose=0)\n",
        "print('Test Accuracy: %f' % (acc_test*100))\n",
        "\n",
        "# Precision Score\n",
        "precision = precision_score(array(data_test['label']), pred)\n",
        "print('Test Precision: %f' % (precision*100))\n",
        "\n",
        "# Recall Score\n",
        "recall = recall_score(array(data_test['label']), pred)\n",
        "print('Test Recall: %f' % (recall*100))\n",
        "\n",
        "# F1 Score\n",
        "f1 = f1_score(array(data_test['label']), pred)\n",
        "print('Test F1 score: %f' % (f1*100))\n"
      ],
      "execution_count": null,
      "outputs": [
        {
          "output_type": "stream",
          "text": [
            "Train Accuracy: 99.950260\n",
            "Test Accuracy: 87.996745\n",
            "Test Precision: 88.213811\n",
            "Test Recall: 83.369940\n",
            "Test F1 score: 85.723504\n"
          ],
          "name": "stdout"
        }
      ]
    },
    {
      "cell_type": "code",
      "metadata": {
        "id": "bzqVGV_akYgI",
        "outputId": "c15f3fe2-4450-4565-9ff0-32351a932e63",
        "colab": {
          "base_uri": "https://localhost:8080/",
          "height": 354
        }
      },
      "source": [
        "# Code modified from https://realpython.com/python-keras-text-classification/\n",
        "\n",
        "plt.style.use('ggplot')\n",
        "\n",
        "# Function to print plot of accuracy and loss of training and test data\n",
        "def plot_history(history):\n",
        "    acc = history.history['accuracy']\n",
        "    val_acc = history.history['val_accuracy']\n",
        "    loss = history.history['loss']\n",
        "    val_loss = history.history['val_loss']\n",
        "    x = range(1, len(acc) + 1)\n",
        "\n",
        "    plt.figure(figsize=(12, 5))\n",
        "\n",
        "    plt.subplot(1, 2, 1)\n",
        "    plt.plot(x, acc, 'forestgreen', label='Training Acc')\n",
        "    plt.plot(x, val_acc, 'darkorchid', label='Testing Acc')\n",
        "    plt.title('Training and Testing Accuracy of Model')\n",
        "    plt.ylabel('Accuracy')\n",
        "    plt.xlabel('Epoch') \n",
        "    plt.legend()\n",
        "\n",
        "    plt.subplot(1, 2, 2)\n",
        "    plt.plot(x, loss, 'forestgreen', label='Training loss')\n",
        "    plt.plot(x, val_loss, 'darkorchid', label='Testing loss')\n",
        "    plt.title('Training and Testing Loss of Model')\n",
        "    plt.ylabel('Loss')\n",
        "    plt.xlabel('Epoch')\n",
        "    plt.legend()\n",
        "\n",
        "# Plot model data\n",
        "plot_history(history)"
      ],
      "execution_count": null,
      "outputs": [
        {
          "output_type": "display_data",
          "data": {
            "image/png": "[encoded data removed]",
            "text/plain": [
              "<Figure size 864x360 with 2 Axes>"
            ]
          },
          "metadata": {
            "tags": []
          }
        }
      ]
    }
  ]
}