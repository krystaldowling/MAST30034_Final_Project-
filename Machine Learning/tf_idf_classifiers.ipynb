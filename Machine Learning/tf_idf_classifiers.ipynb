{
  "nbformat": 4,
  "nbformat_minor": 0,
  "metadata": {
    "colab": {
      "name": "tf-idf_classifiers.ipynb",
      "provenance": [],
      "mount_file_id": "1js4xx3IIyihMUEBBfeNpHkyP3f6VWEdA",
      "authorship_tag": "ABX9TyOHPVUIKZS2ouTZCfM1cWHe",
      "include_colab_link": true
    },
    "kernelspec": {
      "name": "python3",
      "display_name": "Python 3"
    }
  },
  "cells": [
    {
      "cell_type": "markdown",
      "metadata": {
        "id": "view-in-github",
        "colab_type": "text"
      },
      "source": [
        "<a href=\"https://colab.research.google.com/github/krystaldowling/MAST30034_Final_Project-/blob/ml_tfidf/tf_idf_classifiers.ipynb\" target=\"_parent\"><img src=\"https://colab.research.google.com/assets/colab-badge.svg\" alt=\"Open In Colab\"/></a>"
      ]
    },
    {
      "cell_type": "code",
      "metadata": {
        "id": "td8axiZhnshR"
      },
      "source": [
        "import pandas as pd\n",
        "import numpy as np\n",
        "import scipy\n",
        "import pickle\n",
        "import matplotlib.pyplot as plt\n",
        "import seaborn as sns\n",
        "\n",
        "from sklearn.feature_extraction.text import CountVectorizer\n",
        "from sklearn.feature_extraction.text import TfidfTransformer\n",
        "\n",
        "from sklearn.model_selection import train_test_split\n",
        "from sklearn.feature_selection import SelectKBest, chi2\n",
        "from sklearn.feature_selection import mutual_info_classif\n",
        "from sklearn.linear_model import LogisticRegression\n",
        "from sklearn.naive_bayes import GaussianNB, MultinomialNB\n",
        "from sklearn.svm import SVC\n",
        "from sklearn.model_selection import GridSearchCV\n",
        "from sklearn.metrics import f1_score\n",
        "from sklearn.metrics import precision_score\n",
        "from sklearn.metrics import recall_score\n",
        "from sklearn.metrics import roc_auc_score"
      ],
      "execution_count": null,
      "outputs": []
    },
    {
      "cell_type": "code",
      "metadata": {
        "id": "i3FbBpXsn0i9"
      },
      "source": [
        "from sklearn.model_selection import train_test_split\n",
        "\n",
        "news_data = pd.read_csv(\"/content/drive/My Drive/Data/final_preproccessed_data.csv\")\n",
        "\n",
        "news_data.index.name = 'index'\n",
        "\n",
        "news_train, news_test, label_train, label_test = train_test_split(news_data.loc[:,['title','text']], \n",
        "                                                        news_data.loc[:,'label'], test_size=0.25, \n",
        "                                                        random_state=88)"
      ],
      "execution_count": null,
      "outputs": []
    },
    {
      "cell_type": "code",
      "metadata": {
        "id": "hEW2XC7_od0_"
      },
      "source": [
        "def count_vect(X_train, body):\n",
        "  '''\n",
        "  function converts a text to a matrix of token counts\n",
        "  returns a sparse matrix of counts\n",
        "  '''\n",
        "  count_vectoriser = CountVectorizer()\n",
        "  X_train_counts = count_vectoriser.fit_transform(X_train)\n",
        "  \n",
        "  # Save the vectorizer\n",
        "  vec_file = body + '_vectorizer.pickle'\n",
        "  pickle.dump(count_vectoriser, open(vec_file, 'wb'))\n",
        "\n",
        "  return X_train_counts, count_vectoriser\n",
        "\n",
        "train_text_counts, text_count_vec = count_vect(news_train['text'], 'text')\n",
        "train_title_counts, title_count_vec = count_vect(news_train['title'], 'title')\n",
        "\n",
        "\n",
        "\n",
        "def tfidf_count_transform(X_train_counts, body):  \n",
        "  '''\n",
        "  function transforms count matrix to a normalized tf-idf representation\n",
        "  scales down the effect of words that appear frequently in a corpus\n",
        "  '''\n",
        "  tfidf_transformer = TfidfTransformer()\n",
        "  X_train_tfidf = tfidf_transformer.fit_transform(X_train_counts)\n",
        "\n",
        "  # Save the trasnformer\n",
        "  vec_file = body + '_transformer.pickle'\n",
        "  pickle.dump(tfidf_transformer, open(vec_file, 'wb'))\n",
        "\n",
        "  return X_train_tfidf, tfidf_transformer\n",
        "\n",
        "train_text_tfidf, text_tfidf_transformer = tfidf_count_transform(train_text_counts, 'text')\n",
        "train_title_tfidf, title_tfidf_transformer  = tfidf_count_transform(train_title_counts, 'title')\n",
        "\n",
        "\n",
        "\n",
        "def fit_vectoriser_test(X_test, vectoriser):\n",
        "  '''\n",
        "  function loads pickle vectoriser\n",
        "  fits the vectoriser to the test data\n",
        "  '''\n",
        "  # load the vectorizer\n",
        "  loaded_vectoriser = pickle.load(open(vectoriser, 'rb'))\n",
        "  test_vectorised = loaded_vectoriser.transform(X_test)\n",
        "\n",
        "  return test_vectorised\n",
        "\n",
        "title_count_vec_test = fit_vectoriser_test(news_test['title'], 'title_vectorizer.pickle')\n",
        "title_tfidf_test = fit_vectoriser_test(title_count_vec_test, 'title_transformer.pickle')\n",
        "\n",
        "text_count_vec_test = fit_vectoriser_test(news_test['text'], 'text_vectorizer.pickle')\n",
        "text_tfidf_test = fit_vectoriser_test(text_count_vec_test, 'text_transformer.pickle')\n"
      ],
      "execution_count": null,
      "outputs": []
    },
    {
      "cell_type": "code",
      "metadata": {
        "id": "w9mQqV4GowwL"
      },
      "source": [
        "def feature_selection(X_train, y_train, X_test, k):\n",
        "    '''\n",
        "    function selects k best features based on chi squared test\n",
        "    and mutual information\n",
        "    '''\n",
        "    x2 = SelectKBest(chi2, k)\n",
        "    x2.fit(X_train,y_train)\n",
        "    X_train_x2 = x2.transform(X_train)\n",
        "    X_test_x2 = x2.transform(X_test)\n",
        "\n",
        "\n",
        "    mi = SelectKBest(mutual_info_classif, k)\n",
        "    mi.fit(X_train,y_train)\n",
        "    X_train_mi = mi.transform(X_train)\n",
        "    X_test_mi = mi.transform(X_test)\n",
        "    \n",
        "    return X_train_x2, X_test_x2, X_train_mi, X_test_mi "
      ],
      "execution_count": null,
      "outputs": []
    },
    {
      "cell_type": "code",
      "metadata": {
        "id": "-qI20v2goyci"
      },
      "source": [
        "def train_models(X_train_x2, X_test_x2, X_train_mi, X_test_mi, y_train, y_test, k):\n",
        "    '''\n",
        "    function fits Gaussian Naive Bayes, Multinomial Naive Bayes, \n",
        "    Logistic Regression and Support Vector Classification models\n",
        "    on training data - finds the accuracy score of the model on the test data\n",
        "    '''\n",
        "  \n",
        "    models = [GaussianNB(),\n",
        "                MultinomialNB()]\n",
        "#                 SVC(),\n",
        "#                 LogisticRegression()]\n",
        "\n",
        "    titles = ['GNB',\n",
        "                'MNB']\n",
        "#                 'SVC',\n",
        "#                 'Logistic Regression']\n",
        "\n",
        "\n",
        "    Xs = [(X_train_x2, X_test_x2), (X_train_mi, X_test_mi)]\n",
        "     \n",
        "  \n",
        "    X_names = ['x2', 'mi']\n",
        "    \n",
        "\n",
        "    for title, model in zip(titles, models):\n",
        "        print('\\n',title)\n",
        "        for X_name, X in zip(X_names, Xs):\n",
        "            print(X_name, 'with ', k, ' features:')\n",
        "            X_train_t, X_test_t = X\n",
        "            model.fit(X_train_t.todense(), y_train)\n",
        "            y_pred = model.predict(X_test_t.todense())\n",
        "            acc = model.score(X_test_t.todense(), y_test)\n",
        "            print('accuracy score',  acc)\n",
        "            print('F1 score: {:3f}'.format(f1_score(y_test, y_pred)))\n",
        "            print('AUC score: {:3f}'.format(roc_auc_score(y_test, y_pred)))\n",
        "\n",
        "    return acc\n"
      ],
      "execution_count": null,
      "outputs": []
    },
    {
      "cell_type": "code",
      "metadata": {
        "id": "3zb7K68DwQHb",
        "outputId": "8b909580-059f-4918-b714-812382365898",
        "colab": {
          "base_uri": "https://localhost:8080/",
          "height": 392
        }
      },
      "source": [
        "X_train_x2, X_test_x2, X_train_mi, X_test_mi = feature_selection(train_text_tfidf, label_train, text_tfidf_test, 10)"
      ],
      "execution_count": null,
      "outputs": [
        {
          "output_type": "stream",
          "text": [
            "\n",
            " GNB\n"
          ],
          "name": "stdout"
        },
        {
          "output_type": "error",
          "ename": "TypeError",
          "evalue": "ignored",
          "traceback": [
            "\u001b[0;31m---------------------------------------------------------------------------\u001b[0m",
            "\u001b[0;31mTypeError\u001b[0m                                 Traceback (most recent call last)",
            "\u001b[0;32m<ipython-input-8-533307b3bc2a>\u001b[0m in \u001b[0;36m<module>\u001b[0;34m()\u001b[0m\n\u001b[1;32m      1\u001b[0m \u001b[0mX_train_x2\u001b[0m\u001b[0;34m,\u001b[0m \u001b[0mX_test_x2\u001b[0m\u001b[0;34m,\u001b[0m \u001b[0mX_train_mi\u001b[0m\u001b[0;34m,\u001b[0m \u001b[0mX_test_mi\u001b[0m \u001b[0;34m=\u001b[0m \u001b[0mfeature_selection\u001b[0m\u001b[0;34m(\u001b[0m\u001b[0mtrain_text_tfidf\u001b[0m\u001b[0;34m,\u001b[0m \u001b[0mlabel_train\u001b[0m\u001b[0;34m,\u001b[0m \u001b[0mtext_tfidf_test\u001b[0m\u001b[0;34m,\u001b[0m \u001b[0;36m10\u001b[0m\u001b[0;34m)\u001b[0m\u001b[0;34m\u001b[0m\u001b[0;34m\u001b[0m\u001b[0m\n\u001b[0;32m----> 2\u001b[0;31m \u001b[0mtrain_models\u001b[0m\u001b[0;34m(\u001b[0m\u001b[0mX_train_x2\u001b[0m\u001b[0;34m,\u001b[0m \u001b[0mX_test_x2\u001b[0m\u001b[0;34m,\u001b[0m \u001b[0mX_train_mi\u001b[0m\u001b[0;34m,\u001b[0m \u001b[0mX_test_mi\u001b[0m\u001b[0;34m,\u001b[0m \u001b[0mlabel_train\u001b[0m\u001b[0;34m,\u001b[0m \u001b[0mlabel_test\u001b[0m\u001b[0;34m)\u001b[0m\u001b[0;34m\u001b[0m\u001b[0;34m\u001b[0m\u001b[0m\n\u001b[0m",
            "\u001b[0;32m<ipython-input-6-13157187e380>\u001b[0m in \u001b[0;36mtrain_models\u001b[0;34m(X_train_x2, X_test_x2, X_train_mi, X_test_mi, y_train, y_test)\u001b[0m\n\u001b[1;32m     27\u001b[0m         \u001b[0;32mfor\u001b[0m \u001b[0mX_name\u001b[0m\u001b[0;34m,\u001b[0m \u001b[0mX\u001b[0m \u001b[0;32min\u001b[0m \u001b[0mzip\u001b[0m\u001b[0;34m(\u001b[0m\u001b[0mX_names\u001b[0m\u001b[0;34m,\u001b[0m \u001b[0mXs\u001b[0m\u001b[0;34m)\u001b[0m\u001b[0;34m:\u001b[0m\u001b[0;34m\u001b[0m\u001b[0;34m\u001b[0m\u001b[0m\n\u001b[1;32m     28\u001b[0m             \u001b[0mX_train_t\u001b[0m\u001b[0;34m,\u001b[0m \u001b[0mX_test_t\u001b[0m \u001b[0;34m=\u001b[0m \u001b[0mX\u001b[0m\u001b[0;34m\u001b[0m\u001b[0;34m\u001b[0m\u001b[0m\n\u001b[0;32m---> 29\u001b[0;31m             \u001b[0mmodel\u001b[0m\u001b[0;34m.\u001b[0m\u001b[0mfit\u001b[0m\u001b[0;34m(\u001b[0m\u001b[0mX_train_t\u001b[0m\u001b[0;34m,\u001b[0m \u001b[0my_train\u001b[0m\u001b[0;34m)\u001b[0m\u001b[0;34m\u001b[0m\u001b[0;34m\u001b[0m\u001b[0m\n\u001b[0m\u001b[1;32m     30\u001b[0m             \u001b[0my_pred\u001b[0m \u001b[0;34m=\u001b[0m \u001b[0mmodel\u001b[0m\u001b[0;34m.\u001b[0m\u001b[0mpredict\u001b[0m\u001b[0;34m(\u001b[0m\u001b[0mX_test_t\u001b[0m\u001b[0;34m)\u001b[0m\u001b[0;34m\u001b[0m\u001b[0;34m\u001b[0m\u001b[0m\n\u001b[1;32m     31\u001b[0m             \u001b[0macc\u001b[0m \u001b[0;34m=\u001b[0m \u001b[0mmodel\u001b[0m\u001b[0;34m.\u001b[0m\u001b[0mscore\u001b[0m\u001b[0;34m(\u001b[0m\u001b[0mX_test_t\u001b[0m\u001b[0;34m,\u001b[0m \u001b[0my_test\u001b[0m\u001b[0;34m)\u001b[0m\u001b[0;34m\u001b[0m\u001b[0;34m\u001b[0m\u001b[0m\n",
            "\u001b[0;32m/usr/local/lib/python3.6/dist-packages/sklearn/naive_bayes.py\u001b[0m in \u001b[0;36mfit\u001b[0;34m(self, X, y, sample_weight)\u001b[0m\n\u001b[1;32m    206\u001b[0m         \u001b[0my\u001b[0m \u001b[0;34m=\u001b[0m \u001b[0mcolumn_or_1d\u001b[0m\u001b[0;34m(\u001b[0m\u001b[0my\u001b[0m\u001b[0;34m,\u001b[0m \u001b[0mwarn\u001b[0m\u001b[0;34m=\u001b[0m\u001b[0;32mTrue\u001b[0m\u001b[0;34m)\u001b[0m\u001b[0;34m\u001b[0m\u001b[0;34m\u001b[0m\u001b[0m\n\u001b[1;32m    207\u001b[0m         return self._partial_fit(X, y, np.unique(y), _refit=True,\n\u001b[0;32m--> 208\u001b[0;31m                                  sample_weight=sample_weight)\n\u001b[0m\u001b[1;32m    209\u001b[0m \u001b[0;34m\u001b[0m\u001b[0m\n\u001b[1;32m    210\u001b[0m     \u001b[0;32mdef\u001b[0m \u001b[0m_check_X\u001b[0m\u001b[0;34m(\u001b[0m\u001b[0mself\u001b[0m\u001b[0;34m,\u001b[0m \u001b[0mX\u001b[0m\u001b[0;34m)\u001b[0m\u001b[0;34m:\u001b[0m\u001b[0;34m\u001b[0m\u001b[0;34m\u001b[0m\u001b[0m\n",
            "\u001b[0;32m/usr/local/lib/python3.6/dist-packages/sklearn/naive_bayes.py\u001b[0m in \u001b[0;36m_partial_fit\u001b[0;34m(self, X, y, classes, _refit, sample_weight)\u001b[0m\n\u001b[1;32m    357\u001b[0m         \u001b[0mself\u001b[0m \u001b[0;34m:\u001b[0m \u001b[0mobject\u001b[0m\u001b[0;34m\u001b[0m\u001b[0;34m\u001b[0m\u001b[0m\n\u001b[1;32m    358\u001b[0m         \"\"\"\n\u001b[0;32m--> 359\u001b[0;31m         \u001b[0mX\u001b[0m\u001b[0;34m,\u001b[0m \u001b[0my\u001b[0m \u001b[0;34m=\u001b[0m \u001b[0mcheck_X_y\u001b[0m\u001b[0;34m(\u001b[0m\u001b[0mX\u001b[0m\u001b[0;34m,\u001b[0m \u001b[0my\u001b[0m\u001b[0;34m)\u001b[0m\u001b[0;34m\u001b[0m\u001b[0;34m\u001b[0m\u001b[0m\n\u001b[0m\u001b[1;32m    360\u001b[0m         \u001b[0;32mif\u001b[0m \u001b[0msample_weight\u001b[0m \u001b[0;32mis\u001b[0m \u001b[0;32mnot\u001b[0m \u001b[0;32mNone\u001b[0m\u001b[0;34m:\u001b[0m\u001b[0;34m\u001b[0m\u001b[0;34m\u001b[0m\u001b[0m\n\u001b[1;32m    361\u001b[0m             \u001b[0msample_weight\u001b[0m \u001b[0;34m=\u001b[0m \u001b[0m_check_sample_weight\u001b[0m\u001b[0;34m(\u001b[0m\u001b[0msample_weight\u001b[0m\u001b[0;34m,\u001b[0m \u001b[0mX\u001b[0m\u001b[0;34m)\u001b[0m\u001b[0;34m\u001b[0m\u001b[0;34m\u001b[0m\u001b[0m\n",
            "\u001b[0;32m/usr/local/lib/python3.6/dist-packages/sklearn/utils/validation.py\u001b[0m in \u001b[0;36mcheck_X_y\u001b[0;34m(X, y, accept_sparse, accept_large_sparse, dtype, order, copy, force_all_finite, ensure_2d, allow_nd, multi_output, ensure_min_samples, ensure_min_features, y_numeric, warn_on_dtype, estimator)\u001b[0m\n\u001b[1;32m    753\u001b[0m                     \u001b[0mensure_min_features\u001b[0m\u001b[0;34m=\u001b[0m\u001b[0mensure_min_features\u001b[0m\u001b[0;34m,\u001b[0m\u001b[0;34m\u001b[0m\u001b[0;34m\u001b[0m\u001b[0m\n\u001b[1;32m    754\u001b[0m                     \u001b[0mwarn_on_dtype\u001b[0m\u001b[0;34m=\u001b[0m\u001b[0mwarn_on_dtype\u001b[0m\u001b[0;34m,\u001b[0m\u001b[0;34m\u001b[0m\u001b[0;34m\u001b[0m\u001b[0m\n\u001b[0;32m--> 755\u001b[0;31m                     estimator=estimator)\n\u001b[0m\u001b[1;32m    756\u001b[0m     \u001b[0;32mif\u001b[0m \u001b[0mmulti_output\u001b[0m\u001b[0;34m:\u001b[0m\u001b[0;34m\u001b[0m\u001b[0;34m\u001b[0m\u001b[0m\n\u001b[1;32m    757\u001b[0m         y = check_array(y, 'csr', force_all_finite=True, ensure_2d=False,\n",
            "\u001b[0;32m/usr/local/lib/python3.6/dist-packages/sklearn/utils/validation.py\u001b[0m in \u001b[0;36mcheck_array\u001b[0;34m(array, accept_sparse, accept_large_sparse, dtype, order, copy, force_all_finite, ensure_2d, allow_nd, ensure_min_samples, ensure_min_features, warn_on_dtype, estimator)\u001b[0m\n\u001b[1;32m    509\u001b[0m                                       \u001b[0mdtype\u001b[0m\u001b[0;34m=\u001b[0m\u001b[0mdtype\u001b[0m\u001b[0;34m,\u001b[0m \u001b[0mcopy\u001b[0m\u001b[0;34m=\u001b[0m\u001b[0mcopy\u001b[0m\u001b[0;34m,\u001b[0m\u001b[0;34m\u001b[0m\u001b[0;34m\u001b[0m\u001b[0m\n\u001b[1;32m    510\u001b[0m                                       \u001b[0mforce_all_finite\u001b[0m\u001b[0;34m=\u001b[0m\u001b[0mforce_all_finite\u001b[0m\u001b[0;34m,\u001b[0m\u001b[0;34m\u001b[0m\u001b[0;34m\u001b[0m\u001b[0m\n\u001b[0;32m--> 511\u001b[0;31m                                       accept_large_sparse=accept_large_sparse)\n\u001b[0m\u001b[1;32m    512\u001b[0m     \u001b[0;32melse\u001b[0m\u001b[0;34m:\u001b[0m\u001b[0;34m\u001b[0m\u001b[0;34m\u001b[0m\u001b[0m\n\u001b[1;32m    513\u001b[0m         \u001b[0;31m# If np.array(..) gives ComplexWarning, then we convert the warning\u001b[0m\u001b[0;34m\u001b[0m\u001b[0;34m\u001b[0m\u001b[0;34m\u001b[0m\u001b[0m\n",
            "\u001b[0;32m/usr/local/lib/python3.6/dist-packages/sklearn/utils/validation.py\u001b[0m in \u001b[0;36m_ensure_sparse_format\u001b[0;34m(spmatrix, accept_sparse, dtype, copy, force_all_finite, accept_large_sparse)\u001b[0m\n\u001b[1;32m    304\u001b[0m \u001b[0;34m\u001b[0m\u001b[0m\n\u001b[1;32m    305\u001b[0m     \u001b[0;32mif\u001b[0m \u001b[0maccept_sparse\u001b[0m \u001b[0;32mis\u001b[0m \u001b[0;32mFalse\u001b[0m\u001b[0;34m:\u001b[0m\u001b[0;34m\u001b[0m\u001b[0;34m\u001b[0m\u001b[0m\n\u001b[0;32m--> 306\u001b[0;31m         raise TypeError('A sparse matrix was passed, but dense '\n\u001b[0m\u001b[1;32m    307\u001b[0m                         \u001b[0;34m'data is required. Use X.toarray() to '\u001b[0m\u001b[0;34m\u001b[0m\u001b[0;34m\u001b[0m\u001b[0m\n\u001b[1;32m    308\u001b[0m                         'convert to a dense numpy array.')\n",
            "\u001b[0;31mTypeError\u001b[0m: A sparse matrix was passed, but dense data is required. Use X.toarray() to convert to a dense numpy array."
          ]
        }
      ]
    },
    {
      "cell_type": "code",
      "metadata": {
        "id": "nOifNyBg42ea",
        "outputId": "91efbdaa-26f6-4eed-9248-3238a0500a82",
        "colab": {
          "base_uri": "https://localhost:8080/",
          "height": 357
        }
      },
      "source": [
        "train_models(X_train_x2, X_test_x2, X_train_mi, X_test_mi, label_train, label_test, 10)"
      ],
      "execution_count": null,
      "outputs": [
        {
          "output_type": "stream",
          "text": [
            "\n",
            " GNB\n",
            "x2 - with  10  features:\n",
            "accuracy score 0.7259556103575833\n",
            "F1 score: 0.604713\n",
            "AUC score: 0.697155\n",
            "mi - with  10  features:\n",
            "accuracy score 0.626078914919852\n",
            "F1 score: 0.494091\n",
            "AUC score: 0.601743\n",
            "\n",
            " MNB\n",
            "x2 - with  10  features:\n",
            "accuracy score 0.6420057542129058\n",
            "F1 score: 0.312278\n",
            "AUC score: 0.587722\n",
            "mi - with  10  features:\n",
            "accuracy score 0.5679202630497329\n",
            "F1 score: 0.000000\n",
            "AUC score: 0.500000\n"
          ],
          "name": "stdout"
        }
      ]
    },
    {
      "cell_type": "code",
      "metadata": {
        "id": "BNOsqYXY5TZr",
        "outputId": "80c4f162-8cec-4dfb-a04c-54807aea797e",
        "colab": {
          "base_uri": "https://localhost:8080/",
          "height": 1000
        }
      },
      "source": [
        "# fit Naive bayes models to data with different values of k to find best number fo features\n",
        "for k in range(50, 501, 50):\n",
        "    X_train_x2, X_test_x2, X_train_mi, X_test_mi = feature_selection(train_text_tfidf, label_train, text_tfidf_test, k)\n",
        "    acc = train_models(X_train_x2, X_test_x2, X_train_mi, X_test_mi, label_train, label_test, k)"
      ],
      "execution_count": null,
      "outputs": [
        {
          "output_type": "stream",
          "text": [
            "\n",
            " GNB\n",
            "x2 with  50  features:\n",
            "accuracy score 0.7488697081792026\n",
            "F1 score: 0.643107\n",
            "AUC score: 0.721936\n",
            "mi with  50  features:\n",
            "accuracy score 0.6635840526099466\n",
            "F1 score: 0.611533\n",
            "AUC score: 0.657516\n",
            "\n",
            " MNB\n",
            "x2 with  50  features:\n",
            "accuracy score 0.6975955610357584\n",
            "F1 score: 0.483231\n",
            "AUC score: 0.653302\n",
            "mi with  50  features:\n",
            "accuracy score 0.5688450472667489\n",
            "F1 score: 0.005216\n",
            "AUC score: 0.501127\n",
            "\n",
            " GNB\n",
            "x2 with  100  features:\n",
            "accuracy score 0.7269831483764899\n",
            "F1 score: 0.580584\n",
            "AUC score: 0.692343\n",
            "mi with  100  features:\n",
            "accuracy score 0.7084874640361694\n",
            "F1 score: 0.640112\n",
            "AUC score: 0.695513\n",
            "\n",
            " MNB\n",
            "x2 with  100  features:\n",
            "accuracy score 0.7278051787916153\n",
            "F1 score: 0.561496\n",
            "AUC score: 0.689000\n",
            "mi with  100  features:\n",
            "accuracy score 0.5802507192766132\n",
            "F1 score: 0.061567\n",
            "AUC score: 0.514667\n",
            "\n",
            " GNB\n",
            "x2 with  150  features:\n",
            "accuracy score 0.7283189478010687\n",
            "F1 score: 0.582965\n",
            "AUC score: 0.693775\n",
            "mi with  150  features:\n",
            "accuracy score 0.717632552404439\n",
            "F1 score: 0.663812\n",
            "AUC score: 0.708968\n",
            "\n",
            " MNB\n",
            "x2 with  150  features:\n",
            "accuracy score 0.7428072338676531\n",
            "F1 score: 0.597912\n",
            "AUC score: 0.706900\n",
            "mi with  150  features:\n",
            "accuracy score 0.6244348540896013\n",
            "F1 score: 0.253015\n",
            "AUC score: 0.567361\n",
            "\n",
            " GNB\n",
            "x2 with  200  features:\n",
            "accuracy score 0.7385943279901356\n",
            "F1 score: 0.608495\n",
            "AUC score: 0.706490\n",
            "mi with  200  features:\n",
            "accuracy score 0.7269831483764899\n",
            "F1 score: 0.668331\n",
            "AUC score: 0.716177\n",
            "\n",
            " MNB\n",
            "x2 with  200  features:\n",
            "accuracy score 0.7567817509247842\n",
            "F1 score: 0.629635\n",
            "AUC score: 0.723498\n",
            "mi with  200  features:\n",
            "accuracy score 0.6646115906288532\n",
            "F1 score: 0.388993\n",
            "AUC score: 0.614678\n",
            "\n",
            " GNB\n",
            "x2 with  250  features:\n",
            "accuracy score 0.7305795314426634\n",
            "F1 score: 0.585389\n",
            "AUC score: 0.695851\n",
            "mi with  250  features:\n",
            "accuracy score 0.7373612823674476\n",
            "F1 score: 0.680420\n",
            "AUC score: 0.726565\n",
            "\n",
            " MNB\n",
            "x2 with  250  features:\n",
            "accuracy score 0.7642827784628031\n",
            "F1 score: 0.646860\n",
            "AUC score: 0.732633\n",
            "mi with  250  features:\n",
            "accuracy score 0.6815659679408138\n",
            "F1 score: 0.440311\n",
            "AUC score: 0.634724\n",
            "\n",
            " GNB\n",
            "x2 with  300  features:\n",
            "accuracy score 0.7410604192355117\n",
            "F1 score: 0.609423\n",
            "AUC score: 0.708349\n",
            "mi with  300  features:\n",
            "accuracy score 0.7351006987258528\n",
            "F1 score: 0.679990\n",
            "AUC score: 0.725087\n",
            "\n",
            " MNB\n",
            "x2 with  300  features:\n",
            "accuracy score 0.7721948212083847\n",
            "F1 score: 0.664040\n",
            "AUC score: 0.742159\n",
            "mi with  300  features:\n",
            "accuracy score 0.6893752568845047\n",
            "F1 score: 0.464482\n",
            "AUC score: 0.644216\n",
            "\n",
            " GNB\n",
            "x2 with  350  features:\n",
            "accuracy score 0.7332511302918208\n",
            "F1 score: 0.589630\n",
            "AUC score: 0.698601\n",
            "mi with  350  features:\n",
            "accuracy score 0.7349979449239622\n",
            "F1 score: 0.680223\n",
            "AUC score: 0.725110\n",
            "\n",
            " MNB\n",
            "x2 with  350  features:\n",
            "accuracy score 0.7797986025482943\n",
            "F1 score: 0.680197\n",
            "AUC score: 0.751356\n",
            "mi with  350  features:\n",
            "accuracy score 0.6949239621866009\n",
            "F1 score: 0.480126\n",
            "AUC score: 0.650807\n",
            "\n",
            " GNB\n",
            "x2 with  400  features:\n",
            "accuracy score 0.7304767776407727\n",
            "F1 score: 0.583452\n",
            "AUC score: 0.695362\n",
            "mi with  400  features:\n",
            "accuracy score 0.7343814221126181\n",
            "F1 score: 0.680904\n",
            "AUC score: 0.724994\n",
            "\n",
            " MNB\n",
            "x2 with  400  features:\n",
            "accuracy score 0.7827784628031237\n",
            "F1 score: 0.684666\n",
            "AUC score: 0.754435\n",
            "mi with  400  features:\n",
            "accuracy score 0.7036580353473079\n",
            "F1 score: 0.504638\n",
            "AUC score: 0.661284\n",
            "\n",
            " GNB\n",
            "x2 with  450  features:\n",
            "accuracy score 0.7323263460748047\n",
            "F1 score: 0.586442\n",
            "AUC score: 0.697275\n",
            "mi with  450  features:\n",
            "accuracy score 0.7327373612823674\n",
            "F1 score: 0.678691\n",
            "AUC score: 0.723233\n",
            "\n",
            " MNB\n",
            "x2 with  450  features:\n",
            "accuracy score 0.7866831072749692\n",
            "F1 score: 0.692990\n",
            "AUC score: 0.759237\n",
            "mi with  450  features:\n",
            "accuracy score 0.7102342786683107\n",
            "F1 score: 0.522196\n",
            "AUC score: 0.669122\n",
            "\n",
            " GNB\n",
            "x2 with  500  features:\n",
            "accuracy score 0.7380805589806823\n",
            "F1 score: 0.598013\n",
            "AUC score: 0.703734\n",
            "mi with  500  features:\n",
            "accuracy score 0.7342786683107275\n",
            "F1 score: 0.685248\n",
            "AUC score: 0.726524\n",
            "\n",
            " MNB\n",
            "x2 with  500  features:\n",
            "accuracy score 0.7897657213316893\n",
            "F1 score: 0.699559\n",
            "AUC score: 0.763061\n",
            "mi with  500  features:\n",
            "accuracy score 0.718557336621455\n",
            "F1 score: 0.545696\n",
            "AUC score: 0.679407\n"
          ],
          "name": "stdout"
        },
        {
          "output_type": "error",
          "ename": "NameError",
          "evalue": "ignored",
          "traceback": [
            "\u001b[0;31m---------------------------------------------------------------------------\u001b[0m",
            "\u001b[0;31mNameError\u001b[0m                                 Traceback (most recent call last)",
            "\u001b[0;32m<ipython-input-17-021ba2e98909>\u001b[0m in \u001b[0;36m<module>\u001b[0;34m()\u001b[0m\n\u001b[1;32m      5\u001b[0m     \u001b[0maccuracy\u001b[0m\u001b[0;34m[\u001b[0m\u001b[0mk\u001b[0m\u001b[0;34m]\u001b[0m \u001b[0;34m=\u001b[0m \u001b[0macc\u001b[0m\u001b[0;34m\u001b[0m\u001b[0;34m\u001b[0m\u001b[0m\n\u001b[1;32m      6\u001b[0m \u001b[0;34m\u001b[0m\u001b[0m\n\u001b[0;32m----> 7\u001b[0;31m \u001b[0mplt\u001b[0m\u001b[0;34m.\u001b[0m\u001b[0mxlabel\u001b[0m\u001b[0;34m(\u001b[0m\u001b[0;34m'k'\u001b[0m\u001b[0;34m)\u001b[0m\u001b[0;34m\u001b[0m\u001b[0;34m\u001b[0m\u001b[0m\n\u001b[0m\u001b[1;32m      8\u001b[0m \u001b[0mplt\u001b[0m\u001b[0;34m.\u001b[0m\u001b[0mylabel\u001b[0m\u001b[0;34m(\u001b[0m\u001b[0;34m'accuracy'\u001b[0m\u001b[0;34m)\u001b[0m\u001b[0;34m\u001b[0m\u001b[0;34m\u001b[0m\u001b[0m\n\u001b[1;32m      9\u001b[0m \u001b[0msns\u001b[0m\u001b[0;34m.\u001b[0m\u001b[0mpointplot\u001b[0m\u001b[0;34m(\u001b[0m\u001b[0mx\u001b[0m\u001b[0;34m=\u001b[0m\u001b[0mlist\u001b[0m\u001b[0;34m(\u001b[0m\u001b[0maccuracy\u001b[0m\u001b[0;34m.\u001b[0m\u001b[0mkeys\u001b[0m\u001b[0;34m(\u001b[0m\u001b[0;34m)\u001b[0m\u001b[0;34m)\u001b[0m\u001b[0;34m,\u001b[0m \u001b[0my\u001b[0m\u001b[0;34m=\u001b[0m\u001b[0mlist\u001b[0m\u001b[0;34m(\u001b[0m\u001b[0maccuracy\u001b[0m\u001b[0;34m.\u001b[0m\u001b[0mvalues\u001b[0m\u001b[0;34m(\u001b[0m\u001b[0;34m)\u001b[0m\u001b[0;34m)\u001b[0m\u001b[0;34m)\u001b[0m\u001b[0;34m\u001b[0m\u001b[0;34m\u001b[0m\u001b[0m\n",
            "\u001b[0;31mNameError\u001b[0m: name 'plt' is not defined"
          ]
        }
      ]
    },
    {
      "cell_type": "code",
      "metadata": {
        "id": "kzht-RjWLJlm"
      },
      "source": [
        "# dictionary of accuracy by number of features for gaussian naive bayes model\n",
        "GNB_x2_accuracy = dict({(50, 0.7488697081792026), (100, 0.7269831483764899), (150, 0.7283189478010687), \n",
        "                       (200, 0.7385943279901356), (250, 0.7305795314426634), (300, 0.7410604192355117), \n",
        "                       (350, 0.7332511302918208), (400, 0.7304767776407727), (450, 0.7323263460748047), \n",
        "                       (500, 0.7380805589806823)})"
      ],
      "execution_count": null,
      "outputs": []
    },
    {
      "cell_type": "code",
      "metadata": {
        "id": "ESngH6deNJyD",
        "outputId": "b4fed92f-6af4-4051-94d5-e648b1990d92",
        "colab": {
          "base_uri": "https://localhost:8080/",
          "height": 54
        }
      },
      "source": [
        "print(GNB_x2_accuracy)"
      ],
      "execution_count": null,
      "outputs": [
        {
          "output_type": "stream",
          "text": [
            "{50: 0.7488697081792026, 350: 0.7332511302918208, 300: 0.7410604192355117, 250: 0.7305795314426634, 200: 0.7385943279901356, 500: 0.7380805589806823, 450: 0.7323263460748047, 400: 0.7304767776407727, 150: 0.7283189478010687, 100: 0.7269831483764899}\n"
          ],
          "name": "stdout"
        }
      ]
    },
    {
      "cell_type": "code",
      "metadata": {
        "id": "9RUoPvIcLLLf"
      },
      "source": [
        "# dictionary of accuracy by number of features for multinomial naive bayes model\n",
        "\n",
        "MNB_x2_accuracy = dict({(50, 0.6975955610357584), (100, 0.7278051787916153), (150, 0.7428072338676531), \n",
        "                    (200, 0.7567817509247842), (250, 0.7642827784628031), (300, 0.7721948212083847), \n",
        "                    (350, 0.7797986025482943), (400, 0.7827784628031237), (450, 0.7866831072749692), \n",
        "                    (500, 0.7897657213316893)})"
      ],
      "execution_count": null,
      "outputs": []
    },
    {
      "cell_type": "code",
      "metadata": {
        "id": "_3ntEViUK3Q4",
        "outputId": "4c26e4d1-fb9d-4345-cd14-0a6a71ebe5a2",
        "colab": {
          "base_uri": "https://localhost:8080/",
          "height": 295
        }
      },
      "source": [
        "# plot k vs accuracy for GNB model\n",
        "plt.xlabel('k (chi-squared)') \n",
        "plt.ylabel('GNB accuracy')\n",
        "sns.pointplot(x=list(GNB_x2_accuracy.keys()), y=list(GNB_x2_accuracy.values()))\n",
        "plt.title('accuracy vs K')\n",
        "plt.show()"
      ],
      "execution_count": null,
      "outputs": [
        {
          "output_type": "display_data",
          "data": {
            "image/png": "[encoded data removed]",
            "text/plain": [
              "<Figure size 432x288 with 1 Axes>"
            ]
          },
          "metadata": {
            "tags": [],
            "needs_background": "light"
          }
        }
      ]
    },
    {
      "cell_type": "code",
      "metadata": {
        "id": "CisZxm3hNeBH",
        "outputId": "ad3f97e7-46bd-4a95-d065-b8b96be1800e",
        "colab": {
          "base_uri": "https://localhost:8080/",
          "height": 295
        }
      },
      "source": [
        "# plot k vs accuracy for MNB model\n",
        "plt.xlabel('k (chi-squared)') \n",
        "plt.ylabel('MNB accuracy')\n",
        "sns.pointplot(x=list(MNB_x2_accuracy.keys()), y=list(MNB_x2_accuracy.values()))\n",
        "plt.title('accuracy vs K')\n",
        "plt.show()"
      ],
      "execution_count": null,
      "outputs": [
        {
          "output_type": "display_data",
          "data": {
            "image/png": "[encoded data removed]",
            "text/plain": [
              "<Figure size 432x288 with 1 Axes>"
            ]
          },
          "metadata": {
            "tags": [],
            "needs_background": "light"
          }
        }
      ]
    },
    {
      "cell_type": "code",
      "metadata": {
        "id": "nHlHsXewYLgp",
        "outputId": "b7c56026-e3e0-4fa0-a299-8d0e25d16748",
        "colab": {
          "base_uri": "https://localhost:8080/",
          "height": 198
        }
      },
      "source": [
        "# attempt to print best words for prediciton\n",
        "x2 = SelectKBest(chi2, 50)\n",
        "x2.fit(train_text_tfidf,label_train)\n",
        "\n",
        "for feat_num in x2.get_support(indices=True):\n",
        "    print(text_tfidf_transformer.get_feature_names()[feat_num])"
      ],
      "execution_count": null,
      "outputs": [
        {
          "output_type": "error",
          "ename": "AttributeError",
          "evalue": "ignored",
          "traceback": [
            "\u001b[0;31m---------------------------------------------------------------------------\u001b[0m",
            "\u001b[0;31mAttributeError\u001b[0m                            Traceback (most recent call last)",
            "\u001b[0;32m<ipython-input-6-75779c869aa8>\u001b[0m in \u001b[0;36m<module>\u001b[0;34m()\u001b[0m\n\u001b[1;32m      3\u001b[0m \u001b[0;34m\u001b[0m\u001b[0m\n\u001b[1;32m      4\u001b[0m \u001b[0;32mfor\u001b[0m \u001b[0mfeat_num\u001b[0m \u001b[0;32min\u001b[0m \u001b[0mx2\u001b[0m\u001b[0;34m.\u001b[0m\u001b[0mget_support\u001b[0m\u001b[0;34m(\u001b[0m\u001b[0mindices\u001b[0m\u001b[0;34m=\u001b[0m\u001b[0;32mTrue\u001b[0m\u001b[0;34m)\u001b[0m\u001b[0;34m:\u001b[0m\u001b[0;34m\u001b[0m\u001b[0;34m\u001b[0m\u001b[0m\n\u001b[0;32m----> 5\u001b[0;31m     \u001b[0mprint\u001b[0m\u001b[0;34m(\u001b[0m\u001b[0mtext_tfidf_transformer\u001b[0m\u001b[0;34m.\u001b[0m\u001b[0mget_feature_names\u001b[0m\u001b[0;34m(\u001b[0m\u001b[0;34m)\u001b[0m\u001b[0;34m[\u001b[0m\u001b[0mfeat_num\u001b[0m\u001b[0;34m]\u001b[0m\u001b[0;34m)\u001b[0m\u001b[0;34m\u001b[0m\u001b[0;34m\u001b[0m\u001b[0m\n\u001b[0m",
            "\u001b[0;31mAttributeError\u001b[0m: 'TfidfTransformer' object has no attribute 'get_feature_names'"
          ]
        }
      ]
    },
    {
      "cell_type": "code",
      "metadata": {
        "id": "X2evtJbsN_tX",
        "outputId": "16ff27b0-0216-47a6-dbf4-33dc604e4966",
        "colab": {
          "base_uri": "https://localhost:8080/",
          "height": 51
        }
      },
      "source": [
        "# fit MNB with 1000 best features by chi-squared test\n",
        "x2 = SelectKBest(chi2, 1000)\n",
        "x2.fit(train_text_tfidf,label_train)\n",
        "X_train_x2 = x2.transform(train_text_tfidf)\n",
        "X_test_x2 = x2.transform(text_tfidf_test)\n",
        "\n",
        "model = MultinomialNB()\n",
        "model.fit(X_train_x2.todense(), label_train)\n",
        "y_pred = model.predict(X_test_x2.todense())\n",
        "acc = model.score(X_test_x2.todense(), label_test)\n",
        "print('accuracy score',  acc)\n",
        "print('F1 score: {:3f}'.format(f1_score(label_test, y_pred)))"
      ],
      "execution_count": null,
      "outputs": [
        {
          "output_type": "stream",
          "text": [
            "accuracy score 0.8103164817098233\n",
            "F1 score: 0.739853\n"
          ],
          "name": "stdout"
        }
      ]
    },
    {
      "cell_type": "code",
      "metadata": {
        "id": "12dUWxGjPIxt",
        "outputId": "525ad865-7d56-4e96-aeea-d89350c1cb90",
        "colab": {
          "base_uri": "https://localhost:8080/",
          "height": 34
        }
      },
      "source": [
        "print(train_text_tfidf.shape)"
      ],
      "execution_count": null,
      "outputs": [
        {
          "output_type": "stream",
          "text": [
            "(19757, 137482)\n"
          ],
          "name": "stdout"
        }
      ]
    },
    {
      "cell_type": "code",
      "metadata": {
        "id": "fM99Cuw1OxYi",
        "outputId": "c3d4ecdf-8b24-45af-9786-5e2421bdcfb6",
        "colab": {
          "base_uri": "https://localhost:8080/"
        }
      },
      "source": [
        "# fit MNB with 20000 best features by chi-squared test\n",
        "x2 = SelectKBest(chi2, 20000)\n",
        "x2.fit(train_text_tfidf,label_train)\n",
        "X_train_x2 = x2.transform(train_text_tfidf)\n",
        "X_test_x2 = x2.transform(text_tfidf_test)\n",
        "\n",
        "model = MultinomialNB()\n",
        "model.fit(X_train_x2.todense(), label_train)\n",
        "y_pred = model.predict(X_test_x2.todense())\n",
        "acc = model.score(X_test_x2.todense(), label_test)\n",
        "print('accuracy score',  acc)\n",
        "print('F1 score: {:3f}'.format(f1_score(label_test, y_pred)))\n",
        "print('precision score: {:3f}'.format(precision_score(label_test, y_pred)))\n",
        "print('recall score: {:3f}'.format(recall_score(label_test, y_pred)))"
      ],
      "execution_count": null,
      "outputs": [
        {
          "output_type": "stream",
          "text": [
            "accuracy score 0.8352095483520955\n",
            "F1 score: 0.787995\n",
            "precision score: 0.890028\n",
            "recall score: 0.706951\n"
          ],
          "name": "stdout"
        }
      ]
    },
    {
      "cell_type": "code",
      "metadata": {
        "id": "W9skFPj6Q6yA",
        "outputId": "25725691-4e25-47be-e5be-21f0d963a0e8",
        "colab": {
          "base_uri": "https://localhost:8080/",
          "height": 232
        }
      },
      "source": [
        "text_counts, text_count_vec = count_vect(news_data['text'], 'text')\n",
        "text_tfidf, all_text_tfidf_transformer = tfidf_count_transform(text_counts, 'text')\n",
        "\n",
        "# find 20000 best features\n",
        "x2 = SelectKBest(chi2, 20000)\n",
        "x2.fit(text_tfidf, news_data['label'])\n",
        "tfidf_text_x2 = x2.transform(text_tfidf)\n",
        "\n",
        "# perform grid search for log reg parameters to find the best\n",
        "gs = GridSearchCV(LogisticRegression(), \n",
        "             param_grid={'C': [0.0001, 0.001, 0.01, 0.1, 1], \n",
        "                         'solver':['newton-cg', 'lbfgs', 'liblinear', 'sag', 'saga']}, \n",
        "                          scoring=\"accuracy\", cv=4)\n",
        "gs = gs.fit(tfidf_text_x2, news_data['label'])\n",
        "print(gs.best_params_)\n",
        "print('best score: {:3f}'.format(gs.best_score_))"
      ],
      "execution_count": null,
      "outputs": [
        {
          "output_type": "stream",
          "text": [
            "{'C': 1, 'solver': 'saga'}\n",
            "best score: 0.797652\n"
          ],
          "name": "stdout"
        },
        {
          "output_type": "error",
          "ename": "NameError",
          "evalue": "ignored",
          "traceback": [
            "\u001b[0;31m---------------------------------------------------------------------------\u001b[0m",
            "\u001b[0;31mNameError\u001b[0m                                 Traceback (most recent call last)",
            "\u001b[0;32m<ipython-input-14-e976d7273640>\u001b[0m in \u001b[0;36m<module>\u001b[0;34m()\u001b[0m\n\u001b[1;32m     13\u001b[0m \u001b[0mprint\u001b[0m\u001b[0;34m(\u001b[0m\u001b[0mgs\u001b[0m\u001b[0;34m.\u001b[0m\u001b[0mbest_params_\u001b[0m\u001b[0;34m)\u001b[0m\u001b[0;34m\u001b[0m\u001b[0;34m\u001b[0m\u001b[0m\n\u001b[1;32m     14\u001b[0m \u001b[0mprint\u001b[0m\u001b[0;34m(\u001b[0m\u001b[0;34m'best score: {:3f}'\u001b[0m\u001b[0;34m.\u001b[0m\u001b[0mformat\u001b[0m\u001b[0;34m(\u001b[0m\u001b[0mgs\u001b[0m\u001b[0;34m.\u001b[0m\u001b[0mbest_score_\u001b[0m\u001b[0;34m)\u001b[0m\u001b[0;34m)\u001b[0m\u001b[0;34m\u001b[0m\u001b[0;34m\u001b[0m\u001b[0m\n\u001b[0;32m---> 15\u001b[0;31m \u001b[0mplot_roc\u001b[0m\u001b[0;34m(\u001b[0m\u001b[0mgs\u001b[0m\u001b[0;34m,\u001b[0m \u001b[0mtfidf_text_x2\u001b[0m\u001b[0;34m,\u001b[0m \u001b[0mnews_data\u001b[0m\u001b[0;34m[\u001b[0m\u001b[0;34m'label'\u001b[0m\u001b[0;34m]\u001b[0m\u001b[0;34m)\u001b[0m\u001b[0;34m\u001b[0m\u001b[0;34m\u001b[0m\u001b[0m\n\u001b[0m",
            "\u001b[0;31mNameError\u001b[0m: name 'plot_roc' is not defined"
          ]
        }
      ]
    },
    {
      "cell_type": "code",
      "metadata": {
        "id": "M4rsbKpVTMrw",
        "outputId": "101731e0-cff6-4748-cc05-9f68ed851632",
        "colab": {
          "base_uri": "https://localhost:8080/",
          "height": 51
        }
      },
      "source": [
        "# fit best log reg model with 20000 best features \n",
        "x2 = SelectKBest(chi2, 20000)\n",
        "x2.fit(train_text_tfidf,label_train)\n",
        "X_train_x2 = x2.transform(train_text_tfidf)\n",
        "X_test_x2 = x2.transform(text_tfidf_test)\n",
        "\n",
        "lr_best = LogisticRegression(C = 1, solver='saga')\n",
        "lr_best.fit(X_train_x2.todense(), label_train)\n",
        "y_pred = lr_best.predict(X_test_x2.todense())\n",
        "acc = lr_best.score(X_test_x2.todense(), label_test)\n",
        "print('accuracy score',  acc)\n",
        "print('F1 score: {:3f}'.format(f1_score(label_test, y_pred)))"
      ],
      "execution_count": null,
      "outputs": [
        {
          "output_type": "stream",
          "text": [
            "accuracy score 0.8669338265515824\n",
            "F1 score: 0.840301\n"
          ],
          "name": "stdout"
        }
      ]
    },
    {
      "cell_type": "code",
      "metadata": {
        "id": "aW1zLdkkUWH6",
        "outputId": "61d03d96-0c54-4b74-9094-6e2c052b1a99",
        "colab": {
          "base_uri": "https://localhost:8080/",
          "height": 51
        }
      },
      "source": [
        "text_counts, text_count_vec = count_vect(news_data['text'], 'text')\n",
        "text_tfidf, all_text_tfidf_transformer = tfidf_count_transform(text_counts, 'text')\n",
        "\n",
        "# find 20000 best features\n",
        "x2 = SelectKBest(chi2, 20000)\n",
        "x2.fit(text_tfidf, news_data['label'])\n",
        "tfidf_text_x2 = x2.transform(text_tfidf)\n",
        "\n",
        "# perform grid search for SVM parameters to find the best\n",
        "gs = GridSearchCV(SVC(C=1), \n",
        "             param_grid={'kernel':['linear', 'poly', 'rbf', 'sigmoid']}, \n",
        "                          scoring=\"accuracy\", cv=4)\n",
        "gs = gs.fit(tfidf_text_x2, news_data['label'])\n",
        "print(gs.best_params_)\n",
        "print('best score: {:3f}'.format(gs.best_score_))"
      ],
      "execution_count": null,
      "outputs": [
        {
          "output_type": "stream",
          "text": [
            "{'kernel': 'linear'}\n",
            "best score: 0.806232\n"
          ],
          "name": "stdout"
        }
      ]
    },
    {
      "cell_type": "code",
      "metadata": {
        "id": "3hLDYn7ERPLZ",
        "outputId": "e59ec3ce-b06a-4a72-d993-d6a50dd0e9bc",
        "colab": {
          "base_uri": "https://localhost:8080/",
          "height": 697
        }
      },
      "source": [
        "# fit best SVM model with different values of k features to find the best performing model\n",
        "for k in range(50, 501, 50):\n",
        "    x2 = SelectKBest(chi2, k)\n",
        "    x2.fit(train_text_tfidf,label_train)\n",
        "    X_train_x2 = x2.transform(train_text_tfidf)\n",
        "    X_test_x2 = x2.transform(text_tfidf_test)\n",
        "\n",
        "    svm = SVC(C = 1, kernel = 'linear')\n",
        "    svm.fit(X_train_x2.todense(), label_train)\n",
        "    y_pred = svm.predict(X_test_x2.todense())\n",
        "\n",
        "    acc = svm.score(X_test_x2.todense(), label_test)\n",
        "    print('\\n', k, 'features')\n",
        "    print('accuracy score',  acc)\n",
        "    print('F1 score: {:3f}'.format(f1_score(label_test, y_pred)))"
      ],
      "execution_count": null,
      "outputs": [
        {
          "output_type": "stream",
          "text": [
            "\n",
            " 50 features\n",
            "accuracy score 0.7787710645293876\n",
            "F1 score: 0.694393\n",
            "\n",
            " 100 features\n",
            "accuracy score 0.801993423756679\n",
            "F1 score: 0.737573\n",
            "\n",
            " 150 features\n",
            "accuracy score 0.8135018495684341\n",
            "F1 score: 0.759443\n",
            "\n",
            " 200 features\n",
            "accuracy score 0.8248047677764078\n",
            "F1 score: 0.777386\n",
            "\n",
            " 250 features\n",
            "accuracy score 0.8295314426633785\n",
            "F1 score: 0.786294\n",
            "\n",
            " 300 features\n",
            "accuracy score 0.8345663789560214\n",
            "F1 score: 0.793484\n",
            "\n",
            " 350 features\n",
            "accuracy score 0.8376489930127414\n",
            "F1 score: 0.798109\n",
            "\n",
            " 400 features\n",
            "accuracy score 0.8402178380600083\n",
            "F1 score: 0.802238\n",
            "\n",
            " 450 features\n",
            "accuracy score 0.8431976983148376\n",
            "F1 score: 0.806542\n",
            "\n",
            " 500 features\n",
            "accuracy score 0.8454582819564324\n",
            "F1 score: 0.809668\n"
          ],
          "name": "stdout"
        }
      ]
    },
    {
      "cell_type": "code",
      "metadata": {
        "id": "K9FFLzIao6wx",
        "outputId": "58922681-b6a3-4783-a65f-51f214f917a5",
        "colab": {
          "base_uri": "https://localhost:8080/",
          "height": 85
        }
      },
      "source": [
        "# SVM model with 5000 features\n",
        "x2 = SelectKBest(chi2, 5000)\n",
        "x2.fit(train_text_tfidf,label_train)\n",
        "X_train_x2 = x2.transform(train_text_tfidf)\n",
        "X_test_x2 = x2.transform(text_tfidf_test)\n",
        "\n",
        "svm = SVC(C = 1, kernel = 'linear')\n",
        "svm.fit(X_train_x2.todense(), label_train)\n",
        "y_pred = svm.predict(X_test_x2.todense())\n",
        "\n",
        "acc = svm.score(X_test_x2.todense(), label_test)\n",
        "print('\\n 1000 features')\n",
        "print('accuracy score',  acc)\n",
        "print('F1 score: {:3f}'.format(f1_score(label_test, y_pred)))"
      ],
      "execution_count": null,
      "outputs": [
        {
          "output_type": "stream",
          "text": [
            "\n",
            " 1000 features\n",
            "accuracy score 0.8708384710234278\n",
            "F1 score: 0.844450\n"
          ],
          "name": "stdout"
        }
      ]
    },
    {
      "cell_type": "code",
      "metadata": {
        "id": "lDuz-zZdGBmI"
      },
      "source": [
        "# SVM model with 10000 features - BEST MODEL\n",
        "x2 = SelectKBest(chi2, 10000)\n",
        "x2.fit(train_text_tfidf,label_train)\n",
        "X_train_x2 = x2.transform(train_text_tfidf)\n",
        "X_test_x2 = x2.transform(text_tfidf_test)\n",
        "\n",
        "svm = SVC(C = 1, kernel = 'linear')\n",
        "svm.fit(X_train_x2.todense(), label_train)\n",
        "y_pred = svm.predict(X_test_x2.todense())\n",
        "\n",
        "acc = svm.score(X_test_x2.todense(), label_test)\n",
        "print('\\n 10000 features')\n",
        "print('accuracy score',  acc)\n",
        "print('F1 score: {:3f}'.format(f1_score(label_test, y_pred)))\n",
        "print('precision score: {:3f}'.format(precision_score(label_test, y_pred)))\n",
        "print('recall score: {:3f}'.format(recall_score(label_test, y_pred)))"
      ],
      "execution_count": null,
      "outputs": []
    }
  ]
}