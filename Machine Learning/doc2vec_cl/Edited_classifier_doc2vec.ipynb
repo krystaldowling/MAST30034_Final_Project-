{
  "nbformat": 4,
  "nbformat_minor": 0,
  "metadata": {
    "colab": {
      "name": "Edited_classifier_doc2vec.ipynb",
      "provenance": [],
      "collapsed_sections": [],
      "include_colab_link": true
    },
    "kernelspec": {
      "name": "python3",
      "display_name": "Python 3"
    }
  },
  "cells": [
    {
      "cell_type": "markdown",
      "metadata": {
        "id": "view-in-github",
        "colab_type": "text"
      },
      "source": [
        "<a href=\"https://colab.research.google.com/github/krystaldowling/MAST30034_Final_Project-/blob/machine_learning_doc2vec/Edited_classifier_doc2vec.ipynb\" target=\"_parent\"><img src=\"https://colab.research.google.com/assets/colab-badge.svg\" alt=\"Open In Colab\"/></a>"
      ]
    },
    {
      "cell_type": "markdown",
      "metadata": {
        "id": "xosqoZpZCUCG"
      },
      "source": [
        ""
      ]
    },
    {
      "cell_type": "code",
      "metadata": {
        "id": "ujBrvVJ3nDD9"
      },
      "source": [
        "import pandas as pd\n",
        "import numpy as np\n",
        "import scipy\n",
        "import pickle\n",
        "\n",
        "from sklearn.model_selection import train_test_split\n",
        "\n",
        "news_data = pd.read_csv(\"/content/drive/My Drive/Data/final_preproccessed_data.csv\")\n",
        "\n",
        "news_data.index.name = 'index'\n",
        "\n",
        "news_train, news_test, label_train, label_test = train_test_split(news_data.loc[:,['title','text']], \n",
        "                                                        news_data.loc[:,'label'], test_size=0.33, \n",
        "                                                        random_state=88)"
      ],
      "execution_count": 2,
      "outputs": []
    },
    {
      "cell_type": "code",
      "metadata": {
        "id": "1rgHUQraCiaa",
        "outputId": "15c8b5f8-5b2f-4d1a-8bf3-2d9b670e14a7",
        "colab": {
          "base_uri": "https://localhost:8080/",
          "height": 450
        }
      },
      "source": [
        "news_train"
      ],
      "execution_count": null,
      "outputs": [
        {
          "output_type": "execute_result",
          "data": {
            "text/html": [
              "<div>\n",
              "<style scoped>\n",
              "    .dataframe tbody tr th:only-of-type {\n",
              "        vertical-align: middle;\n",
              "    }\n",
              "\n",
              "    .dataframe tbody tr th {\n",
              "        vertical-align: top;\n",
              "    }\n",
              "\n",
              "    .dataframe thead th {\n",
              "        text-align: right;\n",
              "    }\n",
              "</style>\n",
              "<table border=\"1\" class=\"dataframe\">\n",
              "  <thead>\n",
              "    <tr style=\"text-align: right;\">\n",
              "      <th></th>\n",
              "      <th>title</th>\n",
              "      <th>text</th>\n",
              "    </tr>\n",
              "    <tr>\n",
              "      <th>index</th>\n",
              "      <th></th>\n",
              "      <th></th>\n",
              "    </tr>\n",
              "  </thead>\n",
              "  <tbody>\n",
              "    <tr>\n",
              "      <th>20183</th>\n",
              "      <td>Policy Shift Helps Coal, but Other Forces May ...</td>\n",
              "      <td>Many fossil fuel executives are celebrating Pr...</td>\n",
              "    </tr>\n",
              "    <tr>\n",
              "      <th>1750</th>\n",
              "      <td>Dr. David Duke and Adrian Salbuch : The intern...</td>\n",
              "      <td>Dr. David Duke and Adrian Salbuch : The intern...</td>\n",
              "    </tr>\n",
              "    <tr>\n",
              "      <th>1710</th>\n",
              "      <td>Donald Trump Jr. Met With Russian Advocates Ab...</td>\n",
              "      <td>According to The Wall Street Journal , Preside...</td>\n",
              "    </tr>\n",
              "    <tr>\n",
              "      <th>3801</th>\n",
              "      <td>Why Trump Won and Why Clinton Lost    :</td>\n",
              "      <td>Why Trump Won and Why Clinton Lost\\nHillary C...</td>\n",
              "    </tr>\n",
              "    <tr>\n",
              "      <th>24095</th>\n",
              "      <td>The Battle of ‘Miss Saigon’: Yellowface, Art a...</td>\n",
              "      <td>“Miss Saigon” started with an audacious idea  ...</td>\n",
              "    </tr>\n",
              "    <tr>\n",
              "      <th>...</th>\n",
              "      <td>...</td>\n",
              "      <td>...</td>\n",
              "    </tr>\n",
              "    <tr>\n",
              "      <th>24938</th>\n",
              "      <td>Want to Find Fulfillment at Last? Think Like a...</td>\n",
              "      <td>STANFORD, CALIF.  —   Take out your flow journ...</td>\n",
              "    </tr>\n",
              "    <tr>\n",
              "      <th>2481</th>\n",
              "      <td>Jonathan Haidt: the Moral Roots of Liberals an...</td>\n",
              "      <td>Jonathan Haidt: the Moral Roots of Liberals an...</td>\n",
              "    </tr>\n",
              "    <tr>\n",
              "      <th>4047</th>\n",
              "      <td>Trump: A people’s ‘new world order’ taking shape?</td>\n",
              "      <td>Trump: A people’s ‘new world order’ taking sha...</td>\n",
              "    </tr>\n",
              "    <tr>\n",
              "      <th>6432</th>\n",
              "      <td>What François De La Rochefoucauld Has To Teach...</td>\n",
              "      <td>Is there any merit in taking a cynical view of...</td>\n",
              "    </tr>\n",
              "    <tr>\n",
              "      <th>26584</th>\n",
              "      <td>Children at British arts school perform Disney...</td>\n",
              "      <td>Children from the Spirit Young Performers Comp...</td>\n",
              "    </tr>\n",
              "  </tbody>\n",
              "</table>\n",
              "<p>19757 rows × 2 columns</p>\n",
              "</div>"
            ],
            "text/plain": [
              "                                                   title                                               text\n",
              "index                                                                                                      \n",
              "20183  Policy Shift Helps Coal, but Other Forces May ...  Many fossil fuel executives are celebrating Pr...\n",
              "1750   Dr. David Duke and Adrian Salbuch : The intern...  Dr. David Duke and Adrian Salbuch : The intern...\n",
              "1710   Donald Trump Jr. Met With Russian Advocates Ab...  According to The Wall Street Journal , Preside...\n",
              "3801             Why Trump Won and Why Clinton Lost    :   Why Trump Won and Why Clinton Lost\\nHillary C...\n",
              "24095  The Battle of ‘Miss Saigon’: Yellowface, Art a...  “Miss Saigon” started with an audacious idea  ...\n",
              "...                                                  ...                                                ...\n",
              "24938  Want to Find Fulfillment at Last? Think Like a...  STANFORD, CALIF.  —   Take out your flow journ...\n",
              "2481   Jonathan Haidt: the Moral Roots of Liberals an...  Jonathan Haidt: the Moral Roots of Liberals an...\n",
              "4047   Trump: A people’s ‘new world order’ taking shape?  Trump: A people’s ‘new world order’ taking sha...\n",
              "6432   What François De La Rochefoucauld Has To Teach...  Is there any merit in taking a cynical view of...\n",
              "26584  Children at British arts school perform Disney...  Children from the Spirit Young Performers Comp...\n",
              "\n",
              "[19757 rows x 2 columns]"
            ]
          },
          "metadata": {
            "tags": []
          },
          "execution_count": 4
        }
      ]
    },
    {
      "cell_type": "code",
      "metadata": {
        "id": "qWagf9B6CaCe",
        "outputId": "2721dba0-7467-4585-8e20-3542a3f9782b",
        "colab": {
          "base_uri": "https://localhost:8080/",
          "height": 34
        }
      },
      "source": [
        "from google.colab import drive\n",
        "drive.mount('/content/drive')"
      ],
      "execution_count": 1,
      "outputs": [
        {
          "output_type": "stream",
          "text": [
            "Mounted at /content/drive\n"
          ],
          "name": "stdout"
        }
      ]
    },
    {
      "cell_type": "code",
      "metadata": {
        "id": "3JzWteUlnJbh",
        "outputId": "737490da-d184-4fd2-96f9-a8a4f3e709ad",
        "colab": {
          "base_uri": "https://localhost:8080/",
          "height": 734
        }
      },
      "source": [
        "from gensim.test.utils import common_texts\n",
        "from gensim.models.doc2vec import Doc2Vec, TaggedDocument\n",
        "import gensim\n",
        "from gensim.test.utils import get_tmpfile\n",
        "\n",
        "documents = [TaggedDocument(doc, [i]) for i, doc in enumerate(common_texts)]\n",
        "model = Doc2Vec(documents, vector_size=100, window=2, min_count=1, workers=4)\n",
        "\n",
        "fname = get_tmpfile(\"my_doc2vec_model\")\n",
        "\n",
        "model.save(fname)\n",
        "model = Doc2Vec.load(fname)  # you can continue training with the loaded model!\n",
        "model.delete_temporary_training_data(keep_doctags_vectors=True, keep_inference=True)\n",
        "vector = model.infer_vector([\"system\", \"response\",\"hello\"])\n",
        "print(vector)\n",
        "\n",
        "df = news_data\n",
        "\n",
        "def doc2vec_fun(x):\n",
        "    L = []\n",
        "    for elem in x.split(' '):\n",
        "        elem = (elem.replace('\\n', '').replace(',', '').replace('.', '').\n",
        "        replace('”', '').replace('?', '').replace('\\'', '').lower().\n",
        "        replace('“', '').replace(']', '').replace('[', ''))\n",
        "        L.append(elem)\n",
        "    vector = model.infer_vector(L)\n",
        "    return vector\n",
        "df['doc2vec_title']=df['title'].map(lambda x:doc2vec_fun(x))\n",
        "df['doc2vec_text']=df['text'].map(lambda x:doc2vec_fun(x))\n",
        "\n",
        "print(df.head(10))"
      ],
      "execution_count": 12,
      "outputs": [
        {
          "output_type": "stream",
          "text": [
            "/usr/local/lib/python3.6/dist-packages/smart_open/smart_open_lib.py:252: UserWarning: This function is deprecated, use smart_open.open instead. See the migration notes for details: https://github.com/RaRe-Technologies/smart_open/blob/master/README.rst#migrating-to-the-new-open-function\n",
            "  'See the migration notes for details: %s' % _MIGRATION_NOTES_URL\n"
          ],
          "name": "stderr"
        },
        {
          "output_type": "stream",
          "text": [
            "[-2.0719261e-04  9.3791459e-04 -2.3677859e-03 -3.6256821e-03\n",
            " -1.6408011e-03  8.2280560e-05 -3.3505557e-03  9.1662235e-04\n",
            "  2.4754032e-03 -3.7782160e-03 -3.7631160e-03  2.8763455e-03\n",
            " -2.9673378e-03  3.5750235e-03 -4.2815283e-03 -3.0055540e-03\n",
            " -3.5983924e-04 -6.1778328e-04  4.3127441e-04 -4.5878636e-03\n",
            "  3.9157950e-04 -2.8197879e-03 -4.9738945e-03  1.4794740e-03\n",
            "  1.8967736e-03  2.6587392e-03  2.1336756e-03 -8.6815760e-04\n",
            "  4.4274693e-03  3.5133823e-03  4.0685371e-03 -5.8008998e-04\n",
            " -1.9733625e-04  3.6512176e-03  1.3288347e-03 -1.2363839e-03\n",
            " -7.4724376e-04 -4.5189182e-03  4.8285048e-03 -4.1141612e-03\n",
            "  3.1995533e-03 -1.1711784e-03 -2.5293510e-03  2.4885284e-03\n",
            " -2.1617934e-03  2.2717456e-04  3.4539236e-03 -3.7732692e-03\n",
            "  3.7630135e-03  3.2077776e-03 -7.8347279e-04 -6.5426249e-04\n",
            " -3.0411647e-03  2.7766111e-03  4.1049998e-03  4.4236747e-03\n",
            " -5.0775555e-04  3.3567557e-03  9.0512511e-04 -3.3661879e-03\n",
            "  5.5737724e-04  9.8913733e-04 -5.0508545e-05  2.5746832e-03\n",
            " -4.5339207e-04  2.8302346e-03  4.0192460e-03  1.4425827e-03\n",
            "  3.2580409e-03 -4.1150600e-03  3.4505476e-03  2.9400147e-03\n",
            " -5.3670252e-04  9.1713935e-04  1.2896219e-03 -3.5018751e-03\n",
            " -2.9313243e-03  4.4573187e-03 -3.5033606e-03  4.6482347e-03\n",
            "  3.0888421e-03 -2.8919335e-04 -2.0444174e-03  1.0209023e-03\n",
            " -3.5511609e-04  4.7704661e-03  4.7142538e-03  1.1539970e-03\n",
            "  3.9627976e-03 -4.0947381e-04 -3.9434182e-03  3.5575691e-03\n",
            " -3.6936237e-03  7.2611967e-04  1.9252053e-03  3.0625814e-03\n",
            "  4.7127185e-03  6.8680843e-04  2.5587559e-03 -4.8131600e-04]\n",
            "                                                   title  ...                                       doc2vec_text\n",
            "index                                                     ...                                                   \n",
            "0      Muslims BUSTED: They Stole Millions In Gov’t B...  ...  [0.0007998547, -0.001860602, 0.0046927147, -0....\n",
            "1      Re: Why Did Attorney General Loretta Lynch Ple...  ...  [-0.0008227586, -0.000691517, -0.0020553113, 0...\n",
            "2      BREAKING: Weiner Cooperating With FBI On Hilla...  ...  [0.003189606, 0.0015521024, -0.0022299506, -0....\n",
            "3      PIN DROP SPEECH BY FATHER OF DAUGHTER Kidnappe...  ...  [0.0029093218, 0.0005075393, 0.00038976324, 0....\n",
            "4      FANTASTIC! TRUMP'S 7 POINT PLAN To Reform Heal...  ...  [0.0039725373, 0.0031432542, 0.0022706378, 0.0...\n",
            "5      Hillary Goes Absolutely Berserk On Protester A...  ...  [0.0029038223, -0.003110516, 0.0043964344, -0....\n",
            "6      WOW! WHISTLEBLOWER TELLS CHILLING STORY Of Mas...  ...  [-0.004322207, 0.0011775434, 0.0022452185, -0....\n",
            "7      BREAKING: CLINTON CLEARED...Was This A Coordin...  ...  [0.0024506475, 0.004693959, -0.004485961, 0.00...\n",
            "8      EVIL HILLARY SUPPORTERS Yell \"F*ck Trump\"…Burn...  ...  [-0.0011480622, -0.002121048, -0.004975108, -0...\n",
            "9      SAY GOODBYE! These 23 Hollywood Celebs Threate...  ...  [0.0024580944, -0.0029807733, -0.00041213218, ...\n",
            "\n",
            "[10 rows x 5 columns]\n"
          ],
          "name": "stdout"
        }
      ]
    },
    {
      "cell_type": "code",
      "metadata": {
        "id": "4uRxGWynD-iL"
      },
      "source": [
        "# this is only the text data which has been converted to a data frame.\n",
        "# each row is one article and each column is an element of the vector. \n",
        "\n",
        "vectorised_data = pd.DataFrame(df['doc2vec_text'].array, columns = range(100))\n",
        "\n",
        "# once we have vectorised the entire datset then split into train and test! \n",
        "X_train, X_test, y_train, y_test = train_test_split(vectorised_data,df['label'])\n",
        "\n",
        "# this is only the text which has been vectorised but maybe run the classifer on just this first and then\n",
        "# have a look at doing it for both title as well as the text"
      ],
      "execution_count": 33,
      "outputs": []
    },
    {
      "cell_type": "code",
      "metadata": {
        "id": "EEm4TYFZnOFw"
      },
      "source": [
        "df_test = news_test\n",
        "\n",
        "df_test['doc2vec_title']=df_test['title'].map(lambda x:doc2vec_fun(x))\n",
        "df_test['doc2vec_text']=df_test['text'].map(lambda x:doc2vec_fun(x))"
      ],
      "execution_count": null,
      "outputs": []
    },
    {
      "cell_type": "code",
      "metadata": {
        "id": "SEBRTbc8nO4M",
        "outputId": "824e99a8-0f6a-48a0-946b-d00e2427ee81",
        "colab": {
          "base_uri": "https://localhost:8080/",
          "height": 426
        }
      },
      "source": [
        "from sklearn.feature_selection import SelectKBest, chi2\n",
        "from sklearn.feature_selection import mutual_info_classif\n",
        "from sklearn.linear_model import LogisticRegression\n",
        "from sklearn.naive_bayes import GaussianNB, MultinomialNB\n",
        "from sklearn.svm import SVC\n",
        "\n",
        "def train_models(X_train, X_test, y_train, y_test):\n",
        "    '''\n",
        "    function performs feature selection and fits Gaussian Naive Bayes, \n",
        "    Multinomial Naive Bayes, Logistic Regression and Support Vector Classification\n",
        "    on training data - finds the accuracy score of the model on the test data\n",
        "    '''\n",
        "  \n",
        "\n",
        "    models = [GaussianNB(),\n",
        "            MultinomialNB(),\n",
        "            SVC(),\n",
        "            LogisticRegression()]\n",
        "\n",
        "    titles = ['GNB',\n",
        "            'MNB',\n",
        "            'SVC',\n",
        "            'Logistic Regression']\n",
        "\n",
        "    k = 10\n",
        "\n",
        "    x2 = SelectKBest(chi2, k)\n",
        "    x2.fit(X_train,y_train)\n",
        "    X_train_x2 = x2.transform(X_train)\n",
        "    X_test_x2 = x2.transform(X_test)\n",
        "\n",
        "\n",
        "    mi = SelectKBest(mutual_info_classif, k)\n",
        "    mi.fit(X_train,y_train)\n",
        "    X_train_mi = mi.transform(X_train)\n",
        "    X_test_mi = mi.transform(X_test)\n",
        "\n",
        "\n",
        "    Xs = [(X_train_x2, X_test_x2), (X_train_mi, X_test_mi)]\n",
        "     \n",
        "  \n",
        "    X_names = ['x2', 'mi']\n",
        "    \n",
        "\n",
        "    for title, model in zip(titles, models):\n",
        "        print('\\n',title, '(with k=',k,'features):')\n",
        "        for X_name, X in zip(X_names, Xs):\n",
        "            X_train_t, X_test_t = X\n",
        "            model.fit(X_train_t.todense(), y_train)\n",
        "            acc = model.score(X_test_t.todense(), y_test)\n",
        "            print(X_name, '\\t acc',  acc)\n",
        "\n",
        "    return\n",
        "\n",
        "train_models(df['doc2vec_text'], df_test['doc2vec_text'], label_train, label_test)"
      ],
      "execution_count": null,
      "outputs": [
        {
          "output_type": "error",
          "ename": "ValueError",
          "evalue": "ignored",
          "traceback": [
            "\u001b[0;31m---------------------------------------------------------------------------\u001b[0m",
            "\u001b[0;31mTypeError\u001b[0m                                 Traceback (most recent call last)",
            "\u001b[0;31mTypeError\u001b[0m: only size-1 arrays can be converted to Python scalars",
            "\nThe above exception was the direct cause of the following exception:\n",
            "\u001b[0;31mValueError\u001b[0m                                Traceback (most recent call last)",
            "\u001b[0;32m<ipython-input-5-65b99b2f3c2c>\u001b[0m in \u001b[0;36m<module>\u001b[0;34m()\u001b[0m\n\u001b[1;32m     53\u001b[0m     \u001b[0;32mreturn\u001b[0m\u001b[0;34m\u001b[0m\u001b[0;34m\u001b[0m\u001b[0m\n\u001b[1;32m     54\u001b[0m \u001b[0;34m\u001b[0m\u001b[0m\n\u001b[0;32m---> 55\u001b[0;31m \u001b[0mtrain_models\u001b[0m\u001b[0;34m(\u001b[0m\u001b[0mdf\u001b[0m\u001b[0;34m[\u001b[0m\u001b[0;34m'doc2vec_text'\u001b[0m\u001b[0;34m]\u001b[0m\u001b[0;34m,\u001b[0m \u001b[0mdf_test\u001b[0m\u001b[0;34m[\u001b[0m\u001b[0;34m'doc2vec_text'\u001b[0m\u001b[0;34m]\u001b[0m\u001b[0;34m,\u001b[0m \u001b[0mlabel_train\u001b[0m\u001b[0;34m,\u001b[0m \u001b[0mlabel_test\u001b[0m\u001b[0;34m)\u001b[0m\u001b[0;34m\u001b[0m\u001b[0;34m\u001b[0m\u001b[0m\n\u001b[0m",
            "\u001b[0;32m<ipython-input-5-65b99b2f3c2c>\u001b[0m in \u001b[0;36mtrain_models\u001b[0;34m(X_train, X_test, y_train, y_test)\u001b[0m\n\u001b[1;32m     26\u001b[0m \u001b[0;34m\u001b[0m\u001b[0m\n\u001b[1;32m     27\u001b[0m     \u001b[0mx2\u001b[0m \u001b[0;34m=\u001b[0m \u001b[0mSelectKBest\u001b[0m\u001b[0;34m(\u001b[0m\u001b[0mchi2\u001b[0m\u001b[0;34m,\u001b[0m \u001b[0mk\u001b[0m\u001b[0;34m)\u001b[0m\u001b[0;34m\u001b[0m\u001b[0;34m\u001b[0m\u001b[0m\n\u001b[0;32m---> 28\u001b[0;31m     \u001b[0mx2\u001b[0m\u001b[0;34m.\u001b[0m\u001b[0mfit\u001b[0m\u001b[0;34m(\u001b[0m\u001b[0mX_train\u001b[0m\u001b[0;34m,\u001b[0m\u001b[0my_train\u001b[0m\u001b[0;34m)\u001b[0m\u001b[0;34m\u001b[0m\u001b[0;34m\u001b[0m\u001b[0m\n\u001b[0m\u001b[1;32m     29\u001b[0m     \u001b[0mX_train_x2\u001b[0m \u001b[0;34m=\u001b[0m \u001b[0mx2\u001b[0m\u001b[0;34m.\u001b[0m\u001b[0mtransform\u001b[0m\u001b[0;34m(\u001b[0m\u001b[0mX_train\u001b[0m\u001b[0;34m)\u001b[0m\u001b[0;34m\u001b[0m\u001b[0;34m\u001b[0m\u001b[0m\n\u001b[1;32m     30\u001b[0m     \u001b[0mX_test_x2\u001b[0m \u001b[0;34m=\u001b[0m \u001b[0mx2\u001b[0m\u001b[0;34m.\u001b[0m\u001b[0mtransform\u001b[0m\u001b[0;34m(\u001b[0m\u001b[0mX_test\u001b[0m\u001b[0;34m)\u001b[0m\u001b[0;34m\u001b[0m\u001b[0;34m\u001b[0m\u001b[0m\n",
            "\u001b[0;32m/usr/local/lib/python3.6/dist-packages/sklearn/feature_selection/_univariate_selection.py\u001b[0m in \u001b[0;36mfit\u001b[0;34m(self, X, y)\u001b[0m\n\u001b[1;32m    339\u001b[0m         \u001b[0mself\u001b[0m \u001b[0;34m:\u001b[0m \u001b[0mobject\u001b[0m\u001b[0;34m\u001b[0m\u001b[0;34m\u001b[0m\u001b[0m\n\u001b[1;32m    340\u001b[0m         \"\"\"\n\u001b[0;32m--> 341\u001b[0;31m         \u001b[0mX\u001b[0m\u001b[0;34m,\u001b[0m \u001b[0my\u001b[0m \u001b[0;34m=\u001b[0m \u001b[0mcheck_X_y\u001b[0m\u001b[0;34m(\u001b[0m\u001b[0mX\u001b[0m\u001b[0;34m,\u001b[0m \u001b[0my\u001b[0m\u001b[0;34m,\u001b[0m \u001b[0;34m[\u001b[0m\u001b[0;34m'csr'\u001b[0m\u001b[0;34m,\u001b[0m \u001b[0;34m'csc'\u001b[0m\u001b[0;34m]\u001b[0m\u001b[0;34m,\u001b[0m \u001b[0mmulti_output\u001b[0m\u001b[0;34m=\u001b[0m\u001b[0;32mTrue\u001b[0m\u001b[0;34m)\u001b[0m\u001b[0;34m\u001b[0m\u001b[0;34m\u001b[0m\u001b[0m\n\u001b[0m\u001b[1;32m    342\u001b[0m \u001b[0;34m\u001b[0m\u001b[0m\n\u001b[1;32m    343\u001b[0m         \u001b[0;32mif\u001b[0m \u001b[0;32mnot\u001b[0m \u001b[0mcallable\u001b[0m\u001b[0;34m(\u001b[0m\u001b[0mself\u001b[0m\u001b[0;34m.\u001b[0m\u001b[0mscore_func\u001b[0m\u001b[0;34m)\u001b[0m\u001b[0;34m:\u001b[0m\u001b[0;34m\u001b[0m\u001b[0;34m\u001b[0m\u001b[0m\n",
            "\u001b[0;32m/usr/local/lib/python3.6/dist-packages/sklearn/utils/validation.py\u001b[0m in \u001b[0;36mcheck_X_y\u001b[0;34m(X, y, accept_sparse, accept_large_sparse, dtype, order, copy, force_all_finite, ensure_2d, allow_nd, multi_output, ensure_min_samples, ensure_min_features, y_numeric, warn_on_dtype, estimator)\u001b[0m\n\u001b[1;32m    753\u001b[0m                     \u001b[0mensure_min_features\u001b[0m\u001b[0;34m=\u001b[0m\u001b[0mensure_min_features\u001b[0m\u001b[0;34m,\u001b[0m\u001b[0;34m\u001b[0m\u001b[0;34m\u001b[0m\u001b[0m\n\u001b[1;32m    754\u001b[0m                     \u001b[0mwarn_on_dtype\u001b[0m\u001b[0;34m=\u001b[0m\u001b[0mwarn_on_dtype\u001b[0m\u001b[0;34m,\u001b[0m\u001b[0;34m\u001b[0m\u001b[0;34m\u001b[0m\u001b[0m\n\u001b[0;32m--> 755\u001b[0;31m                     estimator=estimator)\n\u001b[0m\u001b[1;32m    756\u001b[0m     \u001b[0;32mif\u001b[0m \u001b[0mmulti_output\u001b[0m\u001b[0;34m:\u001b[0m\u001b[0;34m\u001b[0m\u001b[0;34m\u001b[0m\u001b[0m\n\u001b[1;32m    757\u001b[0m         y = check_array(y, 'csr', force_all_finite=True, ensure_2d=False,\n",
            "\u001b[0;32m/usr/local/lib/python3.6/dist-packages/sklearn/utils/validation.py\u001b[0m in \u001b[0;36mcheck_array\u001b[0;34m(array, accept_sparse, accept_large_sparse, dtype, order, copy, force_all_finite, ensure_2d, allow_nd, ensure_min_samples, ensure_min_features, warn_on_dtype, estimator)\u001b[0m\n\u001b[1;32m    529\u001b[0m                     \u001b[0marray\u001b[0m \u001b[0;34m=\u001b[0m \u001b[0marray\u001b[0m\u001b[0;34m.\u001b[0m\u001b[0mastype\u001b[0m\u001b[0;34m(\u001b[0m\u001b[0mdtype\u001b[0m\u001b[0;34m,\u001b[0m \u001b[0mcasting\u001b[0m\u001b[0;34m=\u001b[0m\u001b[0;34m\"unsafe\"\u001b[0m\u001b[0;34m,\u001b[0m \u001b[0mcopy\u001b[0m\u001b[0;34m=\u001b[0m\u001b[0;32mFalse\u001b[0m\u001b[0;34m)\u001b[0m\u001b[0;34m\u001b[0m\u001b[0;34m\u001b[0m\u001b[0m\n\u001b[1;32m    530\u001b[0m                 \u001b[0;32melse\u001b[0m\u001b[0;34m:\u001b[0m\u001b[0;34m\u001b[0m\u001b[0;34m\u001b[0m\u001b[0m\n\u001b[0;32m--> 531\u001b[0;31m                     \u001b[0marray\u001b[0m \u001b[0;34m=\u001b[0m \u001b[0mnp\u001b[0m\u001b[0;34m.\u001b[0m\u001b[0masarray\u001b[0m\u001b[0;34m(\u001b[0m\u001b[0marray\u001b[0m\u001b[0;34m,\u001b[0m \u001b[0morder\u001b[0m\u001b[0;34m=\u001b[0m\u001b[0morder\u001b[0m\u001b[0;34m,\u001b[0m \u001b[0mdtype\u001b[0m\u001b[0;34m=\u001b[0m\u001b[0mdtype\u001b[0m\u001b[0;34m)\u001b[0m\u001b[0;34m\u001b[0m\u001b[0;34m\u001b[0m\u001b[0m\n\u001b[0m\u001b[1;32m    532\u001b[0m             \u001b[0;32mexcept\u001b[0m \u001b[0mComplexWarning\u001b[0m\u001b[0;34m:\u001b[0m\u001b[0;34m\u001b[0m\u001b[0;34m\u001b[0m\u001b[0m\n\u001b[1;32m    533\u001b[0m                 raise ValueError(\"Complex data not supported\\n\"\n",
            "\u001b[0;32m/usr/local/lib/python3.6/dist-packages/numpy/core/_asarray.py\u001b[0m in \u001b[0;36masarray\u001b[0;34m(a, dtype, order)\u001b[0m\n\u001b[1;32m     83\u001b[0m \u001b[0;34m\u001b[0m\u001b[0m\n\u001b[1;32m     84\u001b[0m     \"\"\"\n\u001b[0;32m---> 85\u001b[0;31m     \u001b[0;32mreturn\u001b[0m \u001b[0marray\u001b[0m\u001b[0;34m(\u001b[0m\u001b[0ma\u001b[0m\u001b[0;34m,\u001b[0m \u001b[0mdtype\u001b[0m\u001b[0;34m,\u001b[0m \u001b[0mcopy\u001b[0m\u001b[0;34m=\u001b[0m\u001b[0;32mFalse\u001b[0m\u001b[0;34m,\u001b[0m \u001b[0morder\u001b[0m\u001b[0;34m=\u001b[0m\u001b[0morder\u001b[0m\u001b[0;34m)\u001b[0m\u001b[0;34m\u001b[0m\u001b[0;34m\u001b[0m\u001b[0m\n\u001b[0m\u001b[1;32m     86\u001b[0m \u001b[0;34m\u001b[0m\u001b[0m\n\u001b[1;32m     87\u001b[0m \u001b[0;34m\u001b[0m\u001b[0m\n",
            "\u001b[0;32m/usr/local/lib/python3.6/dist-packages/pandas/core/series.py\u001b[0m in \u001b[0;36m__array__\u001b[0;34m(self, dtype)\u001b[0m\n\u001b[1;32m    795\u001b[0m               dtype='datetime64[ns]')\n\u001b[1;32m    796\u001b[0m         \"\"\"\n\u001b[0;32m--> 797\u001b[0;31m         \u001b[0;32mreturn\u001b[0m \u001b[0mnp\u001b[0m\u001b[0;34m.\u001b[0m\u001b[0masarray\u001b[0m\u001b[0;34m(\u001b[0m\u001b[0mself\u001b[0m\u001b[0;34m.\u001b[0m\u001b[0marray\u001b[0m\u001b[0;34m,\u001b[0m \u001b[0mdtype\u001b[0m\u001b[0;34m)\u001b[0m\u001b[0;34m\u001b[0m\u001b[0;34m\u001b[0m\u001b[0m\n\u001b[0m\u001b[1;32m    798\u001b[0m \u001b[0;34m\u001b[0m\u001b[0m\n\u001b[1;32m    799\u001b[0m     \u001b[0;31m# ----------------------------------------------------------------------\u001b[0m\u001b[0;34m\u001b[0m\u001b[0;34m\u001b[0m\u001b[0;34m\u001b[0m\u001b[0m\n",
            "\u001b[0;32m/usr/local/lib/python3.6/dist-packages/numpy/core/_asarray.py\u001b[0m in \u001b[0;36masarray\u001b[0;34m(a, dtype, order)\u001b[0m\n\u001b[1;32m     83\u001b[0m \u001b[0;34m\u001b[0m\u001b[0m\n\u001b[1;32m     84\u001b[0m     \"\"\"\n\u001b[0;32m---> 85\u001b[0;31m     \u001b[0;32mreturn\u001b[0m \u001b[0marray\u001b[0m\u001b[0;34m(\u001b[0m\u001b[0ma\u001b[0m\u001b[0;34m,\u001b[0m \u001b[0mdtype\u001b[0m\u001b[0;34m,\u001b[0m \u001b[0mcopy\u001b[0m\u001b[0;34m=\u001b[0m\u001b[0;32mFalse\u001b[0m\u001b[0;34m,\u001b[0m \u001b[0morder\u001b[0m\u001b[0;34m=\u001b[0m\u001b[0morder\u001b[0m\u001b[0;34m)\u001b[0m\u001b[0;34m\u001b[0m\u001b[0;34m\u001b[0m\u001b[0m\n\u001b[0m\u001b[1;32m     86\u001b[0m \u001b[0;34m\u001b[0m\u001b[0m\n\u001b[1;32m     87\u001b[0m \u001b[0;34m\u001b[0m\u001b[0m\n",
            "\u001b[0;32m/usr/local/lib/python3.6/dist-packages/pandas/core/arrays/numpy_.py\u001b[0m in \u001b[0;36m__array__\u001b[0;34m(self, dtype)\u001b[0m\n\u001b[1;32m    209\u001b[0m \u001b[0;34m\u001b[0m\u001b[0m\n\u001b[1;32m    210\u001b[0m     \u001b[0;32mdef\u001b[0m \u001b[0m__array__\u001b[0m\u001b[0;34m(\u001b[0m\u001b[0mself\u001b[0m\u001b[0;34m,\u001b[0m \u001b[0mdtype\u001b[0m\u001b[0;34m=\u001b[0m\u001b[0;32mNone\u001b[0m\u001b[0;34m)\u001b[0m \u001b[0;34m->\u001b[0m \u001b[0mnp\u001b[0m\u001b[0;34m.\u001b[0m\u001b[0mndarray\u001b[0m\u001b[0;34m:\u001b[0m\u001b[0;34m\u001b[0m\u001b[0;34m\u001b[0m\u001b[0m\n\u001b[0;32m--> 211\u001b[0;31m         \u001b[0;32mreturn\u001b[0m \u001b[0mnp\u001b[0m\u001b[0;34m.\u001b[0m\u001b[0masarray\u001b[0m\u001b[0;34m(\u001b[0m\u001b[0mself\u001b[0m\u001b[0;34m.\u001b[0m\u001b[0m_ndarray\u001b[0m\u001b[0;34m,\u001b[0m \u001b[0mdtype\u001b[0m\u001b[0;34m=\u001b[0m\u001b[0mdtype\u001b[0m\u001b[0;34m)\u001b[0m\u001b[0;34m\u001b[0m\u001b[0;34m\u001b[0m\u001b[0m\n\u001b[0m\u001b[1;32m    212\u001b[0m \u001b[0;34m\u001b[0m\u001b[0m\n\u001b[1;32m    213\u001b[0m     \u001b[0m_HANDLED_TYPES\u001b[0m \u001b[0;34m=\u001b[0m \u001b[0;34m(\u001b[0m\u001b[0mnp\u001b[0m\u001b[0;34m.\u001b[0m\u001b[0mndarray\u001b[0m\u001b[0;34m,\u001b[0m \u001b[0mnumbers\u001b[0m\u001b[0;34m.\u001b[0m\u001b[0mNumber\u001b[0m\u001b[0;34m)\u001b[0m\u001b[0;34m\u001b[0m\u001b[0;34m\u001b[0m\u001b[0m\n",
            "\u001b[0;32m/usr/local/lib/python3.6/dist-packages/numpy/core/_asarray.py\u001b[0m in \u001b[0;36masarray\u001b[0;34m(a, dtype, order)\u001b[0m\n\u001b[1;32m     83\u001b[0m \u001b[0;34m\u001b[0m\u001b[0m\n\u001b[1;32m     84\u001b[0m     \"\"\"\n\u001b[0;32m---> 85\u001b[0;31m     \u001b[0;32mreturn\u001b[0m \u001b[0marray\u001b[0m\u001b[0;34m(\u001b[0m\u001b[0ma\u001b[0m\u001b[0;34m,\u001b[0m \u001b[0mdtype\u001b[0m\u001b[0;34m,\u001b[0m \u001b[0mcopy\u001b[0m\u001b[0;34m=\u001b[0m\u001b[0;32mFalse\u001b[0m\u001b[0;34m,\u001b[0m \u001b[0morder\u001b[0m\u001b[0;34m=\u001b[0m\u001b[0morder\u001b[0m\u001b[0;34m)\u001b[0m\u001b[0;34m\u001b[0m\u001b[0;34m\u001b[0m\u001b[0m\n\u001b[0m\u001b[1;32m     86\u001b[0m \u001b[0;34m\u001b[0m\u001b[0m\n\u001b[1;32m     87\u001b[0m \u001b[0;34m\u001b[0m\u001b[0m\n",
            "\u001b[0;31mValueError\u001b[0m: setting an array element with a sequence."
          ]
        }
      ]
    }
  ]
}