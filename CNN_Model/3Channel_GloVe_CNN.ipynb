{
  "nbformat": 4,
  "nbformat_minor": 0,
  "metadata": {
    "colab": {
      "name": "Copy of Stacked_CNN_gloVe.ipynb",
      "provenance": [],
      "collapsed_sections": [],
      "include_colab_link": true
    },
    "kernelspec": {
      "name": "python3",
      "display_name": "Python 3"
    },
    "accelerator": "GPU"
  },
  "cells": [
    {
      "cell_type": "markdown",
      "metadata": {
        "id": "view-in-github",
        "colab_type": "text"
      },
      "source": [
        "<a href=\"https://colab.research.google.com/github/krystaldowling/MAST30034_Final_Project-/blob/CNN_Model/3Channel_GloVe_CNN.ipynb\" target=\"_parent\"><img src=\"https://colab.research.google.com/assets/colab-badge.svg\" alt=\"Open In Colab\"/></a>"
      ]
    },
    {
      "cell_type": "markdown",
      "metadata": {
        "id": "H2cCCXvScC9G"
      },
      "source": [
        "This document contains modified code from https://machinelearningmastery.com/develop-n-gram-multichannel-convolutional-neural-network-sentiment-analysis/. "
      ]
    },
    {
      "cell_type": "code",
      "metadata": {
        "id": "trD-9g79UzrQ"
      },
      "source": [
        "# Import statements\n",
        "import pandas as pd\n",
        "from nltk import word_tokenize\n",
        "from numpy import array\n",
        "from sklearn.model_selection import train_test_split\n",
        "from keras.preprocessing.text import Tokenizer\n",
        "from keras.preprocessing.sequence import pad_sequences\n",
        "from keras.utils.vis_utils import plot_model\n",
        "from keras.models import Model\n",
        "from keras.layers import Input\n",
        "from keras.layers import Dense\n",
        "from keras.layers import Flatten\n",
        "from keras.layers import Dropout\n",
        "from keras.layers import Embedding\n",
        "from keras.layers.convolutional import Conv1D\n",
        "from keras.layers.convolutional import MaxPooling1D\n",
        "from keras.layers.merge import concatenate\n",
        "import numpy as np\n",
        "import matplotlib.pyplot as plt\n",
        "from sklearn.metrics import precision_score\n",
        "from sklearn.metrics import recall_score\n",
        "from sklearn.metrics import f1_score\n"
      ],
      "execution_count": 1,
      "outputs": []
    },
    {
      "cell_type": "code",
      "metadata": {
        "id": "jKqPoZiXboFq",
        "outputId": "48de45b8-dceb-445e-a775-a8206e277b46",
        "colab": {
          "base_uri": "https://localhost:8080/",
          "height": 419
        }
      },
      "source": [
        "# Loading in preproccessed data\n",
        "PATH = \"/content/drive/My Drive/Data/\"\n",
        "data = pd.read_csv(PATH + \"preproccessed_data.csv\", lineterminator='\\n')\n",
        "\n",
        "data"
      ],
      "execution_count": 4,
      "outputs": [
        {
          "output_type": "execute_result",
          "data": {
            "text/html": [
              "<div>\n",
              "<style scoped>\n",
              "    .dataframe tbody tr th:only-of-type {\n",
              "        vertical-align: middle;\n",
              "    }\n",
              "\n",
              "    .dataframe tbody tr th {\n",
              "        vertical-align: top;\n",
              "    }\n",
              "\n",
              "    .dataframe thead th {\n",
              "        text-align: right;\n",
              "    }\n",
              "</style>\n",
              "<table border=\"1\" class=\"dataframe\">\n",
              "  <thead>\n",
              "    <tr style=\"text-align: right;\">\n",
              "      <th></th>\n",
              "      <th>title</th>\n",
              "      <th>text</th>\n",
              "      <th>label</th>\n",
              "    </tr>\n",
              "  </thead>\n",
              "  <tbody>\n",
              "    <tr>\n",
              "      <th>0</th>\n",
              "      <td>muslims busted stole millions gov ’ benefits</td>\n",
              "      <td>print pay back money plus interest entire fami...</td>\n",
              "      <td>1</td>\n",
              "    </tr>\n",
              "    <tr>\n",
              "      <th>1</th>\n",
              "      <td>attorney general loretta lynch plead fifth</td>\n",
              "      <td>attorney general loretta lynch plead fifth bar...</td>\n",
              "      <td>1</td>\n",
              "    </tr>\n",
              "    <tr>\n",
              "      <th>2</th>\n",
              "      <td>breaking weiner cooperating fbi hillary email ...</td>\n",
              "      <td>red state fox news sunday reported morning ant...</td>\n",
              "      <td>1</td>\n",
              "    </tr>\n",
              "    <tr>\n",
              "      <th>3</th>\n",
              "      <td>pin drop speech father daughter kidnapped kill...</td>\n",
              "      <td>email kayla mueller prisoner tortured isis cha...</td>\n",
              "      <td>1</td>\n",
              "    </tr>\n",
              "    <tr>\n",
              "      <th>4</th>\n",
              "      <td>fantastic trumps 7 point plan reform healthcar...</td>\n",
              "      <td>email healthcare reform make america great sin...</td>\n",
              "      <td>1</td>\n",
              "    </tr>\n",
              "    <tr>\n",
              "      <th>...</th>\n",
              "      <td>...</td>\n",
              "      <td>...</td>\n",
              "      <td>...</td>\n",
              "    </tr>\n",
              "    <tr>\n",
              "      <th>29449</th>\n",
              "      <td>process analytical instruments market – techna...</td>\n",
              "      <td>technavio published new report global process ...</td>\n",
              "      <td>0</td>\n",
              "    </tr>\n",
              "    <tr>\n",
              "      <th>29450</th>\n",
              "      <td>travel deals get 1200 air credit two apt cookt...</td>\n",
              "      <td>apt offering savings new cape york outback wil...</td>\n",
              "      <td>0</td>\n",
              "    </tr>\n",
              "    <tr>\n",
              "      <th>29451</th>\n",
              "      <td>taiwanese recyclers belief waste simply mispla...</td>\n",
              "      <td>taipei taiwan sept 8 2015 prnewswire recent ye...</td>\n",
              "      <td>0</td>\n",
              "    </tr>\n",
              "    <tr>\n",
              "      <th>29452</th>\n",
              "      <td>season curtain raiser ideal way honour john</td>\n",
              "      <td>blackburn sunday league john haydock memorial ...</td>\n",
              "      <td>0</td>\n",
              "    </tr>\n",
              "    <tr>\n",
              "      <th>29453</th>\n",
              "      <td>four cooper standard facilities promote north ...</td>\n",
              "      <td>novi mich sept 30 2015 prnewswire four cooper ...</td>\n",
              "      <td>0</td>\n",
              "    </tr>\n",
              "  </tbody>\n",
              "</table>\n",
              "<p>29454 rows × 3 columns</p>\n",
              "</div>"
            ],
            "text/plain": [
              "                                                   title  ... label\n",
              "0           muslims busted stole millions gov ’ benefits  ...     1\n",
              "1             attorney general loretta lynch plead fifth  ...     1\n",
              "2      breaking weiner cooperating fbi hillary email ...  ...     1\n",
              "3      pin drop speech father daughter kidnapped kill...  ...     1\n",
              "4      fantastic trumps 7 point plan reform healthcar...  ...     1\n",
              "...                                                  ...  ...   ...\n",
              "29449  process analytical instruments market – techna...  ...     0\n",
              "29450  travel deals get 1200 air credit two apt cookt...  ...     0\n",
              "29451  taiwanese recyclers belief waste simply mispla...  ...     0\n",
              "29452        season curtain raiser ideal way honour john  ...     0\n",
              "29453  four cooper standard facilities promote north ...  ...     0\n",
              "\n",
              "[29454 rows x 3 columns]"
            ]
          },
          "metadata": {
            "tags": []
          },
          "execution_count": 4
        }
      ]
    },
    {
      "cell_type": "code",
      "metadata": {
        "id": "36438kdFcw4S"
      },
      "source": [
        "# Performing test-train split\n",
        "data_train, data_test = train_test_split(data, test_size=0.25, random_state=42)"
      ],
      "execution_count": null,
      "outputs": []
    },
    {
      "cell_type": "code",
      "metadata": {
        "id": "F1UWR36Ybk_G"
      },
      "source": [
        "# Tokenizing data\n",
        "def tokenize_text(text):\n",
        "\ttokenizer = Tokenizer()\n",
        "\ttokenizer.fit_on_texts(text)\n",
        "\treturn tokenizer\n",
        "\n",
        "tokenizer = tokenize_text(data_train['text'])"
      ],
      "execution_count": null,
      "outputs": []
    },
    {
      "cell_type": "code",
      "metadata": {
        "id": "09d8R47WYrZH",
        "outputId": "ec8280cd-21f0-4611-af8b-515d4856a3ea",
        "colab": {
          "base_uri": "https://localhost:8080/"
        }
      },
      "source": [
        "# Find vocabulary size\n",
        "vocab_size = len(tokenizer.word_index) + 1\n",
        "\n",
        "print('Vocabulary size: %d' % vocab_size)"
      ],
      "execution_count": null,
      "outputs": [
        {
          "output_type": "stream",
          "text": [
            "Vocabulary size: 221431\n"
          ],
          "name": "stdout"
        }
      ]
    },
    {
      "cell_type": "code",
      "metadata": {
        "id": "nz5e2Xm9dxwO",
        "outputId": "c5f2d6ba-6bed-42a2-a6e3-2b1beed71ef6",
        "colab": {
          "base_uri": "https://localhost:8080/"
        }
      },
      "source": [
        "# Encode lines\n",
        "def encode_text(tokenizer, lines, length):\n",
        "  encoded = tokenizer.texts_to_sequences(lines)\n",
        "  # Pad the encoded sequences\n",
        "  padded = pad_sequences(encoded, maxlen=length, padding='post')\n",
        "  return padded\n",
        "\n",
        "# Set maxlen to 500\n",
        "maxlen = 500\n",
        "\n",
        "encoded_data = encode_text(tokenizer, data_train['text'], maxlen)\n",
        "encoded_data_testing = encode_text(tokenizer, data_test['text'], maxlen)"
      ],
      "execution_count": null,
      "outputs": [
        {
          "output_type": "stream",
          "text": [
            "(26540, 500)\n"
          ],
          "name": "stdout"
        }
      ]
    },
    {
      "cell_type": "code",
      "metadata": {
        "id": "N2lvplswWyuK",
        "outputId": "716b551a-6939-46ae-b1f0-e5ac72cb4b0d",
        "colab": {
          "base_uri": "https://localhost:8080/"
        }
      },
      "source": [
        "# Fitting GloVe embeddings\n",
        "EMBEDDING_FILE = '/content/drive/My Drive/Data/glove.6B.100d.txt'\n",
        "\n",
        "def get_coefs(word, *arr): \n",
        "    return word, np.asarray(arr, dtype='float32')\n",
        "embeddings_index = dict(get_coefs(*o.rstrip().rsplit(' ')) for o in open(EMBEDDING_FILE))\n",
        "\n",
        "all_embs = np.stack(embeddings_index.values())\n",
        "emb_mean,emb_std = all_embs.mean(), all_embs.std()\n",
        "embed_size = all_embs.shape[1]\n",
        "\n",
        "embedding_matrix = embedding_matrix = np.random.normal(emb_mean, emb_std, (vocab_size, embed_size))\n",
        "for word, i in tokenizer.word_index.items():\n",
        "    embedding_vector = embeddings_index.get(word);\n",
        "    if embedding_vector is not None:\n",
        "        embedding_matrix[i] = embedding_vector;"
      ],
      "execution_count": null,
      "outputs": [
        {
          "output_type": "stream",
          "text": [
            "/usr/local/lib/python3.6/dist-packages/IPython/core/interactiveshell.py:2822: FutureWarning: arrays to stack must be passed as a \"sequence\" type such as list or tuple. Support for non-sequence iterables such as generators is deprecated as of NumPy 1.16 and will raise an error in the future.\n",
            "  if self.run_code(code, result):\n"
          ],
          "name": "stderr"
        }
      ]
    },
    {
      "cell_type": "code",
      "metadata": {
        "id": "o42bxuT7fUrB"
      },
      "source": [
        "def define_model(length, vocab_size):\n",
        "\t# Channel 1\n",
        "\tinputs1 = Input(shape=(length,))\n",
        "\tembedding1 = Embedding(vocab_size, 100, weights=[embedding_matrix], trainable=False)(inputs1)\n",
        "\tconv1 = Conv1D(filters=32, kernel_size=4, activation='relu')(embedding1)\n",
        "\tdrop1 = Dropout(0.5)(conv1)\n",
        "\tpool1 = MaxPooling1D(pool_size=2)(drop1)\n",
        "\tflat1 = Flatten()(pool1)\n",
        "\t# Channel 2\n",
        "\tinputs2 = Input(shape=(length,))\n",
        "\tembedding2 = Embedding(vocab_size, 100, weights=[embedding_matrix], trainable=False)(inputs2)\n",
        "\tconv2 = Conv1D(filters=32, kernel_size=6, activation='relu')(embedding2)\n",
        "\tdrop2 = Dropout(0.5)(conv2)\n",
        "\tpool2 = MaxPooling1D(pool_size=2)(drop2)\n",
        "\tflat2 = Flatten()(pool2)\n",
        "\t# Channel 3\n",
        "\tinputs3 = Input(shape=(length,))\n",
        "\tembedding3 = Embedding(vocab_size, 100, weights=[embedding_matrix], trainable=False)(inputs3)\n",
        "\tconv3 = Conv1D(filters=32, kernel_size=8, activation='relu')(embedding3)\n",
        "\tdrop3 = Dropout(0.5)(conv3)\n",
        "\tpool3 = MaxPooling1D(pool_size=2)(drop3)\n",
        "\tflat3 = Flatten()(pool3)\n",
        "\t# Merge Channels\n",
        "\tmerged = concatenate([flat1, flat2, flat3])\n",
        "\tdense1 = Dense(10, activation='relu')(merged)\n",
        "\toutputs = Dense(1, activation='sigmoid')(dense1)\n",
        "\tmodel = Model(inputs=[inputs1, inputs2, inputs3], outputs=outputs)\n",
        "\t# Compile model\n",
        "\tmodel.compile(loss='binary_crossentropy', optimizer='sgd', metrics=['accuracy'])\n",
        "\t# Print model summary\n",
        "\tprint(model.summary())\n",
        "  # Save model plot\n",
        "\tplot_model(model, show_shapes=True, to_file='multichannel.png')\n",
        "\treturn model\n"
      ],
      "execution_count": null,
      "outputs": []
    },
    {
      "cell_type": "code",
      "metadata": {
        "id": "JzTRY0rifcRa",
        "outputId": "7fa1dc84-0441-474e-f151-b31519d176b8",
        "colab": {
          "base_uri": "https://localhost:8080/"
        }
      },
      "source": [
        "# define model\n",
        "model = define_model(maxlen, vocab_size)\n",
        "# fit model\n",
        "history = model.fit([encoded_data, encoded_data, encoded_data], array(data_train['label']), epochs=50, batch_size=16, validation_data=([encoded_data_testing, encoded_data_testing, encoded_data_testing], array(data_test['label'])))\n",
        "# save the model\n",
        "model.save('model.h5')\n"
      ],
      "execution_count": null,
      "outputs": [
        {
          "output_type": "stream",
          "text": [
            "Model: \"functional_13\"\n",
            "__________________________________________________________________________________________________\n",
            "Layer (type)                    Output Shape         Param #     Connected to                     \n",
            "==================================================================================================\n",
            "input_19 (InputLayer)           [(None, 500)]        0                                            \n",
            "__________________________________________________________________________________________________\n",
            "input_20 (InputLayer)           [(None, 500)]        0                                            \n",
            "__________________________________________________________________________________________________\n",
            "input_21 (InputLayer)           [(None, 500)]        0                                            \n",
            "__________________________________________________________________________________________________\n",
            "embedding_18 (Embedding)        (None, 500, 100)     22143100    input_19[0][0]                   \n",
            "__________________________________________________________________________________________________\n",
            "embedding_19 (Embedding)        (None, 500, 100)     22143100    input_20[0][0]                   \n",
            "__________________________________________________________________________________________________\n",
            "embedding_20 (Embedding)        (None, 500, 100)     22143100    input_21[0][0]                   \n",
            "__________________________________________________________________________________________________\n",
            "conv1d_18 (Conv1D)              (None, 497, 32)      12832       embedding_18[0][0]               \n",
            "__________________________________________________________________________________________________\n",
            "conv1d_19 (Conv1D)              (None, 495, 32)      19232       embedding_19[0][0]               \n",
            "__________________________________________________________________________________________________\n",
            "conv1d_20 (Conv1D)              (None, 493, 32)      25632       embedding_20[0][0]               \n",
            "__________________________________________________________________________________________________\n",
            "dropout_18 (Dropout)            (None, 497, 32)      0           conv1d_18[0][0]                  \n",
            "__________________________________________________________________________________________________\n",
            "dropout_19 (Dropout)            (None, 495, 32)      0           conv1d_19[0][0]                  \n",
            "__________________________________________________________________________________________________\n",
            "dropout_20 (Dropout)            (None, 493, 32)      0           conv1d_20[0][0]                  \n",
            "__________________________________________________________________________________________________\n",
            "max_pooling1d_18 (MaxPooling1D) (None, 248, 32)      0           dropout_18[0][0]                 \n",
            "__________________________________________________________________________________________________\n",
            "max_pooling1d_19 (MaxPooling1D) (None, 247, 32)      0           dropout_19[0][0]                 \n",
            "__________________________________________________________________________________________________\n",
            "max_pooling1d_20 (MaxPooling1D) (None, 246, 32)      0           dropout_20[0][0]                 \n",
            "__________________________________________________________________________________________________\n",
            "flatten_18 (Flatten)            (None, 7936)         0           max_pooling1d_18[0][0]           \n",
            "__________________________________________________________________________________________________\n",
            "flatten_19 (Flatten)            (None, 7904)         0           max_pooling1d_19[0][0]           \n",
            "__________________________________________________________________________________________________\n",
            "flatten_20 (Flatten)            (None, 7872)         0           max_pooling1d_20[0][0]           \n",
            "__________________________________________________________________________________________________\n",
            "concatenate_6 (Concatenate)     (None, 23712)        0           flatten_18[0][0]                 \n",
            "                                                                 flatten_19[0][0]                 \n",
            "                                                                 flatten_20[0][0]                 \n",
            "__________________________________________________________________________________________________\n",
            "dense_12 (Dense)                (None, 10)           237130      concatenate_6[0][0]              \n",
            "__________________________________________________________________________________________________\n",
            "dense_13 (Dense)                (None, 1)            11          dense_12[0][0]                   \n",
            "==================================================================================================\n",
            "Total params: 66,724,137\n",
            "Trainable params: 294,837\n",
            "Non-trainable params: 66,429,300\n",
            "__________________________________________________________________________________________________\n",
            "None\n",
            "Epoch 1/50\n",
            "1659/1659 [==============================] - 10s 6ms/step - loss: 0.6466 - accuracy: 0.6149 - val_loss: 0.6405 - val_accuracy: 0.6355\n",
            "Epoch 2/50\n",
            "1659/1659 [==============================] - 10s 6ms/step - loss: 0.5743 - accuracy: 0.7008 - val_loss: 0.5238 - val_accuracy: 0.7362\n",
            "Epoch 3/50\n",
            "1659/1659 [==============================] - 10s 6ms/step - loss: 0.5073 - accuracy: 0.7538 - val_loss: 0.6869 - val_accuracy: 0.6290\n",
            "Epoch 4/50\n",
            "1659/1659 [==============================] - 10s 6ms/step - loss: 0.4480 - accuracy: 0.7954 - val_loss: 0.5719 - val_accuracy: 0.7050\n",
            "Epoch 5/50\n",
            "1659/1659 [==============================] - 10s 6ms/step - loss: 0.4015 - accuracy: 0.8208 - val_loss: 0.4362 - val_accuracy: 0.7976\n",
            "Epoch 6/50\n",
            "1659/1659 [==============================] - 10s 6ms/step - loss: 0.3572 - accuracy: 0.8454 - val_loss: 0.5016 - val_accuracy: 0.7569\n",
            "Epoch 7/50\n",
            "1659/1659 [==============================] - 10s 6ms/step - loss: 0.3274 - accuracy: 0.8595 - val_loss: 0.4231 - val_accuracy: 0.8037\n",
            "Epoch 8/50\n",
            "1659/1659 [==============================] - 10s 6ms/step - loss: 0.2906 - accuracy: 0.8768 - val_loss: 0.4211 - val_accuracy: 0.8037\n",
            "Epoch 9/50\n",
            "1659/1659 [==============================] - 10s 6ms/step - loss: 0.2659 - accuracy: 0.8872 - val_loss: 0.4217 - val_accuracy: 0.8016\n",
            "Epoch 10/50\n",
            "1659/1659 [==============================] - 10s 6ms/step - loss: 0.2421 - accuracy: 0.8968 - val_loss: 0.4296 - val_accuracy: 0.8067\n",
            "Epoch 11/50\n",
            "1659/1659 [==============================] - 10s 6ms/step - loss: 0.2193 - accuracy: 0.9097 - val_loss: 0.4678 - val_accuracy: 0.8067\n",
            "Epoch 12/50\n",
            "1659/1659 [==============================] - 10s 6ms/step - loss: 0.2090 - accuracy: 0.9125 - val_loss: 0.4304 - val_accuracy: 0.8193\n",
            "Epoch 13/50\n",
            "1659/1659 [==============================] - 10s 6ms/step - loss: 0.1917 - accuracy: 0.9210 - val_loss: 0.4314 - val_accuracy: 0.8115\n",
            "Epoch 14/50\n",
            "1659/1659 [==============================] - 10s 6ms/step - loss: 0.1748 - accuracy: 0.9281 - val_loss: 0.4920 - val_accuracy: 0.8125\n",
            "Epoch 15/50\n",
            "1659/1659 [==============================] - 10s 6ms/step - loss: 0.1612 - accuracy: 0.9344 - val_loss: 0.4559 - val_accuracy: 0.8206\n",
            "Epoch 16/50\n",
            "1659/1659 [==============================] - 10s 6ms/step - loss: 0.1494 - accuracy: 0.9397 - val_loss: 0.4694 - val_accuracy: 0.8142\n",
            "Epoch 17/50\n",
            "1659/1659 [==============================] - 10s 6ms/step - loss: 0.1442 - accuracy: 0.9413 - val_loss: 0.4695 - val_accuracy: 0.8050\n",
            "Epoch 18/50\n",
            "1659/1659 [==============================] - 10s 6ms/step - loss: 0.1353 - accuracy: 0.9464 - val_loss: 0.4738 - val_accuracy: 0.8142\n",
            "Epoch 19/50\n",
            "1659/1659 [==============================] - 10s 6ms/step - loss: 0.1208 - accuracy: 0.9525 - val_loss: 0.4822 - val_accuracy: 0.8199\n",
            "Epoch 20/50\n",
            "1659/1659 [==============================] - 10s 6ms/step - loss: 0.1173 - accuracy: 0.9529 - val_loss: 0.5821 - val_accuracy: 0.7904\n",
            "Epoch 21/50\n",
            "1659/1659 [==============================] - 10s 6ms/step - loss: 0.1102 - accuracy: 0.9567 - val_loss: 0.4947 - val_accuracy: 0.8179\n",
            "Epoch 22/50\n",
            "1659/1659 [==============================] - 10s 6ms/step - loss: 0.1082 - accuracy: 0.9587 - val_loss: 0.4837 - val_accuracy: 0.8230\n",
            "Epoch 23/50\n",
            "1659/1659 [==============================] - 10s 6ms/step - loss: 0.1027 - accuracy: 0.9612 - val_loss: 0.4976 - val_accuracy: 0.8216\n",
            "Epoch 24/50\n",
            "1659/1659 [==============================] - 10s 6ms/step - loss: 0.0984 - accuracy: 0.9616 - val_loss: 0.5475 - val_accuracy: 0.8165\n",
            "Epoch 25/50\n",
            "1659/1659 [==============================] - 10s 6ms/step - loss: 0.0917 - accuracy: 0.9642 - val_loss: 0.5828 - val_accuracy: 0.8159\n",
            "Epoch 26/50\n",
            "1659/1659 [==============================] - 10s 6ms/step - loss: 0.0836 - accuracy: 0.9682 - val_loss: 0.5334 - val_accuracy: 0.8189\n",
            "Epoch 27/50\n",
            "1659/1659 [==============================] - 10s 6ms/step - loss: 0.0826 - accuracy: 0.9692 - val_loss: 0.5382 - val_accuracy: 0.8247\n",
            "Epoch 28/50\n",
            "1659/1659 [==============================] - 10s 6ms/step - loss: 0.0799 - accuracy: 0.9684 - val_loss: 0.5399 - val_accuracy: 0.8182\n",
            "Epoch 29/50\n",
            "1659/1659 [==============================] - 10s 6ms/step - loss: 0.0784 - accuracy: 0.9704 - val_loss: 0.5260 - val_accuracy: 0.8216\n",
            "Epoch 30/50\n",
            "1659/1659 [==============================] - 10s 6ms/step - loss: 0.0771 - accuracy: 0.9700 - val_loss: 0.5317 - val_accuracy: 0.8277\n",
            "Epoch 31/50\n",
            "1659/1659 [==============================] - 10s 6ms/step - loss: 0.0737 - accuracy: 0.9723 - val_loss: 0.5296 - val_accuracy: 0.8223\n",
            "Epoch 32/50\n",
            "1659/1659 [==============================] - 10s 6ms/step - loss: 0.0703 - accuracy: 0.9739 - val_loss: 0.5465 - val_accuracy: 0.8291\n",
            "Epoch 33/50\n",
            "1659/1659 [==============================] - 10s 6ms/step - loss: 0.0667 - accuracy: 0.9747 - val_loss: 0.5561 - val_accuracy: 0.8230\n",
            "Epoch 34/50\n",
            "1659/1659 [==============================] - 10s 6ms/step - loss: 0.0629 - accuracy: 0.9760 - val_loss: 0.5725 - val_accuracy: 0.8274\n",
            "Epoch 35/50\n",
            "1659/1659 [==============================] - 10s 6ms/step - loss: 0.0619 - accuracy: 0.9763 - val_loss: 0.5512 - val_accuracy: 0.8281\n",
            "Epoch 36/50\n",
            "1659/1659 [==============================] - 10s 6ms/step - loss: 0.0564 - accuracy: 0.9797 - val_loss: 0.5699 - val_accuracy: 0.8294\n",
            "Epoch 37/50\n",
            "1659/1659 [==============================] - 10s 6ms/step - loss: 0.0579 - accuracy: 0.9781 - val_loss: 0.5820 - val_accuracy: 0.8210\n",
            "Epoch 38/50\n",
            "1659/1659 [==============================] - 10s 6ms/step - loss: 0.0580 - accuracy: 0.9788 - val_loss: 0.5723 - val_accuracy: 0.8277\n",
            "Epoch 39/50\n",
            "1659/1659 [==============================] - 10s 6ms/step - loss: 0.0554 - accuracy: 0.9799 - val_loss: 0.5741 - val_accuracy: 0.8281\n",
            "Epoch 40/50\n",
            "1659/1659 [==============================] - 10s 6ms/step - loss: 0.0486 - accuracy: 0.9820 - val_loss: 0.5731 - val_accuracy: 0.8264\n",
            "Epoch 41/50\n",
            "1659/1659 [==============================] - 10s 6ms/step - loss: 0.0482 - accuracy: 0.9817 - val_loss: 0.5955 - val_accuracy: 0.8288\n",
            "Epoch 42/50\n",
            "1659/1659 [==============================] - 10s 6ms/step - loss: 0.0474 - accuracy: 0.9826 - val_loss: 0.6031 - val_accuracy: 0.8155\n",
            "Epoch 43/50\n",
            "1659/1659 [==============================] - 10s 6ms/step - loss: 0.0477 - accuracy: 0.9826 - val_loss: 0.5810 - val_accuracy: 0.8257\n",
            "Epoch 44/50\n",
            "1659/1659 [==============================] - 10s 6ms/step - loss: 0.0440 - accuracy: 0.9845 - val_loss: 0.5921 - val_accuracy: 0.8250\n",
            "Epoch 45/50\n",
            "1659/1659 [==============================] - 10s 6ms/step - loss: 0.0444 - accuracy: 0.9829 - val_loss: 0.6754 - val_accuracy: 0.8291\n",
            "Epoch 46/50\n",
            "1659/1659 [==============================] - 10s 6ms/step - loss: 0.0455 - accuracy: 0.9837 - val_loss: 0.5908 - val_accuracy: 0.8308\n",
            "Epoch 47/50\n",
            "1659/1659 [==============================] - 10s 6ms/step - loss: 0.0413 - accuracy: 0.9837 - val_loss: 0.6029 - val_accuracy: 0.8298\n",
            "Epoch 48/50\n",
            "1659/1659 [==============================] - 10s 6ms/step - loss: 0.0427 - accuracy: 0.9843 - val_loss: 0.5831 - val_accuracy: 0.8243\n",
            "Epoch 49/50\n",
            "1659/1659 [==============================] - 10s 6ms/step - loss: 0.0401 - accuracy: 0.9850 - val_loss: 0.6118 - val_accuracy: 0.8352\n",
            "Epoch 50/50\n",
            "1659/1659 [==============================] - 10s 6ms/step - loss: 0.0416 - accuracy: 0.9851 - val_loss: 0.6337 - val_accuracy: 0.8298\n"
          ],
          "name": "stdout"
        }
      ]
    },
    {
      "cell_type": "code",
      "metadata": {
        "id": "LU3mXTwNnYo3",
        "outputId": "992da11c-4acf-43c0-9d5b-7c6237ad98c7",
        "colab": {
          "base_uri": "https://localhost:8080/"
        }
      },
      "source": [
        "# Evaluate model accuracy on training dataset\n",
        "loss_train, acc_train = model.evaluate([encoded_data, encoded_data, encoded_data], array(data_train['label']), verbose=0)\n",
        "print('Train Accuracy: %f' % (acc_train*100))\n",
        " \n",
        "# Evaluate model accuracy on test dataset\n",
        "loss_test, acc_test = model.evaluate([encoded_data_testing, encoded_data_testing, encoded_data_testing],array(data_test['label']), verbose=0)\n",
        "print('Test Accuracy: %f' % (acc_test*100))"
      ],
      "execution_count": null,
      "outputs": [
        {
          "output_type": "stream",
          "text": [
            "Train Accuracy: 99.913341\n",
            "Test Accuracy: 82.977283\n"
          ],
          "name": "stdout"
        }
      ]
    },
    {
      "cell_type": "code",
      "metadata": {
        "id": "bkCVF39rdHNp",
        "outputId": "b54889f7-3c3f-4407-f1e5-4a868ca940a3",
        "colab": {
          "base_uri": "https://localhost:8080/",
          "height": 354
        }
      },
      "source": [
        "# Code modified from https://realpython.com/python-keras-text-classification/\n",
        "\n",
        "plt.style.use('ggplot')\n",
        "\n",
        "# Function to print plot of accuracy and loss of training and test data\n",
        "def plot_history(history):\n",
        "    acc = history.history['accuracy']\n",
        "    val_acc = history.history['val_accuracy']\n",
        "    loss = history.history['loss']\n",
        "    val_loss = history.history['val_loss']\n",
        "    x = range(1, len(acc) + 1)\n",
        "\n",
        "    plt.figure(figsize=(12, 5))\n",
        "\n",
        "    plt.subplot(1, 2, 1)\n",
        "    plt.plot(x, acc, 'forestgreen', label='Training Acc')\n",
        "    plt.plot(x, val_acc, 'darkorchid', label='Testing Acc')\n",
        "    plt.title('Training and Testing Accuracy of Model')\n",
        "    plt.ylabel('Accuracy')\n",
        "    plt.xlabel('Epoch') \n",
        "    plt.legend()\n",
        "\n",
        "    plt.subplot(1, 2, 2)\n",
        "    plt.plot(x, loss, 'forestgreen', label='Training loss')\n",
        "    plt.plot(x, val_loss, 'darkorchid', label='Testing loss')\n",
        "    plt.title('Training and Testing Loss of Model')\n",
        "    plt.ylabel('Loss')\n",
        "    plt.xlabel('Epoch')\n",
        "    plt.legend()\n",
        "\n",
        "# Plot model data\n",
        "plot_history(history)"
      ],
      "execution_count": null,
      "outputs": [
        {
          "output_type": "display_data",
          "data": {
            "image/png": "[encoded data removed]",
            "text/plain": [
              "<Figure size 864x360 with 2 Axes>"
            ]
          },
          "metadata": {
            "tags": []
          }
        }
      ]
    }
  ]
}