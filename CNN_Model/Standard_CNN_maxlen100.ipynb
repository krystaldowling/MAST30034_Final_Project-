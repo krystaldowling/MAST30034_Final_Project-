{
  "nbformat": 4,
  "nbformat_minor": 0,
  "metadata": {
    "colab": {
      "name": "attempt2_CNN.ipynb",
      "provenance": [],
      "collapsed_sections": [],
      "mount_file_id": "https://github.com/krystaldowling/MAST30034_Final_Project-/blob/CNN_Model/CNN_Model/attempt2_CNN_modified.ipynb",
      "authorship_tag": "ABX9TyPOH8LVM61uMAFVbkrCMWvC",
      "include_colab_link": true
    },
    "kernelspec": {
      "name": "python3",
      "display_name": "Python 3"
    },
    "accelerator": "GPU"
  },
  "cells": [
    {
      "cell_type": "markdown",
      "metadata": {
        "id": "view-in-github",
        "colab_type": "text"
      },
      "source": [
        "<a href=\"https://colab.research.google.com/github/krystaldowling/MAST30034_Final_Project-/blob/CNN_Model/Standard_CNN_maxlen100.ipynb\" target=\"_parent\"><img src=\"https://colab.research.google.com/assets/colab-badge.svg\" alt=\"Open In Colab\"/></a>"
      ]
    },
    {
      "cell_type": "markdown",
      "metadata": {
        "id": "Y1-HosE7V5wu"
      },
      "source": [
        "This document contains code modified from https://realpython.com/python-keras-text-classification/. "
      ]
    },
    {
      "cell_type": "code",
      "metadata": {
        "id": "trD-9g79UzrQ"
      },
      "source": [
        "# Import statements\n",
        "import pandas as pd\n",
        "import numpy as np\n",
        "from sklearn.model_selection import train_test_split\n",
        "from keras.preprocessing.text import Tokenizer\n",
        "from keras.preprocessing.sequence import pad_sequences\n",
        "import matplotlib.pyplot as plt\n",
        "from keras.models import Sequential\n",
        "from keras import layers\n",
        "from sklearn.metrics import precision_score\n",
        "from sklearn.metrics import recall_score\n",
        "from sklearn.metrics import f1_score"
      ],
      "execution_count": 71,
      "outputs": []
    },
    {
      "cell_type": "code",
      "metadata": {
        "id": "jKqPoZiXboFq",
        "outputId": "8e11c963-2184-4358-a09e-a6837c8a4ebe",
        "colab": {
          "base_uri": "https://localhost:8080/",
          "height": 419
        }
      },
      "source": [
        "# Loading in preproccessed data\n",
        "PATH = \"/content/drive/My Drive/Data/\"\n",
        "data = pd.read_csv(PATH + \"preproccessed_data.csv\", lineterminator='\\n')\n",
        "\n",
        "data"
      ],
      "execution_count": 72,
      "outputs": [
        {
          "output_type": "execute_result",
          "data": {
            "text/html": [
              "<div>\n",
              "<style scoped>\n",
              "    .dataframe tbody tr th:only-of-type {\n",
              "        vertical-align: middle;\n",
              "    }\n",
              "\n",
              "    .dataframe tbody tr th {\n",
              "        vertical-align: top;\n",
              "    }\n",
              "\n",
              "    .dataframe thead th {\n",
              "        text-align: right;\n",
              "    }\n",
              "</style>\n",
              "<table border=\"1\" class=\"dataframe\">\n",
              "  <thead>\n",
              "    <tr style=\"text-align: right;\">\n",
              "      <th></th>\n",
              "      <th>title</th>\n",
              "      <th>text</th>\n",
              "      <th>label</th>\n",
              "    </tr>\n",
              "  </thead>\n",
              "  <tbody>\n",
              "    <tr>\n",
              "      <th>0</th>\n",
              "      <td>muslims busted stole millions gov ’ benefits</td>\n",
              "      <td>print pay back money plus interest entire fami...</td>\n",
              "      <td>1</td>\n",
              "    </tr>\n",
              "    <tr>\n",
              "      <th>1</th>\n",
              "      <td>attorney general loretta lynch plead fifth</td>\n",
              "      <td>attorney general loretta lynch plead fifth bar...</td>\n",
              "      <td>1</td>\n",
              "    </tr>\n",
              "    <tr>\n",
              "      <th>2</th>\n",
              "      <td>breaking weiner cooperating fbi hillary email ...</td>\n",
              "      <td>red state fox news sunday reported morning ant...</td>\n",
              "      <td>1</td>\n",
              "    </tr>\n",
              "    <tr>\n",
              "      <th>3</th>\n",
              "      <td>pin drop speech father daughter kidnapped kill...</td>\n",
              "      <td>email kayla mueller prisoner tortured isis cha...</td>\n",
              "      <td>1</td>\n",
              "    </tr>\n",
              "    <tr>\n",
              "      <th>4</th>\n",
              "      <td>fantastic trumps 7 point plan reform healthcar...</td>\n",
              "      <td>email healthcare reform make america great sin...</td>\n",
              "      <td>1</td>\n",
              "    </tr>\n",
              "    <tr>\n",
              "      <th>...</th>\n",
              "      <td>...</td>\n",
              "      <td>...</td>\n",
              "      <td>...</td>\n",
              "    </tr>\n",
              "    <tr>\n",
              "      <th>29449</th>\n",
              "      <td>process analytical instruments market – techna...</td>\n",
              "      <td>technavio published new report global process ...</td>\n",
              "      <td>0</td>\n",
              "    </tr>\n",
              "    <tr>\n",
              "      <th>29450</th>\n",
              "      <td>travel deals get 1200 air credit two apt cookt...</td>\n",
              "      <td>apt offering savings new cape york outback wil...</td>\n",
              "      <td>0</td>\n",
              "    </tr>\n",
              "    <tr>\n",
              "      <th>29451</th>\n",
              "      <td>taiwanese recyclers belief waste simply mispla...</td>\n",
              "      <td>taipei taiwan sept 8 2015 prnewswire recent ye...</td>\n",
              "      <td>0</td>\n",
              "    </tr>\n",
              "    <tr>\n",
              "      <th>29452</th>\n",
              "      <td>season curtain raiser ideal way honour john</td>\n",
              "      <td>blackburn sunday league john haydock memorial ...</td>\n",
              "      <td>0</td>\n",
              "    </tr>\n",
              "    <tr>\n",
              "      <th>29453</th>\n",
              "      <td>four cooper standard facilities promote north ...</td>\n",
              "      <td>novi mich sept 30 2015 prnewswire four cooper ...</td>\n",
              "      <td>0</td>\n",
              "    </tr>\n",
              "  </tbody>\n",
              "</table>\n",
              "<p>29454 rows × 3 columns</p>\n",
              "</div>"
            ],
            "text/plain": [
              "                                                   title  ... label\n",
              "0           muslims busted stole millions gov ’ benefits  ...     1\n",
              "1             attorney general loretta lynch plead fifth  ...     1\n",
              "2      breaking weiner cooperating fbi hillary email ...  ...     1\n",
              "3      pin drop speech father daughter kidnapped kill...  ...     1\n",
              "4      fantastic trumps 7 point plan reform healthcar...  ...     1\n",
              "...                                                  ...  ...   ...\n",
              "29449  process analytical instruments market – techna...  ...     0\n",
              "29450  travel deals get 1200 air credit two apt cookt...  ...     0\n",
              "29451  taiwanese recyclers belief waste simply mispla...  ...     0\n",
              "29452        season curtain raiser ideal way honour john  ...     0\n",
              "29453  four cooper standard facilities promote north ...  ...     0\n",
              "\n",
              "[29454 rows x 3 columns]"
            ]
          },
          "metadata": {
            "tags": []
          },
          "execution_count": 72
        }
      ]
    },
    {
      "cell_type": "code",
      "metadata": {
        "id": "36438kdFcw4S"
      },
      "source": [
        "# Performing test-train split\n",
        "text_train, text_test, y_train, y_test = train_test_split(data['text'].values, data['label'].values, test_size=0.25, random_state=1000)"
      ],
      "execution_count": 73,
      "outputs": []
    },
    {
      "cell_type": "code",
      "metadata": {
        "id": "kJI8z1BGsb1h"
      },
      "source": [
        "# calculate the maximum document length\n",
        "def max_length(lines):\n",
        "\treturn max([len(s.split()) for s in lines])\n",
        " \n",
        "maxlen = max_length(data['text'])"
      ],
      "execution_count": 74,
      "outputs": []
    },
    {
      "cell_type": "code",
      "metadata": {
        "id": "ZQYfsMDoc_LD"
      },
      "source": [
        "# Tokenizing data\n",
        "tokenizer = Tokenizer(num_words=5000)\n",
        "tokenizer.fit_on_texts(str(text_train))\n",
        "\n",
        "X_train = tokenizer.texts_to_sequences(text_train)\n",
        "X_test = tokenizer.texts_to_sequences(text_test)\n",
        "\n",
        "# Vocab size- adding 1 because of reserved 0 index\n",
        "vocab_size = len(tokenizer.word_index) + 1  "
      ],
      "execution_count": 75,
      "outputs": []
    },
    {
      "cell_type": "code",
      "metadata": {
        "id": "-EDjazuKdi1R"
      },
      "source": [
        "# Comment out to not restrict maxlen\n",
        "maxlen = 100\n",
        "\n",
        "# Padding sequences\n",
        "X_train = pad_sequences(X_train, padding='post', maxlen=maxlen)\n",
        "X_test = pad_sequences(X_test, padding='post', maxlen=maxlen)"
      ],
      "execution_count": 76,
      "outputs": []
    },
    {
      "cell_type": "code",
      "metadata": {
        "id": "nz5e2Xm9dxwO"
      },
      "source": [
        "# Function to print plot of accuracy and loss of training and test data\n",
        "plt.style.use('ggplot')\n",
        "\n",
        "def plot_history(history):\n",
        "    acc = history.history['accuracy']\n",
        "    val_acc = history.history['val_accuracy']\n",
        "    loss = history.history['loss']\n",
        "    val_loss = history.history['val_loss']\n",
        "    x = range(1, len(acc) + 1)\n",
        "\n",
        "    plt.figure(figsize=(12, 5))\n",
        "    plt.subplot(1, 2, 1)\n",
        "    plt.plot(x, acc, 'b', label='Training acc')\n",
        "    plt.plot(x, val_acc, 'r', label='Validation acc')\n",
        "    plt.title('Training and validation accuracy')\n",
        "    plt.legend()\n",
        "    plt.subplot(1, 2, 2)\n",
        "    plt.plot(x, loss, 'b', label='Training loss')\n",
        "    plt.plot(x, val_loss, 'r', label='Validation loss')\n",
        "    plt.title('Training and validation loss')\n",
        "    plt.legend()"
      ],
      "execution_count": 77,
      "outputs": []
    },
    {
      "cell_type": "code",
      "metadata": {
        "id": "vaMXS3QdCinA",
        "outputId": "675a1a92-ef24-4be8-8ad1-44c66283533a",
        "colab": {
          "base_uri": "https://localhost:8080/"
        }
      },
      "source": [
        "# Setting embedding dimensions\n",
        "embedding_dim = 100\n",
        "\n",
        "# Creating model\n",
        "model = Sequential()\n",
        "model.add(layers.Embedding(vocab_size, embedding_dim, input_length=maxlen))\n",
        "model.add(layers.Conv1D(128, 5, activation='relu'))\n",
        "model.add(layers.GlobalMaxPooling1D())\n",
        "model.add(layers.Dense(10, activation='relu'))\n",
        "model.add(layers.Dense(1, activation='sigmoid'))\n",
        "model.compile(optimizer='adam', loss='binary_crossentropy', metrics=['accuracy'])\n",
        "print(model.summary())"
      ],
      "execution_count": 78,
      "outputs": [
        {
          "output_type": "stream",
          "text": [
            "Model: \"sequential_1\"\n",
            "_________________________________________________________________\n",
            "Layer (type)                 Output Shape              Param #   \n",
            "=================================================================\n",
            "embedding_1 (Embedding)      (None, 100, 100)          4400      \n",
            "_________________________________________________________________\n",
            "conv1d_1 (Conv1D)            (None, 96, 128)           64128     \n",
            "_________________________________________________________________\n",
            "global_max_pooling1d_1 (Glob (None, 128)               0         \n",
            "_________________________________________________________________\n",
            "dense_2 (Dense)              (None, 10)                1290      \n",
            "_________________________________________________________________\n",
            "dense_3 (Dense)              (None, 1)                 11        \n",
            "=================================================================\n",
            "Total params: 69,829\n",
            "Trainable params: 69,829\n",
            "Non-trainable params: 0\n",
            "_________________________________________________________________\n",
            "None\n"
          ],
          "name": "stdout"
        }
      ]
    },
    {
      "cell_type": "code",
      "metadata": {
        "id": "o42bxuT7fUrB",
        "outputId": "7265fa7a-72ea-49c2-d2d4-97f14827d70b",
        "colab": {
          "base_uri": "https://localhost:8080/"
        }
      },
      "source": [
        "# Fitting Model\n",
        "history = model.fit(X_train, y_train, epochs =50, validation_data=(X_test, y_test), batch_size=16)\n"
      ],
      "execution_count": 85,
      "outputs": [
        {
          "output_type": "stream",
          "text": [
            "Epoch 1/50\n",
            "1381/1381 [==============================] - 7s 5ms/step - loss: 0.3297 - accuracy: 0.8168 - val_loss: 0.7554 - val_accuracy: 0.7181\n",
            "Epoch 2/50\n",
            "1381/1381 [==============================] - 6s 5ms/step - loss: 0.3270 - accuracy: 0.8202 - val_loss: 0.7376 - val_accuracy: 0.7204\n",
            "Epoch 3/50\n",
            "1381/1381 [==============================] - 7s 5ms/step - loss: 0.3260 - accuracy: 0.8197 - val_loss: 0.7380 - val_accuracy: 0.7196\n",
            "Epoch 4/50\n",
            "1381/1381 [==============================] - 7s 5ms/step - loss: 0.3218 - accuracy: 0.8227 - val_loss: 0.7579 - val_accuracy: 0.7218\n",
            "Epoch 5/50\n",
            "1381/1381 [==============================] - 7s 5ms/step - loss: 0.3240 - accuracy: 0.8216 - val_loss: 0.7587 - val_accuracy: 0.7166\n",
            "Epoch 6/50\n",
            "1381/1381 [==============================] - 7s 5ms/step - loss: 0.3161 - accuracy: 0.8238 - val_loss: 0.7688 - val_accuracy: 0.7151\n",
            "Epoch 7/50\n",
            "1381/1381 [==============================] - 7s 5ms/step - loss: 0.3138 - accuracy: 0.8266 - val_loss: 0.7985 - val_accuracy: 0.7108\n",
            "Epoch 8/50\n",
            "1381/1381 [==============================] - 6s 5ms/step - loss: 0.3126 - accuracy: 0.8274 - val_loss: 0.8238 - val_accuracy: 0.7223\n",
            "Epoch 9/50\n",
            "1381/1381 [==============================] - 7s 5ms/step - loss: 0.3120 - accuracy: 0.8271 - val_loss: 0.8500 - val_accuracy: 0.7194\n",
            "Epoch 10/50\n",
            "1381/1381 [==============================] - 6s 5ms/step - loss: 0.3073 - accuracy: 0.8303 - val_loss: 0.8495 - val_accuracy: 0.7117\n",
            "Epoch 11/50\n",
            "1381/1381 [==============================] - 7s 5ms/step - loss: 0.3038 - accuracy: 0.8315 - val_loss: 0.8929 - val_accuracy: 0.7165\n",
            "Epoch 12/50\n",
            "1381/1381 [==============================] - 6s 5ms/step - loss: 0.3044 - accuracy: 0.8309 - val_loss: 0.8501 - val_accuracy: 0.7128\n",
            "Epoch 13/50\n",
            "1381/1381 [==============================] - 6s 5ms/step - loss: 0.3015 - accuracy: 0.8322 - val_loss: 0.8635 - val_accuracy: 0.7033\n",
            "Epoch 14/50\n",
            "1381/1381 [==============================] - 7s 5ms/step - loss: 0.3010 - accuracy: 0.8321 - val_loss: 0.8559 - val_accuracy: 0.7072\n",
            "Epoch 15/50\n",
            "1381/1381 [==============================] - 7s 5ms/step - loss: 0.2994 - accuracy: 0.8347 - val_loss: 0.8640 - val_accuracy: 0.7065\n",
            "Epoch 16/50\n",
            "1381/1381 [==============================] - 6s 5ms/step - loss: 0.2977 - accuracy: 0.8336 - val_loss: 0.8864 - val_accuracy: 0.7167\n",
            "Epoch 17/50\n",
            "1381/1381 [==============================] - 6s 5ms/step - loss: 0.2925 - accuracy: 0.8370 - val_loss: 0.9863 - val_accuracy: 0.7162\n",
            "Epoch 18/50\n",
            "1381/1381 [==============================] - 6s 5ms/step - loss: 0.2938 - accuracy: 0.8359 - val_loss: 0.9548 - val_accuracy: 0.7121\n",
            "Epoch 19/50\n",
            "1381/1381 [==============================] - 6s 5ms/step - loss: 0.2959 - accuracy: 0.8351 - val_loss: 0.9288 - val_accuracy: 0.7124\n",
            "Epoch 20/50\n",
            "1381/1381 [==============================] - 7s 5ms/step - loss: 0.2879 - accuracy: 0.8393 - val_loss: 0.9166 - val_accuracy: 0.7042\n",
            "Epoch 21/50\n",
            "1381/1381 [==============================] - 6s 5ms/step - loss: 0.2922 - accuracy: 0.8343 - val_loss: 0.9578 - val_accuracy: 0.7106\n",
            "Epoch 22/50\n",
            "1381/1381 [==============================] - 7s 5ms/step - loss: 0.2867 - accuracy: 0.8393 - val_loss: 0.9384 - val_accuracy: 0.7075\n",
            "Epoch 23/50\n",
            "1381/1381 [==============================] - 6s 5ms/step - loss: 0.2841 - accuracy: 0.8415 - val_loss: 0.9728 - val_accuracy: 0.7084\n",
            "Epoch 24/50\n",
            "1381/1381 [==============================] - 7s 5ms/step - loss: 0.2877 - accuracy: 0.8402 - val_loss: 0.9621 - val_accuracy: 0.7121\n",
            "Epoch 25/50\n",
            "1381/1381 [==============================] - 7s 5ms/step - loss: 0.2847 - accuracy: 0.8423 - val_loss: 0.9930 - val_accuracy: 0.7112\n",
            "Epoch 26/50\n",
            "1381/1381 [==============================] - 7s 5ms/step - loss: 0.2867 - accuracy: 0.8393 - val_loss: 0.9811 - val_accuracy: 0.7061\n",
            "Epoch 27/50\n",
            "1381/1381 [==============================] - 6s 5ms/step - loss: 0.2804 - accuracy: 0.8427 - val_loss: 1.0103 - val_accuracy: 0.7059\n",
            "Epoch 28/50\n",
            "1381/1381 [==============================] - 6s 5ms/step - loss: 0.2830 - accuracy: 0.8408 - val_loss: 1.0416 - val_accuracy: 0.7019\n",
            "Epoch 29/50\n",
            "1381/1381 [==============================] - 6s 5ms/step - loss: 0.2787 - accuracy: 0.8418 - val_loss: 1.0937 - val_accuracy: 0.7167\n",
            "Epoch 30/50\n",
            "1381/1381 [==============================] - 6s 5ms/step - loss: 0.2815 - accuracy: 0.8417 - val_loss: 1.0190 - val_accuracy: 0.7147\n",
            "Epoch 31/50\n",
            "1381/1381 [==============================] - 6s 5ms/step - loss: 0.2768 - accuracy: 0.8449 - val_loss: 1.0574 - val_accuracy: 0.7101\n",
            "Epoch 32/50\n",
            "1381/1381 [==============================] - 6s 5ms/step - loss: 0.2763 - accuracy: 0.8451 - val_loss: 1.0997 - val_accuracy: 0.7131\n",
            "Epoch 33/50\n",
            "1381/1381 [==============================] - 6s 5ms/step - loss: 0.2783 - accuracy: 0.8421 - val_loss: 1.0408 - val_accuracy: 0.7026\n",
            "Epoch 34/50\n",
            "1381/1381 [==============================] - 6s 5ms/step - loss: 0.2737 - accuracy: 0.8451 - val_loss: 1.0858 - val_accuracy: 0.7118\n",
            "Epoch 35/50\n",
            "1381/1381 [==============================] - 6s 5ms/step - loss: 0.2769 - accuracy: 0.8416 - val_loss: 1.1047 - val_accuracy: 0.7080\n",
            "Epoch 36/50\n",
            "1381/1381 [==============================] - 7s 5ms/step - loss: 0.2730 - accuracy: 0.8460 - val_loss: 1.1953 - val_accuracy: 0.7108\n",
            "Epoch 37/50\n",
            "1381/1381 [==============================] - 6s 5ms/step - loss: 0.2765 - accuracy: 0.8449 - val_loss: 1.1687 - val_accuracy: 0.6843\n",
            "Epoch 38/50\n",
            "1381/1381 [==============================] - 6s 5ms/step - loss: 0.2655 - accuracy: 0.8491 - val_loss: 1.1329 - val_accuracy: 0.7079\n",
            "Epoch 39/50\n",
            "1381/1381 [==============================] - 6s 5ms/step - loss: 0.2754 - accuracy: 0.8450 - val_loss: 1.1155 - val_accuracy: 0.7105\n",
            "Epoch 40/50\n",
            "1381/1381 [==============================] - 7s 5ms/step - loss: 0.2757 - accuracy: 0.8454 - val_loss: 1.0983 - val_accuracy: 0.7061\n",
            "Epoch 41/50\n",
            "1381/1381 [==============================] - 7s 5ms/step - loss: 0.2703 - accuracy: 0.8484 - val_loss: 1.1793 - val_accuracy: 0.7137\n",
            "Epoch 42/50\n",
            "1381/1381 [==============================] - 6s 5ms/step - loss: 0.2691 - accuracy: 0.8487 - val_loss: 1.1709 - val_accuracy: 0.7109\n",
            "Epoch 43/50\n",
            "1381/1381 [==============================] - 6s 5ms/step - loss: 0.2655 - accuracy: 0.8483 - val_loss: 1.1498 - val_accuracy: 0.7080\n",
            "Epoch 44/50\n",
            "1381/1381 [==============================] - 7s 5ms/step - loss: 0.2698 - accuracy: 0.8482 - val_loss: 1.1253 - val_accuracy: 0.7060\n",
            "Epoch 45/50\n",
            "1381/1381 [==============================] - 6s 5ms/step - loss: 0.2683 - accuracy: 0.8478 - val_loss: 1.1217 - val_accuracy: 0.7082\n",
            "Epoch 46/50\n",
            "1381/1381 [==============================] - 6s 5ms/step - loss: 0.2686 - accuracy: 0.8495 - val_loss: 1.1666 - val_accuracy: 0.7023\n",
            "Epoch 47/50\n",
            "1381/1381 [==============================] - 6s 5ms/step - loss: 0.2678 - accuracy: 0.8485 - val_loss: 1.1785 - val_accuracy: 0.7127\n",
            "Epoch 48/50\n",
            "1381/1381 [==============================] - 6s 5ms/step - loss: 0.2665 - accuracy: 0.8491 - val_loss: 1.2084 - val_accuracy: 0.7083\n",
            "Epoch 49/50\n",
            "1381/1381 [==============================] - 6s 5ms/step - loss: 0.2617 - accuracy: 0.8510 - val_loss: 1.1912 - val_accuracy: 0.7053\n",
            "Epoch 50/50\n",
            "1381/1381 [==============================] - 6s 5ms/step - loss: 0.2687 - accuracy: 0.8480 - val_loss: 1.2967 - val_accuracy: 0.7162\n"
          ],
          "name": "stdout"
        }
      ]
    },
    {
      "cell_type": "code",
      "metadata": {
        "id": "RBC_AW1xBtGC",
        "outputId": "97bb87f0-a885-48c1-b49f-dcb103826a6d",
        "colab": {
          "base_uri": "https://localhost:8080/"
        }
      },
      "source": [
        "# Using code modified from https://machinelearningmastery.com/how-to-calculate-precision-recall-f1-and-more-for-deep-learning-models/\n",
        "\n",
        "pred = model.predict(X_test, verbose = 0)\n",
        "pred = np.rint(pred)\n",
        "\n",
        "# Evaluate model on training data\n",
        "loss, accuracy = model.evaluate(X_train, y_train, verbose=False)\n",
        "print('Train Accuracy: %f' % (accuracy*100))\n",
        " \n",
        "# Evaluate model on test data\n",
        "loss, accuracy = model.evaluate(X_test, y_test, verbose=False)\n",
        "print('Test Accuracy: %f' % (accuracy*100))\n",
        "\n",
        "# Precision Score\n",
        "precision = precision_score(y_test, pred)\n",
        "print('Test Precision: %f' % (precision*100))\n",
        "\n",
        "# Recall Score\n",
        "recall = recall_score(y_test, pred)\n",
        "print('Test Recall: %f' % (recall*100))\n",
        "\n",
        "# F1 Score\n",
        "f1 = f1_score(y_test, pred)\n",
        "print('Test F1 score: %f' % (f1*100))\n",
        "       "
      ],
      "execution_count": 86,
      "outputs": [
        {
          "output_type": "stream",
          "text": [
            "Train Accuracy: 85.233140\n",
            "Test Accuracy: 71.618688\n",
            "Test Precision: 71.299213\n",
            "Test Recall: 57.093317\n",
            "Test F1 score: 63.410364\n"
          ],
          "name": "stdout"
        }
      ]
    },
    {
      "cell_type": "code",
      "metadata": {
        "id": "rf18zjVSiOJP",
        "outputId": "596faf64-fa32-4377-ab7b-3af320ab1ad5",
        "colab": {
          "base_uri": "https://localhost:8080/",
          "height": 337
        }
      },
      "source": [
        "# Plot graphs of test/training accuracy and loss\n",
        "plot_history(history)"
      ],
      "execution_count": 87,
      "outputs": [
        {
          "output_type": "display_data",
          "data": {
            "image/png": "[encoded data removed]",
            "text/plain": [
              "<Figure size 864x360 with 2 Axes>"
            ]
          },
          "metadata": {
            "tags": []
          }
        }
      ]
    }
  ]
}