{
  "nbformat": 4,
  "nbformat_minor": 0,
  "metadata": {
    "accelerator": "GPU",
    "colab": {
      "name": "Copy of MultiChannel_CNN.ipynb",
      "provenance": [],
      "collapsed_sections": [],
      "mount_file_id": "1JWBbOjL3EA9HFF5ekWsFZX1wnSZE10UB",
      "authorship_tag": "ABX9TyMBW5wiJir2XZ3JAnuADFUg",
      "include_colab_link": true
    },
    "kernelspec": {
      "display_name": "Python 3",
      "name": "python3"
    }
  },
  "cells": [
    {
      "cell_type": "markdown",
      "metadata": {
        "id": "view-in-github",
        "colab_type": "text"
      },
      "source": [
        "<a href=\"https://colab.research.google.com/github/krystaldowling/MAST30034_Final_Project-/blob/CNN_Model/2Channel_CNN.ipynb\" target=\"_parent\"><img src=\"https://colab.research.google.com/assets/colab-badge.svg\" alt=\"Open In Colab\"/></a>"
      ]
    },
    {
      "cell_type": "markdown",
      "metadata": {
        "id": "N3_GhxeGl3-7"
      },
      "source": [
        "This document contains modified code from https://machinelearningmastery.com/develop-n-gram-multichannel-convolutional-neural-network-sentiment-analysis/. "
      ]
    },
    {
      "cell_type": "code",
      "metadata": {
        "id": "trD-9g79UzrQ"
      },
      "source": [
        "# Import statements\n",
        "import pandas as pd\n",
        "from nltk import word_tokenize\n",
        "from numpy import array\n",
        "from sklearn.model_selection import train_test_split\n",
        "from keras.preprocessing.text import Tokenizer\n",
        "from keras.preprocessing.sequence import pad_sequences\n",
        "from keras.utils.vis_utils import plot_model\n",
        "from keras.models import Model\n",
        "from keras.layers import Input\n",
        "from keras.layers import Dense\n",
        "from keras.layers import Flatten\n",
        "from keras.layers import Dropout\n",
        "from keras.layers import Embedding\n",
        "from keras.layers.convolutional import Conv1D\n",
        "from keras.layers.convolutional import MaxPooling1D\n",
        "from keras.layers.merge import concatenate\n",
        "import numpy as np\n",
        "import matplotlib.pyplot as plt\n",
        "from sklearn.metrics import precision_score\n",
        "from sklearn.metrics import recall_score\n",
        "from sklearn.metrics import f1_score\n"
      ],
      "execution_count": 1,
      "outputs": []
    },
    {
      "cell_type": "code",
      "metadata": {
        "id": "jKqPoZiXboFq",
        "outputId": "0f000073-8bba-49d6-a630-711ec23dbeeb",
        "colab": {
          "base_uri": "https://localhost:8080/",
          "height": 419
        }
      },
      "source": [
        "# Loading in preproccessed data\n",
        "PATH = \"/content/drive/My Drive/Data/\"\n",
        "data = pd.read_csv(PATH + \"preproccessed_data.csv\", lineterminator='\\n')\n",
        "\n",
        "data"
      ],
      "execution_count": 2,
      "outputs": [
        {
          "output_type": "execute_result",
          "data": {
            "text/html": [
              "<div>\n",
              "<style scoped>\n",
              "    .dataframe tbody tr th:only-of-type {\n",
              "        vertical-align: middle;\n",
              "    }\n",
              "\n",
              "    .dataframe tbody tr th {\n",
              "        vertical-align: top;\n",
              "    }\n",
              "\n",
              "    .dataframe thead th {\n",
              "        text-align: right;\n",
              "    }\n",
              "</style>\n",
              "<table border=\"1\" class=\"dataframe\">\n",
              "  <thead>\n",
              "    <tr style=\"text-align: right;\">\n",
              "      <th></th>\n",
              "      <th>title</th>\n",
              "      <th>text</th>\n",
              "      <th>label</th>\n",
              "    </tr>\n",
              "  </thead>\n",
              "  <tbody>\n",
              "    <tr>\n",
              "      <th>0</th>\n",
              "      <td>muslims busted stole millions gov ’ benefits</td>\n",
              "      <td>print pay back money plus interest entire fami...</td>\n",
              "      <td>1</td>\n",
              "    </tr>\n",
              "    <tr>\n",
              "      <th>1</th>\n",
              "      <td>attorney general loretta lynch plead fifth</td>\n",
              "      <td>attorney general loretta lynch plead fifth bar...</td>\n",
              "      <td>1</td>\n",
              "    </tr>\n",
              "    <tr>\n",
              "      <th>2</th>\n",
              "      <td>breaking weiner cooperating fbi hillary email ...</td>\n",
              "      <td>red state fox news sunday reported morning ant...</td>\n",
              "      <td>1</td>\n",
              "    </tr>\n",
              "    <tr>\n",
              "      <th>3</th>\n",
              "      <td>pin drop speech father daughter kidnapped kill...</td>\n",
              "      <td>email kayla mueller prisoner tortured isis cha...</td>\n",
              "      <td>1</td>\n",
              "    </tr>\n",
              "    <tr>\n",
              "      <th>4</th>\n",
              "      <td>fantastic trumps 7 point plan reform healthcar...</td>\n",
              "      <td>email healthcare reform make america great sin...</td>\n",
              "      <td>1</td>\n",
              "    </tr>\n",
              "    <tr>\n",
              "      <th>...</th>\n",
              "      <td>...</td>\n",
              "      <td>...</td>\n",
              "      <td>...</td>\n",
              "    </tr>\n",
              "    <tr>\n",
              "      <th>29449</th>\n",
              "      <td>process analytical instruments market – techna...</td>\n",
              "      <td>technavio published new report global process ...</td>\n",
              "      <td>0</td>\n",
              "    </tr>\n",
              "    <tr>\n",
              "      <th>29450</th>\n",
              "      <td>travel deals get 1200 air credit two apt cookt...</td>\n",
              "      <td>apt offering savings new cape york outback wil...</td>\n",
              "      <td>0</td>\n",
              "    </tr>\n",
              "    <tr>\n",
              "      <th>29451</th>\n",
              "      <td>taiwanese recyclers belief waste simply mispla...</td>\n",
              "      <td>taipei taiwan sept 8 2015 prnewswire recent ye...</td>\n",
              "      <td>0</td>\n",
              "    </tr>\n",
              "    <tr>\n",
              "      <th>29452</th>\n",
              "      <td>season curtain raiser ideal way honour john</td>\n",
              "      <td>blackburn sunday league john haydock memorial ...</td>\n",
              "      <td>0</td>\n",
              "    </tr>\n",
              "    <tr>\n",
              "      <th>29453</th>\n",
              "      <td>four cooper standard facilities promote north ...</td>\n",
              "      <td>novi mich sept 30 2015 prnewswire four cooper ...</td>\n",
              "      <td>0</td>\n",
              "    </tr>\n",
              "  </tbody>\n",
              "</table>\n",
              "<p>29454 rows × 3 columns</p>\n",
              "</div>"
            ],
            "text/plain": [
              "                                                   title  ... label\n",
              "0           muslims busted stole millions gov ’ benefits  ...     1\n",
              "1             attorney general loretta lynch plead fifth  ...     1\n",
              "2      breaking weiner cooperating fbi hillary email ...  ...     1\n",
              "3      pin drop speech father daughter kidnapped kill...  ...     1\n",
              "4      fantastic trumps 7 point plan reform healthcar...  ...     1\n",
              "...                                                  ...  ...   ...\n",
              "29449  process analytical instruments market – techna...  ...     0\n",
              "29450  travel deals get 1200 air credit two apt cookt...  ...     0\n",
              "29451  taiwanese recyclers belief waste simply mispla...  ...     0\n",
              "29452        season curtain raiser ideal way honour john  ...     0\n",
              "29453  four cooper standard facilities promote north ...  ...     0\n",
              "\n",
              "[29454 rows x 3 columns]"
            ]
          },
          "metadata": {
            "tags": []
          },
          "execution_count": 2
        }
      ]
    },
    {
      "cell_type": "code",
      "metadata": {
        "id": "36438kdFcw4S"
      },
      "source": [
        "# Performing test-train split\n",
        "data_train, data_test = train_test_split(data, test_size=0.25, random_state=42)"
      ],
      "execution_count": 3,
      "outputs": []
    },
    {
      "cell_type": "code",
      "metadata": {
        "id": "F1UWR36Ybk_G"
      },
      "source": [
        "# Tokenizing data\n",
        "def tokenize_text(text):\n",
        "\ttokenizer = Tokenizer()\n",
        "\ttokenizer.fit_on_texts(text)\n",
        "\treturn tokenizer\n",
        "\n",
        "tokenizer = tokenize_text(data_train['text'])"
      ],
      "execution_count": 4,
      "outputs": []
    },
    {
      "cell_type": "code",
      "metadata": {
        "id": "bVeEaN2ibT94",
        "outputId": "99924c27-b823-4069-9ab8-ec4176bf3412",
        "colab": {
          "base_uri": "https://localhost:8080/"
        }
      },
      "source": [
        "# Find max document length\n",
        "maxlen = max([len(s.split()) for s in data_train['text']]) \n",
        "\n",
        "print('Max document length: %d' % maxlen)"
      ],
      "execution_count": 5,
      "outputs": [
        {
          "output_type": "stream",
          "text": [
            "Max document length: 2202\n"
          ],
          "name": "stdout"
        }
      ]
    },
    {
      "cell_type": "code",
      "metadata": {
        "id": "09d8R47WYrZH",
        "outputId": "e0039ebb-b82f-4442-a0c5-6ba46c3e4e8b",
        "colab": {
          "base_uri": "https://localhost:8080/"
        }
      },
      "source": [
        "# Find vocabulary size\n",
        "vocab_size = len(tokenizer.word_index) + 1\n",
        "\n",
        "print('Vocabulary size: %d' % vocab_size)"
      ],
      "execution_count": 6,
      "outputs": [
        {
          "output_type": "stream",
          "text": [
            "Vocabulary size: 193597\n"
          ],
          "name": "stdout"
        }
      ]
    },
    {
      "cell_type": "code",
      "metadata": {
        "id": "nz5e2Xm9dxwO"
      },
      "source": [
        "# Encode lines\n",
        "def encode_text(tokenizer, lines, length):\n",
        "  encoded = tokenizer.texts_to_sequences(lines)\n",
        "  # Pad the encoded sequences\n",
        "  padded = pad_sequences(encoded, maxlen=length, padding='post')\n",
        "  return padded\n",
        "\n",
        "maxlen = 100\n",
        "encoded_data = encode_text(tokenizer, data_train['text'], maxlen)\n",
        "encoded_data_testing = encode_text(tokenizer, data_test['text'], maxlen)"
      ],
      "execution_count": 7,
      "outputs": []
    },
    {
      "cell_type": "code",
      "metadata": {
        "id": "o42bxuT7fUrB"
      },
      "source": [
        "def define_model(length, vocab_size):\n",
        "\t# Channel 1\n",
        "\tinputs1 = Input(shape=(length,))\n",
        "\tembedding1 = Embedding(vocab_size, 100)(inputs1)\n",
        "\tconv1 = Conv1D(filters=32, kernel_size=4, activation='relu')(embedding1)\n",
        "\tdrop1 = Dropout(0.5)(conv1)\n",
        "\tpool1 = MaxPooling1D(pool_size=2)(drop1)\n",
        "\tflat1 = Flatten()(pool1)\n",
        "\t# Channel 2\n",
        "\tembedding2 = Embedding(vocab_size, 100)(inputs1)\n",
        "\tconv2 = Conv1D(filters=32, kernel_size=6, activation='relu')(embedding2)\n",
        "\tdrop2 = Dropout(0.5)(conv2)\n",
        "\tpool2 = MaxPooling1D(pool_size=2)(drop2)\n",
        "\tflat2 = Flatten()(pool2)\n",
        "\t# Merge Channels\n",
        "\tmerged = concatenate([flat1, flat2])\n",
        "\tdense1 = Dense(10, activation='relu')(merged)\n",
        "\toutputs = Dense(1, activation='sigmoid')(dense1)\n",
        "\tmodel = Model(inputs=[inputs1], outputs=outputs)\n",
        "\t# Compile model\n",
        "\tmodel.compile(loss='binary_crossentropy', optimizer='adam', metrics=['accuracy'])\n",
        "\t# Print model summary\n",
        "\tprint(model.summary())\n",
        "  # Save model plot\n",
        "\tplot_model(model, show_shapes=True, to_file='/content/drive/My Drive/multichannel.png')\n",
        "\treturn model\n"
      ],
      "execution_count": 8,
      "outputs": []
    },
    {
      "cell_type": "code",
      "metadata": {
        "id": "JzTRY0rifcRa",
        "outputId": "4e307331-e20c-4b2b-ec26-8e37fbf35435",
        "colab": {
          "base_uri": "https://localhost:8080/"
        }
      },
      "source": [
        "# Define model\n",
        "model = define_model(maxlen, vocab_size)\n",
        "# Fit model to data\n",
        "history = model.fit([encoded_data], array(data_train['label']), epochs=20, batch_size=32, validation_data=(encoded_data_testing, array(data_test['label'])))\n",
        "# Save model\n",
        "model.save('model.h5')"
      ],
      "execution_count": 9,
      "outputs": [
        {
          "output_type": "stream",
          "text": [
            "Model: \"functional_1\"\n",
            "__________________________________________________________________________________________________\n",
            "Layer (type)                    Output Shape         Param #     Connected to                     \n",
            "==================================================================================================\n",
            "input_1 (InputLayer)            [(None, 100)]        0                                            \n",
            "__________________________________________________________________________________________________\n",
            "embedding (Embedding)           (None, 100, 100)     19359700    input_1[0][0]                    \n",
            "__________________________________________________________________________________________________\n",
            "embedding_1 (Embedding)         (None, 100, 100)     19359700    input_1[0][0]                    \n",
            "__________________________________________________________________________________________________\n",
            "conv1d (Conv1D)                 (None, 97, 32)       12832       embedding[0][0]                  \n",
            "__________________________________________________________________________________________________\n",
            "conv1d_1 (Conv1D)               (None, 95, 32)       19232       embedding_1[0][0]                \n",
            "__________________________________________________________________________________________________\n",
            "dropout (Dropout)               (None, 97, 32)       0           conv1d[0][0]                     \n",
            "__________________________________________________________________________________________________\n",
            "dropout_1 (Dropout)             (None, 95, 32)       0           conv1d_1[0][0]                   \n",
            "__________________________________________________________________________________________________\n",
            "max_pooling1d (MaxPooling1D)    (None, 48, 32)       0           dropout[0][0]                    \n",
            "__________________________________________________________________________________________________\n",
            "max_pooling1d_1 (MaxPooling1D)  (None, 47, 32)       0           dropout_1[0][0]                  \n",
            "__________________________________________________________________________________________________\n",
            "flatten (Flatten)               (None, 1536)         0           max_pooling1d[0][0]              \n",
            "__________________________________________________________________________________________________\n",
            "flatten_1 (Flatten)             (None, 1504)         0           max_pooling1d_1[0][0]            \n",
            "__________________________________________________________________________________________________\n",
            "concatenate (Concatenate)       (None, 3040)         0           flatten[0][0]                    \n",
            "                                                                 flatten_1[0][0]                  \n",
            "__________________________________________________________________________________________________\n",
            "dense (Dense)                   (None, 10)           30410       concatenate[0][0]                \n",
            "__________________________________________________________________________________________________\n",
            "dense_1 (Dense)                 (None, 1)            11          dense[0][0]                      \n",
            "==================================================================================================\n",
            "Total params: 38,781,885\n",
            "Trainable params: 38,781,885\n",
            "Non-trainable params: 0\n",
            "__________________________________________________________________________________________________\n",
            "None\n",
            "Epoch 1/20\n",
            "691/691 [==============================] - 245s 355ms/step - loss: 0.4328 - accuracy: 0.8015 - val_loss: 0.3697 - val_accuracy: 0.8516\n",
            "Epoch 2/20\n",
            "691/691 [==============================] - 243s 351ms/step - loss: 0.1633 - accuracy: 0.9406 - val_loss: 0.4121 - val_accuracy: 0.8343\n",
            "Epoch 3/20\n",
            "691/691 [==============================] - 241s 348ms/step - loss: 0.0341 - accuracy: 0.9902 - val_loss: 0.5145 - val_accuracy: 0.8317\n",
            "Epoch 4/20\n",
            "691/691 [==============================] - 239s 346ms/step - loss: 0.0152 - accuracy: 0.9962 - val_loss: 0.5847 - val_accuracy: 0.8207\n",
            "Epoch 5/20\n",
            "691/691 [==============================] - 239s 346ms/step - loss: 0.0100 - accuracy: 0.9966 - val_loss: 0.6564 - val_accuracy: 0.8284\n",
            "Epoch 6/20\n",
            "691/691 [==============================] - 240s 347ms/step - loss: 0.0058 - accuracy: 0.9976 - val_loss: 0.7047 - val_accuracy: 0.8311\n",
            "Epoch 7/20\n",
            "691/691 [==============================] - 239s 346ms/step - loss: 0.0039 - accuracy: 0.9982 - val_loss: 0.7530 - val_accuracy: 0.8210\n",
            "Epoch 8/20\n",
            "691/691 [==============================] - 239s 346ms/step - loss: 0.0044 - accuracy: 0.9981 - val_loss: 0.8156 - val_accuracy: 0.8282\n",
            "Epoch 9/20\n",
            "691/691 [==============================] - 239s 346ms/step - loss: 0.0061 - accuracy: 0.9978 - val_loss: 0.8274 - val_accuracy: 0.8121\n",
            "Epoch 10/20\n",
            "691/691 [==============================] - 241s 348ms/step - loss: 0.0097 - accuracy: 0.9968 - val_loss: 0.7890 - val_accuracy: 0.8194\n",
            "Epoch 11/20\n",
            "691/691 [==============================] - 241s 349ms/step - loss: 0.0086 - accuracy: 0.9971 - val_loss: 1.0512 - val_accuracy: 0.8213\n",
            "Epoch 12/20\n",
            "691/691 [==============================] - 241s 348ms/step - loss: 0.0071 - accuracy: 0.9970 - val_loss: 1.0763 - val_accuracy: 0.8212\n",
            "Epoch 13/20\n",
            "691/691 [==============================] - 239s 346ms/step - loss: 0.0081 - accuracy: 0.9971 - val_loss: 1.0274 - val_accuracy: 0.8169\n",
            "Epoch 14/20\n",
            "691/691 [==============================] - 239s 345ms/step - loss: 0.0062 - accuracy: 0.9979 - val_loss: 0.9698 - val_accuracy: 0.8186\n",
            "Epoch 15/20\n",
            "691/691 [==============================] - 239s 345ms/step - loss: 0.0048 - accuracy: 0.9979 - val_loss: 1.1244 - val_accuracy: 0.8186\n",
            "Epoch 16/20\n",
            "691/691 [==============================] - 238s 345ms/step - loss: 0.0034 - accuracy: 0.9983 - val_loss: 1.1652 - val_accuracy: 0.8197\n",
            "Epoch 17/20\n",
            "691/691 [==============================] - 239s 345ms/step - loss: 0.0055 - accuracy: 0.9978 - val_loss: 1.1083 - val_accuracy: 0.8131\n",
            "Epoch 18/20\n",
            "691/691 [==============================] - 239s 346ms/step - loss: 0.0038 - accuracy: 0.9984 - val_loss: 1.1918 - val_accuracy: 0.8198\n",
            "Epoch 19/20\n",
            "691/691 [==============================] - 240s 347ms/step - loss: 0.0035 - accuracy: 0.9982 - val_loss: 1.1714 - val_accuracy: 0.8202\n",
            "Epoch 20/20\n",
            "691/691 [==============================] - 239s 346ms/step - loss: 0.0057 - accuracy: 0.9978 - val_loss: 1.0057 - val_accuracy: 0.8141\n"
          ],
          "name": "stdout"
        }
      ]
    },
    {
      "cell_type": "code",
      "metadata": {
        "id": "18u4e6tyo93k",
        "outputId": "2093e3be-7af8-4387-d77c-c637eb09b77b",
        "colab": {
          "base_uri": "https://localhost:8080/"
        }
      },
      "source": [
        "# Using code modified from https://machinelearningmastery.com/how-to-calculate-precision-recall-f1-and-more-for-deep-learning-models/\n",
        "\n",
        "pred = model.predict(encoded_data_testing)\n",
        "pred = np.rint(pred)\n",
        "\n",
        "# Evaluate model on training data\n",
        "loss_train, acc_train = model.evaluate([encoded_data], array(data_train['label']), verbose=0)\n",
        "print('Train Accuracy: %f' % (acc_train*100))\n",
        " \n",
        "# Evaluate model on test data\n",
        "loss_test, acc_test = model.evaluate([encoded_data_testing],array(data_test['label']), verbose=0)\n",
        "print('Test Accuracy: %f' % (acc_test*100))\n",
        "\n",
        "# Precision Score\n",
        "precision = precision_score(array(data_test['label']), pred)\n",
        "print('Test Precision: %f' % (precision*100))\n",
        "\n",
        "# Recall Score\n",
        "recall = recall_score(array(data_test['label']), pred)\n",
        "print('Test Recall: %f' % (recall*100))\n",
        "\n",
        "# F1 Score\n",
        "f1 = f1_score(array(data_test['label']), pred)\n",
        "print('Test F1 score: %f' % (f1*100))\n"
      ],
      "execution_count": 10,
      "outputs": [
        {
          "output_type": "stream",
          "text": [
            "Train Accuracy: 99.859667\n",
            "Test Accuracy: 81.409562\n",
            "Test Precision: 80.153436\n",
            "Test Recall: 75.637394\n",
            "Test F1 score: 77.829960\n"
          ],
          "name": "stdout"
        }
      ]
    },
    {
      "cell_type": "code",
      "metadata": {
        "id": "bzqVGV_akYgI",
        "outputId": "33faa6d9-4be9-4347-cb2d-2a6868b03d28",
        "colab": {
          "base_uri": "https://localhost:8080/",
          "height": 354
        }
      },
      "source": [
        "# Code modified from https://realpython.com/python-keras-text-classification/\n",
        "\n",
        "plt.style.use('ggplot')\n",
        "\n",
        "# Function to print plot of accuracy and loss of training and test data\n",
        "def plot_history(history):\n",
        "    acc = history.history['accuracy']\n",
        "    val_acc = history.history['val_accuracy']\n",
        "    loss = history.history['loss']\n",
        "    val_loss = history.history['val_loss']\n",
        "    x = range(1, len(acc) + 1)\n",
        "\n",
        "    plt.figure(figsize=(12, 5))\n",
        "\n",
        "    plt.subplot(1, 2, 1)\n",
        "    plt.plot(x, acc, 'forestgreen', label='Training Acc')\n",
        "    plt.plot(x, val_acc, 'darkorchid', label='Testing Acc')\n",
        "    plt.title('Training and Testing Accuracy of Model')\n",
        "    plt.ylabel('Accuracy')\n",
        "    plt.xlabel('Epoch') \n",
        "    plt.legend()\n",
        "\n",
        "    plt.subplot(1, 2, 2)\n",
        "    plt.plot(x, loss, 'forestgreen', label='Training loss')\n",
        "    plt.plot(x, val_loss, 'darkorchid', label='Testing loss')\n",
        "    plt.title('Training and Testing Loss of Model')\n",
        "    plt.ylabel('Loss')\n",
        "    plt.xlabel('Epoch')\n",
        "    plt.legend()\n",
        "\n",
        "# Plot model data\n",
        "plot_history(history)"
      ],
      "execution_count": 11,
      "outputs": [
        {
          "output_type": "display_data",
          "data": {
            "image/png": "[encoded data removed]",
            "text/plain": [
              "<Figure size 864x360 with 2 Axes>"
            ]
          },
          "metadata": {
            "tags": []
          }
        }
      ]
    }
  ]
}